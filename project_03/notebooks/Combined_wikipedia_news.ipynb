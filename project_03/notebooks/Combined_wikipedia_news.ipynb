{
 "cells": [
  {
   "cell_type": "code",
   "execution_count": 53,
   "metadata": {},
   "outputs": [],
   "source": [
    "import pandas as pd\n",
    "import glob, os\n",
    "import datetime"
   ]
  },
  {
   "cell_type": "code",
   "execution_count": 54,
   "metadata": {
    "scrolled": true
   },
   "outputs": [
    {
     "name": "stdout",
     "output_type": "stream",
     "text": [
      "COVID-19_Wikipeda_v1.csv\n",
      "all-the-news-2-1.csv\n",
      "tweets_coded.csv\n",
      "COVID-19_pandemic_in_India.csv\n",
      "COVID-19_pandemic_in_Italy.csv\n",
      "td_gamma.csv\n",
      "COVID_news_with_dom_topics.csv\n",
      "all-the-news-2020-COVID.csv\n",
      "COVID-19_pandemic_in_Egypt.csv\n",
      "topic_td_gamma.csv\n",
      "all-the-news-2020-COVID-title.csv\n",
      "COVID-19_pandemic.csv\n",
      "combined_v1.csv\n",
      "COVID-19_pandemic_cleaned.csv\n",
      "COVID-19_pandemic_updated.csv\n",
      "combined.csv\n",
      "combined_with_dom_topics.csv\n",
      "all-the-news-2020.csv\n",
      "topic_td_gamma_69topics.csv\n",
      "COVID-19_pandemic_in_France.csv\n",
      "all-the-news-2020-COVID-title-drop-na.csv\n"
     ]
    }
   ],
   "source": [
    "for file in glob.glob('*.csv'):\n",
    "    print(file)"
   ]
  },
  {
   "cell_type": "code",
   "execution_count": 55,
   "metadata": {},
   "outputs": [],
   "source": [
    "csvs = [\n",
    "#     'COVID-19_pandemic_in_India.csv',\n",
    "#     'COVID-19_pandemic_in_Italy.csv',\n",
    "#     'COVID-19_pandemic_in_Egypt.csv',\n",
    "#     'COVID-19_pandemic_in_France.csv',\n",
    "    'COVID-19_pandemic_updated.csv',\n",
    "    'all-the-news-2020-COVID-title.csv'\n",
    "]"
   ]
  },
  {
   "cell_type": "code",
   "execution_count": 56,
   "metadata": {},
   "outputs": [
    {
     "data": {
      "text/html": [
       "<div>\n",
       "<style scoped>\n",
       "    .dataframe tbody tr th:only-of-type {\n",
       "        vertical-align: middle;\n",
       "    }\n",
       "\n",
       "    .dataframe tbody tr th {\n",
       "        vertical-align: top;\n",
       "    }\n",
       "\n",
       "    .dataframe thead th {\n",
       "        text-align: right;\n",
       "    }\n",
       "</style>\n",
       "<table border=\"1\" class=\"dataframe\">\n",
       "  <thead>\n",
       "    <tr style=\"text-align: right;\">\n",
       "      <th></th>\n",
       "      <th>date</th>\n",
       "      <th>article</th>\n",
       "      <th>title</th>\n",
       "      <th>publication</th>\n",
       "    </tr>\n",
       "  </thead>\n",
       "  <tbody>\n",
       "    <tr>\n",
       "      <td>0</td>\n",
       "      <td>2020-01-01</td>\n",
       "      <td>Hi, Carolyn: I am a stay-at-home mom of childr...</td>\n",
       "      <td>Carolyn Hax: A stay-at-home mom feels hurt whe...</td>\n",
       "      <td>Washington Post</td>\n",
       "    </tr>\n",
       "    <tr>\n",
       "      <td>1</td>\n",
       "      <td>2020-01-02</td>\n",
       "      <td>LONDON (Reuters) - Foreign exchange firm Trave...</td>\n",
       "      <td>Foreign exchange firm Travelex hit by software...</td>\n",
       "      <td>Reuters</td>\n",
       "    </tr>\n",
       "    <tr>\n",
       "      <td>2</td>\n",
       "      <td>2020-01-02</td>\n",
       "      <td>LONDON (Reuters) - Foreign exchange firm Trave...</td>\n",
       "      <td>Foreign exchange firm Travelex hit by software...</td>\n",
       "      <td>Reuters</td>\n",
       "    </tr>\n",
       "    <tr>\n",
       "      <td>3</td>\n",
       "      <td>2020-01-08</td>\n",
       "      <td>NaN</td>\n",
       "      <td>China virus: Specter of new illness emerging f...</td>\n",
       "      <td>Washington Post</td>\n",
       "    </tr>\n",
       "    <tr>\n",
       "      <td>4</td>\n",
       "      <td>2020-01-09</td>\n",
       "      <td>NaN</td>\n",
       "      <td>Chinese report says illnesses may be from new ...</td>\n",
       "      <td>Washington Post</td>\n",
       "    </tr>\n",
       "  </tbody>\n",
       "</table>\n",
       "</div>"
      ],
      "text/plain": [
       "        date                                            article  \\\n",
       "0 2020-01-01  Hi, Carolyn: I am a stay-at-home mom of childr...   \n",
       "1 2020-01-02  LONDON (Reuters) - Foreign exchange firm Trave...   \n",
       "2 2020-01-02  LONDON (Reuters) - Foreign exchange firm Trave...   \n",
       "3 2020-01-08                                                NaN   \n",
       "4 2020-01-09                                                NaN   \n",
       "\n",
       "                                               title      publication  \n",
       "0  Carolyn Hax: A stay-at-home mom feels hurt whe...  Washington Post  \n",
       "1  Foreign exchange firm Travelex hit by software...          Reuters  \n",
       "2  Foreign exchange firm Travelex hit by software...          Reuters  \n",
       "3  China virus: Specter of new illness emerging f...  Washington Post  \n",
       "4  Chinese report says illnesses may be from new ...  Washington Post  "
      ]
     },
     "execution_count": 56,
     "metadata": {},
     "output_type": "execute_result"
    }
   ],
   "source": [
    "news = pd.read_csv(csvs[-1],index_col=0,parse_dates=['date'])[['date','article','title','publication']]\n",
    "news.head()"
   ]
  },
  {
   "cell_type": "code",
   "execution_count": 61,
   "metadata": {},
   "outputs": [
    {
     "data": {
      "text/html": [
       "<div>\n",
       "<style scoped>\n",
       "    .dataframe tbody tr th:only-of-type {\n",
       "        vertical-align: middle;\n",
       "    }\n",
       "\n",
       "    .dataframe tbody tr th {\n",
       "        vertical-align: top;\n",
       "    }\n",
       "\n",
       "    .dataframe thead th {\n",
       "        text-align: right;\n",
       "    }\n",
       "</style>\n",
       "<table border=\"1\" class=\"dataframe\">\n",
       "  <thead>\n",
       "    <tr style=\"text-align: right;\">\n",
       "      <th></th>\n",
       "      <th>title</th>\n",
       "      <th>date</th>\n",
       "      <th>article</th>\n",
       "      <th>len</th>\n",
       "    </tr>\n",
       "  </thead>\n",
       "  <tbody>\n",
       "    <tr>\n",
       "      <td>0</td>\n",
       "      <td>COVID-19_pandemic</td>\n",
       "      <td>2020-05-28 11:02:05+00:00</td>\n",
       "      <td>\\nThe COVID-19 pandemic, also known as the co...</td>\n",
       "      <td>20</td>\n",
       "    </tr>\n",
       "    <tr>\n",
       "      <td>1</td>\n",
       "      <td>COVID-19_pandemic</td>\n",
       "      <td>2020-05-28 11:00:44+00:00</td>\n",
       "      <td>\\nThe COVID-19 pandemic, also known as the co...</td>\n",
       "      <td>20</td>\n",
       "    </tr>\n",
       "    <tr>\n",
       "      <td>2</td>\n",
       "      <td>COVID-19_pandemic</td>\n",
       "      <td>2020-05-28 10:27:19+00:00</td>\n",
       "      <td>\\nThe COVID-19 pandemic, also known as the co...</td>\n",
       "      <td>20</td>\n",
       "    </tr>\n",
       "    <tr>\n",
       "      <td>3</td>\n",
       "      <td>COVID-19_pandemic</td>\n",
       "      <td>2020-05-28 10:11:44+00:00</td>\n",
       "      <td>\\nThe COVID-19 pandemic, also known as the co...</td>\n",
       "      <td>20</td>\n",
       "    </tr>\n",
       "    <tr>\n",
       "      <td>4</td>\n",
       "      <td>COVID-19_pandemic</td>\n",
       "      <td>2020-05-28 06:58:06+00:00</td>\n",
       "      <td>\\nThe COVID-19 pandemic, also known as the co...</td>\n",
       "      <td>20</td>\n",
       "    </tr>\n",
       "  </tbody>\n",
       "</table>\n",
       "</div>"
      ],
      "text/plain": [
       "               title                      date  \\\n",
       "0  COVID-19_pandemic 2020-05-28 11:02:05+00:00   \n",
       "1  COVID-19_pandemic 2020-05-28 11:00:44+00:00   \n",
       "2  COVID-19_pandemic 2020-05-28 10:27:19+00:00   \n",
       "3  COVID-19_pandemic 2020-05-28 10:11:44+00:00   \n",
       "4  COVID-19_pandemic 2020-05-28 06:58:06+00:00   \n",
       "\n",
       "                                             article  len  \n",
       "0   \\nThe COVID-19 pandemic, also known as the co...   20  \n",
       "1   \\nThe COVID-19 pandemic, also known as the co...   20  \n",
       "2   \\nThe COVID-19 pandemic, also known as the co...   20  \n",
       "3   \\nThe COVID-19 pandemic, also known as the co...   20  \n",
       "4   \\nThe COVID-19 pandemic, also known as the co...   20  "
      ]
     },
     "execution_count": 61,
     "metadata": {},
     "output_type": "execute_result"
    }
   ],
   "source": [
    "data = [pd.read_csv(x) for x in csvs[0:-1]]\n",
    "datas = pd.concat(data)\n",
    "datas.columns=['title','date','article']\n",
    "datas = datas.dropna(subset=['article','date'])\n",
    "\n",
    "datas['len'] = datas.date.apply(lambda x: len(x))\n",
    "datas = datas[datas.len==20]\n",
    "datas['date'] = pd.to_datetime(datas['date'])\n",
    "datas.head()"
   ]
  },
  {
   "cell_type": "code",
   "execution_count": 62,
   "metadata": {},
   "outputs": [
    {
     "data": {
      "text/plain": [
       "(21154, 4)"
      ]
     },
     "execution_count": 62,
     "metadata": {},
     "output_type": "execute_result"
    }
   ],
   "source": [
    "datas.shape"
   ]
  },
  {
   "cell_type": "code",
   "execution_count": 66,
   "metadata": {},
   "outputs": [
    {
     "name": "stdout",
     "output_type": "stream",
     "text": [
      "(2870, 4)\n"
     ]
    },
    {
     "data": {
      "text/html": [
       "<div>\n",
       "<style scoped>\n",
       "    .dataframe tbody tr th:only-of-type {\n",
       "        vertical-align: middle;\n",
       "    }\n",
       "\n",
       "    .dataframe tbody tr th {\n",
       "        vertical-align: top;\n",
       "    }\n",
       "\n",
       "    .dataframe thead th {\n",
       "        text-align: right;\n",
       "    }\n",
       "</style>\n",
       "<table border=\"1\" class=\"dataframe\">\n",
       "  <thead>\n",
       "    <tr style=\"text-align: right;\">\n",
       "      <th></th>\n",
       "      <th>title</th>\n",
       "      <th>date</th>\n",
       "      <th>article</th>\n",
       "      <th>len</th>\n",
       "    </tr>\n",
       "  </thead>\n",
       "  <tbody>\n",
       "    <tr>\n",
       "      <td>0</td>\n",
       "      <td>COVID-19_pandemic</td>\n",
       "      <td>2020-01-05</td>\n",
       "      <td>2019-2020 China pneumonia outbreak, or China p...</td>\n",
       "      <td>20</td>\n",
       "    </tr>\n",
       "    <tr>\n",
       "      <td>1</td>\n",
       "      <td>COVID-19_pandemic</td>\n",
       "      <td>2020-01-05</td>\n",
       "      <td>2019-2020 China pneumonia outbreak, or China p...</td>\n",
       "      <td>20</td>\n",
       "    </tr>\n",
       "    <tr>\n",
       "      <td>2</td>\n",
       "      <td>COVID-19_pandemic</td>\n",
       "      <td>2020-01-06</td>\n",
       "      <td>2019-2020 China pneumonia outbreak, or China p...</td>\n",
       "      <td>20</td>\n",
       "    </tr>\n",
       "    <tr>\n",
       "      <td>3</td>\n",
       "      <td>COVID-19_pandemic</td>\n",
       "      <td>2020-01-06</td>\n",
       "      <td>2019-2020 China pneumonia outbreak, or China p...</td>\n",
       "      <td>20</td>\n",
       "    </tr>\n",
       "    <tr>\n",
       "      <td>4</td>\n",
       "      <td>COVID-19_pandemic</td>\n",
       "      <td>2020-01-06</td>\n",
       "      <td>2019-2020 China pneumonia outbreak, or China p...</td>\n",
       "      <td>20</td>\n",
       "    </tr>\n",
       "  </tbody>\n",
       "</table>\n",
       "</div>"
      ],
      "text/plain": [
       "               title        date  \\\n",
       "0  COVID-19_pandemic  2020-01-05   \n",
       "1  COVID-19_pandemic  2020-01-05   \n",
       "2  COVID-19_pandemic  2020-01-06   \n",
       "3  COVID-19_pandemic  2020-01-06   \n",
       "4  COVID-19_pandemic  2020-01-06   \n",
       "\n",
       "                                             article  len  \n",
       "0  2019-2020 China pneumonia outbreak, or China p...   20  \n",
       "1  2019-2020 China pneumonia outbreak, or China p...   20  \n",
       "2  2019-2020 China pneumonia outbreak, or China p...   20  \n",
       "3  2019-2020 China pneumonia outbreak, or China p...   20  \n",
       "4  2019-2020 China pneumonia outbreak, or China p...   20  "
      ]
     },
     "execution_count": 66,
     "metadata": {},
     "output_type": "execute_result"
    }
   ],
   "source": [
    "# datas['publication']=['Wikipedia']*datas.shape[0]\n",
    "# datas['date'] = datas['date'].dt.date\n",
    "\n",
    "datas = datas.sort_values('date').groupby([datas['date'].dt.date, datas['date'].dt.hour], as_index=False).last()\n",
    "datas['date'] = datas['date'].dt.date\n",
    "print(datas.shape)\n",
    "datas.head()"
   ]
  },
  {
   "cell_type": "code",
   "execution_count": 78,
   "metadata": {},
   "outputs": [],
   "source": [
    "datas['publication']=['Wikipedia']*datas.shape[0]\n",
    "datas.drop(columns=['len'],inplace=True)\n",
    "datas.head()"
   ]
  },
  {
   "cell_type": "code",
   "execution_count": 65,
   "metadata": {},
   "outputs": [],
   "source": [
    "#last_row_index = datas.groupby('date', as_index=False).apply(lambda g: g.index[-1])\n",
    "#datas[\"LastRow\"] = False\n",
    "#datas.loc[last_row_index, \"LastRow\"] = True\n",
    "#datas[datas.LastRow].head()"
   ]
  },
  {
   "cell_type": "code",
   "execution_count": 67,
   "metadata": {},
   "outputs": [
    {
     "data": {
      "text/plain": [
       "0       2020-01-05\n",
       "1       2020-01-05\n",
       "2       2020-01-06\n",
       "3       2020-01-06\n",
       "4       2020-01-06\n",
       "           ...    \n",
       "2865    2020-05-28\n",
       "2866    2020-05-28\n",
       "2867    2020-05-28\n",
       "2868    2020-05-28\n",
       "2869    2020-05-28\n",
       "Name: date, Length: 2870, dtype: object"
      ]
     },
     "execution_count": 67,
     "metadata": {},
     "output_type": "execute_result"
    }
   ],
   "source": [
    "datas.date"
   ]
  },
  {
   "cell_type": "code",
   "execution_count": 75,
   "metadata": {},
   "outputs": [],
   "source": [
    "datas.to_csv('COVID-19_pandemic_updated_cleaned.csv')"
   ]
  },
  {
   "cell_type": "code",
   "execution_count": 76,
   "metadata": {},
   "outputs": [],
   "source": [
    "combined = pd.concat([datas,news],sort=False)\n",
    "combined.to_csv('combined_v2.csv')\n",
    "\n"
   ]
  },
  {
   "cell_type": "code",
   "execution_count": 77,
   "metadata": {},
   "outputs": [
    {
     "data": {
      "text/html": [
       "<div>\n",
       "<style scoped>\n",
       "    .dataframe tbody tr th:only-of-type {\n",
       "        vertical-align: middle;\n",
       "    }\n",
       "\n",
       "    .dataframe tbody tr th {\n",
       "        vertical-align: top;\n",
       "    }\n",
       "\n",
       "    .dataframe thead th {\n",
       "        text-align: right;\n",
       "    }\n",
       "</style>\n",
       "<table border=\"1\" class=\"dataframe\">\n",
       "  <thead>\n",
       "    <tr style=\"text-align: right;\">\n",
       "      <th></th>\n",
       "      <th>title</th>\n",
       "      <th>date</th>\n",
       "      <th>article</th>\n",
       "      <th>publication</th>\n",
       "    </tr>\n",
       "  </thead>\n",
       "  <tbody>\n",
       "    <tr>\n",
       "      <td>0</td>\n",
       "      <td>COVID-19_pandemic</td>\n",
       "      <td>2020-01-05</td>\n",
       "      <td>2019-2020 China pneumonia outbreak, or China p...</td>\n",
       "      <td>Wikipedia</td>\n",
       "    </tr>\n",
       "    <tr>\n",
       "      <td>1</td>\n",
       "      <td>COVID-19_pandemic</td>\n",
       "      <td>2020-01-05</td>\n",
       "      <td>2019-2020 China pneumonia outbreak, or China p...</td>\n",
       "      <td>Wikipedia</td>\n",
       "    </tr>\n",
       "    <tr>\n",
       "      <td>2</td>\n",
       "      <td>COVID-19_pandemic</td>\n",
       "      <td>2020-01-06</td>\n",
       "      <td>2019-2020 China pneumonia outbreak, or China p...</td>\n",
       "      <td>Wikipedia</td>\n",
       "    </tr>\n",
       "    <tr>\n",
       "      <td>3</td>\n",
       "      <td>COVID-19_pandemic</td>\n",
       "      <td>2020-01-06</td>\n",
       "      <td>2019-2020 China pneumonia outbreak, or China p...</td>\n",
       "      <td>Wikipedia</td>\n",
       "    </tr>\n",
       "    <tr>\n",
       "      <td>4</td>\n",
       "      <td>COVID-19_pandemic</td>\n",
       "      <td>2020-01-06</td>\n",
       "      <td>2019-2020 China pneumonia outbreak, or China p...</td>\n",
       "      <td>Wikipedia</td>\n",
       "    </tr>\n",
       "  </tbody>\n",
       "</table>\n",
       "</div>"
      ],
      "text/plain": [
       "               title        date  \\\n",
       "0  COVID-19_pandemic  2020-01-05   \n",
       "1  COVID-19_pandemic  2020-01-05   \n",
       "2  COVID-19_pandemic  2020-01-06   \n",
       "3  COVID-19_pandemic  2020-01-06   \n",
       "4  COVID-19_pandemic  2020-01-06   \n",
       "\n",
       "                                             article publication  \n",
       "0  2019-2020 China pneumonia outbreak, or China p...   Wikipedia  \n",
       "1  2019-2020 China pneumonia outbreak, or China p...   Wikipedia  \n",
       "2  2019-2020 China pneumonia outbreak, or China p...   Wikipedia  \n",
       "3  2019-2020 China pneumonia outbreak, or China p...   Wikipedia  \n",
       "4  2019-2020 China pneumonia outbreak, or China p...   Wikipedia  "
      ]
     },
     "execution_count": 77,
     "metadata": {},
     "output_type": "execute_result"
    }
   ],
   "source": [
    "combined.head()"
   ]
  },
  {
   "cell_type": "code",
   "execution_count": 79,
   "metadata": {},
   "outputs": [
    {
     "data": {
      "text/plain": [
       "(48676, 4)"
      ]
     },
     "execution_count": 79,
     "metadata": {},
     "output_type": "execute_result"
    }
   ],
   "source": [
    "combined.shape"
   ]
  },
  {
   "cell_type": "code",
   "execution_count": null,
   "metadata": {},
   "outputs": [],
   "source": []
  }
 ],
 "metadata": {
  "kernelspec": {
   "display_name": "Python 3",
   "language": "python",
   "name": "python3"
  },
  "language_info": {
   "codemirror_mode": {
    "name": "ipython",
    "version": 3
   },
   "file_extension": ".py",
   "mimetype": "text/x-python",
   "name": "python",
   "nbconvert_exporter": "python",
   "pygments_lexer": "ipython3",
   "version": "3.7.4"
  }
 },
 "nbformat": 4,
 "nbformat_minor": 2
}
