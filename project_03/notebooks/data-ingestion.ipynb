{
 "cells": [
  {
   "cell_type": "code",
   "execution_count": 1,
   "metadata": {},
   "outputs": [],
   "source": [
    "import pandas as pd\n",
    "import numpy as np"
   ]
  },
  {
   "cell_type": "code",
   "execution_count": 21,
   "metadata": {},
   "outputs": [],
   "source": [
    "data = pd.read_csv('all-the-news-2-1.csv',nrows=100,usecols=range(2,12),parse_dates=['date'])"
   ]
  },
  {
   "cell_type": "code",
   "execution_count": 22,
   "metadata": {},
   "outputs": [
    {
     "data": {
      "text/html": [
       "<div>\n",
       "<style scoped>\n",
       "    .dataframe tbody tr th:only-of-type {\n",
       "        vertical-align: middle;\n",
       "    }\n",
       "\n",
       "    .dataframe tbody tr th {\n",
       "        vertical-align: top;\n",
       "    }\n",
       "\n",
       "    .dataframe thead th {\n",
       "        text-align: right;\n",
       "    }\n",
       "</style>\n",
       "<table border=\"1\" class=\"dataframe\">\n",
       "  <thead>\n",
       "    <tr style=\"text-align: right;\">\n",
       "      <th></th>\n",
       "      <th>date</th>\n",
       "      <th>year</th>\n",
       "      <th>month</th>\n",
       "      <th>day</th>\n",
       "      <th>author</th>\n",
       "      <th>title</th>\n",
       "      <th>article</th>\n",
       "      <th>url</th>\n",
       "      <th>section</th>\n",
       "      <th>publication</th>\n",
       "    </tr>\n",
       "  </thead>\n",
       "  <tbody>\n",
       "    <tr>\n",
       "      <td>0</td>\n",
       "      <td>2016-12-09 18:31:00</td>\n",
       "      <td>2016</td>\n",
       "      <td>12.0</td>\n",
       "      <td>9</td>\n",
       "      <td>Lee Drutman</td>\n",
       "      <td>We should take concerns about the health of li...</td>\n",
       "      <td>This post is part of Polyarchy, an independent...</td>\n",
       "      <td>https://www.vox.com/polyarchy/2016/12/9/138983...</td>\n",
       "      <td>NaN</td>\n",
       "      <td>Vox</td>\n",
       "    </tr>\n",
       "    <tr>\n",
       "      <td>1</td>\n",
       "      <td>2016-10-07 21:26:46</td>\n",
       "      <td>2016</td>\n",
       "      <td>10.0</td>\n",
       "      <td>7</td>\n",
       "      <td>Scott Davis</td>\n",
       "      <td>Colts GM Ryan Grigson says Andrew Luck's contr...</td>\n",
       "      <td>The Indianapolis Colts made Andrew Luck the h...</td>\n",
       "      <td>https://www.businessinsider.com/colts-gm-ryan-...</td>\n",
       "      <td>NaN</td>\n",
       "      <td>Business Insider</td>\n",
       "    </tr>\n",
       "    <tr>\n",
       "      <td>2</td>\n",
       "      <td>2018-01-26 00:00:00</td>\n",
       "      <td>2018</td>\n",
       "      <td>1.0</td>\n",
       "      <td>26</td>\n",
       "      <td>NaN</td>\n",
       "      <td>Trump denies report he ordered Mueller fired</td>\n",
       "      <td>DAVOS, Switzerland (Reuters) - U.S. President ...</td>\n",
       "      <td>https://www.reuters.com/article/us-davos-meeti...</td>\n",
       "      <td>Davos</td>\n",
       "      <td>Reuters</td>\n",
       "    </tr>\n",
       "    <tr>\n",
       "      <td>3</td>\n",
       "      <td>2019-06-27 00:00:00</td>\n",
       "      <td>2019</td>\n",
       "      <td>6.0</td>\n",
       "      <td>27</td>\n",
       "      <td>NaN</td>\n",
       "      <td>France's Sarkozy reveals his 'Passions' but in...</td>\n",
       "      <td>PARIS (Reuters) - Former French president Nico...</td>\n",
       "      <td>https://www.reuters.com/article/france-politic...</td>\n",
       "      <td>World News</td>\n",
       "      <td>Reuters</td>\n",
       "    </tr>\n",
       "    <tr>\n",
       "      <td>4</td>\n",
       "      <td>2016-01-27 00:00:00</td>\n",
       "      <td>2016</td>\n",
       "      <td>1.0</td>\n",
       "      <td>27</td>\n",
       "      <td>NaN</td>\n",
       "      <td>Paris Hilton: Woman In Black For Uncle Monty's...</td>\n",
       "      <td>Paris Hilton arrived at LAX Wednesday dressed ...</td>\n",
       "      <td>https://www.tmz.com/2016/01/27/paris-hilton-mo...</td>\n",
       "      <td>NaN</td>\n",
       "      <td>TMZ</td>\n",
       "    </tr>\n",
       "  </tbody>\n",
       "</table>\n",
       "</div>"
      ],
      "text/plain": [
       "                 date  year  month  day       author  \\\n",
       "0 2016-12-09 18:31:00  2016   12.0    9  Lee Drutman   \n",
       "1 2016-10-07 21:26:46  2016   10.0    7  Scott Davis   \n",
       "2 2018-01-26 00:00:00  2018    1.0   26          NaN   \n",
       "3 2019-06-27 00:00:00  2019    6.0   27          NaN   \n",
       "4 2016-01-27 00:00:00  2016    1.0   27          NaN   \n",
       "\n",
       "                                               title  \\\n",
       "0  We should take concerns about the health of li...   \n",
       "1  Colts GM Ryan Grigson says Andrew Luck's contr...   \n",
       "2       Trump denies report he ordered Mueller fired   \n",
       "3  France's Sarkozy reveals his 'Passions' but in...   \n",
       "4  Paris Hilton: Woman In Black For Uncle Monty's...   \n",
       "\n",
       "                                             article  \\\n",
       "0  This post is part of Polyarchy, an independent...   \n",
       "1   The Indianapolis Colts made Andrew Luck the h...   \n",
       "2  DAVOS, Switzerland (Reuters) - U.S. President ...   \n",
       "3  PARIS (Reuters) - Former French president Nico...   \n",
       "4  Paris Hilton arrived at LAX Wednesday dressed ...   \n",
       "\n",
       "                                                 url     section  \\\n",
       "0  https://www.vox.com/polyarchy/2016/12/9/138983...         NaN   \n",
       "1  https://www.businessinsider.com/colts-gm-ryan-...         NaN   \n",
       "2  https://www.reuters.com/article/us-davos-meeti...       Davos   \n",
       "3  https://www.reuters.com/article/france-politic...  World News   \n",
       "4  https://www.tmz.com/2016/01/27/paris-hilton-mo...         NaN   \n",
       "\n",
       "        publication  \n",
       "0               Vox  \n",
       "1  Business Insider  \n",
       "2           Reuters  \n",
       "3           Reuters  \n",
       "4               TMZ  "
      ]
     },
     "execution_count": 22,
     "metadata": {},
     "output_type": "execute_result"
    }
   ],
   "source": [
    "data.head()"
   ]
  },
  {
   "cell_type": "code",
   "execution_count": 26,
   "metadata": {},
   "outputs": [
    {
     "name": "stderr",
     "output_type": "stream",
     "text": [
      "/Users/scott/anaconda3/lib/python3.7/site-packages/IPython/core/interactiveshell.py:3058: DtypeWarning: Columns (3,5) have mixed types. Specify dtype option on import or set low_memory=False.\n",
      "  interactivity=interactivity, compiler=compiler, result=result)\n"
     ]
    }
   ],
   "source": [
    "chunksize = 10 ** 6\n",
    "result = []\n",
    "for chunk in pd.read_csv('all-the-news-2-1.csv',usecols=range(2,12),\n",
    "                         parse_dates=['date'], chunksize=chunksize):\n",
    "    result.append(chunk[chunk.year==2020])"
   ]
  },
  {
   "cell_type": "code",
   "execution_count": 27,
   "metadata": {},
   "outputs": [
    {
     "data": {
      "text/plain": [
       "3"
      ]
     },
     "execution_count": 27,
     "metadata": {},
     "output_type": "execute_result"
    }
   ],
   "source": [
    "len(result)"
   ]
  },
  {
   "cell_type": "code",
   "execution_count": 2,
   "metadata": {},
   "outputs": [
    {
     "data": {
      "text/html": [
       "<div>\n",
       "<style scoped>\n",
       "    .dataframe tbody tr th:only-of-type {\n",
       "        vertical-align: middle;\n",
       "    }\n",
       "\n",
       "    .dataframe tbody tr th {\n",
       "        vertical-align: top;\n",
       "    }\n",
       "\n",
       "    .dataframe thead th {\n",
       "        text-align: right;\n",
       "    }\n",
       "</style>\n",
       "<table border=\"1\" class=\"dataframe\">\n",
       "  <thead>\n",
       "    <tr style=\"text-align: right;\">\n",
       "      <th></th>\n",
       "      <th>Unnamed: 0</th>\n",
       "      <th>date</th>\n",
       "      <th>year</th>\n",
       "      <th>month</th>\n",
       "      <th>day</th>\n",
       "      <th>author</th>\n",
       "      <th>title</th>\n",
       "      <th>article</th>\n",
       "      <th>url</th>\n",
       "      <th>section</th>\n",
       "      <th>publication</th>\n",
       "    </tr>\n",
       "  </thead>\n",
       "  <tbody>\n",
       "    <tr>\n",
       "      <td>0</td>\n",
       "      <td>2432615</td>\n",
       "      <td>2020-01-06 00:00:00</td>\n",
       "      <td>2020</td>\n",
       "      <td>1.0</td>\n",
       "      <td>6</td>\n",
       "      <td>NaN</td>\n",
       "      <td>The Bronx Zoo’s Holiday Lights Festival</td>\n",
       "      <td>The lowland gorillas at the  Bronx Zoo  tend t...</td>\n",
       "      <td>https://www.newyorker.com/magazine/2020/01/06/...</td>\n",
       "      <td>magazine</td>\n",
       "      <td>New Yorker</td>\n",
       "    </tr>\n",
       "    <tr>\n",
       "      <td>1</td>\n",
       "      <td>2432616</td>\n",
       "      <td>2020-01-06 00:00:00</td>\n",
       "      <td>2020</td>\n",
       "      <td>1.0</td>\n",
       "      <td>6</td>\n",
       "      <td>Anthony Lane</td>\n",
       "      <td>Greta Gerwig’s “Little Women,” Reviewed</td>\n",
       "      <td>Composing herself, and pausing to gather her w...</td>\n",
       "      <td>https://www.newyorker.com/magazine/2020/01/06/...</td>\n",
       "      <td>magazine</td>\n",
       "      <td>New Yorker</td>\n",
       "    </tr>\n",
       "    <tr>\n",
       "      <td>2</td>\n",
       "      <td>2432617</td>\n",
       "      <td>2020-01-06 00:00:00</td>\n",
       "      <td>2020</td>\n",
       "      <td>1.0</td>\n",
       "      <td>6</td>\n",
       "      <td>Hannah Goldfield</td>\n",
       "      <td>Gotham’s Ladies Who Lunch, Three Decades In</td>\n",
       "      <td>One recent afternoon at the restaurant formerl...</td>\n",
       "      <td>https://www.newyorker.com/magazine/2020/01/06/...</td>\n",
       "      <td>magazine</td>\n",
       "      <td>New Yorker</td>\n",
       "    </tr>\n",
       "    <tr>\n",
       "      <td>3</td>\n",
       "      <td>2432618</td>\n",
       "      <td>2020-01-06 00:00:00</td>\n",
       "      <td>2020</td>\n",
       "      <td>1.0</td>\n",
       "      <td>6</td>\n",
       "      <td>Alex Ross</td>\n",
       "      <td>Opera Against the Patriarchy</td>\n",
       "      <td>“If you dare nothing, you can change nothing,”...</td>\n",
       "      <td>https://www.newyorker.com/magazine/2020/01/06/...</td>\n",
       "      <td>magazine</td>\n",
       "      <td>New Yorker</td>\n",
       "    </tr>\n",
       "    <tr>\n",
       "      <td>4</td>\n",
       "      <td>2432619</td>\n",
       "      <td>2020-01-06 00:00:00</td>\n",
       "      <td>2020</td>\n",
       "      <td>1.0</td>\n",
       "      <td>6</td>\n",
       "      <td>Donika Kelly</td>\n",
       "      <td>“From the Catalogue of Cruelty,” by Donika Kelly</td>\n",
       "      <td>Audio:  Read by the author. \\n Once, I slapped...</td>\n",
       "      <td>https://www.newyorker.com/magazine/2020/01/06/...</td>\n",
       "      <td>magazine</td>\n",
       "      <td>New Yorker</td>\n",
       "    </tr>\n",
       "  </tbody>\n",
       "</table>\n",
       "</div>"
      ],
      "text/plain": [
       "   Unnamed: 0                 date  year  month  day            author  \\\n",
       "0     2432615  2020-01-06 00:00:00  2020    1.0    6               NaN   \n",
       "1     2432616  2020-01-06 00:00:00  2020    1.0    6      Anthony Lane   \n",
       "2     2432617  2020-01-06 00:00:00  2020    1.0    6  Hannah Goldfield   \n",
       "3     2432618  2020-01-06 00:00:00  2020    1.0    6         Alex Ross   \n",
       "4     2432619  2020-01-06 00:00:00  2020    1.0    6      Donika Kelly   \n",
       "\n",
       "                                              title  \\\n",
       "0           The Bronx Zoo’s Holiday Lights Festival   \n",
       "1           Greta Gerwig’s “Little Women,” Reviewed   \n",
       "2      Gotham’s Ladies Who Lunch, Three Decades In    \n",
       "3                      Opera Against the Patriarchy   \n",
       "4  “From the Catalogue of Cruelty,” by Donika Kelly   \n",
       "\n",
       "                                             article  \\\n",
       "0  The lowland gorillas at the  Bronx Zoo  tend t...   \n",
       "1  Composing herself, and pausing to gather her w...   \n",
       "2  One recent afternoon at the restaurant formerl...   \n",
       "3  “If you dare nothing, you can change nothing,”...   \n",
       "4  Audio:  Read by the author. \\n Once, I slapped...   \n",
       "\n",
       "                                                 url   section publication  \n",
       "0  https://www.newyorker.com/magazine/2020/01/06/...  magazine  New Yorker  \n",
       "1  https://www.newyorker.com/magazine/2020/01/06/...  magazine  New Yorker  \n",
       "2  https://www.newyorker.com/magazine/2020/01/06/...  magazine  New Yorker  \n",
       "3  https://www.newyorker.com/magazine/2020/01/06/...  magazine  New Yorker  \n",
       "4  https://www.newyorker.com/magazine/2020/01/06/...  magazine  New Yorker  "
      ]
     },
     "execution_count": 2,
     "metadata": {},
     "output_type": "execute_result"
    }
   ],
   "source": [
    "#all2020 = pd.concat(result)\n",
    "#all2020.to_csv('all-the-news-2020.csv')\n",
    "all2020 = pd.read_csv('all-the-news-2020.csv')\n",
    "all2020.head()"
   ]
  },
  {
   "cell_type": "code",
   "execution_count": 29,
   "metadata": {},
   "outputs": [
    {
     "data": {
      "text/plain": [
       "(234830, 10)"
      ]
     },
     "execution_count": 29,
     "metadata": {},
     "output_type": "execute_result"
    }
   ],
   "source": [
    "all2020.shape"
   ]
  },
  {
   "cell_type": "code",
   "execution_count": 12,
   "metadata": {},
   "outputs": [],
   "source": [
    "COVID = all2020[\n",
    "    (all2020.title.str.contains('virus'))|\n",
    "    (all2020.title.str.contains('COVID'))|\n",
    "    (all2020.title.str.contains('stay-at-home'))|\n",
    "    (all2020.title.str.contains('COVID-19'))|\n",
    "    (all2020.title.str.contains('toll'))|\n",
    "    (all2020.title.str.contains('coronavirus'))\n",
    "]"
   ]
  },
  {
   "cell_type": "code",
   "execution_count": 13,
   "metadata": {},
   "outputs": [
    {
     "data": {
      "text/plain": [
       "(45972, 11)"
      ]
     },
     "execution_count": 13,
     "metadata": {},
     "output_type": "execute_result"
    }
   ],
   "source": [
    "COVID.shape"
   ]
  },
  {
   "cell_type": "code",
   "execution_count": 14,
   "metadata": {},
   "outputs": [],
   "source": [
    "COVID.to_csv('all-the-news-2020-COVID-title.csv')"
   ]
  },
  {
   "cell_type": "code",
   "execution_count": null,
   "metadata": {},
   "outputs": [],
   "source": []
  }
 ],
 "metadata": {
  "kernelspec": {
   "display_name": "Python 3",
   "language": "python",
   "name": "python3"
  },
  "language_info": {
   "codemirror_mode": {
    "name": "ipython",
    "version": 3
   },
   "file_extension": ".py",
   "mimetype": "text/x-python",
   "name": "python",
   "nbconvert_exporter": "python",
   "pygments_lexer": "ipython3",
   "version": "3.7.4"
  }
 },
 "nbformat": 4,
 "nbformat_minor": 2
}
