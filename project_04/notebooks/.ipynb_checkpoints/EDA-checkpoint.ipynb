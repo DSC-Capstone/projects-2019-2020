{
 "cells": [
  {
   "cell_type": "markdown",
   "metadata": {},
   "source": [
    "# Exploratory Data Analysis"
   ]
  },
  {
   "cell_type": "code",
   "execution_count": 1,
   "metadata": {},
   "outputs": [],
   "source": [
    "#import libraries and packages\n",
    "import numpy as np\n",
    "import librosa\n",
    "import matplotlib.pyplot as plt\n",
    "%matplotlib inline\n",
    "import os, nltk, json, scipy, statistics\n",
    "import pandas as pd\n",
    "from scipy.stats import mode\n",
    "import IPython.display as ipd\n",
    "from matplotlib import cm\n",
    "from matplotlib.colors import ListedColormap, LinearSegmentedColormap\n",
    "from nltk.util import ngrams\n",
    "\n",
    "import sys\n",
    "sys.path.insert(0, '../')\n",
    "from library import * "
   ]
  },
  {
   "cell_type": "markdown",
   "metadata": {},
   "source": [
    "# EDA"
   ]
  },
  {
   "cell_type": "markdown",
   "metadata": {},
   "source": [
    "This notebook generates plots for most played notes and most played phrases in each of the ragas in the cleaned dataframe. This cleaned dataframe is generated through the `cleaned data` target. Please make sure this part of the pipeline has been run before running this EDA."
   ]
  },
  {
   "cell_type": "code",
   "execution_count": 2,
   "metadata": {
    "scrolled": false
   },
   "outputs": [
    {
     "data": {
      "text/html": [
       "<div>\n",
       "<style scoped>\n",
       "    .dataframe tbody tr th:only-of-type {\n",
       "        vertical-align: middle;\n",
       "    }\n",
       "\n",
       "    .dataframe tbody tr th {\n",
       "        vertical-align: top;\n",
       "    }\n",
       "\n",
       "    .dataframe thead th {\n",
       "        text-align: right;\n",
       "    }\n",
       "</style>\n",
       "<table border=\"1\" class=\"dataframe\">\n",
       "  <thead>\n",
       "    <tr style=\"text-align: right;\">\n",
       "      <th></th>\n",
       "      <th>Name</th>\n",
       "      <th>y</th>\n",
       "      <th>sr</th>\n",
       "    </tr>\n",
       "  </thead>\n",
       "  <tbody>\n",
       "    <tr>\n",
       "      <th>0</th>\n",
       "      <td>Todi Subhapantuvarali</td>\n",
       "      <td>[4.2290324e-07, -8.023852e-05, -0.0001917867, ...</td>\n",
       "      <td>22050</td>\n",
       "    </tr>\n",
       "    <tr>\n",
       "      <th>1</th>\n",
       "      <td>Todi Subhapantuvarali</td>\n",
       "      <td>[-0.026577735, -0.00077805633, 0.027755009, 0....</td>\n",
       "      <td>22050</td>\n",
       "    </tr>\n",
       "    <tr>\n",
       "      <th>2</th>\n",
       "      <td>Todi Subhapantuvarali</td>\n",
       "      <td>[0.06540539, 0.047419004, 0.026002493, 0.00159...</td>\n",
       "      <td>22050</td>\n",
       "    </tr>\n",
       "    <tr>\n",
       "      <th>3</th>\n",
       "      <td>Todi Subhapantuvarali</td>\n",
       "      <td>[0.0222582, 0.066444404, 0.075405955, 0.051319...</td>\n",
       "      <td>22050</td>\n",
       "    </tr>\n",
       "    <tr>\n",
       "      <th>4</th>\n",
       "      <td>Todi Subhapantuvarali</td>\n",
       "      <td>[0.0025727828, 0.004053974, -0.0004641247, -0....</td>\n",
       "      <td>22050</td>\n",
       "    </tr>\n",
       "  </tbody>\n",
       "</table>\n",
       "</div>"
      ],
      "text/plain": [
       "                    Name                                                  y  \\\n",
       "0  Todi Subhapantuvarali  [4.2290324e-07, -8.023852e-05, -0.0001917867, ...   \n",
       "1  Todi Subhapantuvarali  [-0.026577735, -0.00077805633, 0.027755009, 0....   \n",
       "2  Todi Subhapantuvarali  [0.06540539, 0.047419004, 0.026002493, 0.00159...   \n",
       "3  Todi Subhapantuvarali  [0.0222582, 0.066444404, 0.075405955, 0.051319...   \n",
       "4  Todi Subhapantuvarali  [0.0025727828, 0.004053974, -0.0004641247, -0....   \n",
       "\n",
       "      sr  \n",
       "0  22050  \n",
       "1  22050  \n",
       "2  22050  \n",
       "3  22050  \n",
       "4  22050  "
      ]
     },
     "execution_count": 2,
     "metadata": {},
     "output_type": "execute_result"
    }
   ],
   "source": [
    "#load cleaned dataframe from ETL pipeline \n",
    "#to run this EDA on your local data, please input the path to your local, cleaned dataframe instead\n",
    "df = pd.read_pickle('../test/cleaned/cleaned_data.pkl')\n",
    "df.head()"
   ]
  },
  {
   "cell_type": "code",
   "execution_count": null,
   "metadata": {},
   "outputs": [
    {
     "name": "stdout",
     "output_type": "stream",
     "text": [
      "Todi Subhapantuvarali\n",
      "Asavari Natabhairavi\n"
     ]
    },
    {
     "data": {
      "image/png": "[encoded data removed]",
      "text/plain": [
       "<Figure size 432x288 with 1 Axes>"
      ]
     },
     "metadata": {},
     "output_type": "display_data"
    },
    {
     "data": {
      "image/png": "[encoded data removed]",
      "text/plain": [
       "<Figure size 432x288 with 1 Axes>"
      ]
     },
     "metadata": {},
     "output_type": "display_data"
    }
   ],
   "source": [
    "#accounting for all ragas in df\n",
    "unique_ragas = list(df['Name'].unique())\n",
    "\n",
    "#getting plots for each raga\n",
    "for raga in unique_ragas:\n",
    "    print(raga)\n",
    "    this_raga = df[df['Name'] == raga].reset_index()\n",
    "    dist = EDA(this_raga)  "
   ]
  }
 ],
 "metadata": {
  "kernelspec": {
   "display_name": "Python 3",
   "language": "python",
   "name": "python3"
  },
  "language_info": {
   "codemirror_mode": {
    "name": "ipython",
    "version": 3
   },
   "file_extension": ".py",
   "mimetype": "text/x-python",
   "name": "python",
   "nbconvert_exporter": "python",
   "pygments_lexer": "ipython3",
   "version": "3.6.8"
  }
 },
 "nbformat": 4,
 "nbformat_minor": 2
}
