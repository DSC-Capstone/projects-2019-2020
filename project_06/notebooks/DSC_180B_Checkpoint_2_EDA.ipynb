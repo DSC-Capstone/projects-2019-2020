{
 "cells": [
  {
   "cell_type": "markdown",
   "metadata": {},
   "source": [
    "# DSC 180B - Checkpoint 2 EDA"
   ]
  },
  {
   "cell_type": "code",
   "execution_count": null,
   "metadata": {},
   "outputs": [],
   "source": [
    "import numpy as np\n",
    "from skimage import io\n",
    "import requests\n",
    "from bs4 import BeautifulSoup\n",
    "import matplotlib.pyplot as plt\n",
    "import re\n",
    "import random\n",
    "from collections import defaultdict\n",
    "\n",
    "import pickle"
   ]
  },
  {
   "cell_type": "code",
   "execution_count": null,
   "metadata": {},
   "outputs": [],
   "source": [
    "all_colors = []\n",
    "all_grays = []\n",
    "for i in img_files:\n",
    "    with open(i, 'rb') as filehandle:\n",
    "        # read the data as binary data stream\n",
    "        war_images = pickle.load(filehandle)\n",
    "    num_color = 0\n",
    "    num_grayscale = 0\n",
    "    \n",
    "    for img in war_images:\n",
    "        if len(img.shape)==3:\n",
    "                num_color += 1\n",
    "        if len(img.shape) == 2:\n",
    "                num_grayscale += 1\n",
    "    print(i)\n",
    "    print(len(war_images))\n",
    "    print(num_color)\n",
    "    print(num_grayscale)\n",
    "    all_colors.append(num_color)\n",
    "    all_grays.append(num_grayscale)\n",
    "    del war_images"
   ]
  },
  {
   "cell_type": "code",
   "execution_count": null,
   "metadata": {},
   "outputs": [],
   "source": [
    "fig = plt.figure()\n",
    "ax = fig.add_subplot(111)\n",
    "\n",
    "x = [i-0.2 for i in range(len(all_grays))]\n",
    "col = ax.bar(range(len(all_colors)),all_colors,width=0.2, color='r')\n",
    "gray = ax.bar(x,all_grays,width=0.2, color='black')\n",
    "ax.set_title(\"Color vs. Grayscale\")\n",
    "ax.set_ylabel(\"Frequencies\")\n",
    "ax.set_xticklabels( ('', 'Pre-War', '', 'Mid-War','', 'Late-War') )\n",
    "ax.legend((col[0], gray[0]), ('Color', 'Grayscale'));"
   ]
  },
  {
   "cell_type": "code",
   "execution_count": null,
   "metadata": {},
   "outputs": [],
   "source": [
    "#Plots to be added"
   ]
  },
  {
   "cell_type": "code",
   "execution_count": null,
   "metadata": {},
   "outputs": [],
   "source": []
  }
 ],
 "metadata": {
  "kernelspec": {
   "display_name": "Python 3",
   "language": "python",
   "name": "python3"
  },
  "language_info": {
   "codemirror_mode": {
    "name": "ipython",
    "version": 3
   },
   "file_extension": ".py",
   "mimetype": "text/x-python",
   "name": "python",
   "nbconvert_exporter": "python",
   "pygments_lexer": "ipython3",
   "version": "3.7.3"
  }
 },
 "nbformat": 4,
 "nbformat_minor": 2
}
