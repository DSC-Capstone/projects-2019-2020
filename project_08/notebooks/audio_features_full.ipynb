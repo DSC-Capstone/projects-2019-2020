{
 "cells": [
  {
   "cell_type": "code",
   "execution_count": 128,
   "metadata": {},
   "outputs": [],
   "source": [
    "import numpy as np\n",
    "import pandas as pd\n",
    "import os\n",
    "import ast\n",
    "import librosa\n",
    "\n",
    "%matplotlib inline"
   ]
  },
  {
   "cell_type": "code",
   "execution_count": 14,
   "metadata": {},
   "outputs": [],
   "source": [
    "# Filepaths\n",
    "data_fn = '2020_with_text.csv'\n",
    "\n",
    "audiodir = 'data/ispot/2020/audios'\n",
    "audiofiles = [audiodir + '/' + str(s) for s in os.listdir(audiodir)]"
   ]
  },
  {
   "cell_type": "code",
   "execution_count": 3,
   "metadata": {},
   "outputs": [
    {
     "data": {
      "text/html": [
       "<div>\n",
       "<style scoped>\n",
       "    .dataframe tbody tr th:only-of-type {\n",
       "        vertical-align: middle;\n",
       "    }\n",
       "\n",
       "    .dataframe tbody tr th {\n",
       "        vertical-align: top;\n",
       "    }\n",
       "\n",
       "    .dataframe thead th {\n",
       "        text-align: right;\n",
       "    }\n",
       "</style>\n",
       "<table border=\"1\" class=\"dataframe\">\n",
       "  <thead>\n",
       "    <tr style=\"text-align: right;\">\n",
       "      <th></th>\n",
       "      <th>mp4</th>\n",
       "      <th>Title</th>\n",
       "      <th>Ad ID</th>\n",
       "      <th>Advertiser ID</th>\n",
       "      <th>Subcategory ID</th>\n",
       "      <th>Advertiser</th>\n",
       "      <th>Duration (s)</th>\n",
       "      <th>First_DT</th>\n",
       "      <th>Last_DT</th>\n",
       "      <th>Text</th>\n",
       "    </tr>\n",
       "  </thead>\n",
       "  <tbody>\n",
       "    <tr>\n",
       "      <td>0</td>\n",
       "      <td>https://d3npuic909260z.cloudfront.net/002/661/...</td>\n",
       "      <td>Audi e-tron Super Bowl 2020 TV Commercial, 'Le...</td>\n",
       "      <td>2661330</td>\n",
       "      <td>30464</td>\n",
       "      <td>113</td>\n",
       "      <td>Audi e-tron</td>\n",
       "      <td>60</td>\n",
       "      <td>2020-01-29 00:00:00</td>\n",
       "      <td>2020-05-29 00:00:00</td>\n",
       "      <td>NoAudio</td>\n",
       "    </tr>\n",
       "    <tr>\n",
       "      <td>1</td>\n",
       "      <td>https://d3npuic909260z.cloudfront.net/002/661/...</td>\n",
       "      <td>Tide POWER PODS Super Bowl 2020 TV Commercial,...</td>\n",
       "      <td>2661328</td>\n",
       "      <td>30397</td>\n",
       "      <td>552</td>\n",
       "      <td>Tide POWER PODS</td>\n",
       "      <td>15</td>\n",
       "      <td>2020-02-02 00:00:00</td>\n",
       "      <td>2020-06-02 00:00:00</td>\n",
       "      <td>{'transcript': 'add Sabra to your lineup for a...</td>\n",
       "    </tr>\n",
       "    <tr>\n",
       "      <td>2</td>\n",
       "      <td>https://d3npuic909260z.cloudfront.net/002/661/...</td>\n",
       "      <td>Facebook Groups Super Bowl 2020 TV Commercial,...</td>\n",
       "      <td>2661329</td>\n",
       "      <td>30647</td>\n",
       "      <td>307</td>\n",
       "      <td>Facebook Groups</td>\n",
       "      <td>60</td>\n",
       "      <td>2020-02-01 00:00:00</td>\n",
       "      <td>2020-03-23 00:00:00</td>\n",
       "      <td>{'transcript': 'grabs Cobra for a game-day gam...</td>\n",
       "    </tr>\n",
       "    <tr>\n",
       "      <td>3</td>\n",
       "      <td>https://d3npuic909260z.cloudfront.net/002/661/...</td>\n",
       "      <td>2020 Jeep Gladiator Super Bowl 2020 TV Commerc...</td>\n",
       "      <td>2661326</td>\n",
       "      <td>30501</td>\n",
       "      <td>113</td>\n",
       "      <td>Jeep Gladiator</td>\n",
       "      <td>60</td>\n",
       "      <td>2020-02-01 00:00:00</td>\n",
       "      <td>2020-06-02 00:00:00</td>\n",
       "      <td>{'transcript': 'you can score a hundred K on G...</td>\n",
       "    </tr>\n",
       "    <tr>\n",
       "      <td>4</td>\n",
       "      <td>https://d3npuic909260z.cloudfront.net/002/661/...</td>\n",
       "      <td>9-1-1: Lone Star Super Bowl 2020 TV Promo, 'I'...</td>\n",
       "      <td>2661325</td>\n",
       "      <td>31226</td>\n",
       "      <td>287</td>\n",
       "      <td>9-1-1: Lone Star</td>\n",
       "      <td>30</td>\n",
       "      <td>2020-02-01 00:00:00</td>\n",
       "      <td>2020-02-04 00:00:00</td>\n",
       "      <td>{'transcript': 'dip watch and you could win a ...</td>\n",
       "    </tr>\n",
       "  </tbody>\n",
       "</table>\n",
       "</div>"
      ],
      "text/plain": [
       "                                                 mp4  \\\n",
       "0  https://d3npuic909260z.cloudfront.net/002/661/...   \n",
       "1  https://d3npuic909260z.cloudfront.net/002/661/...   \n",
       "2  https://d3npuic909260z.cloudfront.net/002/661/...   \n",
       "3  https://d3npuic909260z.cloudfront.net/002/661/...   \n",
       "4  https://d3npuic909260z.cloudfront.net/002/661/...   \n",
       "\n",
       "                                               Title    Ad ID  Advertiser ID  \\\n",
       "0  Audi e-tron Super Bowl 2020 TV Commercial, 'Le...  2661330          30464   \n",
       "1  Tide POWER PODS Super Bowl 2020 TV Commercial,...  2661328          30397   \n",
       "2  Facebook Groups Super Bowl 2020 TV Commercial,...  2661329          30647   \n",
       "3  2020 Jeep Gladiator Super Bowl 2020 TV Commerc...  2661326          30501   \n",
       "4  9-1-1: Lone Star Super Bowl 2020 TV Promo, 'I'...  2661325          31226   \n",
       "\n",
       "   Subcategory ID        Advertiser  Duration (s)             First_DT  \\\n",
       "0             113       Audi e-tron            60  2020-01-29 00:00:00   \n",
       "1             552   Tide POWER PODS            15  2020-02-02 00:00:00   \n",
       "2             307   Facebook Groups            60  2020-02-01 00:00:00   \n",
       "3             113    Jeep Gladiator            60  2020-02-01 00:00:00   \n",
       "4             287  9-1-1: Lone Star            30  2020-02-01 00:00:00   \n",
       "\n",
       "               Last_DT                                               Text  \n",
       "0  2020-05-29 00:00:00                                            NoAudio  \n",
       "1  2020-06-02 00:00:00  {'transcript': 'add Sabra to your lineup for a...  \n",
       "2  2020-03-23 00:00:00  {'transcript': 'grabs Cobra for a game-day gam...  \n",
       "3  2020-06-02 00:00:00  {'transcript': 'you can score a hundred K on G...  \n",
       "4  2020-02-04 00:00:00  {'transcript': 'dip watch and you could win a ...  "
      ]
     },
     "execution_count": 3,
     "metadata": {},
     "output_type": "execute_result"
    }
   ],
   "source": [
    "sb_2020 = pd.read_csv(data_fn, index_col=0)\n",
    "sb_2020.head()"
   ]
  },
  {
   "cell_type": "code",
   "execution_count": 54,
   "metadata": {},
   "outputs": [],
   "source": [
    "def feature_extract(mp3_file, n_mfcc=20):\n",
    "    \n",
    "    x, sr = librosa.load(mp3_file)\n",
    "    \n",
    "    spec_features = [librosa.feature.spectral_centroid, librosa.feature.spectral_bandwidth,\n",
    "                 librosa.feature.spectral_contrast, librosa.feature.spectral_flatness,\n",
    "                 librosa.feature.spectral_rolloff]\n",
    "    \n",
    "    raw_feats = list()\n",
    "    # Add spectral features\n",
    "    for f in spec_features:\n",
    "        # Get raw features from function call\n",
    "        raw_feat_f = f(x)\n",
    "        # Add each feature one-by-one\n",
    "        for row in raw_feat_f:\n",
    "            raw_feats.append(row)\n",
    "            \n",
    "    print(len(raw_feats))\n",
    "            \n",
    "    # MFCCs\n",
    "    f = librosa.feature.mfcc\n",
    "    raw_feat = f(x, sr, n_mfcc=n_mfcc)\n",
    "    for row in raw_feat:\n",
    "        raw_feats.append(row)\n",
    "        \n",
    "    # Zero crossing rate\n",
    "    f = librosa.feature.zero_crossing_rate\n",
    "    raw_feat = f(x)\n",
    "    for row in raw_feat:\n",
    "        raw_feats.append(row)\n",
    "        \n",
    "    # Chromagram    \n",
    "    f = librosa.feature.chroma_stft\n",
    "    raw_feat = f(x, sr)\n",
    "    for row in raw_feat:\n",
    "        raw_feats.append(row)\n",
    "    \n",
    "    # Tonnetz\n",
    "    f = librosa.feature.tonnetz\n",
    "    raw_feat = f(x, sr)\n",
    "    for row in raw_feat:\n",
    "        raw_feats.append(row)\n",
    "        \n",
    "    '''\n",
    "    f = librosa.feature.fourier_tempogram\n",
    "    raw_feat = f(x, sr)\n",
    "    for row in raw_feat:\n",
    "        raw_feats.append(row)\n",
    "    '''  \n",
    "    \n",
    "    \n",
    "    \n",
    "    return raw_feats"
   ]
  },
  {
   "cell_type": "code",
   "execution_count": 65,
   "metadata": {},
   "outputs": [
    {
     "name": "stdout",
     "output_type": "stream",
     "text": [
      "11\n",
      "31\n",
      "32\n",
      "44\n",
      "50\n",
      "243\n"
     ]
    }
   ],
   "source": [
    "sabra = audiofiles[1]\n",
    "sabra_feats = feature_extract(sabra)\n",
    "print(len(sabra_feats))"
   ]
  },
  {
   "cell_type": "code",
   "execution_count": 64,
   "metadata": {},
   "outputs": [
    {
     "name": "stdout",
     "output_type": "stream",
     "text": [
      "Features: 243\n",
      "Observations Tempo: 262\n",
      "Observations Other: 261\n"
     ]
    }
   ],
   "source": [
    "print('Features: ' + str(len(sabra_feats)))\n",
    "print('Observations Tempo: ' + str(len(sabra_feats[50])))\n",
    "print('Observations Other: ' + str(len(sabra_feats[0])))"
   ]
  },
  {
   "cell_type": "code",
   "execution_count": 79,
   "metadata": {},
   "outputs": [
    {
     "name": "stdout",
     "output_type": "stream",
     "text": [
      "(261, 50)\n"
     ]
    }
   ],
   "source": [
    "transposed = list(map(list, zip(*sabra_feats)))\n",
    "audio_feats = pd.DataFrame(transposed)\n",
    "print(audio_feats.shape)"
   ]
  },
  {
   "cell_type": "code",
   "execution_count": 78,
   "metadata": {},
   "outputs": [
    {
     "data": {
      "text/plain": [
       "<matplotlib.axes._subplots.AxesSubplot at 0x1956e71eb88>"
      ]
     },
     "execution_count": 78,
     "metadata": {},
     "output_type": "execute_result"
    },
    {
     "data": {
      "image/png": "[encoded data removed]",
      "text/plain": [
       "<Figure size 432x288 with 1 Axes>"
      ]
     },
     "metadata": {
      "needs_background": "light"
     },
     "output_type": "display_data"
    }
   ],
   "source": [
    "# Spectral Centroid\n",
    "audio_feats[0].plot()"
   ]
  },
  {
   "cell_type": "code",
   "execution_count": 88,
   "metadata": {},
   "outputs": [
    {
     "data": {
      "text/html": [
       "<div>\n",
       "<style scoped>\n",
       "    .dataframe tbody tr th:only-of-type {\n",
       "        vertical-align: middle;\n",
       "    }\n",
       "\n",
       "    .dataframe tbody tr th {\n",
       "        vertical-align: top;\n",
       "    }\n",
       "\n",
       "    .dataframe thead th {\n",
       "        text-align: right;\n",
       "    }\n",
       "</style>\n",
       "<table border=\"1\" class=\"dataframe\">\n",
       "  <thead>\n",
       "    <tr style=\"text-align: right;\">\n",
       "      <th></th>\n",
       "      <th>0</th>\n",
       "      <th>1</th>\n",
       "      <th>2</th>\n",
       "      <th>3</th>\n",
       "      <th>4</th>\n",
       "      <th>5</th>\n",
       "      <th>6</th>\n",
       "      <th>7</th>\n",
       "      <th>8</th>\n",
       "      <th>9</th>\n",
       "      <th>...</th>\n",
       "      <th>40</th>\n",
       "      <th>41</th>\n",
       "      <th>42</th>\n",
       "      <th>43</th>\n",
       "      <th>44</th>\n",
       "      <th>45</th>\n",
       "      <th>46</th>\n",
       "      <th>47</th>\n",
       "      <th>48</th>\n",
       "      <th>49</th>\n",
       "    </tr>\n",
       "  </thead>\n",
       "  <tbody>\n",
       "    <tr>\n",
       "      <td>0</td>\n",
       "      <td>2497.481922</td>\n",
       "      <td>2781.028962</td>\n",
       "      <td>8.680474</td>\n",
       "      <td>15.991126</td>\n",
       "      <td>32.127459</td>\n",
       "      <td>27.603286</td>\n",
       "      <td>29.242361</td>\n",
       "      <td>22.094007</td>\n",
       "      <td>35.023411</td>\n",
       "      <td>0.020924</td>\n",
       "      <td>...</td>\n",
       "      <td>0.719992</td>\n",
       "      <td>1.000000</td>\n",
       "      <td>0.905150</td>\n",
       "      <td>0.470709</td>\n",
       "      <td>0.021442</td>\n",
       "      <td>0.098520</td>\n",
       "      <td>-0.116024</td>\n",
       "      <td>0.004112</td>\n",
       "      <td>0.047262</td>\n",
       "      <td>-0.054636</td>\n",
       "    </tr>\n",
       "    <tr>\n",
       "      <td>1</td>\n",
       "      <td>2711.441155</td>\n",
       "      <td>2738.629887</td>\n",
       "      <td>4.710428</td>\n",
       "      <td>9.070290</td>\n",
       "      <td>14.346813</td>\n",
       "      <td>12.572183</td>\n",
       "      <td>16.236548</td>\n",
       "      <td>11.316913</td>\n",
       "      <td>32.762443</td>\n",
       "      <td>0.068085</td>\n",
       "      <td>...</td>\n",
       "      <td>0.719704</td>\n",
       "      <td>0.848229</td>\n",
       "      <td>0.846530</td>\n",
       "      <td>1.000000</td>\n",
       "      <td>-0.019172</td>\n",
       "      <td>0.023479</td>\n",
       "      <td>-0.030395</td>\n",
       "      <td>-0.019359</td>\n",
       "      <td>0.015648</td>\n",
       "      <td>-0.011252</td>\n",
       "    </tr>\n",
       "    <tr>\n",
       "      <td>2</td>\n",
       "      <td>2975.942035</td>\n",
       "      <td>2827.754720</td>\n",
       "      <td>9.755600</td>\n",
       "      <td>14.988359</td>\n",
       "      <td>18.173048</td>\n",
       "      <td>13.890180</td>\n",
       "      <td>15.360785</td>\n",
       "      <td>11.841358</td>\n",
       "      <td>32.366368</td>\n",
       "      <td>0.078585</td>\n",
       "      <td>...</td>\n",
       "      <td>1.000000</td>\n",
       "      <td>0.578251</td>\n",
       "      <td>0.575238</td>\n",
       "      <td>0.969157</td>\n",
       "      <td>0.005564</td>\n",
       "      <td>0.013323</td>\n",
       "      <td>0.038776</td>\n",
       "      <td>0.032233</td>\n",
       "      <td>-0.009622</td>\n",
       "      <td>-0.016039</td>\n",
       "    </tr>\n",
       "    <tr>\n",
       "      <td>3</td>\n",
       "      <td>3101.122082</td>\n",
       "      <td>2891.108877</td>\n",
       "      <td>21.728312</td>\n",
       "      <td>13.182994</td>\n",
       "      <td>19.919458</td>\n",
       "      <td>14.538382</td>\n",
       "      <td>14.431912</td>\n",
       "      <td>15.128603</td>\n",
       "      <td>31.964689</td>\n",
       "      <td>0.068962</td>\n",
       "      <td>...</td>\n",
       "      <td>1.000000</td>\n",
       "      <td>0.468446</td>\n",
       "      <td>0.345785</td>\n",
       "      <td>0.623879</td>\n",
       "      <td>-0.031293</td>\n",
       "      <td>0.011544</td>\n",
       "      <td>0.006832</td>\n",
       "      <td>-0.005749</td>\n",
       "      <td>-0.008310</td>\n",
       "      <td>-0.019017</td>\n",
       "    </tr>\n",
       "    <tr>\n",
       "      <td>4</td>\n",
       "      <td>3112.828923</td>\n",
       "      <td>2856.796699</td>\n",
       "      <td>19.975795</td>\n",
       "      <td>10.099794</td>\n",
       "      <td>21.419003</td>\n",
       "      <td>16.904998</td>\n",
       "      <td>15.852433</td>\n",
       "      <td>13.823919</td>\n",
       "      <td>30.681388</td>\n",
       "      <td>0.081520</td>\n",
       "      <td>...</td>\n",
       "      <td>0.663170</td>\n",
       "      <td>0.437444</td>\n",
       "      <td>0.333388</td>\n",
       "      <td>0.870940</td>\n",
       "      <td>-0.046201</td>\n",
       "      <td>-0.024676</td>\n",
       "      <td>-0.009459</td>\n",
       "      <td>-0.082144</td>\n",
       "      <td>-0.020570</td>\n",
       "      <td>0.023363</td>\n",
       "    </tr>\n",
       "  </tbody>\n",
       "</table>\n",
       "<p>5 rows × 50 columns</p>\n",
       "</div>"
      ],
      "text/plain": [
       "            0            1          2          3          4          5   \\\n",
       "0  2497.481922  2781.028962   8.680474  15.991126  32.127459  27.603286   \n",
       "1  2711.441155  2738.629887   4.710428   9.070290  14.346813  12.572183   \n",
       "2  2975.942035  2827.754720   9.755600  14.988359  18.173048  13.890180   \n",
       "3  3101.122082  2891.108877  21.728312  13.182994  19.919458  14.538382   \n",
       "4  3112.828923  2856.796699  19.975795  10.099794  21.419003  16.904998   \n",
       "\n",
       "          6          7          8         9   ...        40        41  \\\n",
       "0  29.242361  22.094007  35.023411  0.020924  ...  0.719992  1.000000   \n",
       "1  16.236548  11.316913  32.762443  0.068085  ...  0.719704  0.848229   \n",
       "2  15.360785  11.841358  32.366368  0.078585  ...  1.000000  0.578251   \n",
       "3  14.431912  15.128603  31.964689  0.068962  ...  1.000000  0.468446   \n",
       "4  15.852433  13.823919  30.681388  0.081520  ...  0.663170  0.437444   \n",
       "\n",
       "         42        43        44        45        46        47        48  \\\n",
       "0  0.905150  0.470709  0.021442  0.098520 -0.116024  0.004112  0.047262   \n",
       "1  0.846530  1.000000 -0.019172  0.023479 -0.030395 -0.019359  0.015648   \n",
       "2  0.575238  0.969157  0.005564  0.013323  0.038776  0.032233 -0.009622   \n",
       "3  0.345785  0.623879 -0.031293  0.011544  0.006832 -0.005749 -0.008310   \n",
       "4  0.333388  0.870940 -0.046201 -0.024676 -0.009459 -0.082144 -0.020570   \n",
       "\n",
       "         49  \n",
       "0 -0.054636  \n",
       "1 -0.011252  \n",
       "2 -0.016039  \n",
       "3 -0.019017  \n",
       "4  0.023363  \n",
       "\n",
       "[5 rows x 50 columns]"
      ]
     },
     "execution_count": 88,
     "metadata": {},
     "output_type": "execute_result"
    }
   ],
   "source": [
    "audio_feats.head()"
   ]
  },
  {
   "cell_type": "code",
   "execution_count": 184,
   "metadata": {},
   "outputs": [
    {
     "data": {
      "text/plain": [
       "13050"
      ]
     },
     "execution_count": 184,
     "metadata": {},
     "output_type": "execute_result"
    }
   ],
   "source": [
    "feats1d = audio_feats.values.flatten()\n",
    "len(feats1d)"
   ]
  },
  {
   "cell_type": "code",
   "execution_count": 197,
   "metadata": {},
   "outputs": [
    {
     "data": {
      "text/html": [
       "<div>\n",
       "<style scoped>\n",
       "    .dataframe tbody tr th:only-of-type {\n",
       "        vertical-align: middle;\n",
       "    }\n",
       "\n",
       "    .dataframe tbody tr th {\n",
       "        vertical-align: top;\n",
       "    }\n",
       "\n",
       "    .dataframe thead th {\n",
       "        text-align: right;\n",
       "    }\n",
       "</style>\n",
       "<table border=\"1\" class=\"dataframe\">\n",
       "  <thead>\n",
       "    <tr style=\"text-align: right;\">\n",
       "      <th></th>\n",
       "      <th>0</th>\n",
       "      <th>1</th>\n",
       "      <th>2</th>\n",
       "      <th>3</th>\n",
       "      <th>4</th>\n",
       "      <th>5</th>\n",
       "      <th>6</th>\n",
       "      <th>7</th>\n",
       "      <th>8</th>\n",
       "      <th>9</th>\n",
       "      <th>...</th>\n",
       "      <th>13043</th>\n",
       "      <th>13044</th>\n",
       "      <th>13045</th>\n",
       "      <th>13046</th>\n",
       "      <th>13047</th>\n",
       "      <th>13048</th>\n",
       "      <th>13049</th>\n",
       "      <th>13050</th>\n",
       "      <th>13051</th>\n",
       "      <th>13052</th>\n",
       "    </tr>\n",
       "  </thead>\n",
       "  <tbody>\n",
       "    <tr>\n",
       "      <td>0</td>\n",
       "      <td>1.0</td>\n",
       "      <td>2.0</td>\n",
       "      <td>4.0</td>\n",
       "      <td>2497.481922</td>\n",
       "      <td>2781.028962</td>\n",
       "      <td>8.680474</td>\n",
       "      <td>15.991126</td>\n",
       "      <td>32.127459</td>\n",
       "      <td>27.603286</td>\n",
       "      <td>29.242361</td>\n",
       "      <td>...</td>\n",
       "      <td>0.385684</td>\n",
       "      <td>0.290589</td>\n",
       "      <td>0.32334</td>\n",
       "      <td>0.171085</td>\n",
       "      <td>0.02363</td>\n",
       "      <td>-0.019072</td>\n",
       "      <td>0.11022</td>\n",
       "      <td>-0.03321</td>\n",
       "      <td>0.0477</td>\n",
       "      <td>-0.00207</td>\n",
       "    </tr>\n",
       "  </tbody>\n",
       "</table>\n",
       "<p>1 rows × 13053 columns</p>\n",
       "</div>"
      ],
      "text/plain": [
       "   0      1      2            3            4         5          6      \\\n",
       "0    1.0    2.0    4.0  2497.481922  2781.028962  8.680474  15.991126   \n",
       "\n",
       "       7          8          9      ...     13043     13044    13045  \\\n",
       "0  32.127459  27.603286  29.242361  ...  0.385684  0.290589  0.32334   \n",
       "\n",
       "      13046    13047     13048    13049    13050   13051    13052  \n",
       "0  0.171085  0.02363 -0.019072  0.11022 -0.03321  0.0477 -0.00207  \n",
       "\n",
       "[1 rows x 13053 columns]"
      ]
     },
     "execution_count": 197,
     "metadata": {},
     "output_type": "execute_result"
    }
   ],
   "source": [
    "pd.DataFrame([np.concatenate((np.array([1, 2, 4]), feats1d))])"
   ]
  },
  {
   "cell_type": "code",
   "execution_count": 97,
   "metadata": {},
   "outputs": [
    {
     "data": {
      "text/plain": [
       "array([ 1.00000000e+00,  2.49748192e+03,  2.78102896e+03, ...,\n",
       "       -3.32103074e-02,  4.77000375e-02, -2.06970423e-03])"
      ]
     },
     "execution_count": 97,
     "metadata": {},
     "output_type": "execute_result"
    }
   ],
   "source": [
    "# 1 as in SB=True\n",
    "np.insert(feats1d, 0, 1)"
   ]
  },
  {
   "cell_type": "code",
   "execution_count": 192,
   "metadata": {},
   "outputs": [],
   "source": [
    "# Text length / duration (placeholder for better NLP)\n",
    "\n",
    "words_per_sec = list()\n",
    "chars_per_sec = list()\n",
    "for i in range(len(sb_2020)):\n",
    "    row = sb_2020.iloc[i]\n",
    "    if row['Text'] != 'NoAudio':\n",
    "        s = ast.literal_eval(sb_2020.iloc[1]['Text'])['transcript']\n",
    "        dur = row['Duration (s)']\n",
    "        wordrate = len(s.split()) / dur\n",
    "        charrate = len(s) / dur\n",
    "        words_per_sec.append(wordrate)\n",
    "        chars_per_sec.append(charrate)\n",
    "    else:\n",
    "        words_per_sec.append(-1)\n",
    "        chars_per_sec.append(-1)"
   ]
  },
  {
   "cell_type": "code",
   "execution_count": 162,
   "metadata": {},
   "outputs": [],
   "source": [
    "mar_tests = pd.DataFrame({'Duration': sb_2020['Duration (s)'], 'WordRate': words_per_sec, 'CharRate': chars_per_sec})"
   ]
  },
  {
   "cell_type": "code",
   "execution_count": 164,
   "metadata": {},
   "outputs": [],
   "source": [
    "from sklearn.impute import SimpleImputer\n",
    "\n",
    "imp = SimpleImputer(missing_values=-1, strategy='mean')\n",
    "\n",
    "mar_tests = pd.DataFrame(imp.fit_transform(mar_tests.values))"
   ]
  },
  {
   "cell_type": "code",
   "execution_count": 165,
   "metadata": {},
   "outputs": [],
   "source": [
    "sb_2020['WordsPerSec'] = mar_tests[1]\n",
    "sb_2020['CharsPerSec'] = mar_tests[2]"
   ]
  },
  {
   "cell_type": "code",
   "execution_count": 182,
   "metadata": {},
   "outputs": [],
   "source": [
    "audio_path = 'data/ispot/2020/audios'\n",
    "a = str(sb_2020.iloc[175]['Ad ID']) + '.mp3'\n",
    "audiofile = os.path.join(audio_path, a)\n",
    "trans = list()\n",
    "# convert mp3 file to wav                                                       \n",
    "sound = AudioSegment.from_mp3(audiofile)\n",
    "sound.export(\"transcript.wav\", format=\"wav\")\n",
    "\n",
    "# transcribe audio file                                                         \n",
    "AUDIO_FILE = \"transcript.wav\"\n",
    "\n",
    "# use the audio file as the audio source                                        \n",
    "r = sr.Recognizer()\n",
    "with sr.AudioFile(AUDIO_FILE) as source:\n",
    "        audio = r.record(source)  # read the entire audio file      \n",
    "        tries = r.recognize_google(audio, show_all=True)\n",
    "        if len(tries) == 0:\n",
    "            transcript = 'NoAudio'\n",
    "        else:\n",
    "            transcript = tries['alternative'][0]\n",
    "        trans.append(transcript)"
   ]
  },
  {
   "cell_type": "code",
   "execution_count": 183,
   "metadata": {},
   "outputs": [
    {
     "data": {
      "text/plain": [
       "[{'transcript': 'all right here we go Big Papi so happy to see you know I love your accent but for this commercial we got a really Boston it up right I mean you got the clutch back. Okay so you ready',\n",
       "  'confidence': 0.93987775}]"
      ]
     },
     "execution_count": 183,
     "metadata": {},
     "output_type": "execute_result"
    }
   ],
   "source": [
    "trans"
   ]
  },
  {
   "cell_type": "code",
   "execution_count": 173,
   "metadata": {},
   "outputs": [],
   "source": [
    "import os\n",
    "from moviepy.editor import *\n",
    "import pandas as pd\n",
    "import numpy as np\n",
    "import speech_recognition as sr\n",
    "from os import path\n",
    "from pydub import AudioSegment"
   ]
  },
  {
   "cell_type": "code",
   "execution_count": 174,
   "metadata": {},
   "outputs": [
    {
     "data": {
      "text/plain": [
       "[{'transcript': 'all right here we go Big Papi so happy to see you know I love your accent but for this commercial we got a really Boston it up right I mean you got the clutch back. Okay so you ready',\n",
       "  'confidence': 0.93987727}]"
      ]
     },
     "execution_count": 174,
     "metadata": {},
     "output_type": "execute_result"
    }
   ],
   "source": [
    "trans"
   ]
  },
  {
   "cell_type": "code",
   "execution_count": null,
   "metadata": {},
   "outputs": [],
   "source": []
  }
 ],
 "metadata": {
  "kernelspec": {
   "display_name": "Python 3",
   "language": "python",
   "name": "python3"
  },
  "language_info": {
   "codemirror_mode": {
    "name": "ipython",
    "version": 3
   },
   "file_extension": ".py",
   "mimetype": "text/x-python",
   "name": "python",
   "nbconvert_exporter": "python",
   "pygments_lexer": "ipython3",
   "version": "3.7.4"
  }
 },
 "nbformat": 4,
 "nbformat_minor": 2
}
