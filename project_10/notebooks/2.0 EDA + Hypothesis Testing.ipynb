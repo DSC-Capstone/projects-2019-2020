{
 "cells": [
  {
   "cell_type": "code",
   "execution_count": null,
   "metadata": {},
   "outputs": [],
   "source": [
    "import os\n",
    "import sys\n",
    "import json\n",
    "import pandas as pd\n",
    "import numpy as np\n",
    "import glob\n",
    "from scipy.stats import ttest_ind\n",
    "from scipy import stats\n",
    "import matplotlib.pyplot as plt\n"
   ]
  },
  {
   "cell_type": "code",
   "execution_count": null,
   "metadata": {},
   "outputs": [],
   "source": [
    "TOP_PATH = os.environ['PWD']\n",
    "os.chdir(TOP_PATH + '/src')"
   ]
  },
  {
   "cell_type": "code",
   "execution_count": null,
   "metadata": {},
   "outputs": [],
   "source": [
    "from hypothesistesting import *"
   ]
  },
  {
   "cell_type": "code",
   "execution_count": null,
   "metadata": {},
   "outputs": [],
   "source": [
    "print('T-Tests for All Races:')\n",
    "print('-------------------------------------------------------------------------------------------------')\n",
    "print('\\n')\n",
    "print('Asian:')\n",
    "\n",
    "craTtest = get_ttest(allyears, 'Asian', 'Crazy_Rich_Asians.csv', '2018-06-15', '2018-10-15')[0]\n",
    "northTtest = get_ttest(allyears, 'Asian', 'North_Korea_war.csv', '2017-02-01', '2017-06-01')[0]\n",
    "print('Crazy Rich Asians: ' + str(craTtest))\n",
    "print('North Korea War: ' + str(northTtest))\n",
    "print('\\n')\n",
    "\n",
    "print('Black/African American:')\n",
    "rayrice_tTest = get_ttest(allyears, 'Black/African American', 'Ray_Rice.csv', '2014-07-08', '2014-11-08')[0]\n",
    "bp_tTest = get_ttest(allyears, 'Black/African American', 'Black_Panther.csv', '2017-12-16', '2018-04-16')[0]\n",
    "print('Race Rice: ' + str(rayrice_tTest))\n",
    "print('Black Panther: ' + str(bp_tTest))\n",
    "print('\\n')\n",
    "\n",
    "print('Hispanic/Latino/a:')\n",
    "dacaTtest = get_ttest(allyears, 'Hispanic/Latino/a', 'DACA.csv', '2017-07-05', '2017-11-05')[0]\n",
    "cocoTtest = get_ttest(allyears, 'Hispanic/Latino/a', 'Coco.csv', '2017-09-22', '2018-01-22')[0]\n",
    "print('DACA: ' + str(dacaTtest))\n",
    "print('Coco: ' + str(cocoTtest))\n",
    "print('\\n')\n",
    "\n",
    "print('White:')\n",
    "leo_tTest = get_ttest(allyears, 'White', 'Leonardo_DiCaprio.csv', '2015-12-28', '2016-04-28')[0]\n",
    "uniteTtest = get_ttest(allyears, 'White', 'Unite_the_Right.csv', '2017-06-12', '2017-10-12')[0]\n",
    "print(\"Leonardo DiCaprio Oscar's Speech: \" + str(leo_tTest))\n",
    "print('Unite the Right Rally: ' + str(uniteTtest))\n",
    "print('\\n')"
   ]
  },
  {
   "cell_type": "code",
   "execution_count": null,
   "metadata": {},
   "outputs": [],
   "source": [
    "cra = get_ttest(allyears, 'Asian', 'Crazy_Rich_Asians.csv', '2018-06-15', '2018-10-15')[1]\n",
    "cra['Google_Searches'] = cra.value\n",
    "cra.plot(x=\"date\", y=[\"Stop_Counts\", \"Google_Searches\"])\n",
    "plt.title('Stop Counts vs Google Trend Searches For Crazy Rich Asians Over 4 Months')\n",
    "plt.xlabel('Date')\n",
    "plt.ylabel('Counts')\n"
   ]
  },
  {
   "cell_type": "code",
   "execution_count": null,
   "metadata": {},
   "outputs": [],
   "source": [
    "daca = get_ttest(allyears, 'Hispanic/Latino/a', 'DACA.csv', '2017-07-05', '2017-11-05')[1]\n",
    "daca['Google_Searches'] = daca.value\n",
    "daca.plot(x=\"date\", y=[\"Stop_Counts\", \"Google_Searches\"])\n",
    "plt.title('Stop Counts vs Google Trend Searches For DACA Over 4 Months')\n",
    "plt.xlabel('Date')\n",
    "plt.ylabel('Counts')"
   ]
  },
  {
   "cell_type": "code",
   "execution_count": null,
   "metadata": {},
   "outputs": [],
   "source": [
    "leo = get_ttest(allyears, 'White', 'Leonardo_DiCaprio.csv', '2015-12-28', '2016-04-28')[1]\n",
    "leo['Google_Searches'] = leo.value\n",
    "leo.plot(x=\"date\", y=[\"Stop_Counts\", \"Google_Searches\"])\n",
    "plt.title('Stop Counts vs Google Trend Searches For Leonardo DiCaprio Over 4 Months')\n",
    "plt.xlabel('Date')\n",
    "plt.ylabel('Counts')"
   ]
  },
  {
   "cell_type": "code",
   "execution_count": null,
   "metadata": {},
   "outputs": [],
   "source": [
    "rayrice = get_ttest(allyears, 'Black/African American', 'Ray_Rice.csv', '2014-07-08', '2014-11-08')[1]\n",
    "rayrice['Google_Searches'] = rayrice.value\n",
    "rayrice.plot(x=\"date\", y=[\"Stop_Counts\", \"Google_Searches\"])\n",
    "plt.title('Stop Counts vs Google Trend Searches For Ray Rice Over 4 Months')\n",
    "plt.xlabel('Date')\n",
    "plt.ylabel('Counts')"
   ]
  },
  {
   "cell_type": "code",
   "execution_count": null,
   "metadata": {},
   "outputs": [],
   "source": [
    "bp = get_ttest(allyears, 'Black/African American', 'Black_Panther.csv', '2017-12-16', '2018-04-16')[1]\n",
    "bp['Google_Searches'] = bp.value\n",
    "bp.plot(x=\"date\", y=[\"Stop_Counts\", \"Google_Searches\"])\n",
    "plt.title('Stop Counts vs Google Trend Searches For Black Panther Over 4 Months')\n",
    "plt.xlabel('Date')\n",
    "plt.ylabel('Counts')"
   ]
  },
  {
   "cell_type": "code",
   "execution_count": null,
   "metadata": {},
   "outputs": [],
   "source": [
    "coco = get_ttest(allyears, 'Hispanic/Latino/a', 'Coco.csv', '2017-09-22', '2018-01-22')[1]\n",
    "coco['Google_Searches'] = coco.value\n",
    "coco.plot(x=\"date\", y=[\"Stop_Counts\", \"Google_Searches\"])\n",
    "plt.title('Stop Counts vs Google Trend Searches For Coco Over 4 Months')\n",
    "plt.xlabel('Date')\n",
    "plt.ylabel('Counts')"
   ]
  },
  {
   "cell_type": "code",
   "execution_count": null,
   "metadata": {},
   "outputs": [],
   "source": [
    "unite = get_ttest(allyears, 'White', 'Unite_the_Right.csv', '2017-06-12', '2017-10-12')[1]\n",
    "unite['Google_Searches'] = unite.value\n",
    "unite.plot(x=\"date\", y=[\"Stop_Counts\", \"Google_Searches\"])\n",
    "plt.title('Stop Counts vs Google Trend Searches For Unite the Right Rally Over 4 Months')\n",
    "plt.xlabel('Date')\n",
    "plt.ylabel('Counts')"
   ]
  },
  {
   "cell_type": "code",
   "execution_count": null,
   "metadata": {},
   "outputs": [],
   "source": [
    "north = get_ttest(allyears, 'White', 'North_Korea_war.csv', '2017-02-01', '2017-06-01')[1]\n",
    "north['Google_Searches'] = north.value\n",
    "north.plot(x=\"date\", y=[\"Stop_Counts\", \"Google_Searches\"])\n",
    "plt.title('Stop Counts vs Google Trend Searches For North Korea War Threats Over 4 Months')\n",
    "plt.xlabel('Date')\n",
    "plt.ylabel('Counts')"
   ]
  },
  {
   "cell_type": "code",
   "execution_count": null,
   "metadata": {},
   "outputs": [],
   "source": []
  }
 ],
 "metadata": {
  "hide_input": false,
  "kernelspec": {
   "display_name": "Python 3",
   "language": "python",
   "name": "python3"
  },
  "language_info": {
   "codemirror_mode": {
    "name": "ipython",
    "version": 3
   },
   "file_extension": ".py",
   "mimetype": "text/x-python",
   "name": "python",
   "nbconvert_exporter": "python",
   "pygments_lexer": "ipython3",
   "version": "3.6.8"
  },
  "toc": {
   "base_numbering": 1,
   "nav_menu": {},
   "number_sections": true,
   "sideBar": true,
   "skip_h1_title": false,
   "title_cell": "Table of Contents",
   "title_sidebar": "Contents",
   "toc_cell": false,
   "toc_position": {},
   "toc_section_display": true,
   "toc_window_display": false
  }
 },
 "nbformat": 4,
 "nbformat_minor": 2
}
