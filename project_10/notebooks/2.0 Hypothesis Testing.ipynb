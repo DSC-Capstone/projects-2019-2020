{
 "cells": [
  {
   "cell_type": "code",
   "execution_count": null,
   "metadata": {},
   "outputs": [],
   "source": [
    "import os\n",
    "import sys\n",
    "import json\n",
    "import pandas as pd\n",
    "import numpy as np\n",
    "import glob\n",
    "from scipy.stats import ttest_ind\n",
    "from scipy import stats\n",
    "import matplotlib.pyplot as plt\n",
    "import matplotlib.dates as mdates\n",
    "import matplotlib.ticker as ticker"
   ]
  },
  {
   "cell_type": "code",
   "execution_count": null,
   "metadata": {},
   "outputs": [],
   "source": [
    "TOP_PATH = os.environ['PWD']\n",
    "os.chdir(TOP_PATH + '/Desktop/Fair-Policing-Capstone/src')"
   ]
  },
  {
   "cell_type": "code",
   "execution_count": null,
   "metadata": {},
   "outputs": [],
   "source": [
    "from hypothesistesting import *"
   ]
  },
  {
   "cell_type": "markdown",
   "metadata": {},
   "source": [
    "# T-Tests for All Races Pre- and Post- Event"
   ]
  },
  {
   "cell_type": "code",
   "execution_count": null,
   "metadata": {},
   "outputs": [],
   "source": [
    "print('T-Tests for All Races Pre- and Post- Event:')\n",
    "print('-------------------------------------------------------------------------------------------------')\n",
    "print('\\n')\n",
    "print('Asian:')\n",
    "\n",
    "craTtest = get_ttest(allyears, 'Asian', 'Crazy_Rich_Asians_cleaned.csv', '2018-06-15', '2018-10-15')[0]\n",
    "northTtest = get_ttest(allyears, 'Asian', 'North_Korea_war_cleaned.csv', '2017-02-01', '2017-06-01')[0]\n",
    "print('Crazy Rich Asians: ' + str(craTtest))\n",
    "print('North Korea War: ' + str(northTtest))\n",
    "print('\\n')\n",
    "\n",
    "print('Black/African American:')\n",
    "rayrice_tTest = get_ttest(allyears, 'Black/African American', 'Ray_Rice_cleaned.csv', '2014-07-08', '2014-11-08')[0]\n",
    "bp_tTest = get_ttest(allyears, 'Black/African American', 'Black_Panther_cleaned.csv', '2017-12-16', '2018-04-16')[0]\n",
    "print('Race Rice: ' + str(rayrice_tTest))\n",
    "print('Black Panther: ' + str(bp_tTest))\n",
    "print('\\n')\n",
    "\n",
    "print('Hispanic/Latino/a:')\n",
    "dacaTtest = get_ttest(allyears, 'Hispanic/Latino/a', 'DACA_cleaned.csv', '2017-07-05', '2017-11-05')[0]\n",
    "cocoTtest = get_ttest(allyears, 'Hispanic/Latino/a', 'Coco_cleaned.csv', '2017-09-22', '2018-01-22')[0]\n",
    "print('DACA: ' + str(dacaTtest))\n",
    "print('Coco: ' + str(cocoTtest))\n",
    "print('\\n')\n",
    "\n",
    "print('White:')\n",
    "leo_tTest = get_ttest(allyears, 'White', 'Leonardo_DiCaprio_cleaned.csv', '2015-12-28', '2016-04-28')[0]\n",
    "uniteTtest = get_ttest(allyears, 'White', 'Unite_the_Right_cleaned.csv', '2017-06-12', '2017-10-12')[0]\n",
    "print(\"Leonardo DiCaprio Oscar's Speech: \" + str(leo_tTest))\n",
    "print('Unite the Right Rally: ' + str(uniteTtest))\n",
    "print('\\n')"
   ]
  },
  {
   "cell_type": "markdown",
   "metadata": {},
   "source": [
    "# T-Tests for All Races Previous and Post-Year Event:"
   ]
  },
  {
   "cell_type": "code",
   "execution_count": null,
   "metadata": {},
   "outputs": [],
   "source": [
    "print('T-Tests for All Races Previous and/or Post-Year Event:')\n",
    "print('-------------------------------------------------------------------------------------------------')\n",
    "print('\\n')\n",
    "\n",
    "print('Asian:')\n",
    "print('--------------------------')\n",
    "print('Crazy Rich Asians (2018):')\n",
    "craTtestpre = comparison(allyears, 'Asian', '2018-08-15', '2018-10-15', '2017-08-15', '2017-10-15')\n",
    "northTtestpre = comparison(allyears, 'Asian', '2017-04-01', '2017-06-01', '2016-04-01', '2016-06-01')\n",
    "northTtestpost = comparison(allyears, 'Asian', '2017-04-01', '2017-06-01', '2018-04-01', '2018-06-01')\n",
    "print('2017 vs 2018: ' + str(craTtestpre))\n",
    "print('\\n')\n",
    "print('North Korea War (2017):')\n",
    "print('2016 vs 2017: ' + str(northTtestpre))\n",
    "print('2017 vs 2018: ' + str(northTtestpost))\n",
    "print('\\n')\n",
    "\n",
    "print('Black/African American:')\n",
    "print('--------------------------')\n",
    "print('Race Rice (2014):')\n",
    "rayrice_tTest2 = comparison(allyears, 'Black/African American', '2014-09-08', '2014-11-08', '2015-09-08', '2015-11-08')\n",
    "bp_tTest2 = comparison(allyears, 'Black/African American', '2018-02-16', '2018-04-16', '2017-02-16', '2017-04-16')\n",
    "print('2014 vs 2015: ' + str(rayrice_tTest2))\n",
    "print('\\n')\n",
    "print('Black Panther (2018):')\n",
    "print('2017 vs 2018 ' + str(bp_tTest2))\n",
    "print('\\n')\n",
    "\n",
    "print('Hispanic/Latino/a:')\n",
    "print('--------------------------')\n",
    "print('DACA (2017):')\n",
    "\n",
    "dacaTtest2 = comparison(allyears, 'Hispanic/Latino/a', '2017-09-05', '2017-11-05', '2016-09-05', '2016-11-05')\n",
    "dacaTtest3 = comparison(allyears, 'Hispanic/Latino/a', '2017-09-05', '2017-11-05', '2018-09-05', '2018-11-05')\n",
    "cocoTtest2 = comparison(allyears, 'Hispanic/Latino/a', '2017-11-22', '2018-01-22', '2016-11-22', '2017-01-22')\n",
    "print('2016 vs 2017: ' + str(dacaTtest2))\n",
    "print('2017 vs 2018: ' + str(dacaTtest3))\n",
    "print('\\n')\n",
    "print('Coco (2017/2018):')\n",
    "print('2016/2017 vs 2017/2018: ' + str(cocoTtest2))\n",
    "print('\\n')\n",
    "\n",
    "print('White:')\n",
    "print('--------------------------')\n",
    "print(\"Leonardo DiCaprio Oscar's Speech (2016):\")\n",
    "\n",
    "\n",
    "leo_tTest2 = comparison(allyears, 'White', '2016-02-28', '2016-04-28', '2015-02-28', '2015-04-28')\n",
    "leo_tTest3 = comparison(allyears, 'White', '2016-02-28', '2016-04-28', '2017-02-28', '2017-04-28')\n",
    "uniteTtest2 = comparison(allyears, 'White', '2017-08-12', '2017-10-12', '2016-08-12', '2016-10-12')\n",
    "uniteTtest3 = comparison(allyears, 'White', '2017-08-12', '2017-10-12', '2018-08-12', '2018-10-12')\n",
    "print(\"2015 vs 2016: \" + str(leo_tTest2))\n",
    "print(\"2016 vs 2017: \" + str(leo_tTest3))\n",
    "print('\\n')\n",
    "print('Unite the Right Rally (2017):')\n",
    "print('2016 vs 2017: ' + str(uniteTtest2))\n",
    "print('2017 vs 2018: ' + str(uniteTtest3))"
   ]
  },
  {
   "cell_type": "markdown",
   "metadata": {},
   "source": [
    "# Comparisons Pre-/Post- Year of Event For All Races"
   ]
  },
  {
   "cell_type": "code",
   "execution_count": null,
   "metadata": {},
   "outputs": [],
   "source": [
    "races = ['Asian', 'Black/African American', 'Hispanic/Latino/a', 'White']\n",
    "lst = []\n",
    "print('----------Crazy Rich Asians 2017 vs 2018-----------')\n",
    "for i in races:\n",
    "    cra = comparison(allyears, i, '2018-08-15', '2018-10-15', '2017-08-15', '2017-10-15')\n",
    "    lst.append(cra)\n",
    "    print('{' + i + '}')\n",
    "    print('    statistic: ' +str(cra.statistic))\n",
    "    print('    p-value: ' + str(cra.pvalue))"
   ]
  },
  {
   "cell_type": "code",
   "execution_count": null,
   "metadata": {},
   "outputs": [],
   "source": [
    "races = ['Asian', 'Black/African American', 'Hispanic/Latino/a', 'White']\n",
    "lst = []\n",
    "print('----------North Korea War 2016 vs 2017-----------')\n",
    "for i in races:\n",
    "    cra = comparison(allyears, i, '2017-04-01', '2017-06-01', '2016-04-01', '2016-06-01')\n",
    "    lst.append(cra)\n",
    "    print('{' + i + '}')\n",
    "    print('    statistic: ' +str(cra.statistic))\n",
    "    print('    p-value: ' + str(cra.pvalue))"
   ]
  },
  {
   "cell_type": "code",
   "execution_count": null,
   "metadata": {},
   "outputs": [],
   "source": [
    "races = ['Asian', 'Black/African American', 'Hispanic/Latino/a', 'White']\n",
    "lst = []\n",
    "print('----------North Korea War 2017 vs 2018-----------')\n",
    "for i in races:\n",
    "    cra = comparison(allyears, i, '2017-04-01', '2017-06-01', '2018-04-01', '2018-06-01')\n",
    "    lst.append(cra)\n",
    "    print('{' + i + '}')\n",
    "    print('    statistic: ' +str(cra.statistic))\n",
    "    print('    p-value: ' + str(cra.pvalue))"
   ]
  },
  {
   "cell_type": "code",
   "execution_count": null,
   "metadata": {},
   "outputs": [],
   "source": [
    "races = ['Asian', 'Black/African American', 'Hispanic/Latino/a', 'White']\n",
    "lst = []\n",
    "print('----------Ray Rice 2014 vs 2015-----------')\n",
    "for i in races:\n",
    "    cra = comparison(allyears, i, '2014-09-08', '2014-11-08', '2015-09-08', '2015-11-08')\n",
    "    lst.append(cra)\n",
    "    print('{' + i + '}')\n",
    "    print('    statistic: ' +str(cra.statistic))\n",
    "    print('    p-value: ' + str(cra.pvalue))"
   ]
  },
  {
   "cell_type": "code",
   "execution_count": null,
   "metadata": {},
   "outputs": [],
   "source": [
    "races = ['Asian', 'Black/African American', 'Hispanic/Latino/a', 'White']\n",
    "lst = []\n",
    "print('----------Black Panther 2017 vs 2018-----------')\n",
    "for i in races:\n",
    "    cra = comparison(allyears, i, '2018-02-16', '2018-04-16', '2017-02-16', '2017-04-16')\n",
    "    print('{' + i + '}')\n",
    "    print('    statistic: ' +str(cra.statistic))\n",
    "    print('    p-value: ' + str(cra.pvalue))"
   ]
  },
  {
   "cell_type": "code",
   "execution_count": null,
   "metadata": {},
   "outputs": [],
   "source": [
    "races = ['Asian', 'Black/African American', 'Hispanic/Latino/a', 'White']\n",
    "lst = []\n",
    "print('----------DACA 2016 vs 2017-----------')\n",
    "for i in races:\n",
    "    cra = comparison(allyears, i, '2017-09-05', '2017-11-05', '2016-09-05', '2016-11-05')\n",
    "    print('{' + i + '}')\n",
    "    print('    statistic: ' +str(cra.statistic))\n",
    "    print('    p-value: ' + str(cra.pvalue))"
   ]
  },
  {
   "cell_type": "code",
   "execution_count": null,
   "metadata": {},
   "outputs": [],
   "source": [
    "races = ['Asian', 'Black/African American', 'Hispanic/Latino/a', 'White']\n",
    "lst = []\n",
    "print('----------DACA 2017 vs 2018-----------')\n",
    "for i in races:\n",
    "    cra = comparison(allyears, i, '2017-09-05', '2017-11-05', '2018-09-05', '2018-11-05')\n",
    "    print('{' + i + '}')\n",
    "    print('    statistic: ' +str(cra.statistic))\n",
    "    print('    p-value: ' + str(cra.pvalue))"
   ]
  },
  {
   "cell_type": "code",
   "execution_count": null,
   "metadata": {},
   "outputs": [],
   "source": [
    "races = ['Asian', 'Black/African American', 'Hispanic/Latino/a', 'White']\n",
    "lst = []\n",
    "print('----------Coco 2016/2017 vs 2017/2018-----------')\n",
    "for i in races:\n",
    "    cra = comparison(allyears, i, '2017-11-22', '2018-01-22', '2016-11-22', '2017-01-22')\n",
    "    print('{' + i + '}')\n",
    "    print('    statistic: ' +str(cra.statistic))\n",
    "    print('    p-value: ' + str(cra.pvalue))"
   ]
  },
  {
   "cell_type": "code",
   "execution_count": null,
   "metadata": {},
   "outputs": [],
   "source": [
    "races = ['Asian', 'Black/African American', 'Hispanic/Latino/a', 'White']\n",
    "lst = []\n",
    "print('----------Leonardo Dicaprio 2015 vs 2016-----------')\n",
    "for i in races:\n",
    "    cra = comparison(allyears, i, '2016-02-28', '2016-04-28', '2015-02-28', '2015-04-28')\n",
    "    print('{' + i + '}')\n",
    "    print('    statistic: ' +str(cra.statistic))\n",
    "    print('    p-value: ' + str(cra.pvalue))"
   ]
  },
  {
   "cell_type": "code",
   "execution_count": null,
   "metadata": {},
   "outputs": [],
   "source": [
    "races = ['Asian', 'Black/African American', 'Hispanic/Latino/a', 'White']\n",
    "lst = []\n",
    "print('----------Leonardo Dicaprio 2016 vs 2017-----------')\n",
    "for i in races:\n",
    "    cra = comparison(allyears, i, '2016-02-28', '2016-04-28', '2017-02-28', '2017-04-28')\n",
    "    print('{' + i + '}')\n",
    "    print('    statistic: ' +str(cra.statistic))\n",
    "    print('    p-value: ' + str(cra.pvalue))"
   ]
  },
  {
   "cell_type": "code",
   "execution_count": null,
   "metadata": {},
   "outputs": [],
   "source": [
    "races = ['Asian', 'Black/African American', 'Hispanic/Latino/a', 'White']\n",
    "lst = []\n",
    "print('----------Unite the Right Rally 2016 vs 2017-----------')\n",
    "for i in races:\n",
    "    cra = comparison(allyears, i, '2017-08-12', '2017-10-12', '2016-08-12', '2016-10-12')\n",
    "    print('{' + i + '}')\n",
    "    print('    statistic: ' +str(cra.statistic))\n",
    "    print('    p-value: ' + str(cra.pvalue))"
   ]
  },
  {
   "cell_type": "code",
   "execution_count": null,
   "metadata": {},
   "outputs": [],
   "source": [
    "races = ['Asian', 'Black/African American', 'Hispanic/Latino/a', 'White']\n",
    "lst = []\n",
    "print('----------Unite the Right Rally 2017 vs 2018-----------')\n",
    "for i in races:\n",
    "    cra = comparison(allyears, i, '2017-08-12', '2017-10-12', '2018-08-12', '2018-10-12')\n",
    "    print('{' + i + '}')\n",
    "    print('    statistic: ' +str(cra.statistic))\n",
    "    print('    p-value: ' + str(cra.pvalue))"
   ]
  },
  {
   "cell_type": "markdown",
   "metadata": {},
   "source": [
    "# T-Test Comparisons Per Event For All Races"
   ]
  },
  {
   "cell_type": "code",
   "execution_count": null,
   "metadata": {},
   "outputs": [],
   "source": [
    "races = ['Asian', 'Black/African American', 'Hispanic/Latino/a', 'White']\n",
    "lst = []\n",
    "print('----------Crazy Rich Asians-----------')\n",
    "for i in races:\n",
    "    cra = get_ttest(allyears, i, 'Crazy_Rich_Asians_cleaned.csv', '2018-06-15', '2018-10-15')[0]\n",
    "    lst.append(cra)\n",
    "    print('{' + i + '}')\n",
    "    print('    statistic: ' +str(cra.statistic))\n",
    "    print('    p-value: ' + str(cra.pvalue))"
   ]
  },
  {
   "cell_type": "code",
   "execution_count": null,
   "metadata": {},
   "outputs": [],
   "source": [
    "races = ['Asian', 'Black/African American', 'Hispanic/Latino/a', 'White']\n",
    "lst = []\n",
    "print('----------North Korea War-----------')\n",
    "for i in races:\n",
    "    cra = get_ttest(allyears, i, 'North_Korea_war_cleaned.csv', '2017-02-01', '2017-06-01')[0]\n",
    "    lst.append(cra)\n",
    "    print('{' + i + '}')\n",
    "    print('    statistic: ' +str(cra.statistic))\n",
    "    print('    p-value: ' + str(cra.pvalue))"
   ]
  },
  {
   "cell_type": "code",
   "execution_count": null,
   "metadata": {},
   "outputs": [],
   "source": [
    "races = ['Asian', 'Black/African American', 'Hispanic/Latino/a', 'White']\n",
    "lst = []\n",
    "print('----------Ray Rice-----------')\n",
    "for i in races:\n",
    "    cra = get_ttest(allyears, i, 'Ray_Rice_cleaned.csv', '2014-07-08', '2014-11-08')[0]\n",
    "    lst.append(cra)\n",
    "    print('{' + i + '}')\n",
    "    print('    statistic: ' +str(cra.statistic))\n",
    "    print('    p-value: ' + str(cra.pvalue))"
   ]
  },
  {
   "cell_type": "code",
   "execution_count": null,
   "metadata": {},
   "outputs": [],
   "source": [
    "races = ['Asian', 'Black/African American', 'Hispanic/Latino/a', 'White']\n",
    "lst = []\n",
    "print('----------Black Panther-----------')\n",
    "for i in races:\n",
    "    cra = get_ttest(allyears, i, 'Black_Panther_cleaned.csv', '2017-12-16', '2018-04-16')[0]\n",
    "    lst.append(cra)\n",
    "    print('{' + i + '}')\n",
    "    print('    statistic: ' +str(cra.statistic))\n",
    "    print('    p-value: ' + str(cra.pvalue))"
   ]
  },
  {
   "cell_type": "code",
   "execution_count": null,
   "metadata": {},
   "outputs": [],
   "source": [
    "races = ['Asian', 'Black/African American', 'Hispanic/Latino/a', 'White']\n",
    "lst = []\n",
    "print('----------DACA-----------')\n",
    "for i in races:\n",
    "    cra = get_ttest(allyears, i, 'DACA_cleaned.csv', '2017-07-05', '2017-11-05')[0]\n",
    "    lst.append(cra)\n",
    "    print('{' + i + '}')\n",
    "    print('    statistic: ' +str(cra.statistic))\n",
    "    print('    p-value: ' + str(cra.pvalue))"
   ]
  },
  {
   "cell_type": "code",
   "execution_count": null,
   "metadata": {},
   "outputs": [],
   "source": [
    "races = ['Asian', 'Black/African American', 'Hispanic/Latino/a', 'White']\n",
    "lst = []\n",
    "print('----------Coco-----------')\n",
    "for i in races:\n",
    "    cra = get_ttest(allyears, i, 'Coco_cleaned.csv', '2017-09-22', '2018-01-22')[0]\n",
    "    lst.append(cra)\n",
    "    print('{' + i + '}')\n",
    "    print('    statistic: ' +str(cra.statistic))\n",
    "    print('    p-value: ' + str(cra.pvalue))"
   ]
  },
  {
   "cell_type": "code",
   "execution_count": null,
   "metadata": {},
   "outputs": [],
   "source": [
    "races = ['Asian', 'Black/African American', 'Hispanic/Latino/a', 'White']\n",
    "lst = []\n",
    "print(\"----------Leonardo DiCaprio's Oscars Speech-----------\")\n",
    "for i in races:\n",
    "    cra = get_ttest(allyears, i, 'Leonardo_DiCaprio_cleaned.csv', '2015-12-28', '2016-04-28')[0]\n",
    "    lst.append(cra)\n",
    "    print('{' + i + '}')\n",
    "    print('    statistic: ' +str(cra.statistic))\n",
    "    print('    p-value: ' + str(cra.pvalue))"
   ]
  },
  {
   "cell_type": "code",
   "execution_count": null,
   "metadata": {},
   "outputs": [],
   "source": [
    "races = ['Asian', 'Black/African American', 'Hispanic/Latino/a', 'White']\n",
    "lst = []\n",
    "print(\"----------Unite the Right Rally-----------\")\n",
    "for i in races:\n",
    "    cra = get_ttest(allyears, i, 'Unite_the_Right_cleaned.csv', '2017-06-12', '2017-10-12')[0]\n",
    "    lst.append(cra)\n",
    "    print('{' + i + '}')\n",
    "    print('    statistic: ' +str(cra.statistic))\n",
    "    print('    p-value: ' + str(cra.pvalue))"
   ]
  },
  {
   "cell_type": "markdown",
   "metadata": {},
   "source": [
    "# Graphs"
   ]
  },
  {
   "cell_type": "code",
   "execution_count": null,
   "metadata": {
    "scrolled": true
   },
   "outputs": [],
   "source": [
    "cra = get_ttest(allyears, 'Asian', 'Crazy_Rich_Asians.csv', '2018-06-15', '2018-10-15')[1]\n",
    "cra['Google_Searches'] = cra.value\n",
    "cra2 = cra.set_index('date')\n",
    "three = pd.DataFrame(cra2.Stop_Counts.rolling(3).mean())\n",
    "copy1 = cra.copy()\n",
    "copy1 = copy1[['date', 'Google_Searches']]\n",
    "nt2 = copy1.merge(three, on = 'date')\n",
    "nt2.plot(x=\"date\", y=[\"Stop_Counts\", \"Google_Searches\"])\n",
    "plt.title('Stop Counts vs Google Trend Searches For Crazy Rich Asians Over 4 Months')\n",
    "plt.xlabel('Date')\n",
    "plt.ylabel('Counts')"
   ]
  },
  {
   "cell_type": "code",
   "execution_count": null,
   "metadata": {},
   "outputs": [],
   "source": [
    "daca = get_ttest(allyears, 'Hispanic/Latino/a', 'DACA.csv', '2017-07-05', '2017-11-05')[1]\n",
    "daca['Google_Searches'] = daca.value\n",
    "da2 = daca.set_index('date')\n",
    "t = pd.DataFrame(da2.Stop_Counts.rolling(3).mean())\n",
    "copy = daca.copy()\n",
    "copy = copy[['date', 'Google_Searches']]\n",
    "nt2 = copy.merge(t, on = 'date')\n",
    "nt2.plot(x=\"date\", y=[\"Stop_Counts\", \"Google_Searches\"])\n",
    "plt.title('Stop Counts vs Google Trend Searches For DACA Over 4 Months')\n",
    "plt.xlabel('Date')\n",
    "plt.ylabel('Counts')\n",
    "plt"
   ]
  },
  {
   "cell_type": "code",
   "execution_count": null,
   "metadata": {},
   "outputs": [],
   "source": [
    "leo = get_ttest(allyears, 'White', 'Leonardo_DiCaprio.csv', '2015-12-28', '2016-04-28')[1]\n",
    "leo['Google_Searches'] = leo.value\n",
    "leo2 = leo.set_index('date')\n",
    "t = pd.DataFrame(leo2.Stop_Counts.rolling(3).mean())\n",
    "copy = leo.copy()\n",
    "copy = copy[['date', 'Google_Searches']]\n",
    "nt2 = copy.merge(t, on = 'date')\n",
    "nt2.plot(x=\"date\", y=[\"Stop_Counts\", \"Google_Searches\"])\n",
    "plt.title('Stop Counts vs Google Trend Searches For Leonardo DiCaprio Over 4 Months')\n",
    "plt.xlabel('Date')\n",
    "plt.ylabel('Counts')\n",
    "ticklabels = [item.strftime('%Y-%m-%d') for item in nt2.date][::14]\n",
    "plt.gca().xaxis.set_major_formatter(ticker.FixedFormatter(ticklabels))\n",
    "plt.gca().xaxis.set_major_locator(mdates.DayLocator(interval=14))\n",
    "plt.gcf().autofmt_xdate()"
   ]
  },
  {
   "cell_type": "code",
   "execution_count": null,
   "metadata": {},
   "outputs": [],
   "source": [
    "rayrice = get_ttest(allyears, 'Black/African American', 'Ray_Rice.csv', '2014-07-08', '2014-11-08')[1]\n",
    "rayrice['Google_Searches'] = rayrice.value\n",
    "rayrice2 = rayrice.set_index('date')\n",
    "t = pd.DataFrame(rayrice2.Stop_Counts.rolling(3).mean())\n",
    "copy = rayrice.copy()\n",
    "copy = copy[['date', 'Google_Searches']]\n",
    "nt2 = copy.merge(t, on = 'date')\n",
    "nt2.plot(x=\"date\", y=[\"Stop_Counts\", \"Google_Searches\"])\n",
    "plt.title('Stop Counts vs Google Trend Searches For Ray Rice Over 4 Months')\n",
    "plt.xlabel('Date')\n",
    "plt.ylabel('Counts')\n",
    "ticklabels = [item.strftime('%Y-%m-%d') for item in nt2.date][::14]\n",
    "plt.gca().xaxis.set_major_formatter(ticker.FixedFormatter(ticklabels))\n",
    "plt.gca().xaxis.set_major_locator(mdates.DayLocator(interval=14))\n",
    "plt.gcf().autofmt_xdate()\n"
   ]
  },
  {
   "cell_type": "code",
   "execution_count": null,
   "metadata": {},
   "outputs": [],
   "source": [
    "bp = get_ttest(allyears, 'Black/African American', 'Black_Panther.csv', '2017-12-16', '2018-04-16')[1]\n",
    "bp['Google_Searches'] = bp.value\n",
    "bp2 = bp.set_index('date')\n",
    "t = pd.DataFrame(bp2.Stop_Counts.rolling(3).mean())\n",
    "copy = bp.copy()\n",
    "copy = copy[['date', 'Google_Searches']]\n",
    "nt2 = copy.merge(t, on = 'date')\n",
    "nt2.plot(x=\"date\", y=[\"Stop_Counts\", \"Google_Searches\"])\n",
    "plt.title('Stop Counts vs Google Trend Searches For Black Panther Over 4 Months')\n",
    "plt.xlabel('Date')\n",
    "plt.ylabel('Counts')"
   ]
  },
  {
   "cell_type": "code",
   "execution_count": null,
   "metadata": {},
   "outputs": [],
   "source": [
    "coco = get_ttest(allyears, 'Hispanic/Latino/a', 'Coco.csv', '2017-09-22', '2018-01-22')[1]\n",
    "coco['Google_Searches'] = coco.value\n",
    "coco2 = coco.set_index('date')\n",
    "t = pd.DataFrame(coco2.Stop_Counts.rolling(3).mean())\n",
    "copy = coco.copy()\n",
    "copy = copy[['date', 'Google_Searches']]\n",
    "nt2 = copy.merge(t, on = 'date')\n",
    "nt2.plot(x=\"date\", y=[\"Stop_Counts\", \"Google_Searches\"])\n",
    "plt.title('Stop Counts vs Google Trend Searches For Coco Over 4 Months')\n",
    "plt.xlabel('Date')\n",
    "plt.ylabel('Counts')"
   ]
  },
  {
   "cell_type": "code",
   "execution_count": null,
   "metadata": {},
   "outputs": [],
   "source": [
    "unite = get_ttest(allyears, 'White', 'Unite_the_Right.csv', '2017-06-12', '2017-10-12')[1]\n",
    "unite['Google_Searches'] = unite.value\n",
    "un2 = unite.set_index('date')\n",
    "t = pd.DataFrame(un2.Stop_Counts.rolling(3).mean())\n",
    "copy = unite.copy()\n",
    "copy = copy[['date', 'Google_Searches']]\n",
    "nt2 = copy.merge(t, on = 'date')\n",
    "nt2.plot(x=\"date\", y=[\"Stop_Counts\", \"Google_Searches\"])\n",
    "plt.title('Stop Counts vs Google Trend Searches For Unite the Right Rally Over 4 Months')\n",
    "plt.xlabel('Date')\n",
    "plt.ylabel('Counts')\n",
    "ticklabels = [item.strftime('%Y-%m-%d') for item in nt2.date][::14]\n",
    "plt.gca().xaxis.set_major_formatter(ticker.FixedFormatter(ticklabels))\n",
    "plt.gca().xaxis.set_major_locator(mdates.DayLocator(interval=14))\n",
    "plt.gcf().autofmt_xdate()"
   ]
  },
  {
   "cell_type": "code",
   "execution_count": null,
   "metadata": {},
   "outputs": [],
   "source": [
    "north = get_ttest(allyears, 'White', 'North_Korea_war.csv', '2017-02-01', '2017-06-01')[1]\n",
    "north['Google_Searches'] = north.value\n",
    "n2 = north.set_index('date')\n",
    "t = pd.DataFrame(n2.Stop_Counts.rolling(3).mean())\n",
    "copy = north.copy()\n",
    "copy = copy[['date', 'Google_Searches']]\n",
    "nt2 = copy.merge(t, on = 'date')\n",
    "north.plot(x=\"date\", y=[\"Stop_Counts\", \"Google_Searches\"])\n",
    "plt.title('Stop Counts vs Google Trend Searches For North Korea War Threats Over 4 Months')\n",
    "plt.xlabel('Date')\n",
    "plt.ylabel('Counts')\n",
    "ticklabels = [item.strftime('%Y-%m-%d') for item in nt2.date][::14]\n",
    "plt.gca().xaxis.set_major_formatter(ticker.FixedFormatter(ticklabels))\n",
    "plt.gca().xaxis.set_major_locator(mdates.DayLocator(interval=14))\n",
    "plt.gcf().autofmt_xdate()"
   ]
  },
  {
   "cell_type": "markdown",
   "metadata": {},
   "source": [
    "# Interest Across Events Per Race"
   ]
  },
  {
   "cell_type": "code",
   "execution_count": null,
   "metadata": {},
   "outputs": [],
   "source": [
    "data = allyears"
   ]
  },
  {
   "cell_type": "code",
   "execution_count": null,
   "metadata": {},
   "outputs": [],
   "source": [
    "os.chdir(TOP_PATH + '/Desktop/Fair-Policing-Capstone/upload_data')"
   ]
  },
  {
   "cell_type": "code",
   "execution_count": null,
   "metadata": {},
   "outputs": [],
   "source": [
    "df = pd.read_csv('com.csv')\n",
    "df = df[2:].reset_index(drop = True)\n",
    "df = df.rename(columns={\"Category: All categories\": \"date_stop\", \"Unnamed: 1\": \"daca\", \"Unnamed: 2\": \"coco\"})"
   ]
  },
  {
   "cell_type": "code",
   "execution_count": null,
   "metadata": {},
   "outputs": [],
   "source": [
    "df"
   ]
  },
  {
   "cell_type": "code",
   "execution_count": null,
   "metadata": {},
   "outputs": [],
   "source": [
    "df['date_stop'] = pd.to_datetime(df.date_stop, format= '%Y-%m-%d')\n",
    "df.daca = pd.to_numeric(df.daca, errors='coerce')\n",
    "df.daca[np.isnan(df.daca)] = 0\n",
    "df.coco = pd.to_numeric(df.coco, errors='coerce')\n",
    "df.coco[np.isnan(df.coco)] = 0\n",
    "graph = pd.DataFrame()\n",
    "graph['columns'] = df.isna().sum().index\n",
    "graph['values'] = df.isna().sum().values\n",
    "graph = graph.set_index('columns')\n",
    "graph.plot(kind = 'bar')\n",
    "plt.title('Non-Numeric Values in Interest Across Events Graphs')\n",
    "plt.xlabel('Columns')\n",
    "plt.ylabel('Counts')"
   ]
  },
  {
   "cell_type": "code",
   "execution_count": null,
   "metadata": {},
   "outputs": [],
   "source": []
  },
  {
   "cell_type": "code",
   "execution_count": null,
   "metadata": {},
   "outputs": [],
   "source": [
    "data['date_stop'] = pd.to_datetime(data.date_stop, format= '%Y-%m-%d')"
   ]
  },
  {
   "cell_type": "code",
   "execution_count": null,
   "metadata": {},
   "outputs": [],
   "source": [
    "#nw = df.merge(data, on = 'date_stop')"
   ]
  },
  {
   "cell_type": "code",
   "execution_count": null,
   "metadata": {},
   "outputs": [],
   "source": [
    "val = data.groupby('date_stop')['stop_id'].count().values\n",
    "ind = data.groupby('date_stop')['stop_id'].count().index\n",
    "newdf1 = pd.DataFrame()\n",
    "newdf1['date_stop'] = ind\n",
    "newdf1['Stop_Counts'] = val\n",
    "nw = df.merge(newdf1, on = 'date_stop')\n",
    "nw"
   ]
  },
  {
   "cell_type": "code",
   "execution_count": null,
   "metadata": {},
   "outputs": [],
   "source": [
    "nw.plot(x=\"date_stop\", y=[\"daca\", \"coco\"])\n",
    "plt.title('Interest Across Events for Hispanic Drivers')\n",
    "plt.xlabel('Date (Year-Month)')\n",
    "plt.ylabel('Google Trends Interest')\n",
    "ticklabels = [item.strftime('%Y-%m') for item in nw.date_stop][::14]\n",
    "plt.gca().xaxis.set_major_formatter(ticker.FixedFormatter(ticklabels))\n",
    "plt.gca().xaxis.set_major_locator(mdates.DayLocator(interval=24))\n",
    "plt.gcf().autofmt_xdate()"
   ]
  },
  {
   "cell_type": "code",
   "execution_count": null,
   "metadata": {},
   "outputs": [],
   "source": [
    "df = pd.read_csv('afcom.csv')\n",
    "#df = df.iloc[2:]#.reset_index(drop = True)\n",
    "#df = df.rename(columns={\"Category: All categories\": \"date_stop\", \"Unnamed: 1\": \"Ray Rice\", \"Unnamed: 2\": \"Black Panther\"})\n",
    "df"
   ]
  },
  {
   "cell_type": "code",
   "execution_count": null,
   "metadata": {},
   "outputs": [],
   "source": [
    "df['Month'] = pd.to_datetime(df.Month, format= '%Y-%m')\n",
    "df['Ray Rice'] = pd.to_numeric(df['Ray Rice'], errors='coerce')\n",
    "df['Ray Rice'][np.isnan(df['Ray Rice'])] = 0\n",
    "df['Black Panther'] = pd.to_numeric(df['Black Panther'], errors='coerce')\n",
    "df['Black Panther'][np.isnan(df['Black Panther'])] = 0\n",
    "graph = pd.DataFrame()\n",
    "graph['columns'] = df.isna().sum().index\n",
    "graph['values'] = df.isna().sum().values\n",
    "graph = graph.set_index('columns')\n",
    "graph.plot(kind = 'bar')\n",
    "plt.title('Non-Numeric Values in Interest Across Events Graphs')\n",
    "plt.xlabel('Columns')\n",
    "plt.ylabel('Counts')"
   ]
  },
  {
   "cell_type": "code",
   "execution_count": null,
   "metadata": {},
   "outputs": [],
   "source": [
    "data['date_stop'] = pd.to_datetime(data.date_stop, format= '%Y-%m-%d')"
   ]
  },
  {
   "cell_type": "code",
   "execution_count": null,
   "metadata": {},
   "outputs": [],
   "source": [
    "df.plot(x=\"Month\", y=[\"Ray Rice\", \"Black Panther\"])\n",
    "plt.title('Interest Across Events for Black Drivers')\n",
    "plt.xlabel('Date (Year-Month)')\n",
    "plt.ylabel('Google Trends Interest')\n",
    "ticklabels = [item.strftime('%Y-%m') for item in df.Month]#[::14]\n",
    "plt.gca().xaxis.set_major_formatter(ticker.FixedFormatter(ticklabels))\n",
    "plt.gca().xaxis.set_major_locator(mdates.DayLocator(interval=5))\n",
    "plt.gcf().autofmt_xdate()"
   ]
  },
  {
   "cell_type": "code",
   "execution_count": null,
   "metadata": {},
   "outputs": [],
   "source": [
    "asian = pd.read_csv(\"ascom.csv\")\n",
    "asian"
   ]
  },
  {
   "cell_type": "code",
   "execution_count": null,
   "metadata": {},
   "outputs": [],
   "source": [
    "asian['Week'] = pd.to_datetime(asian.Week)#, format= '%m/%d/%Y')\n",
    "asian['North Korea War'] = pd.to_numeric(asian['North Korea War'], errors='coerce')\n",
    "asian['North Korea War'][np.isnan(asian['North Korea War'])] = 0\n",
    "asian['Crazy Rich Asians'] = pd.to_numeric(asian['Crazy Rich Asians'], errors='coerce')\n",
    "asian['Crazy Rich Asians'][np.isnan(asian['Crazy Rich Asians'])] = 0\n",
    "graph = pd.DataFrame()\n",
    "graph['columns'] = df.isna().sum().index\n",
    "graph['values'] = df.isna().sum().values"
   ]
  },
  {
   "cell_type": "code",
   "execution_count": null,
   "metadata": {},
   "outputs": [],
   "source": [
    "asian.plot(x=\"Week\", y=[\"North Korea War\", \"Crazy Rich Asians\"])\n",
    "plt.title('Interest Across Events for Asian Drivers')\n",
    "plt.xlabel('Date (Year-Month)')\n",
    "plt.ylabel('Google Trends Interest')\n",
    "ticklabels = [item.strftime('%Y-%m') for item in asian.Week][::14]\n",
    "plt.gca().xaxis.set_major_formatter(ticker.FixedFormatter(ticklabels))\n",
    "plt.gca().xaxis.set_major_locator(mdates.DayLocator(interval=17))\n",
    "plt.gcf().autofmt_xdate()"
   ]
  },
  {
   "cell_type": "code",
   "execution_count": null,
   "metadata": {},
   "outputs": [],
   "source": [
    "white = pd.read_csv(\"whcom.csv\")\n",
    "white['Unite the Right Rally'] = pd.to_numeric(white['Unite the Right Rally'], errors='coerce')\n",
    "white['Unite the Right Rally'][np.isnan(white['Unite the Right Rally'])] = 0\n",
    "white['Leonardo DiCaprio'] = pd.to_numeric(white['Leonardo DiCaprio'], errors='coerce')\n",
    "white['Leonardo DiCaprio'][np.isnan(white['Leonardo DiCaprio'])] = 0"
   ]
  },
  {
   "cell_type": "code",
   "execution_count": null,
   "metadata": {},
   "outputs": [],
   "source": [
    "white['Week'] = pd.to_datetime(white.Week)\n",
    "white.plot(x=\"Week\", y=[\"Unite the Right Rally\", \"Leonardo DiCaprio\"])\n",
    "plt.title('Interest Across Events for White Drivers')\n",
    "plt.xlabel('Date (Year-Month)')\n",
    "plt.ylabel('Google Trends Interest')\n",
    "ticklabels = [item.strftime('%Y-%m') for item in white.Week][::14]\n",
    "plt.gca().xaxis.set_major_formatter(ticker.FixedFormatter(ticklabels))\n",
    "plt.gca().xaxis.set_major_locator(mdates.DayLocator(interval=20))\n",
    "plt.gcf().autofmt_xdate()"
   ]
  },
  {
   "cell_type": "code",
   "execution_count": null,
   "metadata": {},
   "outputs": [],
   "source": []
  },
  {
   "cell_type": "code",
   "execution_count": null,
   "metadata": {},
   "outputs": [],
   "source": []
  }
 ],
 "metadata": {
  "hide_input": false,
  "kernelspec": {
   "display_name": "Python 3",
   "language": "python",
   "name": "python3"
  },
  "language_info": {
   "codemirror_mode": {
    "name": "ipython",
    "version": 3
   },
   "file_extension": ".py",
   "mimetype": "text/x-python",
   "name": "python",
   "nbconvert_exporter": "python",
   "pygments_lexer": "ipython3",
   "version": "3.6.8"
  },
  "toc": {
   "base_numbering": 1,
   "nav_menu": {},
   "number_sections": true,
   "sideBar": true,
   "skip_h1_title": false,
   "title_cell": "Table of Contents",
   "title_sidebar": "Contents",
   "toc_cell": false,
   "toc_position": {},
   "toc_section_display": true,
   "toc_window_display": false
  }
 },
 "nbformat": 4,
 "nbformat_minor": 2
}
