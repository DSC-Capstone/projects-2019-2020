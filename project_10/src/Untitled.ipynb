{
 "cells": [
  {
   "cell_type": "code",
   "execution_count": 1,
   "metadata": {},
   "outputs": [],
   "source": [
    "import os\n",
    "import sys\n",
    "import json\n",
    "import pandas as pd\n",
    "import numpy as np\n",
    "import glob\n",
    "from scipy.stats import ttest_ind\n",
    "from scipy import stats\n",
    "\n"
   ]
  },
  {
   "cell_type": "code",
   "execution_count": 3,
   "metadata": {},
   "outputs": [],
   "source": [
    "TOP_PATH = os.environ['PWD']\n",
    "os.chdir(TOP_PATH + '/Desktop/Fair-Policing-Capstone/data/cleaned')"
   ]
  },
  {
   "cell_type": "code",
   "execution_count": 4,
   "metadata": {},
   "outputs": [],
   "source": [
    "fourteen = pd.read_csv('2014_cleaned.csv')\n",
    "fifteen =  pd.read_csv('2015_cleaned.csv')\n",
    "sixteen =  pd.read_csv('2016_cleaned.csv')\n",
    "seventeen =  pd.read_csv('2017_cleaned.csv')\n",
    "\n",
    "ftos = pd.concat([fourteen, fifteen, sixteen, seventeen]).reset_index(drop = True)\n",
    "ftos = ftos[['stop_id' , 'subject_race', 'date_stop']]\n",
    "\n",
    "eighteen = pd.read_csv('2018-2019_cleaned.csv')\n",
    "eighteen = eighteen[['stop_id', 'subject_race', 'date_stop']]\n",
    "allyears = pd.concat([ftos, eighteen]).reset_index(drop = True)"
   ]
  },
  {
   "cell_type": "code",
   "execution_count": null,
   "metadata": {},
   "outputs": [],
   "source": []
  }
 ],
 "metadata": {
  "hide_input": false,
  "kernelspec": {
   "display_name": "Python 3",
   "language": "python",
   "name": "python3"
  },
  "language_info": {
   "codemirror_mode": {
    "name": "ipython",
    "version": 3
   },
   "file_extension": ".py",
   "mimetype": "text/x-python",
   "name": "python",
   "nbconvert_exporter": "python",
   "pygments_lexer": "ipython3",
   "version": "3.6.8"
  },
  "toc": {
   "base_numbering": 1,
   "nav_menu": {},
   "number_sections": true,
   "sideBar": true,
   "skip_h1_title": false,
   "title_cell": "Table of Contents",
   "title_sidebar": "Contents",
   "toc_cell": false,
   "toc_position": {},
   "toc_section_display": true,
   "toc_window_display": false
  }
 },
 "nbformat": 4,
 "nbformat_minor": 2
}
