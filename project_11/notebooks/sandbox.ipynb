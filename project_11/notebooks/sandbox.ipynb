{
 "cells": [
  {
   "cell_type": "code",
   "execution_count": 18,
   "metadata": {
    "collapsed": true
   },
   "outputs": [],
   "source": [
    "import pandas as pd\n",
    "import os\n",
    "import matplotlib.pyplot as plt\n",
    "import warnings\n",
    "warnings.filterwarnings('ignore')"
   ]
  },
  {
   "cell_type": "code",
   "execution_count": 19,
   "metadata": {},
   "outputs": [
    {
     "name": "stdout",
     "output_type": "stream",
     "text": [
      "/Users/colerichmond/Documents/GitHub/DSC180B-Capstone\r\n"
     ]
    }
   ],
   "source": [
    "os.chdir('/Users/colerichmond/Documents/GitHub/DSC180B-Capstone')\n",
    "!pwd"
   ]
  },
  {
   "cell_type": "code",
   "execution_count": 20,
   "metadata": {},
   "outputs": [
    {
     "name": "stdout",
     "output_type": "stream",
     "text": [
      "Ingesting data...\n",
      "...done!\n",
      "Cleaning data...\n",
      "...done!\n"
     ]
    }
   ],
   "source": [
    "!python run.py data"
   ]
  },
  {
   "cell_type": "code",
   "execution_count": 23,
   "metadata": {},
   "outputs": [
    {
     "name": "stdout",
     "output_type": "stream",
     "text": [
      "                     Strata_1  ...                                         Conclusion\r\n",
      "search_conducted  white/black  ...  Traffic stops involving drivers of race white ...\r\n",
      "citation_issued   white/black  ...  Traffic stops involving drivers of race white ...\r\n",
      "arrest_made       white/black  ...  Traffic stops involving drivers of race white ...\r\n",
      "\r\n",
      "[3 rows x 5 columns]\r\n"
     ]
    }
   ],
   "source": [
    "!python run.py model"
   ]
  },
  {
   "cell_type": "code",
   "execution_count": null,
   "metadata": {
    "collapsed": true
   },
   "outputs": [],
   "source": []
  },
  {
   "cell_type": "code",
   "execution_count": 3,
   "metadata": {
    "collapsed": true
   },
   "outputs": [],
   "source": [
    "import pandas as pd\n",
    "import numpy as np\n",
    "from sklearn.linear_model import LogisticRegression\n",
    "from scipy.stats import ttest_rel\n",
    "from sklearn.neighbors import NearestNeighbors\n",
    "import warnings\n",
    "import json\n",
    "warnings.filterwarnings(\"ignore\")"
   ]
  },
  {
   "cell_type": "code",
   "execution_count": null,
   "metadata": {
    "collapsed": true
   },
   "outputs": [],
   "source": [
    "fl = pd.read_csv('data/cleaned/fl_stops.csv')\n",
    "sc = pd.read_csv('data/cleaned/sc_stops.csv')\n",
    "pa = pd.read_csv('data/cleaned/pa_stops.csv')"
   ]
  },
  {
   "cell_type": "code",
   "execution_count": null,
   "metadata": {
    "collapsed": true
   },
   "outputs": [],
   "source": [
    "sc"
   ]
  },
  {
   "cell_type": "code",
   "execution_count": null,
   "metadata": {
    "collapsed": true
   },
   "outputs": [],
   "source": [
    "with open('config/model.json')as f:\n",
    "    cfgs = json.load(f)"
   ]
  },
  {
   "cell_type": "code",
   "execution_count": null,
   "metadata": {
    "collapsed": true
   },
   "outputs": [],
   "source": [
    "def propensity_score_func(df_, **cfgs):\n",
    "    \n",
    "    df = df_.copy()\n",
    "    if 'time' in df.columns:\n",
    "        \n",
    "        def group_time(time):\n",
    "            hour = int(time.split(':')[0])\n",
    "            if hour >= 6 and hour <= 11:\n",
    "                return 'Morning'\n",
    "            elif hour >= 12 and hour <=4:\n",
    "                return 'Afternoon'\n",
    "            elif hour >= 5 and hour <=8:\n",
    "                return 'Evening'\n",
    "            else:\n",
    "                return 'Night'\n",
    "\n",
    "        df['time'] = df['time'].apply(group_time)\n",
    "    \n",
    "    driver_r1, officer_r1 = cfgs['strata_1'].split('/')\n",
    "    driver_r2, officer_r2 = cfgs['strata_2'].split('/')\n",
    "    df_ps = df[(df['subject_race'].isin([driver_r1,driver_r2])) & (df['officer_race'].isin([officer_r1,officer_r2]))]\n",
    "    \n",
    "    ohe_cols = list(set(df_ps.columns).intersection(cfgs['ohe_cols']))\n",
    "    ohe_df = pd.get_dummies(df_ps,columns=ohe_cols)\n",
    "    ohe_df.drop(['subject_race','officer_race'],axis=1,inplace=True)\n",
    "    lr = LogisticRegression(n_jobs=1,solver='liblinear')\n",
    "    \n",
    "    # Only compute arrest probability for Pittsburg\n",
    "    if 'lat' in df.columns:\n",
    "        \n",
    "        # Probability arresteted\n",
    "        X = ohe_df.drop(['search_conducted','arrest_made','citation_issued'],axis=1)\n",
    "        Y = ohe_df['arrest_made']\n",
    "        try:\n",
    "            lr.fit(X,Y)\n",
    "            probs_arrested = [x[1] for x in lr.predict_proba(X)]\n",
    "        except:\n",
    "            probs_arrested = len(X)*[np.nan]\n",
    "        \n",
    "        df_ps = df_ps[['subject_race','officer_race','arrest_made']].assign(arrest_ps = probs_arrested)\n",
    "        \n",
    "        return df_ps\n",
    "    \n",
    "    else:\n",
    "        \n",
    "         # Probability searched \n",
    "        X = ohe_df.drop(['arrest_made','citation_issued','search_conducted'],axis=1)\n",
    "        Y = ohe_df['search_conducted']\n",
    "        display(X)\n",
    "        display(Y)\n",
    "        lr.fit(X,Y)\n",
    "        probs_searched = [x[1] for x in lr.predict_proba(X)]\n",
    "\n",
    "        # Probability cited \n",
    "        X = ohe_df.drop(['arrest_made','citation_issued'],axis=1)\n",
    "        Y = ohe_df['citation_issued']\n",
    "        lr.fit(X,Y)\n",
    "        probs_cited = [x[1] for x in lr.predict_proba(X)]\n",
    "\n",
    "        # Probability arrested \n",
    "        Y = ohe_df['arrest_made']\n",
    "        try:\n",
    "            lr.fit(X,Y)\n",
    "            probs_arrested = [x[1] for x in lr.predict_proba(X)]\n",
    "        except:\n",
    "            probs_arrested = len(X)*[np.nan]\n",
    "        probs_arrested = [x[1] for x in lr.predict_proba(X)]\n",
    "    \n",
    "        df_ps = df_ps[['subject_race','officer_race','search_conducted','citation_issued','arrest_made']]\n",
    "        df_ps = df_ps.assign(search_ps = probs_searched, citation_ps = probs_cited, arrest_ps = probs_arrested)\n",
    "        \n",
    "        return df_ps.reset_index(drop=True)"
   ]
  },
  {
   "cell_type": "code",
   "execution_count": null,
   "metadata": {
    "collapsed": true
   },
   "outputs": [],
   "source": [
    "def propensity_score_matching(df,**cfgs):\n",
    "    \n",
    "    driver_r1, officer_r1 = cfgs['strata_1'].split('/')\n",
    "    driver_r2, officer_r2 = cfgs['strata_2'].split('/')\n",
    "    \n",
    "    s1 = df[(df['subject_race'] == driver_r1) & (df['officer_race'] == officer_r1)]\n",
    "    s2 = df[(df['subject_race'] == driver_r2) & (df['officer_race'] == officer_r2)]\n",
    "    \n",
    "    outcome_cols = [['search_conducted','search_ps','matched_search_conducted'],['citation_issued','citation_ps','matched_citation_issued'],\n",
    "                    ['arrest_made','arrest_ps','matched_arrest_made']]\n",
    "    \n",
    "    for val, propensity_score, match_col in outcome_cols:\n",
    "        \n",
    "        s1_outcome = s1[[val,propensity_score]].dropna(subset=[propensity_score]).reset_index(drop=True)\n",
    "        s2_outcome = s2[[val,propensity_score]].sort_values(val).dropna(subset=[propensity_score]).reset_index(drop=True)\n",
    "        \n",
    "        treated_x = s2_outcome[[propensity_score]].values\n",
    "        non_treated_x = s1_outcome[[propensity_score]].values\n",
    "\n",
    "        nbrs = NearestNeighbors(n_neighbors=1, algorithm='ball_tree').fit(non_treated_x)\n",
    "        distances, indices = nbrs.kneighbors(treated_x)\n",
    "        match_vals = [s1_outcome.loc[ind[0],val] if d < cfgs['ps_threshold'] else 'No Match' for d,ind in zip(distances,indices)]\n",
    "        extra_nans = [np.nan]*(len(s2) - len(match_vals))\n",
    "        match_vals += extra_nans\n",
    "        \n",
    "        s2[match_col] = match_vals\n",
    "    \n",
    "    return s2"
   ]
  },
  {
   "cell_type": "code",
   "execution_count": null,
   "metadata": {
    "collapsed": true
   },
   "outputs": [],
   "source": [
    "def t_test_results(matches,**cfgs):\n",
    "    \n",
    "    output_df = pd.DataFrame(columns = ['Strata_1','Strata_2','T_Statistic','P_Value','Conclusion'],\\\n",
    "                             index=['search_conducted','citation_issued','arrest_made'])\n",
    "    analyses = ['search_conducted','citation_issued','arrest_made']\n",
    "    strata_1, strata_2 = cfgs['strata_1'], cfgs['strata_2']\n",
    "    string_map = {'search_conducted':'searches conducted',\n",
    "                 'citation_issued':'citations issued',\n",
    "                 'arrest_made':'arrests made'}\n",
    "    driver_r1, officer_r1 = cfgs['strata_1'].split('/')\n",
    "    driver_r2, officer_r2 = cfgs['strata_2'].split('/')\n",
    "    \n",
    "    for a in analyses:\n",
    "        \n",
    "        matched_col = 'matched_' + a\n",
    "        a_matches = matches[[a,matched_col]]\n",
    "        a_matches = a_matches[(a_matches[matched_col]!='No Match') & (a_matches[a].notnull()) & (a_matches[matched_col].notnull())]\n",
    "        t_stat, p_val = ttest_rel(a_matches[matched_col],a_matches[a],nan_policy=\"omit\")\n",
    "        \n",
    "        if (p_val/2) < cfgs['alpha']:\n",
    "            if t_stat > 0:\n",
    "                output_df.loc[a] = [strata_1,strata_2,t_stat,p_val,(\"Traffic stops involving drivers \"\n",
    "                \"of race {} and officers of race {} had a greater proportion of {} than\"\n",
    "                'traffic stops with drivers of race {} and officers of race {}').format(driver_r1,officer_r1,string_map[a],driver_r2,officer_r2)]\n",
    "            else:\n",
    "                output_df.loc[a] = [strata_1,strata_2,t_stat,p_val,('Traffic stops involving drivers '\n",
    "                'of race {} and officers of race {} had a greater proportion of {} than '\n",
    "                'traffic stops with drivers of race {} and officers of race {}').format(driver_r2,officer_r2,string_map[a],driver_r1,officer_r1)]\n",
    "        else:\n",
    "            output_df.loc[a] = [strata_1,strata_2,t_stat,p_val,('There is no difference in the proportion of {} involving traffic stops '\n",
    "            'with drivers of race {} and officers of race {} when compared with traffic stops with drivers of race {} and '\n",
    "            'officers of race {}').format(string_map[a],driver_r1,officer_r1,driver_r2,officer_r2)]      \n",
    "    return output_df"
   ]
  },
  {
   "cell_type": "code",
   "execution_count": null,
   "metadata": {
    "collapsed": true
   },
   "outputs": [],
   "source": [
    "def propensity_analysis(dfs,**cfgs):\n",
    "    \n",
    "    ps_dfs = False\n",
    "    for df in dfs:\n",
    "        ps_df = propensity_score_func(df,**cfgs)\n",
    "        if isinstance(ps_dfs, pd.DataFrame):\n",
    "            ps_dfs = pd.concat([ps_dfs,ps_df])\n",
    "        else:\n",
    "            ps_dfs = ps_df\n",
    "    ps_dfs = ps_dfs.sample(frac=1,random_state = 1).reset_index(drop=True)\n",
    "    matches = propensity_score_matching(ps_dfs,**cfgs)\n",
    "    results = t_test_results(matches,**cfgs)\n",
    "    return results"
   ]
  },
  {
   "cell_type": "code",
   "execution_count": null,
   "metadata": {
    "collapsed": true
   },
   "outputs": [],
   "source": [
    "propensity_analysis([fl,sc,pa],**cfgs)"
   ]
  },
  {
   "cell_type": "code",
   "execution_count": 7,
   "metadata": {
    "collapsed": true
   },
   "outputs": [],
   "source": [
    "def get_stops_url(location, all_cols, sc_cols, fl_cols, pa_cols):\n",
    "    '''\n",
    "    return a downloadable file of traffic\n",
    "    stops for a given year before RIPA.\n",
    "    \n",
    "    :param: given year to fetch\n",
    "    '''\n",
    "    \n",
    "    if not os.path.exists('data/raw'):\n",
    "        os.makedirs('data/raw')\n",
    "        \n",
    "    if location is \"pa\":\n",
    "        url = 'https://stacks.stanford.edu/file/druid:yg821jf8611/yg821jf8611_pa_pittsburgh_2020_04_01.csv.zip'\n",
    "        cols = all_cols + pa_cols\n",
    "        table = pd.read_csv(url, nrows=50000).loc[:, cols].dropna()\n",
    "    else:\n",
    "        url = 'https://stacks.stanford.edu/file/druid:kx738rc7407/kx738rc7407_%s_statewide_2019_12_17.csv.zip' % (location)\n",
    "        if location is \"sc\":  \n",
    "            cols = all_cols + sc_cols\n",
    "            table = pd.read_csv(url, nrows=50000).loc[:, cols]\n",
    "            cols.remove(\"violation\")\n",
    "            table = table.dropna(subset=cols)\n",
    "        if location is \"fl\":\n",
    "            cols = all_cols + fl_cols\n",
    "            table = pd.read_csv(url, nrows=50000).loc[:, cols].dropna()\n",
    "\n",
    "    return table"
   ]
  },
  {
   "cell_type": "code",
   "execution_count": 8,
   "metadata": {
    "collapsed": true
   },
   "outputs": [],
   "source": [
    "all_cols = [\n",
    "      \"subject_race\",\n",
    "      \"subject_sex\",\n",
    "      \"officer_race\",\n",
    "      \"officer_age\",\n",
    "      \"violation\",\n",
    "      \"arrest_made\",\n",
    "      \"citation_issued\",\n",
    "      \"search_conducted\"\n",
    "   ]\n",
    "sc_cols = [\n",
    "      \"county_name\",\n",
    "      \"subject_age\"\n",
    "   ]\n",
    "fl_cols = [\n",
    "      \"county_name\",\n",
    "      \"officer_sex\",\n",
    "      \"officer_years_of_service\",\n",
    "      \"subject_age\",\n",
    "      \"time\",\n",
    "      \"vehicle_registration_state\"\n",
    "   ]\n",
    "pa_cols = [\n",
    "      \"time\",\n",
    "      \"lat\",\n",
    "      \"lng\",\n",
    "      \"officer_sex\",\n",
    "      \"contraband_found\"\n",
    "   ]"
   ]
  },
  {
   "cell_type": "code",
   "execution_count": 9,
   "metadata": {
    "collapsed": true
   },
   "outputs": [],
   "source": [
    "for location in [\"pa\", \"fl\", \"sc\"]:\n",
    "    table = get_stops_url(location, all_cols, sc_cols, fl_cols, pa_cols)\n",
    "    file_name = '%s_stops.csv' % (location)\n",
    "    table.to_csv(os.path.join(\"data/raw\", file_name))"
   ]
  },
  {
   "cell_type": "code",
   "execution_count": null,
   "metadata": {
    "collapsed": true
   },
   "outputs": [],
   "source": []
  }
 ],
 "metadata": {
  "kernelspec": {
   "display_name": "Python 3",
   "language": "python",
   "name": "python3"
  },
  "language_info": {
   "codemirror_mode": {
    "name": "ipython",
    "version": 3
   },
   "file_extension": ".py",
   "mimetype": "text/x-python",
   "name": "python",
   "nbconvert_exporter": "python",
   "pygments_lexer": "ipython3",
   "version": "3.6.8"
  }
 },
 "nbformat": 4,
 "nbformat_minor": 2
}
