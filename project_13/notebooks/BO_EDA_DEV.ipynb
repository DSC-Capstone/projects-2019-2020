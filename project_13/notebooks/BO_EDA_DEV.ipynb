{
 "cells": [
  {
   "cell_type": "code",
   "execution_count": null,
   "metadata": {},
   "outputs": [],
   "source": [
    "import numpy as np\n",
    "import pandas as pd\n",
    "from scipy import stats\n",
    "import geopandas as gpd\n",
    "import descartes\n",
    "import matplotlib.pyplot as plt\n",
    "%matplotlib inline\n",
    "import sys\n",
    "sys.path.insert(0, '../src')\n",
    "import fetch\n",
    "import clean"
   ]
  },
  {
   "cell_type": "code",
   "execution_count": null,
   "metadata": {},
   "outputs": [],
   "source": [
    "stop_2014 = fetch.fetch_old(2014)\n",
    "stop_2015 = fetch.fetch_old(2015)\n",
    "stop_2016 = fetch.fetch_old(2016)\n",
    "stop_2017 = fetch.fetch_old(2017)\n",
    "stop_2018 = fetch.fetch_new(2018)\n",
    "stop_2019 = fetch.fetch_new(2019)"
   ]
  },
  {
   "cell_type": "code",
   "execution_count": null,
   "metadata": {},
   "outputs": [],
   "source": [
    "# standardize the columns so that won't get too many NaN cols\n",
    "COLUMNS = [\"stop_id\",\"pid\",\"beat\",\"service_area\",\"stop_cause\"\\\n",
    "    ,\"subject_race\",\"subject_age\",\"subject_sex\",\"arrested\",\\\n",
    "    \"searched\",\"property_seized\",\"contraband_found\",\"date_stop\",\"time_stop\",\"reason_for_stop_explanation\"]\n",
    "\n",
    "stop_2014 = clean.standardize(stop_2014,COLUMNS)\n",
    "stop_2015 = clean.standardize(stop_2015,COLUMNS)\n",
    "stop_2016 = clean.standardize(stop_2016,COLUMNS)\n",
    "stop_2017 = clean.standardize(stop_2017,COLUMNS)\n",
    "stop_2018 = clean.standardize(stop_2018,COLUMNS)\n",
    "stop_2019 = clean.standardize(stop_2019,COLUMNS)\n",
    "\n",
    "# clean the cols\n",
    "for c in clean.old_clean.keys():\n",
    "    stop_2014[c] = stop_2014[c].apply(clean.old_clean[c])\n",
    "    stop_2015[c] = stop_2015[c].apply(clean.old_clean[c])\n",
    "    stop_2016[c] = stop_2016[c].apply(clean.old_clean[c])\n",
    "    stop_2017[c] = stop_2017[c].apply(clean.old_clean[c])\n",
    "for c in clean.new_clean.keys():\n",
    "    stop_2018[c] = stop_2018[c].apply(clean.new_clean[c])\n",
    "    stop_2019[c] = stop_2019[c].apply(clean.new_clean[c])\n",
    "\n",
    "# we first separate the data by before RML and after RML (Nov. 2016)\n",
    "before_2016 = stop_2016[pd.to_datetime(stop_2016.date_stop).dt.month < 11]\n",
    "after_2016 = stop_2016[pd.to_datetime(stop_2016.date_stop).dt.month > 11]\n"
   ]
  },
  {
   "cell_type": "code",
   "execution_count": null,
   "metadata": {},
   "outputs": [],
   "source": [
    "before = pd.concat([stop_2014,stop_2015,before_2016])\n",
    "after = pd.concat([after_2016,stop_2017,stop_2018,stop_2019])\n",
    "total = pd.concat([stop_2014,stop_2015,stop_2016,stop_2017,stop_2018,stop_2019])"
   ]
  },
  {
   "cell_type": "code",
   "execution_count": null,
   "metadata": {},
   "outputs": [],
   "source": [
    "before_dui = clean.filter_to_dui(before)\n",
    "after_dui = clean.filter_to_dui(after)\n",
    "total_dui = clean.filter_to_dui(total)"
   ]
  },
  {
   "cell_type": "markdown",
   "metadata": {},
   "source": [
    "##### the DUI percentage among stop data is increased after RML"
   ]
  },
  {
   "cell_type": "code",
   "execution_count": null,
   "metadata": {},
   "outputs": [],
   "source": [
    "len(before_dui)/len(before)"
   ]
  },
  {
   "cell_type": "code",
   "execution_count": null,
   "metadata": {},
   "outputs": [],
   "source": [
    "len(after_dui)/len(after)"
   ]
  },
  {
   "cell_type": "markdown",
   "metadata": {},
   "source": [
    "##### looking at yearly/monthly trend"
   ]
  },
  {
   "cell_type": "code",
   "execution_count": null,
   "metadata": {},
   "outputs": [],
   "source": [
    "before_dui[\"YEAR\"] = before_dui.date_stop.apply(lambda x:int(x[:4]))\n",
    "after_dui[\"YEAR\"] = after_dui.date_stop.apply(lambda x:int(x[:4]))\n",
    "before_dui['MONTH'] = before_dui.date_stop.apply(lambda x:int(x.split(\"-\")[1]))\n",
    "after_dui['MONTH'] = after_dui.date_stop.apply(lambda x:int(x.split(\"-\")[1]))\n",
    "total_dui[\"YEAR\"] = total_dui.date_stop.apply(lambda x:int(x[:4]))\n",
    "total_dui['MONTH'] = total_dui.date_stop.apply(lambda x:int(x.split(\"-\")[1]))"
   ]
  },
  {
   "cell_type": "code",
   "execution_count": null,
   "metadata": {},
   "outputs": [],
   "source": [
    "total_dui.groupby(\"YEAR\").size().plot()"
   ]
  },
  {
   "cell_type": "code",
   "execution_count": null,
   "metadata": {},
   "outputs": [],
   "source": [
    "total_dui.groupby([\"YEAR\",'MONTH']).size().plot()"
   ]
  },
  {
   "cell_type": "code",
   "execution_count": null,
   "metadata": {},
   "outputs": [],
   "source": [
    "stop_1617 = pd.concat([stop_2016,stop_2017])"
   ]
  },
  {
   "cell_type": "code",
   "execution_count": null,
   "metadata": {},
   "outputs": [],
   "source": [
    "stop_1617['YEAR'] = stop_1617.date_stop.apply(lambda x:int(x[:4]))\n",
    "stop_1617['MONTH'] = stop_1617.date_stop.apply(lambda x:int(x.split(\"-\")[1]))"
   ]
  },
  {
   "cell_type": "code",
   "execution_count": null,
   "metadata": {},
   "outputs": [],
   "source": [
    "(clean.filter_to_dui(stop_1617).groupby(['YEAR','MONTH']).size()/stop_1617.groupby(['YEAR','MONTH']).size()).plot()"
   ]
  },
  {
   "cell_type": "code",
   "execution_count": null,
   "metadata": {},
   "outputs": [],
   "source": [
    "collision = fetch.fetch_collision()"
   ]
  },
  {
   "cell_type": "code",
   "execution_count": null,
   "metadata": {},
   "outputs": [],
   "source": [
    "collision_dui = clean.collision_dui(collision)"
   ]
  },
  {
   "cell_type": "code",
   "execution_count": null,
   "metadata": {},
   "outputs": [],
   "source": [
    "collision_dui['YEAR'] = collision_dui.date_time.apply(lambda x:int(x[:4]))\n",
    "collision_dui['MONTH'] = collision_dui.date_time.apply(lambda x:int(x.split(\"-\")[1]))\n",
    "\n",
    "\n",
    "collision['YEAR'] = collision.date_time.apply(lambda x:int(x[:4]))\n",
    "collision['MONTH'] = collision.date_time.apply(lambda x:int(x.split(\"-\")[1]))\n"
   ]
  },
  {
   "cell_type": "code",
   "execution_count": null,
   "metadata": {},
   "outputs": [],
   "source": [
    "collision_dui.groupby([\"YEAR\",\"MONTH\"]).size().plot()"
   ]
  },
  {
   "cell_type": "code",
   "execution_count": null,
   "metadata": {},
   "outputs": [],
   "source": [
    "(collision_dui.groupby([\"YEAR\",\"MONTH\"]).size()/collision.groupby([\"YEAR\",\"MONTH\"]).size()).plot()"
   ]
  },
  {
   "cell_type": "markdown",
   "metadata": {},
   "source": [
    "#### collision data (SWITRS)"
   ]
  },
  {
   "cell_type": "code",
   "execution_count": null,
   "metadata": {},
   "outputs": [],
   "source": [
    "df = pd.read_csv(\"../data/collision/CollisionRecords.txt\")\n",
    "df = df[~df.LATITUDE.isna()]\n",
    "df.LONGITUDE = -df.LONGITUDE\n",
    "df = df[(df.LONGITUDE > -117.25) & (df.LONGITUDE < -116.8)]\n",
    "df = df[df.LATITUDE <= 33.2]"
   ]
  },
  {
   "cell_type": "code",
   "execution_count": null,
   "metadata": {},
   "outputs": [],
   "source": [
    "gdf = gpd.GeoDataFrame(df,geometry = gpd.points_from_xy(df.LONGITUDE,df.LATITUDE))"
   ]
  },
  {
   "cell_type": "code",
   "execution_count": null,
   "metadata": {},
   "outputs": [],
   "source": [
    "sd = gpd.read_file(\"../../DSC180/data/police_beat/pd_beats_datasd.shp\")"
   ]
  },
  {
   "cell_type": "code",
   "execution_count": null,
   "metadata": {},
   "outputs": [],
   "source": [
    "gdf.crs = 'epsg:4326'\n",
    "sd = sd.to_crs({'init': 'epsg:4326'})"
   ]
  },
  {
   "cell_type": "code",
   "execution_count": null,
   "metadata": {},
   "outputs": [],
   "source": [
    "base = sd.plot()\n",
    "gdf.plot(ax=base,color='black', markersize=3)"
   ]
  },
  {
   "cell_type": "code",
   "execution_count": null,
   "metadata": {},
   "outputs": [],
   "source": []
  },
  {
   "cell_type": "code",
   "execution_count": null,
   "metadata": {},
   "outputs": [],
   "source": []
  },
  {
   "cell_type": "markdown",
   "metadata": {},
   "source": [
    "PA collision data (deprecatedd)"
   ]
  },
  {
   "cell_type": "code",
   "execution_count": null,
   "metadata": {},
   "outputs": [],
   "source": [
    "a = pd.read_csv(\"../data/PA_Collision/FLAG_2015_Statewide.csv\")\n",
    "a = a[['CRN','ALCOHOL_RELATED','DRUG_RELATED']]\n",
    "a['DUI'] = a.apply(lambda x:np.any([x.ALCOHOL_RELATED,x.DRUG_RELATED]),axis=1)"
   ]
  },
  {
   "cell_type": "code",
   "execution_count": null,
   "metadata": {},
   "outputs": [],
   "source": [
    "b = pd.read_csv(\"../data/PA_Collision/FLAG_2016_Statewide.csv\")\n",
    "b = b[['CRN','ALCOHOL_RELATED','DRUG_RELATED']]\n",
    "b['DUI'] = b.apply(lambda x:np.any([x.ALCOHOL_RELATED,x.DRUG_RELATED]),axis=1)"
   ]
  },
  {
   "cell_type": "code",
   "execution_count": null,
   "metadata": {},
   "outputs": [],
   "source": [
    "c = pd.read_csv(\"../data/PA_Collision/FLAG_2019.csv\")\n",
    "c = c[['CRN','ALCOHOL_RE','DRUG_RELAT']]\n",
    "c = c.replace({'No':0,'Yes':1})\n",
    "c['DUI'] = c.apply(lambda x:np.any([x.ALCOHOL_RE,x.DRUG_RELAT]),axis=1)"
   ]
  },
  {
   "cell_type": "code",
   "execution_count": null,
   "metadata": {},
   "outputs": [],
   "source": [
    "d = pd.read_csv(\"../data/PA_Collision/FLAG_V_2018.csv\")\n",
    "d = d[['CRN','ALCOHOL_RELATED','DRUG_RELATED']]\n",
    "d = d.replace({'No':0,'Yes':1})\n",
    "d['DUI'] = d.apply(lambda x:np.any([x.ALCOHOL_RELATED,x.DRUG_RELATED]),axis=1)"
   ]
  },
  {
   "cell_type": "code",
   "execution_count": null,
   "metadata": {},
   "outputs": [],
   "source": [
    "a_dui = a.DUI.sum()/len(a)\n",
    "b_dui = b.DUI.sum()/len(b)\n",
    "c.DUI.sum()/len(c)\n",
    "d.DUI.sum()/len(d)\n"
   ]
  },
  {
   "cell_type": "code",
   "execution_count": null,
   "metadata": {},
   "outputs": [],
   "source": [
    "plt.plot([2015,2016,2017,2018],[a.DUI.sum()/len(a),b.DUI.sum()/len(b),c.DUI.sum()/len(c),d.DUI.sum()/len(d)])"
   ]
  },
  {
   "cell_type": "code",
   "execution_count": null,
   "metadata": {},
   "outputs": [],
   "source": []
  },
  {
   "cell_type": "code",
   "execution_count": null,
   "metadata": {},
   "outputs": [],
   "source": []
  },
  {
   "cell_type": "code",
   "execution_count": null,
   "metadata": {},
   "outputs": [],
   "source": []
  },
  {
   "cell_type": "code",
   "execution_count": null,
   "metadata": {},
   "outputs": [],
   "source": []
  },
  {
   "cell_type": "code",
   "execution_count": null,
   "metadata": {},
   "outputs": [],
   "source": [
    "ca = pd.read_csv(\"../data/CA_Collision/CollisionRecords.txt\",error_bad_lines=False)"
   ]
  },
  {
   "cell_type": "code",
   "execution_count": null,
   "metadata": {},
   "outputs": [],
   "source": [
    "ca = ca[['CASE_ID','ACCIDENT_YEAR','COLLISION_DATE','PCF_VIOL_CATEGORY','ALCOHOL_INVOLVED']]\n",
    "ca = ca[(ca.ACCIDENT_YEAR > 2014)&(ca.ACCIDENT_YEAR < 2019)]"
   ]
  },
  {
   "cell_type": "code",
   "execution_count": null,
   "metadata": {},
   "outputs": [],
   "source": [
    "ca_2015 = ca[ca.ACCIDENT_YEAR == 2015]\n",
    "ca_2016 = ca[ca.ACCIDENT_YEAR == 2016]\n",
    "ca_2017 = ca[ca.ACCIDENT_YEAR == 2017]\n",
    "ca_2018 = ca[ca.ACCIDENT_YEAR == 2018]\n"
   ]
  },
  {
   "cell_type": "code",
   "execution_count": null,
   "metadata": {},
   "outputs": [],
   "source": [
    "ca_2015_dui = ca_2015[ca_2015.PCF_VIOL_CATEGORY == \"01\"].size/len(ca_2015)\n",
    "ca_2016_dui = ca_2016[ca_2016.PCF_VIOL_CATEGORY == \"01\"].size/len(ca_2016)\n",
    "ca_2017_dui = ca_2017[ca_2017.PCF_VIOL_CATEGORY == \"01\"].size/len(ca_2017)\n",
    "ca_2018_dui = ca_2018[ca_2018.PCF_VIOL_CATEGORY == \"01\"].size/len(ca_2018)"
   ]
  },
  {
   "cell_type": "code",
   "execution_count": null,
   "metadata": {},
   "outputs": [],
   "source": [
    "plt.plot([2015,2016,2017,2018],[ca_2015_dui,ca_2016_dui,ca_2017_dui,ca_2018_dui])"
   ]
  },
  {
   "cell_type": "code",
   "execution_count": null,
   "metadata": {},
   "outputs": [],
   "source": [
    "ca[\"MONTH\"] = ca.COLLISION_DATE.apply(lambda x:int(str(x)[4:6]))"
   ]
  },
  {
   "cell_type": "code",
   "execution_count": null,
   "metadata": {},
   "outputs": [],
   "source": [
    "(ca[ca.PCF_VIOL_CATEGORY == \"01\"].groupby(['ACCIDENT_YEAR','MONTH']).size()/ca.groupby(['ACCIDENT_YEAR','MONTH']).size()).plot()\n",
    "\n"
   ]
  },
  {
   "cell_type": "code",
   "execution_count": null,
   "metadata": {},
   "outputs": [],
   "source": []
  },
  {
   "cell_type": "code",
   "execution_count": null,
   "metadata": {},
   "outputs": [],
   "source": []
  },
  {
   "cell_type": "code",
   "execution_count": null,
   "metadata": {},
   "outputs": [],
   "source": [
    "sd_2015_p = pd.read_csv(\"../data/SD_Collision/Person2015.txt\",sep=\"|\")\n",
    "sd_2015_a = pd.read_csv(\"../data/SD_Collision/Accident2015.txt\",sep=\"|\")\n",
    "sd_2015_a = sd_2015_a[['AccidentSeqID','AccidentDateTime']]\n",
    "sd_2015_p = sd_2015_p[[\"AccidentSeqID\",\"DrugUseDesc\",'AlcoholUseDesc']]\n",
    "sd_2015 = pd.merge(left=sd_2015_a,right=sd_2015_p,on='AccidentSeqID')"
   ]
  },
  {
   "cell_type": "code",
   "execution_count": null,
   "metadata": {},
   "outputs": [],
   "source": [
    "sd_2016_p = pd.read_csv(\"../data/SD_Collision/Person2016.txt\",sep=\"|\")\n",
    "sd_2016_a = pd.read_csv(\"../data/SD_Collision/Accident2016.txt\",sep=\"|\")\n",
    "sd_2016_a = sd_2016_a[['AccidentSeqID','AccidentDateTime']]\n",
    "sd_2016_p = sd_2016_p[[\"AccidentSeqID\",\"DrugUseDesc\",'AlcoholUseDesc']]\n",
    "sd_2016 = pd.merge(left=sd_2016_a,right=sd_2016_p,on='AccidentSeqID')"
   ]
  },
  {
   "cell_type": "code",
   "execution_count": null,
   "metadata": {},
   "outputs": [],
   "source": [
    "sd_2017_p = pd.read_csv(\"../data/SD_Collision/Person2017.txt\",sep=\"|\")\n",
    "sd_2017_a = pd.read_csv(\"../data/SD_Collision/Accident2017.txt\",sep=\"|\")\n",
    "sd_2017_a = sd_2017_a[['AccidentSeqID','AccidentDateTime']]\n",
    "sd_2017_p = sd_2017_p[[\"AccidentSeqID\",\"DrugUseDesc\",'AlcoholUseDesc']]\n",
    "sd_2017 = pd.merge(left=sd_2017_a,right=sd_2017_p,on='AccidentSeqID')"
   ]
  },
  {
   "cell_type": "code",
   "execution_count": null,
   "metadata": {},
   "outputs": [],
   "source": [
    "sd_2018_p = pd.read_csv(\"../data/SD_Collision/Person2018.txt\",sep=\"|\")\n",
    "sd_2018_a = pd.read_csv(\"../data/SD_Collision/Accident2018.txt\",sep=\"|\")\n",
    "sd_2018_a = sd_2018_a[['AccidentSeqID','AccidentDateTime']]\n",
    "sd_2018_p = sd_2018_p[[\"AccidentSeqID\",\"DrugUseDesc\",'AlcoholUseDesc']]\n",
    "sd_2018 = pd.merge(left=sd_2018_a,right=sd_2018_p,on='AccidentSeqID')"
   ]
  },
  {
   "cell_type": "code",
   "execution_count": null,
   "metadata": {},
   "outputs": [],
   "source": [
    "sd_2015['DRUG'] = sd_2015.DrugUseDesc.apply(lambda x:1 if x == 'Drugs used' else 0)\n",
    "sd_2015['ALCOHOL'] = sd_2015.AlcoholUseDesc.apply(lambda x:1 if x == 'Alcohol used' else 0)\n",
    "sd_2015['DUI'] = sd_2015.apply(lambda x:np.any([x.DRUG,x.ALCOHOL]),axis=1)\n",
    "sd_2015['MONTH'] = pd.to_datetime(sd_2015.AccidentDateTime).dt.month\n",
    "sd_2015['YEAR'] = 2015\n",
    "\n",
    "sd_2016['DRUG'] = sd_2016.DrugUseDesc.apply(lambda x:1 if x == 'Drugs used' else 0)\n",
    "sd_2016['ALCOHOL'] = sd_2016.AlcoholUseDesc.apply(lambda x:1 if x == 'Alcohol used' else 0)\n",
    "sd_2016['DUI'] = sd_2016.apply(lambda x:np.any([x.DRUG,x.ALCOHOL]),axis=1)\n",
    "sd_2016['MONTH'] = pd.to_datetime(sd_2016.AccidentDateTime).dt.month\n",
    "sd_2016['YEAR'] = 2016\n",
    "\n",
    "\n",
    "sd_2017['DRUG'] = sd_2017.DrugUseDesc.apply(lambda x:1 if x == 'Drugs used' else 0)\n",
    "sd_2017['ALCOHOL'] = sd_2017.AlcoholUseDesc.apply(lambda x:1 if x == 'Alcohol used' else 0)\n",
    "sd_2017['DUI'] = sd_2017.apply(lambda x:np.any([x.DRUG,x.ALCOHOL]),axis=1)\n",
    "sd_2017['MONTH'] = pd.to_datetime(sd_2017.AccidentDateTime).dt.month\n",
    "sd_2017['YEAR'] = 2017\n",
    "\n",
    "\n",
    "sd_2018['DRUG'] = sd_2018.DrugUseDesc.apply(lambda x:1 if x == 'Drugs used' else 0)\n",
    "sd_2018['ALCOHOL'] = sd_2018.AlcoholUseDesc.apply(lambda x:1 if x == 'Alcohol used' else 0)\n",
    "sd_2018['DUI'] = sd_2018.apply(lambda x:np.any([x.DRUG,x.ALCOHOL]),axis=1)\n",
    "sd_2018['MONTH'] = pd.to_datetime(sd_2018.AccidentDateTime).dt.month\n",
    "sd_2018['YEAR'] = 2018\n"
   ]
  },
  {
   "cell_type": "code",
   "execution_count": null,
   "metadata": {},
   "outputs": [],
   "source": [
    "sd_2015_dui = sd_2015.DUI.sum()/len(sd_2015)\n",
    "sd_2016_dui = sd_2016.DUI.sum()/len(sd_2016)\n",
    "sd_2017_dui = sd_2017.DUI.sum()/len(sd_2017)\n",
    "sd_2018_dui = sd_2018.DUI.sum()/len(sd_2018)"
   ]
  },
  {
   "cell_type": "code",
   "execution_count": null,
   "metadata": {},
   "outputs": [],
   "source": [
    "plt.plot([2015,2016,2017,2018],[sd_2015_dui,sd_2016_dui,sd_2017_dui,sd_2018_dui])"
   ]
  },
  {
   "cell_type": "code",
   "execution_count": null,
   "metadata": {},
   "outputs": [],
   "source": [
    "sd = pd.concat([sd_2015,sd_2016,sd_2017,sd_2018])"
   ]
  },
  {
   "cell_type": "code",
   "execution_count": null,
   "metadata": {},
   "outputs": [],
   "source": [
    "(sd[sd.DUI == 1].groupby(['YEAR',\"MONTH\"]).size()/sd.groupby(['YEAR',\"MONTH\"]).size()).plot()"
   ]
  },
  {
   "cell_type": "code",
   "execution_count": null,
   "metadata": {},
   "outputs": [],
   "source": []
  },
  {
   "cell_type": "code",
   "execution_count": null,
   "metadata": {},
   "outputs": [],
   "source": []
  }
 ],
 "metadata": {
  "kernelspec": {
   "display_name": "Python 3",
   "language": "python",
   "name": "python3"
  },
  "language_info": {
   "codemirror_mode": {
    "name": "ipython",
    "version": 3
   },
   "file_extension": ".py",
   "mimetype": "text/x-python",
   "name": "python",
   "nbconvert_exporter": "python",
   "pygments_lexer": "ipython3",
   "version": "3.7.3"
  }
 },
 "nbformat": 4,
 "nbformat_minor": 2
}
