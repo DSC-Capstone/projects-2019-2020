{
 "cells": [
  {
   "cell_type": "code",
   "execution_count": null,
   "metadata": {},
   "outputs": [],
   "source": [
    "import numpy as np\n",
    "import pandas as pd\n",
    "from scipy import stats\n",
    "import matplotlib.pyplot as plt\n",
    "%matplotlib inline"
   ]
  },
  {
   "cell_type": "code",
   "execution_count": null,
   "metadata": {},
   "outputs": [],
   "source": [
    "ca = pd.read_csv(\"../data/CA_Collision/CollisionRecords.txt\",error_bad_lines=False)\n",
    "ca = ca[['CASE_ID','ACCIDENT_YEAR','COLLISION_DATE','PCF_VIOL_CATEGORY','ALCOHOL_INVOLVED']]\n",
    "ca = ca[(ca.ACCIDENT_YEAR > 2014)&(ca.ACCIDENT_YEAR < 2019)]"
   ]
  },
  {
   "cell_type": "code",
   "execution_count": null,
   "metadata": {},
   "outputs": [],
   "source": [
    "ca_2015 = ca[ca.ACCIDENT_YEAR == 2015]\n",
    "ca_2016 = ca[ca.ACCIDENT_YEAR == 2016]\n",
    "ca_2017 = ca[ca.ACCIDENT_YEAR == 2017]\n",
    "ca_2018 = ca[ca.ACCIDENT_YEAR == 2018]\n",
    "ca_2015_dui = len(ca_2015[ca_2015.PCF_VIOL_CATEGORY == \"01\"])/len(ca_2015)\n",
    "ca_2016_dui = len(ca_2016[ca_2016.PCF_VIOL_CATEGORY == \"01\"])/len(ca_2016)\n",
    "ca_2017_dui = len(ca_2017[ca_2017.PCF_VIOL_CATEGORY == \"01\"])/len(ca_2017)\n",
    "ca_2018_dui = len(ca_2018[ca_2018.PCF_VIOL_CATEGORY == \"01\"])/len(ca_2018)"
   ]
  },
  {
   "cell_type": "code",
   "execution_count": null,
   "metadata": {},
   "outputs": [],
   "source": [
    "ax1 = plt.plot([2015,2016,2017,2018],[ca_2015_dui,ca_2016_dui,ca_2017_dui,ca_2018_dui])"
   ]
  },
  {
   "cell_type": "code",
   "execution_count": null,
   "metadata": {},
   "outputs": [],
   "source": [
    "ca[\"MONTH\"] = ca.COLLISION_DATE.apply(lambda x:int(str(x)[4:6]))\n"
   ]
  },
  {
   "cell_type": "code",
   "execution_count": null,
   "metadata": {},
   "outputs": [],
   "source": [
    "ax2 = (ca[ca.PCF_VIOL_CATEGORY == \"01\"].groupby(['ACCIDENT_YEAR','MONTH']).size()/ca.groupby(['ACCIDENT_YEAR','MONTH']).size()).plot()\n"
   ]
  },
  {
   "cell_type": "markdown",
   "metadata": {},
   "source": [
    "South Dakota"
   ]
  },
  {
   "cell_type": "code",
   "execution_count": null,
   "metadata": {},
   "outputs": [],
   "source": [
    "sd_2015_p = pd.read_csv(\"../data/SD_Collision/Person2015.txt\",sep=\"|\")\n",
    "sd_2015_a = pd.read_csv(\"../data/SD_Collision/Accident2015.txt\",sep=\"|\")\n",
    "sd_2015_a = sd_2015_a[['AccidentSeqID','AccidentDateTime']]\n",
    "sd_2015_p = sd_2015_p[[\"AccidentSeqID\",\"DrugUseDesc\",'AlcoholUseDesc']]\n",
    "sd_2015 = pd.merge(left=sd_2015_a,right=sd_2015_p,on='AccidentSeqID')\n",
    "\n",
    "sd_2016_p = pd.read_csv(\"../data/SD_Collision/Person2016.txt\",sep=\"|\")\n",
    "sd_2016_a = pd.read_csv(\"../data/SD_Collision/Accident2016.txt\",sep=\"|\")\n",
    "sd_2016_a = sd_2016_a[['AccidentSeqID','AccidentDateTime']]\n",
    "sd_2016_p = sd_2016_p[[\"AccidentSeqID\",\"DrugUseDesc\",'AlcoholUseDesc']]\n",
    "sd_2016 = pd.merge(left=sd_2016_a,right=sd_2016_p,on='AccidentSeqID')\n",
    "\n",
    "sd_2017_p = pd.read_csv(\"../data/SD_Collision/Person2017.txt\",sep=\"|\")\n",
    "sd_2017_a = pd.read_csv(\"../data/SD_Collision/Accident2017.txt\",sep=\"|\")\n",
    "sd_2017_a = sd_2017_a[['AccidentSeqID','AccidentDateTime']]\n",
    "sd_2017_p = sd_2017_p[[\"AccidentSeqID\",\"DrugUseDesc\",'AlcoholUseDesc']]\n",
    "sd_2017 = pd.merge(left=sd_2017_a,right=sd_2017_p,on='AccidentSeqID')\n",
    "\n",
    "sd_2018_p = pd.read_csv(\"../data/SD_Collision/Person2018.txt\",sep=\"|\")\n",
    "sd_2018_a = pd.read_csv(\"../data/SD_Collision/Accident2018.txt\",sep=\"|\")\n",
    "sd_2018_a = sd_2018_a[['AccidentSeqID','AccidentDateTime']]\n",
    "sd_2018_p = sd_2018_p[[\"AccidentSeqID\",\"DrugUseDesc\",'AlcoholUseDesc']]\n",
    "sd_2018 = pd.merge(left=sd_2018_a,right=sd_2018_p,on='AccidentSeqID')"
   ]
  },
  {
   "cell_type": "code",
   "execution_count": null,
   "metadata": {},
   "outputs": [],
   "source": [
    "sd_2015['DRUG'] = sd_2015.DrugUseDesc.apply(lambda x:1 if x == 'Drugs used' else 0)\n",
    "sd_2015['ALCOHOL'] = sd_2015.AlcoholUseDesc.apply(lambda x:1 if x == 'Alcohol used' else 0)\n",
    "sd_2015['DUI'] = sd_2015.apply(lambda x:np.any([x.DRUG,x.ALCOHOL]),axis=1)\n",
    "sd_2015['MONTH'] = pd.to_datetime(sd_2015.AccidentDateTime).dt.month\n",
    "sd_2015['YEAR'] = 2015\n",
    "\n",
    "sd_2016['DRUG'] = sd_2016.DrugUseDesc.apply(lambda x:1 if x == 'Drugs used' else 0)\n",
    "sd_2016['ALCOHOL'] = sd_2016.AlcoholUseDesc.apply(lambda x:1 if x == 'Alcohol used' else 0)\n",
    "sd_2016['DUI'] = sd_2016.apply(lambda x:np.any([x.DRUG,x.ALCOHOL]),axis=1)\n",
    "sd_2016['MONTH'] = pd.to_datetime(sd_2016.AccidentDateTime).dt.month\n",
    "sd_2016['YEAR'] = 2016\n",
    "\n",
    "\n",
    "sd_2017['DRUG'] = sd_2017.DrugUseDesc.apply(lambda x:1 if x == 'Drugs used' else 0)\n",
    "sd_2017['ALCOHOL'] = sd_2017.AlcoholUseDesc.apply(lambda x:1 if x == 'Alcohol used' else 0)\n",
    "sd_2017['DUI'] = sd_2017.apply(lambda x:np.any([x.DRUG,x.ALCOHOL]),axis=1)\n",
    "sd_2017['MONTH'] = pd.to_datetime(sd_2017.AccidentDateTime).dt.month\n",
    "sd_2017['YEAR'] = 2017\n",
    "\n",
    "\n",
    "sd_2018['DRUG'] = sd_2018.DrugUseDesc.apply(lambda x:1 if x == 'Drugs used' else 0)\n",
    "sd_2018['ALCOHOL'] = sd_2018.AlcoholUseDesc.apply(lambda x:1 if x == 'Alcohol used' else 0)\n",
    "sd_2018['DUI'] = sd_2018.apply(lambda x:np.any([x.DRUG,x.ALCOHOL]),axis=1)\n",
    "sd_2018['MONTH'] = pd.to_datetime(sd_2018.AccidentDateTime).dt.month\n",
    "sd_2018['YEAR'] = 2018\n"
   ]
  },
  {
   "cell_type": "code",
   "execution_count": null,
   "metadata": {},
   "outputs": [],
   "source": [
    "sd_2015_dui = sd_2015.DUI.sum()/len(sd_2015)\n",
    "sd_2016_dui = sd_2016.DUI.sum()/len(sd_2016)\n",
    "sd_2017_dui = sd_2017.DUI.sum()/len(sd_2017)\n",
    "sd_2018_dui = sd_2018.DUI.sum()/len(sd_2018)\n",
    "\n"
   ]
  },
  {
   "cell_type": "code",
   "execution_count": null,
   "metadata": {},
   "outputs": [],
   "source": [
    "plt.plot([2015,2016,2017,2018],[ca_2015_dui,ca_2016_dui,ca_2017_dui,ca_2018_dui],label='CA')\n",
    "plt.plot([2015,2016,2017,2018],[sd_2015_dui,sd_2016_dui,sd_2017_dui,sd_2018_dui],label='SD')\n",
    "plt.vlines(2016.9,0.035,0.075)\n",
    "plt.legend()\n",
    "plt.title(\"California and South Dakota annual DUI rates in 2015-2018 collision data\")"
   ]
  },
  {
   "cell_type": "code",
   "execution_count": null,
   "metadata": {},
   "outputs": [],
   "source": [
    "ca_annual_mean = np.mean([ca_2015_dui,ca_2016_dui,ca_2017_dui,ca_2018_dui])\n",
    "sd_annual_mean = np.mean([sd_2015_dui,sd_2016_dui,sd_2017_dui,sd_2018_dui])\n",
    "plt.plot([2015,2016,2017,2018],[ca_2015_dui,ca_2016_dui,ca_2017_dui,ca_2018_dui]-ca_annual_mean,label='CA')\n",
    "plt.plot([2015,2016,2017,2018],[sd_2015_dui,sd_2016_dui,sd_2017_dui,sd_2018_dui]-sd_annual_mean,label='SD')\n",
    "plt.vlines(2016.9,-0.0025,0.0035)\n",
    "plt.legend()\n",
    "plt.title(\"California and South Dakota annual DUI rates in 2015-2018 collision data(demeaned)\")"
   ]
  },
  {
   "cell_type": "code",
   "execution_count": null,
   "metadata": {},
   "outputs": [],
   "source": [
    "sd = pd.concat([sd_2015,sd_2016,sd_2017,sd_2018])\n"
   ]
  },
  {
   "cell_type": "code",
   "execution_count": null,
   "metadata": {},
   "outputs": [],
   "source": [
    "ca_dui_month = (ca[ca.PCF_VIOL_CATEGORY == \"01\"].groupby(['ACCIDENT_YEAR','MONTH']).size()/ca.groupby(['ACCIDENT_YEAR','MONTH']).size())\n",
    "sd_dui_month = (sd[sd.DUI == 1].groupby(['YEAR',\"MONTH\"]).size()/sd.groupby(['YEAR',\"MONTH\"]).size())\n",
    "\n",
    "\n",
    "ca_dui_month.plot(label='CA')\n",
    "\n",
    "sd_dui_month.plot(label='SD')\n",
    "\n",
    "plt.vlines(23,0.025,0.08)\n",
    "plt.title(\"California and South Dakota monthly DUI rates in 2015-2018 collision data\")\n",
    "plt.legend()"
   ]
  },
  {
   "cell_type": "code",
   "execution_count": null,
   "metadata": {},
   "outputs": [],
   "source": [
    "(ca_dui_month - ca_dui_month.mean()).plot(label='CA')\n",
    "\n",
    "(sd_dui_month-sd_dui_month.mean()).plot(label='SD')\n",
    "\n",
    "plt.vlines(23,-0.015,0.016)\n",
    "plt.title(\"California and South Dakota monthly DUI rates in 2015-2018 collision data (demeaned)\")\n",
    "plt.legend()"
   ]
  },
  {
   "cell_type": "code",
   "execution_count": null,
   "metadata": {},
   "outputs": [],
   "source": [
    "ca_party = pd.read_csv(\"../data/CA_Collision/PartyRecords.txt\")\n",
    "ca_party = ca_party[['CASE_ID','PARTY_DRUG_PHYSICAL']]\n",
    "new=pd.merge(ca,ca_party, on='CASE_ID')\n",
    "drug=new[new['PARTY_DRUG_PHYSICAL']=='E']"
   ]
  },
  {
   "cell_type": "code",
   "execution_count": null,
   "metadata": {},
   "outputs": [],
   "source": [
    "(drug.groupby(['ACCIDENT_YEAR','MONTH']).size()/new.groupby(['ACCIDENT_YEAR','MONTH']).size()).plot(label='CA')\n",
    "(sd[sd.DRUG == 1].groupby(['YEAR',\"MONTH\"]).size()/sd.groupby(['YEAR',\"MONTH\"]).size()).plot(label='SD')\n",
    "plt.vlines(23,0.0035,0.013)\n",
    "plt.legend()\n",
    "plt.title(\"California and South Dakota monthly Drug rates in 2015-2018 collision data\")"
   ]
  },
  {
   "cell_type": "code",
   "execution_count": null,
   "metadata": {},
   "outputs": [],
   "source": []
  }
 ],
 "metadata": {
  "kernelspec": {
   "display_name": "Python 3",
   "language": "python",
   "name": "python3"
  },
  "language_info": {
   "codemirror_mode": {
    "name": "ipython",
    "version": 3
   },
   "file_extension": ".py",
   "mimetype": "text/x-python",
   "name": "python",
   "nbconvert_exporter": "python",
   "pygments_lexer": "ipython3",
   "version": "3.7.3"
  }
 },
 "nbformat": 4,
 "nbformat_minor": 2
}
