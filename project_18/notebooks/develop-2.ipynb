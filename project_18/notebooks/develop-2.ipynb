{
 "cells": [
  {
   "cell_type": "code",
   "execution_count": 2,
   "metadata": {},
   "outputs": [],
   "source": [
    "%load_ext autoreload\n",
    "%autoreload 2"
   ]
  },
  {
   "cell_type": "code",
   "execution_count": 9,
   "metadata": {},
   "outputs": [],
   "source": [
    "import sys\n",
    "import json\n",
    "import subprocess\n",
    "import os\n",
    "import gzip\n",
    "import pandas as pd\n",
    "import tarfile\n",
    "import numpy as np\n",
    "import math\n",
    "\n",
    "# add library code to path\n",
    "sys.path.insert(0, r'src/')"
   ]
  },
  {
   "cell_type": "code",
   "execution_count": 4,
   "metadata": {},
   "outputs": [],
   "source": [
    "cfg = json.load(open(\"../config/config.json\"))"
   ]
  },
  {
   "cell_type": "code",
   "execution_count": 5,
   "metadata": {},
   "outputs": [],
   "source": [
    "def mkdir(d):\n",
    "    if not os.path.exists(d):\n",
    "        os.mkdir(d)"
   ]
  },
  {
   "cell_type": "code",
   "execution_count": 6,
   "metadata": {},
   "outputs": [],
   "source": [
    "mkdir('../data')\n",
    "\n",
    "file_url = 'https://www.ncbi.nlm.nih.gov/geo/download/?acc=GSE44639&format=file'\n",
    "\n",
    "import requests\n",
    "\n",
    "r = requests.get(file_url, stream=True)\n",
    "\n",
    "with open(\"../data/raw/GSE44639_RAW.tar\", 'wb') as f:\n",
    "    for chunk in r.iter_content():\n",
    "        f.write(chunk)"
   ]
  },
  {
   "cell_type": "code",
   "execution_count": 30,
   "metadata": {},
   "outputs": [],
   "source": [
    "def read_file_type(health_types, cell_types, tmp='../data/temp/'):\n",
    "    tar = tarfile.open(\"../data/raw/GSE44639_RAW.tar\")\n",
    "\n",
    "    mkdir(tmp)\n",
    "    tar.extractall(tmp)\n",
    "    \n",
    "    df = pd.DataFrame(columns=['miRNA', 'Chromosome', 'Position', 'Strand', 'Total miRNA reads', 'RPM (reads per million)', 'healthy', 'subset'])\n",
    "    \n",
    "    for name in tar.getnames():\n",
    "        subset = name.split('_')[-1].split('.')[0]\n",
    "        health_type = name[4:].split('_')[1][0]\n",
    "        \n",
    "        if subset in cell_types and health_type in health_types:\n",
    "            df1 = pd.read_csv(gzip.open(tmp + name,'rt'), sep='\\t')\n",
    "            df1['healthy'] = 'M' in name[4:]\n",
    "            df1['subset'] = subset\n",
    "            \n",
    "            if len(df1.columns) != len(df.columns):\n",
    "                continue\n",
    "            \n",
    "            df = pd.concat([df, df1])\n",
    "            \n",
    "    return df\n",
    "\n",
    "df = read_file_type(['M', 'P'], ['rTreg', 'aTreg', 'Naive', 'Tcm', 'Tem', 'Ttm'])"
   ]
  },
  {
   "cell_type": "code",
   "execution_count": 35,
   "metadata": {},
   "outputs": [
    {
     "name": "stdout",
     "output_type": "stream",
     "text": [
      "75\n",
      "12\n",
      "0.031746031746031744\n",
      "0.031746031746031744\n",
      "0.031746031746031744\n",
      "0.07078462886725868\n",
      "0.11160095539787093\n",
      "0.12725914699640134\n",
      "0.14291733859493175\n",
      "0.16411514850254996\n",
      "0.1881791845314669\n",
      "0.21355214373803422\n",
      "0.25542555316978627\n",
      "0.2884661646928796\n",
      "0.2985575737866153\n",
      "0.3567563202417905\n",
      "0.3869197190883756\n",
      "0.41708311793496067\n",
      "0.4255381223784725\n",
      "0.43858846995206346\n",
      "0.4804497353727153\n",
      "0.5332223105737536\n",
      "0.5361582232836132\n",
      "0.5425074296328195\n",
      "0.5647296518550418\n",
      "0.60452156607105\n",
      "0.6140453755948595\n",
      "0.6172199787694627\n",
      "0.6203945819440658\n",
      "0.623569185118669\n",
      "0.6267437882932722\n",
      "0.6394422009916848\n",
      "0.6672975581688827\n",
      "0.6831705740418985\n",
      "0.6897584708558484\n",
      "0.7056314867288642\n",
      "0.7083287089739803\n",
      "0.7196665774547059\n",
      "0.740074740720012\n",
      "0.7604829039853181\n",
      "0.7652328756520939\n",
      "0.7699828473188696\n",
      "0.7813207157995952\n",
      "0.8147588608323646\n",
      "0.8368597754259892\n",
      "0.8748635649893615\n",
      "0.9086623461570529\n",
      "0.9088821238736342\n",
      "0.9829312136003889\n",
      "1.0008569788950645\n",
      "1.0053921262873549\n",
      "1.0146255257468073\n",
      "1.0490170601383417\n",
      "1.0795058883063364\n",
      "1.1099947164743311\n",
      "1.1146417792040237\n",
      "1.1172872818495263\n",
      "1.1279210120311502\n",
      "1.146077459487892\n",
      "1.2016330150434475\n",
      "1.2095695229799555\n",
      "1.212751105807592\n",
      "1.2575436152502484\n",
      "1.300982560128251\n",
      "1.317995857253708\n",
      "1.3414618788990522\n",
      "1.3490548846713806\n",
      "1.4023587244183717\n",
      "1.4545129194297095\n",
      "1.480245876729618\n",
      "1.5480468771725446\n",
      "1.5495248042263776\n",
      "1.5623399617193554\n",
      "1.5755157553472552\n",
      "1.588691548975155\n",
      "1.61532761096107\n",
      "1.6390078188393187\n"
     ]
    },
    {
     "name": "stderr",
     "output_type": "stream",
     "text": [
      "/opt/conda/lib/python3.7/site-packages/ipykernel_launcher.py:6: SettingWithCopyWarning: \n",
      "A value is trying to be set on a copy of a slice from a DataFrame.\n",
      "Try using .loc[row_indexer,col_indexer] = value instead\n",
      "\n",
      "See the caveats in the documentation: http://pandas.pydata.org/pandas-docs/stable/user_guide/indexing.html#returning-a-view-versus-a-copy\n",
      "  \n"
     ]
    },
    {
     "data": {
      "text/plain": [
       "3.8693031899684347"
      ]
     },
     "execution_count": 35,
     "metadata": {},
     "output_type": "execute_result"
    }
   ],
   "source": [
    "import math\n",
    "\n",
    "def absF(df, miRNA_name):\n",
    "    # get only rows of the miRNA\n",
    "    miRNAdf = df[df['miRNA'] == miRNA_name]\n",
    "    miRNAdf['RPM (reads per million)'] = miRNAdf['RPM (reads per million)'].apply(lambda x: np.log2(x))\n",
    "    N = len(miRNAdf)\n",
    "    \n",
    "    print(N)\n",
    "    # calculate numerator\n",
    "    meanY = miRNAdf['RPM (reads per million)'].astype(int).mean()\n",
    "    groups = miRNAdf[['healthy', 'subset']].drop_duplicates()\n",
    "    K = len(groups)\n",
    "    \n",
    "    print(K)\n",
    "    \n",
    "    numerator = 0\n",
    "    denominator = 0\n",
    "\n",
    "    for row in groups.iterrows():\n",
    "#         print(row, row[1][1])\n",
    "        health = row[1][0]\n",
    "        cellType = row[1][1]\n",
    "#         print((miRNAdf['healthy'] == health) and (miRNAdf['subset'] == cellType))\n",
    "        groupDF = miRNAdf[(miRNAdf['healthy'] == health) & (miRNAdf['subset'] == cellType)]\n",
    "        # mean Yi\n",
    "        meanYi = groupDF['RPM (reads per million)'].astype(int).mean()\n",
    "        numerator += np.abs(meanYi - meanY)*len(groupDF)/(K - 1)\n",
    "\n",
    "        for sample in groupDF.iterrows():\n",
    "            denominator += np.abs(sample[1][5] - meanYi)/(N - K)\n",
    "            \n",
    "            print(denominator)\n",
    "            \n",
    "    return numerator / denominator\n",
    "\n",
    "absF(df, 'hsa-mir-21')"
   ]
  },
  {
   "cell_type": "code",
   "execution_count": 59,
   "metadata": {},
   "outputs": [],
   "source": [
    "# prefix M = healthy, prefix P = unhealthy\n",
    "# miRNA only appear on one type of chromosome\n",
    "healthy_naiveDF['RPM (reads per million)'] = healthy_naiveDF['RPM (reads per million)'].astype(int)\n",
    "mean_healthy = healthy_naiveDF.groupby('miRNA').mean()"
   ]
  },
  {
   "cell_type": "code",
   "execution_count": null,
   "metadata": {},
   "outputs": [],
   "source": [
    "healthy_naiveDF['RPM (reads per million)'] = healthy_naiveDF['RPM (reads per million)'].astype(int)\n",
    "mean_healthy = healthy_naiveDF.groupby('miRNA').mean()"
   ]
  },
  {
   "cell_type": "code",
   "execution_count": 9,
   "metadata": {},
   "outputs": [
    {
     "ename": "TypeError",
     "evalue": "cannot convert the series to <class 'float'>",
     "output_type": "error",
     "traceback": [
      "\u001b[0;31m---------------------------------------------------------------------------\u001b[0m",
      "\u001b[0;31mTypeError\u001b[0m                                 Traceback (most recent call last)",
      "\u001b[0;32m<ipython-input-9-6eddabf65210>\u001b[0m in \u001b[0;36m<module>\u001b[0;34m\u001b[0m\n\u001b[0;32m----> 1\u001b[0;31m \u001b[0mdf\u001b[0m\u001b[0;34m[\u001b[0m\u001b[0;34m'log2RPM'\u001b[0m\u001b[0;34m]\u001b[0m \u001b[0;34m=\u001b[0m \u001b[0mmath\u001b[0m\u001b[0;34m.\u001b[0m\u001b[0mlog\u001b[0m\u001b[0;34m(\u001b[0m\u001b[0mdf\u001b[0m\u001b[0;34m[\u001b[0m\u001b[0;34m'RPM (reads per million)'\u001b[0m\u001b[0;34m]\u001b[0m\u001b[0;34m,\u001b[0m \u001b[0;36m2\u001b[0m\u001b[0;34m)\u001b[0m\u001b[0;34m\u001b[0m\u001b[0;34m\u001b[0m\u001b[0m\n\u001b[0m",
      "\u001b[0;32m/opt/conda/lib/python3.7/site-packages/pandas/core/series.py\u001b[0m in \u001b[0;36mwrapper\u001b[0;34m(self)\u001b[0m\n\u001b[1;32m    129\u001b[0m         \u001b[0;32mif\u001b[0m \u001b[0mlen\u001b[0m\u001b[0;34m(\u001b[0m\u001b[0mself\u001b[0m\u001b[0;34m)\u001b[0m \u001b[0;34m==\u001b[0m \u001b[0;36m1\u001b[0m\u001b[0;34m:\u001b[0m\u001b[0;34m\u001b[0m\u001b[0;34m\u001b[0m\u001b[0m\n\u001b[1;32m    130\u001b[0m             \u001b[0;32mreturn\u001b[0m \u001b[0mconverter\u001b[0m\u001b[0;34m(\u001b[0m\u001b[0mself\u001b[0m\u001b[0;34m.\u001b[0m\u001b[0miloc\u001b[0m\u001b[0;34m[\u001b[0m\u001b[0;36m0\u001b[0m\u001b[0;34m]\u001b[0m\u001b[0;34m)\u001b[0m\u001b[0;34m\u001b[0m\u001b[0;34m\u001b[0m\u001b[0m\n\u001b[0;32m--> 131\u001b[0;31m         \u001b[0;32mraise\u001b[0m \u001b[0mTypeError\u001b[0m\u001b[0;34m(\u001b[0m\u001b[0;34m\"cannot convert the series to \"\u001b[0m \u001b[0;34m\"{0}\"\u001b[0m\u001b[0;34m.\u001b[0m\u001b[0mformat\u001b[0m\u001b[0;34m(\u001b[0m\u001b[0mstr\u001b[0m\u001b[0;34m(\u001b[0m\u001b[0mconverter\u001b[0m\u001b[0;34m)\u001b[0m\u001b[0;34m)\u001b[0m\u001b[0;34m)\u001b[0m\u001b[0;34m\u001b[0m\u001b[0;34m\u001b[0m\u001b[0m\n\u001b[0m\u001b[1;32m    132\u001b[0m \u001b[0;34m\u001b[0m\u001b[0m\n\u001b[1;32m    133\u001b[0m     \u001b[0mwrapper\u001b[0m\u001b[0;34m.\u001b[0m\u001b[0m__name__\u001b[0m \u001b[0;34m=\u001b[0m \u001b[0;34m\"__{name}__\"\u001b[0m\u001b[0;34m.\u001b[0m\u001b[0mformat\u001b[0m\u001b[0;34m(\u001b[0m\u001b[0mname\u001b[0m\u001b[0;34m=\u001b[0m\u001b[0mconverter\u001b[0m\u001b[0;34m.\u001b[0m\u001b[0m__name__\u001b[0m\u001b[0;34m)\u001b[0m\u001b[0;34m\u001b[0m\u001b[0;34m\u001b[0m\u001b[0m\n",
      "\u001b[0;31mTypeError\u001b[0m: cannot convert the series to <class 'float'>"
     ]
    }
   ],
   "source": [
    "df['log2RPM'] = df['RPM (reads per million)']"
   ]
  },
  {
   "cell_type": "code",
   "execution_count": 39,
   "metadata": {},
   "outputs": [
    {
     "ename": "NameError",
     "evalue": "name 'healthy_naiveDF' is not defined",
     "output_type": "error",
     "traceback": [
      "\u001b[0;31m---------------------------------------------------------------------------\u001b[0m",
      "\u001b[0;31mNameError\u001b[0m                                 Traceback (most recent call last)",
      "\u001b[0;32m<ipython-input-39-a39da2c39ebd>\u001b[0m in \u001b[0;36m<module>\u001b[0;34m\u001b[0m\n\u001b[0;32m----> 1\u001b[0;31m \u001b[0mhealthy_naiveDF\u001b[0m\u001b[0;34m\u001b[0m\u001b[0;34m\u001b[0m\u001b[0m\n\u001b[0m",
      "\u001b[0;31mNameError\u001b[0m: name 'healthy_naiveDF' is not defined"
     ]
    }
   ],
   "source": [
    "healthy_naiveDF"
   ]
  },
  {
   "cell_type": "code",
   "execution_count": null,
   "metadata": {},
   "outputs": [],
   "source": []
  }
 ],
 "metadata": {
  "kernelspec": {
   "display_name": "Python 3",
   "language": "python",
   "name": "python3"
  },
  "language_info": {
   "codemirror_mode": {
    "name": "ipython",
    "version": 3
   },
   "file_extension": ".py",
   "mimetype": "text/x-python",
   "name": "python",
   "nbconvert_exporter": "python",
   "pygments_lexer": "ipython3",
   "version": "3.6.5"
  }
 },
 "nbformat": 4,
 "nbformat_minor": 4
}
