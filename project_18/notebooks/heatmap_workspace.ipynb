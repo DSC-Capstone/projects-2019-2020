{
 "cells": [
  {
   "cell_type": "code",
   "execution_count": 1,
   "metadata": {},
   "outputs": [
    {
     "name": "stderr",
     "output_type": "stream",
     "text": [
      "\n",
      "Attaching package: 'gplots'\n",
      "\n",
      "\n",
      "The following object is masked from 'package:stats':\n",
      "\n",
      "    lowess\n",
      "\n",
      "\n"
     ]
    }
   ],
   "source": [
    "library(gplots)\n",
    "library(RColorBrewer)"
   ]
  },
  {
   "cell_type": "code",
   "execution_count": 2,
   "metadata": {},
   "outputs": [
    {
     "ename": "ERROR",
     "evalue": "Error in heatmap.2(mat_data, cellnote = mat_data, main = \"Heatmap\", notecol = \"black\", : could not find function \"heatmap.2\"\n",
     "output_type": "error",
     "traceback": [
      "Error in heatmap.2(mat_data, cellnote = mat_data, main = \"Heatmap\", notecol = \"black\", : could not find function \"heatmap.2\"\nTraceback:\n"
     ]
    }
   ],
   "source": [
    "data <- read.csv(\"../data/temp/all.csv\")\n",
    "rnames <- data[,1]                            # assign labels in column 1 to \"rnames\"\n",
    "mat_data <- data.matrix(data[,2:ncol(data)])  # transform column 2-5 into a matrix\n",
    "rownames(mat_data) <- rnames                  # assign row names\n",
    "\n",
    "\n",
    "#########################################################\n",
    "### C) Customizing and plotting the heat map\n",
    "#########################################################\n",
    "\n",
    "# creates a own color palette from red to green\n",
    "my_palette <- colorRampPalette(c(\"red\", \"yellow\", \"green\"))(n = 299)\n",
    "\n",
    "# (optional) defines the color breaks manually for a \"skewed\" color transition\n",
    "col_breaks = c(seq(-1,0,length=100),  # for red\n",
    "  seq(0.01,0.8,length=100),           # for yellow\n",
    "  seq(0.81,1,length=100))             # for green\n",
    "\n",
    "# creates a 5 x 5 inch image\n",
    "png(\"../data/heatmaps_in_r.png\",    # create PNG for the heat map        \n",
    "  width = 5*300,        # 5 x 300 pixels\n",
    "  height = 5*300,\n",
    "  res = 300,            # 300 pixels per inch\n",
    "  pointsize = 8)        # smaller font size\n",
    "\n",
    "heatmap.2(mat_data,\n",
    "  cellnote = mat_data,  # same data set for cell labels\n",
    "  main = \"Heatmap\", # heat map title\n",
    "  notecol=\"black\",      # change font color of cell labels to black\n",
    "  density.info=\"none\",  # turns off density plot inside color legend\n",
    "  trace=\"none\",         # turns off trace lines inside the heat map\n",
    "  margins =c(12,9),     # widens margins around plot\n",
    "  col=my_palette,       # use on color palette defined earlier\n",
    "  breaks=col_breaks,    # enable color transition at specified limits\n",
    "  dendrogram=\"row\",     # only draw a row dendrogram\n",
    "  Colv=\"NA\")            # turn off column clustering\n",
    "\n",
    "dev.off()               # close the PNG device\n",
    "rnames"
   ]
  },
  {
   "cell_type": "code",
   "execution_count": null,
   "metadata": {},
   "outputs": [],
   "source": []
  }
 ],
 "metadata": {
  "kernelspec": {
   "display_name": "R",
   "language": "R",
   "name": "ir"
  },
  "language_info": {
   "codemirror_mode": "r",
   "file_extension": ".r",
   "mimetype": "text/x-r-source",
   "name": "R",
   "pygments_lexer": "r",
   "version": "3.6.3"
  }
 },
 "nbformat": 4,
 "nbformat_minor": 4
}
