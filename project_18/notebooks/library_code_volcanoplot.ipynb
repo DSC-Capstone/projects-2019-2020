{
 "cells": [
  {
   "cell_type": "code",
   "execution_count": 3,
   "metadata": {},
   "outputs": [
    {
     "name": "stderr",
     "output_type": "stream",
     "text": [
      "\n",
      "Attaching package: 'gplots'\n",
      "\n",
      "\n",
      "The following object is masked from 'package:stats':\n",
      "\n",
      "    lowess\n",
      "\n",
      "\n",
      "\n",
      "Attaching package: 'data.table'\n",
      "\n",
      "\n",
      "The following objects are masked from 'package:reshape2':\n",
      "\n",
      "    dcast, melt\n",
      "\n",
      "\n"
     ]
    }
   ],
   "source": [
    "library(limma)\n",
    "library(reshape2)\n",
    "library(Glimma)\n",
    "library(ggplot2)\n",
    "library(ggrepel)\n",
    "# library(reshape)\n",
    "library(edgeR)\n",
    "library(gplots)\n",
    "library(amap)\n",
    "library(ggfortify)\n",
    "library(data.table)\n",
    "# library(Mus.musculus)"
   ]
  },
  {
   "cell_type": "code",
   "execution_count": 4,
   "metadata": {},
   "outputs": [],
   "source": [
    "\n",
    "# change this\n",
    "setwd(\"C:\\\\Users\\\\Pete\\\\DSC180B-PROJECT\")"
   ]
  },
  {
   "cell_type": "code",
   "execution_count": 5,
   "metadata": {},
   "outputs": [],
   "source": [
    "file_url = 'https://www.ncbi.nlm.nih.gov/geo/download/?acc=GSE44639&format=file'            \n",
    "raw_dir = \"data/raw/\"\n",
    "temp_dir = \"data/temp/\"\n",
    "file_name = 'GSE44639_RAW.tar'"
   ]
  },
  {
   "cell_type": "code",
   "execution_count": 6,
   "metadata": {},
   "outputs": [],
   "source": [
    "ingest_data <- function(file_url, file_name, raw_dir, temp_dir) {\n",
    "    if (!dir.exists(raw_dir)) {\n",
    "        dir.create(raw_dir, recursive = TRUE)\n",
    "    }\n",
    "    out = paste(raw_dir, file_name, sep=\"\")\n",
    "    utils::download.file(file_url, destfile=out, mode=\"wb\")\n",
    "    utils::untar(out, exdir=temp_dir)\n",
    "}\n",
    "\n",
    "ingest_data(file_url, file_name, raw_dir, temp_dir)"
   ]
  },
  {
   "cell_type": "code",
   "execution_count": 7,
   "metadata": {},
   "outputs": [],
   "source": [
    "read_all_files_in_dir_with_columns <- function(file_dir, required_columns) {\n",
    "    files <- list.files(path=file_dir)\n",
    "    \n",
    "    all <- list()\n",
    "    \n",
    "    for (i in files) {\n",
    "        fp <- paste(file_dir, i, sep='')\n",
    "        seqdata <- read.delim(gzfile(fp), stringsAsFactors = FALSE)\n",
    "        columns <- colnames(seqdata)\n",
    "        \n",
    "        has_unidentified_col <- FALSE\n",
    "        \n",
    "        # ignore samples with columns not present in required_columns\n",
    "        for (c in columns) {\n",
    "            if (!any(required_columns==c)) {\n",
    "                has_unidentified_col <- TRUE\n",
    "                break\n",
    "            }\n",
    "        }\n",
    "        \n",
    "        if (has_unidentified_col) {\n",
    "            next\n",
    "        }\n",
    "        \n",
    "        sampleName = strsplit(fp, \"/\")[[1]][3]\n",
    "        sampleName = strsplit(sampleName, \".txt\")[[1]][1]\n",
    "        \n",
    "        \n",
    "        cellType = strsplit(fp, \"_\")[1]\n",
    "        cellType = cellType[[1]][3]\n",
    "        cellType = strsplit(cellType, \".txt\")\n",
    "        cellType = cellType[[1]][1]\n",
    "        \n",
    "        healthy <- !grepl(\"P\", fp, fixed=TRUE)\n",
    "        \n",
    "        # add healthy column\n",
    "        seqdata$healthy <- healthy\n",
    "        seqdata$cellType <- cellType\n",
    "        seqdata$sampleName <- sampleName\n",
    "        \n",
    "        if (length(all) == 0) {\n",
    "            all <- seqdata\n",
    "        } else {\n",
    "            all <- rbind(all, seqdata)\n",
    "        }\n",
    "    }\n",
    "    \n",
    "    return(all)\n",
    "}\n",
    "\n",
    "required_columns <- list(\"miRNA\", \"Chromosome\", \"Position\", \"Strand\", \"Total.miRNA.reads\", \"RPM..reads.per.million.\")\n",
    "all <- read_all_files_in_dir_with_columns(temp_dir, required_columns)"
   ]
  },
  {
   "cell_type": "code",
   "execution_count": 10,
   "metadata": {},
   "outputs": [
    {
     "data": {
      "text/html": [
       "<table>\n",
       "<caption>A data.frame: 6 × 9</caption>\n",
       "<thead>\n",
       "\t<tr><th></th><th scope=col>miRNA</th><th scope=col>Chromosome</th><th scope=col>Position</th><th scope=col>Strand</th><th scope=col>Total.miRNA.reads</th><th scope=col>RPM..reads.per.million.</th><th scope=col>healthy</th><th scope=col>cellType</th><th scope=col>sampleName</th></tr>\n",
       "\t<tr><th></th><th scope=col>&lt;chr&gt;</th><th scope=col>&lt;chr&gt;</th><th scope=col>&lt;chr&gt;</th><th scope=col>&lt;chr&gt;</th><th scope=col>&lt;int&gt;</th><th scope=col>&lt;int&gt;</th><th scope=col>&lt;lgl&gt;</th><th scope=col>&lt;chr&gt;</th><th scope=col>&lt;chr&gt;</th></tr>\n",
       "</thead>\n",
       "<tbody>\n",
       "\t<tr><th scope=row>1</th><td>hsa-miR-378c   </td><td>chr10</td><td>132760851</td><td>-</td><td> 7</td><td>1</td><td>TRUE</td><td>Naive</td><td>GSM1088200_M7_Naive</td></tr>\n",
       "\t<tr><th scope=row>2</th><td>hsa-mir-1321   </td><td>chrX </td><td>85090785 </td><td>+</td><td>26</td><td>6</td><td>TRUE</td><td>Naive</td><td>GSM1088200_M7_Naive</td></tr>\n",
       "\t<tr><th scope=row>3</th><td>hsa-miR-378d   </td><td>chr8 </td><td>94928250 </td><td>-</td><td> 2</td><td>1</td><td>TRUE</td><td>Naive</td><td>GSM1088200_M7_Naive</td></tr>\n",
       "\t<tr><th scope=row>4</th><td>hsa-miR-2110   </td><td>chr10</td><td>115933864</td><td>-</td><td> 5</td><td>1</td><td>TRUE</td><td>Naive</td><td>GSM1088200_M7_Naive</td></tr>\n",
       "\t<tr><th scope=row>5</th><td>hsa-mir-200b   </td><td>chr1 </td><td>1102484  </td><td>+</td><td> 2</td><td>1</td><td>TRUE</td><td>Naive</td><td>GSM1088200_M7_Naive</td></tr>\n",
       "\t<tr><th scope=row>6</th><td>hsa-miR-125a-5p</td><td>chr19</td><td>52196507 </td><td>+</td><td> 7</td><td>1</td><td>TRUE</td><td>Naive</td><td>GSM1088200_M7_Naive</td></tr>\n",
       "</tbody>\n",
       "</table>\n"
      ],
      "text/latex": [
       "A data.frame: 6 × 9\n",
       "\\begin{tabular}{r|lllllllll}\n",
       "  & miRNA & Chromosome & Position & Strand & Total.miRNA.reads & RPM..reads.per.million. & healthy & cellType & sampleName\\\\\n",
       "  & <chr> & <chr> & <chr> & <chr> & <int> & <int> & <lgl> & <chr> & <chr>\\\\\n",
       "\\hline\n",
       "\t1 & hsa-miR-378c    & chr10 & 132760851 & - &  7 & 1 & TRUE & Naive & GSM1088200\\_M7\\_Naive\\\\\n",
       "\t2 & hsa-mir-1321    & chrX  & 85090785  & + & 26 & 6 & TRUE & Naive & GSM1088200\\_M7\\_Naive\\\\\n",
       "\t3 & hsa-miR-378d    & chr8  & 94928250  & - &  2 & 1 & TRUE & Naive & GSM1088200\\_M7\\_Naive\\\\\n",
       "\t4 & hsa-miR-2110    & chr10 & 115933864 & - &  5 & 1 & TRUE & Naive & GSM1088200\\_M7\\_Naive\\\\\n",
       "\t5 & hsa-mir-200b    & chr1  & 1102484   & + &  2 & 1 & TRUE & Naive & GSM1088200\\_M7\\_Naive\\\\\n",
       "\t6 & hsa-miR-125a-5p & chr19 & 52196507  & + &  7 & 1 & TRUE & Naive & GSM1088200\\_M7\\_Naive\\\\\n",
       "\\end{tabular}\n"
      ],
      "text/markdown": [
       "\n",
       "A data.frame: 6 × 9\n",
       "\n",
       "| <!--/--> | miRNA &lt;chr&gt; | Chromosome &lt;chr&gt; | Position &lt;chr&gt; | Strand &lt;chr&gt; | Total.miRNA.reads &lt;int&gt; | RPM..reads.per.million. &lt;int&gt; | healthy &lt;lgl&gt; | cellType &lt;chr&gt; | sampleName &lt;chr&gt; |\n",
       "|---|---|---|---|---|---|---|---|---|---|\n",
       "| 1 | hsa-miR-378c    | chr10 | 132760851 | - |  7 | 1 | TRUE | Naive | GSM1088200_M7_Naive |\n",
       "| 2 | hsa-mir-1321    | chrX  | 85090785  | + | 26 | 6 | TRUE | Naive | GSM1088200_M7_Naive |\n",
       "| 3 | hsa-miR-378d    | chr8  | 94928250  | - |  2 | 1 | TRUE | Naive | GSM1088200_M7_Naive |\n",
       "| 4 | hsa-miR-2110    | chr10 | 115933864 | - |  5 | 1 | TRUE | Naive | GSM1088200_M7_Naive |\n",
       "| 5 | hsa-mir-200b    | chr1  | 1102484   | + |  2 | 1 | TRUE | Naive | GSM1088200_M7_Naive |\n",
       "| 6 | hsa-miR-125a-5p | chr19 | 52196507  | + |  7 | 1 | TRUE | Naive | GSM1088200_M7_Naive |\n",
       "\n"
      ],
      "text/plain": [
       "  miRNA           Chromosome Position  Strand Total.miRNA.reads\n",
       "1 hsa-miR-378c    chr10      132760851 -       7               \n",
       "2 hsa-mir-1321    chrX       85090785  +      26               \n",
       "3 hsa-miR-378d    chr8       94928250  -       2               \n",
       "4 hsa-miR-2110    chr10      115933864 -       5               \n",
       "5 hsa-mir-200b    chr1       1102484   +       2               \n",
       "6 hsa-miR-125a-5p chr19      52196507  +       7               \n",
       "  RPM..reads.per.million. healthy cellType sampleName         \n",
       "1 1                       TRUE    Naive    GSM1088200_M7_Naive\n",
       "2 6                       TRUE    Naive    GSM1088200_M7_Naive\n",
       "3 1                       TRUE    Naive    GSM1088200_M7_Naive\n",
       "4 1                       TRUE    Naive    GSM1088200_M7_Naive\n",
       "5 1                       TRUE    Naive    GSM1088200_M7_Naive\n",
       "6 1                       TRUE    Naive    GSM1088200_M7_Naive"
      ]
     },
     "metadata": {},
     "output_type": "display_data"
    }
   ],
   "source": [
    "head(all)"
   ]
  },
  {
   "cell_type": "code",
   "execution_count": 102,
   "metadata": {},
   "outputs": [],
   "source": [
    "pivot_data <- function(countdata, value_column, groupNames, groupSizes) {\n",
    "    ### pivot ingested miRNA counts data\n",
    "    ### dataframe must have columns miRNA and sampleName\n",
    "    # countdata - data with raw reads and from ingestion function\n",
    "    # value_column - name of column with the reads\n",
    "    # groupNames - list of group names\n",
    "    # groupSizes - list of size of each group\n",
    "    \n",
    "    \n",
    "    countdata <- dcast(countdata, miRNA ~ sampleName, value.var= value_column, fill= 0)\n",
    "    rownames(countdata) <- countdata$miRNA\n",
    "    countdata$miRNA <- NULL\n",
    "    \n",
    "    factoredGroups <- vector()\n",
    "    for (i in 1:length(groupNames)) {\n",
    "        curGroup <- rep(groupNames[i], groupSizes[i])\n",
    "        factoredGroups <- c(factoredGroups, curGroup)\n",
    "    }\n",
    "    group <- factor(factoredGroups)\n",
    "    toReturn <- list('countdata'=countdata, 'group'=group)\n",
    "    return(toReturn)\n",
    "\n",
    "}\n",
    "\n",
    "filter_logcounts <- function(countdata, group) {\n",
    "    countdata <- countdata + 0.5\n",
    "\n",
    "    d <- DGEList(counts=countdata,group=group)\n",
    "\n",
    "    # got values for filter from paper, Yuxia Zhang\n",
    "    # filter all mirna with less than 1.5*(# of total samples) of counts across all samples. lowly expressing gene\n",
    "    dd <- d[rowSums(d$counts) >= 1.5*ncol(d),]\n",
    "    # multiply by million and divide by column library size to get RPM\n",
    "    d<-1e+06 * dd$count/expandAsMatrix(d$samples$lib.size,dim(dd))\n",
    "    # take the log RPM\n",
    "    d<-log2(d)\n",
    "    return(d)\n",
    "}"
   ]
  },
  {
   "cell_type": "code",
   "execution_count": 110,
   "metadata": {},
   "outputs": [
    {
     "name": "stderr",
     "output_type": "stream",
     "text": [
      "Warning message in dcast(countdata, miRNA ~ sampleName, value.var = value_column, :\n",
      "\"The dcast generic in data.table has been passed a data.frame and will attempt to redirect to the reshape2::dcast; please note that reshape2 is deprecated, and this redirection is now deprecated as well. Please do this redirection yourself like reshape2::dcast(countdata). In the next version, this warning will become an error.\"\n"
     ]
    }
   ],
   "source": [
    "# pret1 <- all[all$healthy == FALSE,] \n",
    "# naive <- all[all$cellType == 'Naive',] \n",
    "rTreg <- all[all$cellType == 'rTreg',] \n",
    "\n",
    "groupNames <- c(\"healthyrTreg\", \"pret1rTreg\")\n",
    "groupSizes <- c(8,7)\n",
    "dataAndGroupList <- pivot_data(rTreg, \"Total.miRNA.reads\", groupNames, groupSizes)\n",
    "df <- filter_logcounts(dataAndGroupList$countdata, dataAndGroupList$group)"
   ]
  },
  {
   "cell_type": "code",
   "execution_count": 148,
   "metadata": {},
   "outputs": [],
   "source": [
    "absF <- function(df, groupSize1, groupSize2) {\n",
    "    # calculate absF, stat for between-group variability vs within-group. used for volcano plot\n",
    "    F<-data.frame(nrow(df))\n",
    "    # NAIVE\n",
    "    x<-data.frame(nrow(df),2) # for calculating fold change later\n",
    "    total_groups <- groupSize1+groupSize2\n",
    "    for (i in 1:nrow(df)) {\n",
    "        a<-groupSize1*abs(mean(df[i,1:groupSize1])-mean(df[i,1:total_groups]))+groupSize2*abs(mean(df[i,(groupSize1+1):total_groups])-mean(df[i,1:total_groups]))\n",
    "        bb = 0\n",
    "        for (j in 1:groupSize1) {\n",
    "            b<-abs(df[i,j]-mean(df[i,1:groupSize1]))\n",
    "            bb = bb +b\n",
    "        }\n",
    "\n",
    "        for (j in (groupSize1+1):total_groups) {\n",
    "            b<-abs(df[i,j]-mean(df[i,(groupSize1+1):total_groups]))\n",
    "            bb = bb +b\n",
    "        }\n",
    "\n",
    "        F[i]<-12*a/bb # 12 is scalar from the paper/ Yuxia Zhang\n",
    "\n",
    "\n",
    "        # X contains the mean of the logRPM of each group.\n",
    "        x[i,2]<-mean(df[i,1:groupSize1])\n",
    "        x[i,1]<-mean(df[i,(groupSize1+1):total_groups])\n",
    "\n",
    "    }\n",
    "    names(F)<-rownames(df)\n",
    "    rownames(x)<-rownames(df)\n",
    "#     absFOver9.6<-length(F[,F>9.6]) # 9.6 chosen from paper. corresponds to less than 1% false discovery rate in limma package\n",
    "    return(list(FVal_df=F, miRNA_means=x))\n",
    "}\n",
    "    \n"
   ]
  },
  {
   "cell_type": "code",
   "execution_count": 165,
   "metadata": {},
   "outputs": [
    {
     "data": {
      "text/html": [
       "<table>\n",
       "<caption>A data.frame: 1 × 519</caption>\n",
       "<thead>\n",
       "\t<tr><th scope=col>hsa-let-7a</th><th scope=col>hsa-let-7a-1</th><th scope=col>hsa-let-7a-2</th><th scope=col>hsa-let-7a-3</th><th scope=col>hsa-let-7a*</th><th scope=col>hsa-let-7b</th><th scope=col>hsa-let-7b*</th><th scope=col>hsa-let-7c</th><th scope=col>hsa-let-7d</th><th scope=col>hsa-let-7d*</th><th scope=col>...</th><th scope=col>hsa-mir-942</th><th scope=col>hsa-miR-942</th><th scope=col>hsa-mir-95</th><th scope=col>hsa-miR-95</th><th scope=col>hsa-miR-96</th><th scope=col>hsa-mir-98</th><th scope=col>hsa-miR-98</th><th scope=col>hsa-miR-99a</th><th scope=col>hsa-miR-99b</th><th scope=col>hsa-miR-99b*</th></tr>\n",
       "\t<tr><th scope=col>&lt;dbl&gt;</th><th scope=col>&lt;dbl&gt;</th><th scope=col>&lt;dbl&gt;</th><th scope=col>&lt;dbl&gt;</th><th scope=col>&lt;dbl&gt;</th><th scope=col>&lt;dbl&gt;</th><th scope=col>&lt;dbl&gt;</th><th scope=col>&lt;dbl&gt;</th><th scope=col>&lt;dbl&gt;</th><th scope=col>&lt;dbl&gt;</th><th scope=col>...</th><th scope=col>&lt;dbl&gt;</th><th scope=col>&lt;dbl&gt;</th><th scope=col>&lt;dbl&gt;</th><th scope=col>&lt;dbl&gt;</th><th scope=col>&lt;dbl&gt;</th><th scope=col>&lt;dbl&gt;</th><th scope=col>&lt;dbl&gt;</th><th scope=col>&lt;dbl&gt;</th><th scope=col>&lt;dbl&gt;</th><th scope=col>&lt;dbl&gt;</th></tr>\n",
       "</thead>\n",
       "<tbody>\n",
       "\t<tr><td>3.554506</td><td>1.250739</td><td>0.3868561</td><td>1.715975</td><td>3.281919</td><td>7.019244</td><td>4.543778</td><td>9.367175</td><td>2.976338</td><td>0.1341111</td><td>...</td><td>1.026727</td><td>2.841354</td><td>5.493217</td><td>3.112655</td><td>3.567207</td><td>5.04164</td><td>5.817443</td><td>4.012225</td><td>5.538715</td><td>2.534293</td></tr>\n",
       "</tbody>\n",
       "</table>\n"
      ],
      "text/latex": [
       "A data.frame: 1 × 519\n",
       "\\begin{tabular}{lllllllllllllllllllll}\n",
       " hsa-let-7a & hsa-let-7a-1 & hsa-let-7a-2 & hsa-let-7a-3 & hsa-let-7a* & hsa-let-7b & hsa-let-7b* & hsa-let-7c & hsa-let-7d & hsa-let-7d* & ... & hsa-mir-942 & hsa-miR-942 & hsa-mir-95 & hsa-miR-95 & hsa-miR-96 & hsa-mir-98 & hsa-miR-98 & hsa-miR-99a & hsa-miR-99b & hsa-miR-99b*\\\\\n",
       " <dbl> & <dbl> & <dbl> & <dbl> & <dbl> & <dbl> & <dbl> & <dbl> & <dbl> & <dbl> & ... & <dbl> & <dbl> & <dbl> & <dbl> & <dbl> & <dbl> & <dbl> & <dbl> & <dbl> & <dbl>\\\\\n",
       "\\hline\n",
       "\t 3.554506 & 1.250739 & 0.3868561 & 1.715975 & 3.281919 & 7.019244 & 4.543778 & 9.367175 & 2.976338 & 0.1341111 & ... & 1.026727 & 2.841354 & 5.493217 & 3.112655 & 3.567207 & 5.04164 & 5.817443 & 4.012225 & 5.538715 & 2.534293\\\\\n",
       "\\end{tabular}\n"
      ],
      "text/markdown": [
       "\n",
       "A data.frame: 1 × 519\n",
       "\n",
       "| hsa-let-7a &lt;dbl&gt; | hsa-let-7a-1 &lt;dbl&gt; | hsa-let-7a-2 &lt;dbl&gt; | hsa-let-7a-3 &lt;dbl&gt; | hsa-let-7a* &lt;dbl&gt; | hsa-let-7b &lt;dbl&gt; | hsa-let-7b* &lt;dbl&gt; | hsa-let-7c &lt;dbl&gt; | hsa-let-7d &lt;dbl&gt; | hsa-let-7d* &lt;dbl&gt; | ... ... | hsa-mir-942 &lt;dbl&gt; | hsa-miR-942 &lt;dbl&gt; | hsa-mir-95 &lt;dbl&gt; | hsa-miR-95 &lt;dbl&gt; | hsa-miR-96 &lt;dbl&gt; | hsa-mir-98 &lt;dbl&gt; | hsa-miR-98 &lt;dbl&gt; | hsa-miR-99a &lt;dbl&gt; | hsa-miR-99b &lt;dbl&gt; | hsa-miR-99b* &lt;dbl&gt; |\n",
       "|---|---|---|---|---|---|---|---|---|---|---|---|---|---|---|---|---|---|---|---|---|\n",
       "| 3.554506 | 1.250739 | 0.3868561 | 1.715975 | 3.281919 | 7.019244 | 4.543778 | 9.367175 | 2.976338 | 0.1341111 | ... | 1.026727 | 2.841354 | 5.493217 | 3.112655 | 3.567207 | 5.04164 | 5.817443 | 4.012225 | 5.538715 | 2.534293 |\n",
       "\n"
      ],
      "text/plain": [
       "  hsa-let-7a hsa-let-7a-1 hsa-let-7a-2 hsa-let-7a-3 hsa-let-7a* hsa-let-7b\n",
       "1 3.554506   1.250739     0.3868561    1.715975     3.281919    7.019244  \n",
       "  hsa-let-7b* hsa-let-7c hsa-let-7d hsa-let-7d* ... hsa-mir-942 hsa-miR-942\n",
       "1 4.543778    9.367175   2.976338   0.1341111   ... 1.026727    2.841354   \n",
       "  hsa-mir-95 hsa-miR-95 hsa-miR-96 hsa-mir-98 hsa-miR-98 hsa-miR-99a\n",
       "1 5.493217   3.112655   3.567207   5.04164    5.817443   4.012225   \n",
       "  hsa-miR-99b hsa-miR-99b*\n",
       "1 5.538715    2.534293    "
      ]
     },
     "metadata": {},
     "output_type": "display_data"
    }
   ],
   "source": [
    "absFScores <- absF(df, 8, 7)\n",
    "FVal_df<- absFScores$FVal_df\n",
    "miRNA_means <- absFScores$miRNA_means\n",
    "FVal_df"
   ]
  },
  {
   "cell_type": "code",
   "execution_count": 166,
   "metadata": {},
   "outputs": [],
   "source": [
    "volcano_plot <- function(df, miRNA_means, FVal_df, Title) {\n",
    "    absFOver9.6<-length(FVal_df[,FVal_df>9.6])\n",
    "    # f <- x[names(-sort(-F))[1:166],1]-x[names(-sort(-F))[1:166],2]\n",
    "\n",
    "    f <- miRNA_means[names(-sort(-F))[1:absFOver9.6],1]-miRNA_means[names(-sort(-F))[1:absFOver9.6],2] # fold change on the mirna with ABS F>9.6\n",
    "\n",
    "    names(f)<-names(-sort(-absFOver9.6))[1:absFOver9.6]\n",
    "    # -sort(-f)\n",
    "\n",
    "    # filter by abs(logFC) >= 1\n",
    "    id<-c(names(f[f>=1]),names(f[-f>=1]))\n",
    "    # length(id)\n",
    "\n",
    "    # calculate logFC again for mirna which meet filters, might be redundant\n",
    "    y<-df[id,]\n",
    "    de<-rownames(miRNA_means)%in%id\n",
    "    f<-c(miRNA_means[de,1]-miRNA_means[de,2])\n",
    "\n",
    "    saved_mirna<- rownames(miRNA_means[de,])\n",
    "    names(f)<- saved_mirna\n",
    "    f # gives us the filtered names of mirna with absF > 9.6 with abs(logFC) >=1.\n",
    "\n",
    "\n",
    "    fval<-as.numeric(FVal_df)\n",
    "    fold<-as.numeric(miRNA_means[,1]-miRNA_means[,2])\n",
    "\n",
    "    volcanodf<-data.frame(fold,fval)\n",
    "\n",
    "\n",
    "    ## 20 highest F-values labeled\n",
    "    numToLabel = 20\n",
    "\n",
    "    ggplot(volcanodf, aes(fold,fval)) +\n",
    "        geom_point(color='red',alpha = 0.5) + \n",
    "        geom_text_repel(aes(fold,fval),segment.size = 1, min.segment.length=0.5, box.padding=1,\n",
    "        segment.alpha = .8,\n",
    "        force = 1,segment.color = \"grey50\",label=as.character(ifelse(FVal_df >= as.numeric(-sort(-FVal_df)[numToLabel]), colnames(FVal_df), NA)),hjust=0,vjust=0) +\n",
    "        labs(y= \"F-Value\", x = \"Log2 Fold Change\") +\n",
    "        ggtitle(Title) + theme(text = element_text(size = 13))   \n",
    "\n",
    "}"
   ]
  },
  {
   "cell_type": "code",
   "execution_count": 167,
   "metadata": {},
   "outputs": [
    {
     "name": "stderr",
     "output_type": "stream",
     "text": [
      "Warning message:\n",
      "\"Removed 499 rows containing missing values (geom_text_repel).\"\n"
     ]
    },
    {
     "data": {
      "image/png": "[encoded data removed]",
      "text/plain": [
       "plot without title"
      ]
     },
     "metadata": {
      "image/png": {
       "height": 420,
       "width": 420
      },
      "text/plain": {
       "height": 420,
       "width": 420
      }
     },
     "output_type": "display_data"
    }
   ],
   "source": [
    "volcano_plot(df, miRNA_means, FVal_df, \"F-like Value vs. Log2FC (Pre-T1 to Healthy rTreg Cells)\")"
   ]
  },
  {
   "cell_type": "code",
   "execution_count": null,
   "metadata": {},
   "outputs": [],
   "source": []
  }
 ],
 "metadata": {
  "kernelspec": {
   "display_name": "R",
   "language": "R",
   "name": "ir"
  },
  "language_info": {
   "codemirror_mode": "r",
   "file_extension": ".r",
   "mimetype": "text/x-r-source",
   "name": "R",
   "pygments_lexer": "r",
   "version": "3.6.3"
  }
 },
 "nbformat": 4,
 "nbformat_minor": 2
}
