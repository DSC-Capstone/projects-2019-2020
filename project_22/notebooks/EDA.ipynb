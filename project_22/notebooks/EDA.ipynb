{
 "cells": [
  {
   "cell_type": "code",
   "execution_count": 108,
   "metadata": {},
   "outputs": [],
   "source": [
    "import pandas as pd\n",
    "import numpy as np\n",
    "import matplotlib.pyplot as plt"
   ]
  },
  {
   "cell_type": "code",
   "execution_count": 109,
   "metadata": {},
   "outputs": [],
   "source": [
    "temp_filename = 'data/block_'\n",
    "filename = temp_filename +str(1)+'.csv'\n",
    "df = pd.read_csv(filename)\n",
    "for i in range(2,11):\n",
    "    filename = temp_filename + str(i)+'.csv'\n",
    "    df_c = pd.read_csv(filename)\n",
    "    df = pd.concat([df, df_c])"
   ]
  },
  {
   "cell_type": "code",
   "execution_count": 110,
   "metadata": {},
   "outputs": [
    {
     "data": {
      "text/plain": [
       "(5749132, 12)"
      ]
     },
     "execution_count": 110,
     "metadata": {},
     "output_type": "execute_result"
    }
   ],
   "source": [
    "df.shape"
   ]
  },
  {
   "cell_type": "code",
   "execution_count": 111,
   "metadata": {},
   "outputs": [],
   "source": [
    "df = df.replace('?', np.NaN)"
   ]
  },
  {
   "cell_type": "code",
   "execution_count": 112,
   "metadata": {},
   "outputs": [
    {
     "data": {
      "text/html": [
       "<div>\n",
       "<style scoped>\n",
       "    .dataframe tbody tr th:only-of-type {\n",
       "        vertical-align: middle;\n",
       "    }\n",
       "\n",
       "    .dataframe tbody tr th {\n",
       "        vertical-align: top;\n",
       "    }\n",
       "\n",
       "    .dataframe thead th {\n",
       "        text-align: right;\n",
       "    }\n",
       "</style>\n",
       "<table border=\"1\" class=\"dataframe\">\n",
       "  <thead>\n",
       "    <tr style=\"text-align: right;\">\n",
       "      <th></th>\n",
       "      <th>id_1</th>\n",
       "      <th>id_2</th>\n",
       "      <th>cmp_fname_c1</th>\n",
       "      <th>cmp_fname_c2</th>\n",
       "      <th>cmp_lname_c1</th>\n",
       "      <th>cmp_lname_c2</th>\n",
       "      <th>cmp_sex</th>\n",
       "      <th>cmp_bd</th>\n",
       "      <th>cmp_bm</th>\n",
       "      <th>cmp_by</th>\n",
       "      <th>cmp_plz</th>\n",
       "      <th>is_match</th>\n",
       "    </tr>\n",
       "  </thead>\n",
       "  <tbody>\n",
       "    <tr>\n",
       "      <th>0</th>\n",
       "      <td>37291</td>\n",
       "      <td>53113</td>\n",
       "      <td>0.833333</td>\n",
       "      <td>NaN</td>\n",
       "      <td>1.0</td>\n",
       "      <td>NaN</td>\n",
       "      <td>1.0</td>\n",
       "      <td>1.0</td>\n",
       "      <td>1.0</td>\n",
       "      <td>1.0</td>\n",
       "      <td>0.0</td>\n",
       "      <td>True</td>\n",
       "    </tr>\n",
       "    <tr>\n",
       "      <th>1</th>\n",
       "      <td>39086</td>\n",
       "      <td>47614</td>\n",
       "      <td>1.000000</td>\n",
       "      <td>NaN</td>\n",
       "      <td>1.0</td>\n",
       "      <td>NaN</td>\n",
       "      <td>1.0</td>\n",
       "      <td>1.0</td>\n",
       "      <td>1.0</td>\n",
       "      <td>1.0</td>\n",
       "      <td>1.0</td>\n",
       "      <td>True</td>\n",
       "    </tr>\n",
       "    <tr>\n",
       "      <th>2</th>\n",
       "      <td>70031</td>\n",
       "      <td>70237</td>\n",
       "      <td>1.000000</td>\n",
       "      <td>NaN</td>\n",
       "      <td>1.0</td>\n",
       "      <td>NaN</td>\n",
       "      <td>1.0</td>\n",
       "      <td>1.0</td>\n",
       "      <td>1.0</td>\n",
       "      <td>1.0</td>\n",
       "      <td>1.0</td>\n",
       "      <td>True</td>\n",
       "    </tr>\n",
       "    <tr>\n",
       "      <th>3</th>\n",
       "      <td>84795</td>\n",
       "      <td>97439</td>\n",
       "      <td>1.000000</td>\n",
       "      <td>NaN</td>\n",
       "      <td>1.0</td>\n",
       "      <td>NaN</td>\n",
       "      <td>1.0</td>\n",
       "      <td>1.0</td>\n",
       "      <td>1.0</td>\n",
       "      <td>1.0</td>\n",
       "      <td>1.0</td>\n",
       "      <td>True</td>\n",
       "    </tr>\n",
       "    <tr>\n",
       "      <th>4</th>\n",
       "      <td>36950</td>\n",
       "      <td>42116</td>\n",
       "      <td>1.000000</td>\n",
       "      <td>NaN</td>\n",
       "      <td>1.0</td>\n",
       "      <td>1.0</td>\n",
       "      <td>1.0</td>\n",
       "      <td>1.0</td>\n",
       "      <td>1.0</td>\n",
       "      <td>1.0</td>\n",
       "      <td>1.0</td>\n",
       "      <td>True</td>\n",
       "    </tr>\n",
       "  </tbody>\n",
       "</table>\n",
       "</div>"
      ],
      "text/plain": [
       "    id_1   id_2  cmp_fname_c1  cmp_fname_c2  cmp_lname_c1  cmp_lname_c2  \\\n",
       "0  37291  53113      0.833333           NaN           1.0           NaN   \n",
       "1  39086  47614      1.000000           NaN           1.0           NaN   \n",
       "2  70031  70237      1.000000           NaN           1.0           NaN   \n",
       "3  84795  97439      1.000000           NaN           1.0           NaN   \n",
       "4  36950  42116      1.000000           NaN           1.0           1.0   \n",
       "\n",
       "   cmp_sex  cmp_bd  cmp_bm  cmp_by  cmp_plz  is_match  \n",
       "0      1.0     1.0     1.0     1.0      0.0      True  \n",
       "1      1.0     1.0     1.0     1.0      1.0      True  \n",
       "2      1.0     1.0     1.0     1.0      1.0      True  \n",
       "3      1.0     1.0     1.0     1.0      1.0      True  \n",
       "4      1.0     1.0     1.0     1.0      1.0      True  "
      ]
     },
     "execution_count": 112,
     "metadata": {},
     "output_type": "execute_result"
    }
   ],
   "source": [
    "for col in df.columns[2:-1]:\n",
    "    df[col] = df[col].apply(float)\n",
    "    \n",
    "df.head()"
   ]
  },
  {
   "cell_type": "code",
   "execution_count": 113,
   "metadata": {},
   "outputs": [
    {
     "data": {
      "text/html": [
       "<div>\n",
       "<style scoped>\n",
       "    .dataframe tbody tr th:only-of-type {\n",
       "        vertical-align: middle;\n",
       "    }\n",
       "\n",
       "    .dataframe tbody tr th {\n",
       "        vertical-align: top;\n",
       "    }\n",
       "\n",
       "    .dataframe thead th {\n",
       "        text-align: right;\n",
       "    }\n",
       "</style>\n",
       "<table border=\"1\" class=\"dataframe\">\n",
       "  <thead>\n",
       "    <tr style=\"text-align: right;\">\n",
       "      <th></th>\n",
       "      <th>Not null</th>\n",
       "      <th>Is null</th>\n",
       "    </tr>\n",
       "  </thead>\n",
       "  <tbody>\n",
       "    <tr>\n",
       "      <th>id_1</th>\n",
       "      <td>5749132.0</td>\n",
       "      <td>0.0</td>\n",
       "    </tr>\n",
       "    <tr>\n",
       "      <th>id_2</th>\n",
       "      <td>5749132.0</td>\n",
       "      <td>0.0</td>\n",
       "    </tr>\n",
       "    <tr>\n",
       "      <th>cmp_fname_c1</th>\n",
       "      <td>5748125.0</td>\n",
       "      <td>1007.0</td>\n",
       "    </tr>\n",
       "    <tr>\n",
       "      <th>cmp_fname_c2</th>\n",
       "      <td>103698.0</td>\n",
       "      <td>5645434.0</td>\n",
       "    </tr>\n",
       "    <tr>\n",
       "      <th>cmp_lname_c1</th>\n",
       "      <td>5749132.0</td>\n",
       "      <td>0.0</td>\n",
       "    </tr>\n",
       "    <tr>\n",
       "      <th>cmp_lname_c2</th>\n",
       "      <td>2464.0</td>\n",
       "      <td>5746668.0</td>\n",
       "    </tr>\n",
       "    <tr>\n",
       "      <th>cmp_sex</th>\n",
       "      <td>5749132.0</td>\n",
       "      <td>0.0</td>\n",
       "    </tr>\n",
       "    <tr>\n",
       "      <th>cmp_bd</th>\n",
       "      <td>5748337.0</td>\n",
       "      <td>795.0</td>\n",
       "    </tr>\n",
       "    <tr>\n",
       "      <th>cmp_bm</th>\n",
       "      <td>5748337.0</td>\n",
       "      <td>795.0</td>\n",
       "    </tr>\n",
       "    <tr>\n",
       "      <th>cmp_by</th>\n",
       "      <td>5748337.0</td>\n",
       "      <td>795.0</td>\n",
       "    </tr>\n",
       "    <tr>\n",
       "      <th>cmp_plz</th>\n",
       "      <td>5736289.0</td>\n",
       "      <td>12843.0</td>\n",
       "    </tr>\n",
       "    <tr>\n",
       "      <th>is_match</th>\n",
       "      <td>5749132.0</td>\n",
       "      <td>0.0</td>\n",
       "    </tr>\n",
       "  </tbody>\n",
       "</table>\n",
       "</div>"
      ],
      "text/plain": [
       "               Not null    Is null\n",
       "id_1          5749132.0        0.0\n",
       "id_2          5749132.0        0.0\n",
       "cmp_fname_c1  5748125.0     1007.0\n",
       "cmp_fname_c2   103698.0  5645434.0\n",
       "cmp_lname_c1  5749132.0        0.0\n",
       "cmp_lname_c2     2464.0  5746668.0\n",
       "cmp_sex       5749132.0        0.0\n",
       "cmp_bd        5748337.0      795.0\n",
       "cmp_bm        5748337.0      795.0\n",
       "cmp_by        5748337.0      795.0\n",
       "cmp_plz       5736289.0    12843.0\n",
       "is_match      5749132.0        0.0"
      ]
     },
     "execution_count": 113,
     "metadata": {},
     "output_type": "execute_result"
    }
   ],
   "source": [
    "distribution = df.isna().apply(pd.Series.value_counts).T.replace(np.NaN, 0)\n",
    "distribution.columns = ['Not null', 'Is null']\n",
    "distribution"
   ]
  },
  {
   "cell_type": "code",
   "execution_count": 114,
   "metadata": {},
   "outputs": [],
   "source": [
    "df_match = df[df['is_match']==True]\n",
    "num_match = df_match.shape[0]\n",
    "df_not_match = df[df['is_match']==False]\n",
    "num_not_match = df_not_match.shape[0]"
   ]
  },
  {
   "cell_type": "code",
   "execution_count": 115,
   "metadata": {},
   "outputs": [
    {
     "data": {
      "text/html": [
       "<div>\n",
       "<style scoped>\n",
       "    .dataframe tbody tr th:only-of-type {\n",
       "        vertical-align: middle;\n",
       "    }\n",
       "\n",
       "    .dataframe tbody tr th {\n",
       "        vertical-align: top;\n",
       "    }\n",
       "\n",
       "    .dataframe thead th {\n",
       "        text-align: right;\n",
       "    }\n",
       "</style>\n",
       "<table border=\"1\" class=\"dataframe\">\n",
       "  <thead>\n",
       "    <tr style=\"text-align: right;\">\n",
       "      <th></th>\n",
       "      <th>Not null</th>\n",
       "      <th>Is null</th>\n",
       "    </tr>\n",
       "  </thead>\n",
       "  <tbody>\n",
       "    <tr>\n",
       "      <th>id_1</th>\n",
       "      <td>1.000000</td>\n",
       "      <td>0.000000</td>\n",
       "    </tr>\n",
       "    <tr>\n",
       "      <th>id_2</th>\n",
       "      <td>1.000000</td>\n",
       "      <td>0.000000</td>\n",
       "    </tr>\n",
       "    <tr>\n",
       "      <th>cmp_fname_c1</th>\n",
       "      <td>0.999570</td>\n",
       "      <td>0.000430</td>\n",
       "    </tr>\n",
       "    <tr>\n",
       "      <th>cmp_fname_c2</th>\n",
       "      <td>0.063685</td>\n",
       "      <td>0.936315</td>\n",
       "    </tr>\n",
       "    <tr>\n",
       "      <th>cmp_lname_c1</th>\n",
       "      <td>1.000000</td>\n",
       "      <td>0.000000</td>\n",
       "    </tr>\n",
       "    <tr>\n",
       "      <th>cmp_lname_c2</th>\n",
       "      <td>0.022694</td>\n",
       "      <td>0.977306</td>\n",
       "    </tr>\n",
       "    <tr>\n",
       "      <th>cmp_sex</th>\n",
       "      <td>1.000000</td>\n",
       "      <td>0.000000</td>\n",
       "    </tr>\n",
       "    <tr>\n",
       "      <th>cmp_bd</th>\n",
       "      <td>0.999713</td>\n",
       "      <td>0.000287</td>\n",
       "    </tr>\n",
       "    <tr>\n",
       "      <th>cmp_bm</th>\n",
       "      <td>0.999713</td>\n",
       "      <td>0.000287</td>\n",
       "    </tr>\n",
       "    <tr>\n",
       "      <th>cmp_by</th>\n",
       "      <td>0.999713</td>\n",
       "      <td>0.000287</td>\n",
       "    </tr>\n",
       "    <tr>\n",
       "      <th>cmp_plz</th>\n",
       "      <td>0.998614</td>\n",
       "      <td>0.001386</td>\n",
       "    </tr>\n",
       "    <tr>\n",
       "      <th>is_match</th>\n",
       "      <td>1.000000</td>\n",
       "      <td>0.000000</td>\n",
       "    </tr>\n",
       "  </tbody>\n",
       "</table>\n",
       "</div>"
      ],
      "text/plain": [
       "              Not null   Is null\n",
       "id_1          1.000000  0.000000\n",
       "id_2          1.000000  0.000000\n",
       "cmp_fname_c1  0.999570  0.000430\n",
       "cmp_fname_c2  0.063685  0.936315\n",
       "cmp_lname_c1  1.000000  0.000000\n",
       "cmp_lname_c2  0.022694  0.977306\n",
       "cmp_sex       1.000000  0.000000\n",
       "cmp_bd        0.999713  0.000287\n",
       "cmp_bm        0.999713  0.000287\n",
       "cmp_by        0.999713  0.000287\n",
       "cmp_plz       0.998614  0.001386\n",
       "is_match      1.000000  0.000000"
      ]
     },
     "execution_count": 115,
     "metadata": {},
     "output_type": "execute_result"
    }
   ],
   "source": [
    "distribution_match = df_match.isna().apply(pd.Series.value_counts).T.replace(np.NaN, 0)\n",
    "distribution_match.columns = ['Not null', 'Is null']\n",
    "distribution_match/num_match"
   ]
  },
  {
   "cell_type": "code",
   "execution_count": 116,
   "metadata": {},
   "outputs": [
    {
     "data": {
      "text/html": [
       "<div>\n",
       "<style scoped>\n",
       "    .dataframe tbody tr th:only-of-type {\n",
       "        vertical-align: middle;\n",
       "    }\n",
       "\n",
       "    .dataframe tbody tr th {\n",
       "        vertical-align: top;\n",
       "    }\n",
       "\n",
       "    .dataframe thead th {\n",
       "        text-align: right;\n",
       "    }\n",
       "</style>\n",
       "<table border=\"1\" class=\"dataframe\">\n",
       "  <thead>\n",
       "    <tr style=\"text-align: right;\">\n",
       "      <th></th>\n",
       "      <th>Not null</th>\n",
       "      <th>Is null</th>\n",
       "    </tr>\n",
       "  </thead>\n",
       "  <tbody>\n",
       "    <tr>\n",
       "      <th>id_1</th>\n",
       "      <td>1.000000</td>\n",
       "      <td>0.000000</td>\n",
       "    </tr>\n",
       "    <tr>\n",
       "      <th>id_2</th>\n",
       "      <td>1.000000</td>\n",
       "      <td>0.000000</td>\n",
       "    </tr>\n",
       "    <tr>\n",
       "      <th>cmp_fname_c1</th>\n",
       "      <td>0.999826</td>\n",
       "      <td>0.000174</td>\n",
       "    </tr>\n",
       "    <tr>\n",
       "      <th>cmp_fname_c2</th>\n",
       "      <td>0.017870</td>\n",
       "      <td>0.982130</td>\n",
       "    </tr>\n",
       "    <tr>\n",
       "      <th>cmp_lname_c1</th>\n",
       "      <td>1.000000</td>\n",
       "      <td>0.000000</td>\n",
       "    </tr>\n",
       "    <tr>\n",
       "      <th>cmp_lname_c2</th>\n",
       "      <td>0.000347</td>\n",
       "      <td>0.999653</td>\n",
       "    </tr>\n",
       "    <tr>\n",
       "      <th>cmp_sex</th>\n",
       "      <td>1.000000</td>\n",
       "      <td>0.000000</td>\n",
       "    </tr>\n",
       "    <tr>\n",
       "      <th>cmp_bd</th>\n",
       "      <td>0.999862</td>\n",
       "      <td>0.000138</td>\n",
       "    </tr>\n",
       "    <tr>\n",
       "      <th>cmp_bm</th>\n",
       "      <td>0.999862</td>\n",
       "      <td>0.000138</td>\n",
       "    </tr>\n",
       "    <tr>\n",
       "      <th>cmp_by</th>\n",
       "      <td>0.999862</td>\n",
       "      <td>0.000138</td>\n",
       "    </tr>\n",
       "    <tr>\n",
       "      <th>cmp_plz</th>\n",
       "      <td>0.997763</td>\n",
       "      <td>0.002237</td>\n",
       "    </tr>\n",
       "    <tr>\n",
       "      <th>is_match</th>\n",
       "      <td>1.000000</td>\n",
       "      <td>0.000000</td>\n",
       "    </tr>\n",
       "  </tbody>\n",
       "</table>\n",
       "</div>"
      ],
      "text/plain": [
       "              Not null   Is null\n",
       "id_1          1.000000  0.000000\n",
       "id_2          1.000000  0.000000\n",
       "cmp_fname_c1  0.999826  0.000174\n",
       "cmp_fname_c2  0.017870  0.982130\n",
       "cmp_lname_c1  1.000000  0.000000\n",
       "cmp_lname_c2  0.000347  0.999653\n",
       "cmp_sex       1.000000  0.000000\n",
       "cmp_bd        0.999862  0.000138\n",
       "cmp_bm        0.999862  0.000138\n",
       "cmp_by        0.999862  0.000138\n",
       "cmp_plz       0.997763  0.002237\n",
       "is_match      1.000000  0.000000"
      ]
     },
     "execution_count": 116,
     "metadata": {},
     "output_type": "execute_result"
    }
   ],
   "source": [
    "distribution_not_match = df_not_match.isna().apply(pd.Series.value_counts).T.replace(np.NaN, 0)\n",
    "distribution_not_match.columns = ['Not null', 'Is null']\n",
    "distribution_not_match/num_not_match"
   ]
  },
  {
   "cell_type": "code",
   "execution_count": 148,
   "metadata": {},
   "outputs": [],
   "source": [
    "def bin_values(val):\n",
    "    if val>=0 and val<=1:\n",
    "        return '0-1'\n",
    "    elif val>1 and val<=2:\n",
    "        return '1-2'\n",
    "    elif val>2 and val<=3:\n",
    "        return '2-3'\n",
    "    elif val>3 and val<=4:\n",
    "        return '3-4'\n",
    "    elif val>4 and val<=5:\n",
    "        return '4-5'\n",
    "    elif val>5 and val<=6:\n",
    "        return '5-6'\n",
    "    elif val>6 and val<=7:\n",
    "        return '6-7'\n",
    "    elif val>7 and val<=8:\n",
    "        return '7-8'\n",
    "    elif val>8 and val<=9:\n",
    "        return '8-9'\n",
    "    elif val>9 and val<=10:\n",
    "        return '9-10'"
   ]
  },
  {
   "cell_type": "code",
   "execution_count": 193,
   "metadata": {},
   "outputs": [
    {
     "data": {
      "text/html": [
       "<div>\n",
       "<style scoped>\n",
       "    .dataframe tbody tr th:only-of-type {\n",
       "        vertical-align: middle;\n",
       "    }\n",
       "\n",
       "    .dataframe tbody tr th {\n",
       "        vertical-align: top;\n",
       "    }\n",
       "\n",
       "    .dataframe thead th {\n",
       "        text-align: right;\n",
       "    }\n",
       "</style>\n",
       "<table border=\"1\" class=\"dataframe\">\n",
       "  <thead>\n",
       "    <tr style=\"text-align: right;\">\n",
       "      <th></th>\n",
       "      <th>sum</th>\n",
       "      <th>is_match</th>\n",
       "    </tr>\n",
       "  </thead>\n",
       "  <tbody>\n",
       "    <tr>\n",
       "      <th>0</th>\n",
       "      <td>5.833333</td>\n",
       "      <td>True</td>\n",
       "    </tr>\n",
       "    <tr>\n",
       "      <th>1</th>\n",
       "      <td>7.000000</td>\n",
       "      <td>True</td>\n",
       "    </tr>\n",
       "    <tr>\n",
       "      <th>2</th>\n",
       "      <td>7.000000</td>\n",
       "      <td>True</td>\n",
       "    </tr>\n",
       "    <tr>\n",
       "      <th>3</th>\n",
       "      <td>7.000000</td>\n",
       "      <td>True</td>\n",
       "    </tr>\n",
       "    <tr>\n",
       "      <th>4</th>\n",
       "      <td>8.000000</td>\n",
       "      <td>True</td>\n",
       "    </tr>\n",
       "  </tbody>\n",
       "</table>\n",
       "</div>"
      ],
      "text/plain": [
       "        sum  is_match\n",
       "0  5.833333      True\n",
       "1  7.000000      True\n",
       "2  7.000000      True\n",
       "3  7.000000      True\n",
       "4  8.000000      True"
      ]
     },
     "execution_count": 193,
     "metadata": {},
     "output_type": "execute_result"
    }
   ],
   "source": [
    "similarity_all_col = pd.DataFrame(df[df.columns[2:-1]].replace(np.NaN, 0).sum(axis=1), columns=['sum'])\n",
    "similarity_all_col['is_match'] = df['is_match']\n",
    "similarity_all_col.head()"
   ]
  },
  {
   "cell_type": "code",
   "execution_count": 194,
   "metadata": {},
   "outputs": [
    {
     "name": "stdout",
     "output_type": "stream",
     "text": [
      "        sum  is_match\n",
      "207251  1.0     False\n",
      "        sum  is_match\n",
      "571239  6.5     False\n"
     ]
    }
   ],
   "source": [
    "not_match_sim_all_col =similarity_all_col[similarity_all_col['is_match']==False]\n",
    "print(not_match_sim_all_col.sort_values('sum', ascending=True).head(1))\n",
    "print(not_match_sim_all_col.sort_values('sum', ascending=False).head(1))"
   ]
  },
  {
   "cell_type": "code",
   "execution_count": 195,
   "metadata": {},
   "outputs": [
    {
     "name": "stdout",
     "output_type": "stream",
     "text": [
      "      sum  is_match\n",
      "1180  3.9      True\n",
      "      sum  is_match\n",
      "1174  9.0      True\n"
     ]
    }
   ],
   "source": [
    "match_sim_all_col =similarity_all_col[similarity_all_col['is_match']==True]\n",
    "print(match_sim_all_col.sort_values('sum', ascending=True).head(1))\n",
    "print(match_sim_all_col.sort_values('sum', ascending=False).head(1))"
   ]
  },
  {
   "cell_type": "code",
   "execution_count": 153,
   "metadata": {},
   "outputs": [],
   "source": [
    "bin_sim_all_col = pd.DataFrame(similarity_all_col['sum'].apply(bin_values))\n",
    "bin_sim_all_col['is_match'] = df['is_match']"
   ]
  },
  {
   "cell_type": "code",
   "execution_count": 196,
   "metadata": {},
   "outputs": [
    {
     "name": "stdout",
     "output_type": "stream",
     "text": [
      "6-7    19219\n",
      "5-6     1191\n",
      "7-8      435\n",
      "4-5       71\n",
      "3-4       15\n",
      "Name: sum, dtype: int64\n"
     ]
    },
    {
     "data": {
      "image/png": "[encoded data removed]",
      "text/plain": [
       "<Figure size 432x288 with 1 Axes>"
      ]
     },
     "metadata": {
      "needs_background": "light"
     },
     "output_type": "display_data"
    }
   ],
   "source": [
    "match_bin_sim_all_col = bin_sim_all_col[bin_sim_all_col['is_match']==True]\n",
    "print(match_bin_sim_all_col['sum'].value_counts())\n",
    "match_bin_sim_all_col['sum'].value_counts().plot(kind='bar')\n",
    "plt.title('Frequency of sum of agreement of similarity for matches')\n",
    "plt.xlabel('Similarity range')\n",
    "plt.ylabel('Frequency')\n",
    "plt.show()"
   ]
  },
  {
   "cell_type": "code",
   "execution_count": 197,
   "metadata": {},
   "outputs": [
    {
     "name": "stdout",
     "output_type": "stream",
     "text": [
      "3-4    2729922\n",
      "2-3    2064641\n",
      "1-2     663813\n",
      "4-5     264498\n",
      "5-6       2777\n",
      "0-1       2543\n",
      "6-7          7\n",
      "Name: sum, dtype: int64\n"
     ]
    },
    {
     "data": {
      "image/png": "[encoded data removed]",
      "text/plain": [
       "<Figure size 432x288 with 1 Axes>"
      ]
     },
     "metadata": {
      "needs_background": "light"
     },
     "output_type": "display_data"
    }
   ],
   "source": [
    "not_match_bin_sim_all_col = bin_sim_all_col[bin_sim_all_col['is_match']==False]\n",
    "print(not_match_bin_sim_all_col['sum'].value_counts())\n",
    "not_match_bin_sim_all_col['sum'].value_counts().plot(kind='bar')\n",
    "plt.title('Frequency of sum of agreement of similarity for non matches')\n",
    "plt.xlabel('Similarity range')\n",
    "plt.ylabel('Frequency')\n",
    "plt.show()"
   ]
  },
  {
   "cell_type": "code",
   "execution_count": 202,
   "metadata": {},
   "outputs": [
    {
     "data": {
      "text/html": [
       "<div>\n",
       "<style scoped>\n",
       "    .dataframe tbody tr th:only-of-type {\n",
       "        vertical-align: middle;\n",
       "    }\n",
       "\n",
       "    .dataframe tbody tr th {\n",
       "        vertical-align: top;\n",
       "    }\n",
       "\n",
       "    .dataframe thead th {\n",
       "        text-align: right;\n",
       "    }\n",
       "</style>\n",
       "<table border=\"1\" class=\"dataframe\">\n",
       "  <thead>\n",
       "    <tr style=\"text-align: right;\">\n",
       "      <th></th>\n",
       "      <th>sum</th>\n",
       "      <th>is_match</th>\n",
       "    </tr>\n",
       "  </thead>\n",
       "  <tbody>\n",
       "    <tr>\n",
       "      <th>0</th>\n",
       "      <td>5.0</td>\n",
       "      <td>True</td>\n",
       "    </tr>\n",
       "    <tr>\n",
       "      <th>1</th>\n",
       "      <td>6.0</td>\n",
       "      <td>True</td>\n",
       "    </tr>\n",
       "    <tr>\n",
       "      <th>2</th>\n",
       "      <td>6.0</td>\n",
       "      <td>True</td>\n",
       "    </tr>\n",
       "    <tr>\n",
       "      <th>3</th>\n",
       "      <td>6.0</td>\n",
       "      <td>True</td>\n",
       "    </tr>\n",
       "    <tr>\n",
       "      <th>4</th>\n",
       "      <td>7.0</td>\n",
       "      <td>True</td>\n",
       "    </tr>\n",
       "  </tbody>\n",
       "</table>\n",
       "</div>"
      ],
      "text/plain": [
       "   sum  is_match\n",
       "0  5.0      True\n",
       "1  6.0      True\n",
       "2  6.0      True\n",
       "3  6.0      True\n",
       "4  7.0      True"
      ]
     },
     "execution_count": 202,
     "metadata": {},
     "output_type": "execute_result"
    }
   ],
   "source": [
    "print('Column Removed: '+df.columns[2])\n",
    "similarity_all_col = pd.DataFrame(df.drop(['id_2','id_1', df.columns[2], 'is_match'],axis=1).replace(np.NaN, 0).sum(axis=1), columns=['sum'])\n",
    "similarity_all_col['is_match'] = df['is_match']\n",
    "similarity_all_col.head()"
   ]
  },
  {
   "cell_type": "code",
   "execution_count": 203,
   "metadata": {},
   "outputs": [
    {
     "name": "stdout",
     "output_type": "stream",
     "text": [
      "        sum  is_match\n",
      "300908  1.0     False\n",
      "        sum  is_match\n",
      "456458  6.0     False\n"
     ]
    }
   ],
   "source": [
    "not_match_sim_all_col =similarity_all_col[similarity_all_col['is_match']==False]\n",
    "print(not_match_sim_all_col.sort_values('sum', ascending=True).head(1))\n",
    "print(not_match_sim_all_col.sort_values('sum', ascending=False).head(1))"
   ]
  },
  {
   "cell_type": "code",
   "execution_count": 204,
   "metadata": {},
   "outputs": [
    {
     "name": "stdout",
     "output_type": "stream",
     "text": [
      "     sum  is_match\n",
      "133  3.0      True\n",
      "     sum  is_match\n",
      "604  8.0      True\n"
     ]
    }
   ],
   "source": [
    "match_sim_all_col =similarity_all_col[similarity_all_col['is_match']==True]\n",
    "print(match_sim_all_col.sort_values('sum', ascending=True).head(1))\n",
    "print(match_sim_all_col.sort_values('sum', ascending=False).head(1))"
   ]
  },
  {
   "cell_type": "code",
   "execution_count": 205,
   "metadata": {},
   "outputs": [],
   "source": [
    "bin_sim_all_col = pd.DataFrame(similarity_all_col['sum'].apply(bin_values))\n",
    "bin_sim_all_col['is_match'] = df['is_match']"
   ]
  },
  {
   "cell_type": "code",
   "execution_count": 206,
   "metadata": {},
   "outputs": [
    {
     "name": "stdout",
     "output_type": "stream",
     "text": [
      "5-6    18061\n",
      "6-7     1664\n",
      "4-5     1115\n",
      "3-4       65\n",
      "7-8       14\n",
      "2-3       12\n",
      "Name: sum, dtype: int64\n"
     ]
    },
    {
     "data": {
      "image/png": "[encoded data removed]",
      "text/plain": [
       "<Figure size 432x288 with 1 Axes>"
      ]
     },
     "metadata": {
      "needs_background": "light"
     },
     "output_type": "display_data"
    }
   ],
   "source": [
    "match_bin_sim_all_col = bin_sim_all_col[bin_sim_all_col['is_match']==True]\n",
    "print(match_bin_sim_all_col['sum'].value_counts())\n",
    "match_bin_sim_all_col['sum'].value_counts().plot(kind='bar')\n",
    "plt.title('Frequency of sum of agreement of similarity for matches')\n",
    "plt.xlabel('Similarity range')\n",
    "plt.ylabel('Frequency')\n",
    "plt.show()"
   ]
  },
  {
   "cell_type": "code",
   "execution_count": 207,
   "metadata": {},
   "outputs": [
    {
     "name": "stdout",
     "output_type": "stream",
     "text": [
      "2-3    2951965\n",
      "1-2    2270213\n",
      "3-4     352363\n",
      "4-5     116354\n",
      "0-1      37039\n",
      "5-6        267\n",
      "Name: sum, dtype: int64\n"
     ]
    },
    {
     "data": {
      "image/png": "[encoded data removed]",
      "text/plain": [
       "<Figure size 432x288 with 1 Axes>"
      ]
     },
     "metadata": {
      "needs_background": "light"
     },
     "output_type": "display_data"
    }
   ],
   "source": [
    "not_match_bin_sim_all_col = bin_sim_all_col[bin_sim_all_col['is_match']==False]\n",
    "print(not_match_bin_sim_all_col['sum'].value_counts())\n",
    "not_match_bin_sim_all_col['sum'].value_counts().plot(kind='bar')\n",
    "plt.title('Frequency of sum of agreement of similarity for non matches')\n",
    "plt.xlabel('Similarity range')\n",
    "plt.ylabel('Frequency')\n",
    "plt.show()"
   ]
  },
  {
   "cell_type": "code",
   "execution_count": 208,
   "metadata": {},
   "outputs": [
    {
     "data": {
      "text/html": [
       "<div>\n",
       "<style scoped>\n",
       "    .dataframe tbody tr th:only-of-type {\n",
       "        vertical-align: middle;\n",
       "    }\n",
       "\n",
       "    .dataframe tbody tr th {\n",
       "        vertical-align: top;\n",
       "    }\n",
       "\n",
       "    .dataframe thead th {\n",
       "        text-align: right;\n",
       "    }\n",
       "</style>\n",
       "<table border=\"1\" class=\"dataframe\">\n",
       "  <thead>\n",
       "    <tr style=\"text-align: right;\">\n",
       "      <th></th>\n",
       "      <th>sum</th>\n",
       "      <th>is_match</th>\n",
       "    </tr>\n",
       "  </thead>\n",
       "  <tbody>\n",
       "    <tr>\n",
       "      <th>0</th>\n",
       "      <td>5.833333</td>\n",
       "      <td>True</td>\n",
       "    </tr>\n",
       "    <tr>\n",
       "      <th>1</th>\n",
       "      <td>7.000000</td>\n",
       "      <td>True</td>\n",
       "    </tr>\n",
       "    <tr>\n",
       "      <th>2</th>\n",
       "      <td>7.000000</td>\n",
       "      <td>True</td>\n",
       "    </tr>\n",
       "    <tr>\n",
       "      <th>3</th>\n",
       "      <td>7.000000</td>\n",
       "      <td>True</td>\n",
       "    </tr>\n",
       "    <tr>\n",
       "      <th>4</th>\n",
       "      <td>8.000000</td>\n",
       "      <td>True</td>\n",
       "    </tr>\n",
       "  </tbody>\n",
       "</table>\n",
       "</div>"
      ],
      "text/plain": [
       "        sum  is_match\n",
       "0  5.833333      True\n",
       "1  7.000000      True\n",
       "2  7.000000      True\n",
       "3  7.000000      True\n",
       "4  8.000000      True"
      ]
     },
     "execution_count": 208,
     "metadata": {},
     "output_type": "execute_result"
    }
   ],
   "source": [
    "print('Column Removed: '+df.columns[3])\n",
    "similarity_all_col = pd.DataFrame(df.drop(['id_2','id_1', df.columns[3], 'is_match'],axis=1).replace(np.NaN, 0).sum(axis=1), columns=['sum'])\n",
    "similarity_all_col['is_match'] = df['is_match']\n",
    "similarity_all_col.head()"
   ]
  },
  {
   "cell_type": "code",
   "execution_count": 209,
   "metadata": {},
   "outputs": [
    {
     "name": "stdout",
     "output_type": "stream",
     "text": [
      "        sum  is_match\n",
      "197020  1.0     False\n",
      "             sum  is_match\n",
      "534722  6.333333     False\n"
     ]
    }
   ],
   "source": [
    "not_match_sim_all_col =similarity_all_col[similarity_all_col['is_match']==False]\n",
    "print(not_match_sim_all_col.sort_values('sum', ascending=True).head(1))\n",
    "print(not_match_sim_all_col.sort_values('sum', ascending=False).head(1))"
   ]
  },
  {
   "cell_type": "code",
   "execution_count": 210,
   "metadata": {},
   "outputs": [
    {
     "name": "stdout",
     "output_type": "stream",
     "text": [
      "      sum  is_match\n",
      "1180  3.9      True\n",
      "      sum  is_match\n",
      "1187  8.0      True\n"
     ]
    }
   ],
   "source": [
    "match_sim_all_col =similarity_all_col[similarity_all_col['is_match']==True]\n",
    "print(match_sim_all_col.sort_values('sum', ascending=True).head(1))\n",
    "print(match_sim_all_col.sort_values('sum', ascending=False).head(1))"
   ]
  },
  {
   "cell_type": "code",
   "execution_count": 211,
   "metadata": {},
   "outputs": [
    {
     "data": {
      "image/png": "[encoded data removed]",
      "text/plain": [
       "<Figure size 432x288 with 1 Axes>"
      ]
     },
     "metadata": {
      "needs_background": "light"
     },
     "output_type": "display_data"
    }
   ],
   "source": [
    "bin_sim_all_col = pd.DataFrame(similarity_all_col['sum'].apply(bin_values))\n",
    "bin_sim_all_col['is_match'] = df['is_match']\n",
    "match_bin_sim_all_col = bin_sim_all_col[bin_sim_all_col['is_match']==True]\n",
    "match_bin_sim_all_col['sum'].value_counts().plot(kind='bar')\n",
    "plt.title('Frequency of sum of agreement of similarity for matches')\n",
    "plt.xlabel('Similarity range')\n",
    "plt.ylabel('Frequency')\n",
    "plt.show()"
   ]
  },
  {
   "cell_type": "code",
   "execution_count": 212,
   "metadata": {},
   "outputs": [
    {
     "data": {
      "image/png": "[encoded data removed]",
      "text/plain": [
       "<Figure size 432x288 with 1 Axes>"
      ]
     },
     "metadata": {
      "needs_background": "light"
     },
     "output_type": "display_data"
    }
   ],
   "source": [
    "not_match_bin_sim_all_col = bin_sim_all_col[bin_sim_all_col['is_match']==False]\n",
    "not_match_bin_sim_all_col['sum'].value_counts().plot(kind='bar')\n",
    "plt.title('Frequency of sum of agreement of similarity for non matches')\n",
    "plt.xlabel('Similarity range')\n",
    "plt.ylabel('Frequency')\n",
    "plt.show()"
   ]
  },
  {
   "cell_type": "code",
   "execution_count": 213,
   "metadata": {},
   "outputs": [
    {
     "data": {
      "text/html": [
       "<div>\n",
       "<style scoped>\n",
       "    .dataframe tbody tr th:only-of-type {\n",
       "        vertical-align: middle;\n",
       "    }\n",
       "\n",
       "    .dataframe tbody tr th {\n",
       "        vertical-align: top;\n",
       "    }\n",
       "\n",
       "    .dataframe thead th {\n",
       "        text-align: right;\n",
       "    }\n",
       "</style>\n",
       "<table border=\"1\" class=\"dataframe\">\n",
       "  <thead>\n",
       "    <tr style=\"text-align: right;\">\n",
       "      <th></th>\n",
       "      <th>sum</th>\n",
       "      <th>is_match</th>\n",
       "    </tr>\n",
       "  </thead>\n",
       "  <tbody>\n",
       "    <tr>\n",
       "      <th>0</th>\n",
       "      <td>4.833333</td>\n",
       "      <td>True</td>\n",
       "    </tr>\n",
       "    <tr>\n",
       "      <th>1</th>\n",
       "      <td>6.000000</td>\n",
       "      <td>True</td>\n",
       "    </tr>\n",
       "    <tr>\n",
       "      <th>2</th>\n",
       "      <td>6.000000</td>\n",
       "      <td>True</td>\n",
       "    </tr>\n",
       "    <tr>\n",
       "      <th>3</th>\n",
       "      <td>6.000000</td>\n",
       "      <td>True</td>\n",
       "    </tr>\n",
       "    <tr>\n",
       "      <th>4</th>\n",
       "      <td>7.000000</td>\n",
       "      <td>True</td>\n",
       "    </tr>\n",
       "  </tbody>\n",
       "</table>\n",
       "</div>"
      ],
      "text/plain": [
       "        sum  is_match\n",
       "0  4.833333      True\n",
       "1  6.000000      True\n",
       "2  6.000000      True\n",
       "3  6.000000      True\n",
       "4  7.000000      True"
      ]
     },
     "execution_count": 213,
     "metadata": {},
     "output_type": "execute_result"
    }
   ],
   "source": [
    "print('Column Removed: '+df.columns[4])\n",
    "similarity_all_col = pd.DataFrame(df.drop(['id_2','id_1', df.columns[4], 'is_match'],axis=1).replace(np.NaN, 0).sum(axis=1), columns=['sum'])\n",
    "similarity_all_col['is_match'] = df['is_match']\n",
    "similarity_all_col.head()"
   ]
  },
  {
   "cell_type": "code",
   "execution_count": 214,
   "metadata": {},
   "outputs": [
    {
     "name": "stdout",
     "output_type": "stream",
     "text": [
      "        sum  is_match\n",
      "409454  1.0     False\n",
      "             sum  is_match\n",
      "562117  6.166667     False\n"
     ]
    }
   ],
   "source": [
    "not_match_sim_all_col =similarity_all_col[similarity_all_col['is_match']==False]\n",
    "print(not_match_sim_all_col.sort_values('sum', ascending=True).head(1))\n",
    "print(not_match_sim_all_col.sort_values('sum', ascending=False).head(1))"
   ]
  },
  {
   "cell_type": "code",
   "execution_count": 215,
   "metadata": {},
   "outputs": [
    {
     "name": "stdout",
     "output_type": "stream",
     "text": [
      "      sum  is_match\n",
      "1180  2.9      True\n",
      "      sum  is_match\n",
      "1546  8.0      True\n"
     ]
    }
   ],
   "source": [
    "match_sim_all_col =similarity_all_col[similarity_all_col['is_match']==True]\n",
    "print(match_sim_all_col.sort_values('sum', ascending=True).head(1))\n",
    "print(match_sim_all_col.sort_values('sum', ascending=False).head(1))"
   ]
  },
  {
   "cell_type": "code",
   "execution_count": 216,
   "metadata": {},
   "outputs": [
    {
     "name": "stdout",
     "output_type": "stream",
     "text": [
      "5-6    18058\n",
      "6-7     1669\n",
      "4-5     1109\n",
      "3-4       67\n",
      "7-8       15\n",
      "2-3       13\n",
      "Name: sum, dtype: int64\n"
     ]
    },
    {
     "data": {
      "image/png": "[encoded data removed]",
      "text/plain": [
       "<Figure size 432x288 with 1 Axes>"
      ]
     },
     "metadata": {
      "needs_background": "light"
     },
     "output_type": "display_data"
    }
   ],
   "source": [
    "bin_sim_all_col = pd.DataFrame(similarity_all_col['sum'].apply(bin_values))\n",
    "bin_sim_all_col['is_match'] = df['is_match']\n",
    "match_bin_sim_all_col = bin_sim_all_col[bin_sim_all_col['is_match']==True]\n",
    "print(match_bin_sim_all_col['sum'].value_counts())\n",
    "match_bin_sim_all_col['sum'].value_counts().plot(kind='bar')\n",
    "plt.title('Frequency of sum of agreement of similarity for matches')\n",
    "plt.xlabel('Similarity range')\n",
    "plt.ylabel('Frequency')\n",
    "plt.show()"
   ]
  },
  {
   "cell_type": "code",
   "execution_count": 217,
   "metadata": {},
   "outputs": [
    {
     "name": "stdout",
     "output_type": "stream",
     "text": [
      "2-3    3824998\n",
      "1-2    1059483\n",
      "3-4     415464\n",
      "0-1     307821\n",
      "4-5     120057\n",
      "5-6        377\n",
      "6-7          1\n",
      "Name: sum, dtype: int64\n"
     ]
    },
    {
     "data": {
      "image/png": "[encoded data removed]",
      "text/plain": [
       "<Figure size 432x288 with 1 Axes>"
      ]
     },
     "metadata": {
      "needs_background": "light"
     },
     "output_type": "display_data"
    }
   ],
   "source": [
    "not_match_bin_sim_all_col = bin_sim_all_col[bin_sim_all_col['is_match']==False]\n",
    "print(not_match_bin_sim_all_col['sum'].value_counts())\n",
    "not_match_bin_sim_all_col['sum'].value_counts().plot(kind='bar')\n",
    "plt.title('Frequency of sum of agreement of similarity for non matches')\n",
    "plt.xlabel('Similarity range')\n",
    "plt.ylabel('Frequency')\n",
    "plt.show()"
   ]
  },
  {
   "cell_type": "code",
   "execution_count": 225,
   "metadata": {},
   "outputs": [
    {
     "name": "stdout",
     "output_type": "stream",
     "text": [
      "Column Removed: cmp_lname_c2\n"
     ]
    },
    {
     "data": {
      "text/html": [
       "<div>\n",
       "<style scoped>\n",
       "    .dataframe tbody tr th:only-of-type {\n",
       "        vertical-align: middle;\n",
       "    }\n",
       "\n",
       "    .dataframe tbody tr th {\n",
       "        vertical-align: top;\n",
       "    }\n",
       "\n",
       "    .dataframe thead th {\n",
       "        text-align: right;\n",
       "    }\n",
       "</style>\n",
       "<table border=\"1\" class=\"dataframe\">\n",
       "  <thead>\n",
       "    <tr style=\"text-align: right;\">\n",
       "      <th></th>\n",
       "      <th>sum</th>\n",
       "      <th>is_match</th>\n",
       "    </tr>\n",
       "  </thead>\n",
       "  <tbody>\n",
       "    <tr>\n",
       "      <th>0</th>\n",
       "      <td>5.833333</td>\n",
       "      <td>True</td>\n",
       "    </tr>\n",
       "    <tr>\n",
       "      <th>1</th>\n",
       "      <td>7.000000</td>\n",
       "      <td>True</td>\n",
       "    </tr>\n",
       "    <tr>\n",
       "      <th>2</th>\n",
       "      <td>7.000000</td>\n",
       "      <td>True</td>\n",
       "    </tr>\n",
       "    <tr>\n",
       "      <th>3</th>\n",
       "      <td>7.000000</td>\n",
       "      <td>True</td>\n",
       "    </tr>\n",
       "    <tr>\n",
       "      <th>4</th>\n",
       "      <td>7.000000</td>\n",
       "      <td>True</td>\n",
       "    </tr>\n",
       "  </tbody>\n",
       "</table>\n",
       "</div>"
      ],
      "text/plain": [
       "        sum  is_match\n",
       "0  5.833333      True\n",
       "1  7.000000      True\n",
       "2  7.000000      True\n",
       "3  7.000000      True\n",
       "4  7.000000      True"
      ]
     },
     "execution_count": 225,
     "metadata": {},
     "output_type": "execute_result"
    }
   ],
   "source": [
    "print('Column Removed: '+df.columns[5])\n",
    "similarity_all_col = pd.DataFrame(df.drop(['id_2','id_1', df.columns[5], 'is_match'],axis=1).replace(np.NaN, 0).sum(axis=1), columns=['sum'])\n",
    "similarity_all_col['is_match'] = df['is_match']\n",
    "similarity_all_col.head()"
   ]
  },
  {
   "cell_type": "code",
   "execution_count": 219,
   "metadata": {},
   "outputs": [
    {
     "name": "stdout",
     "output_type": "stream",
     "text": [
      "        sum  is_match\n",
      "503570  1.0     False\n",
      "        sum  is_match\n",
      "571239  6.5     False\n"
     ]
    }
   ],
   "source": [
    "not_match_sim_all_col =similarity_all_col[similarity_all_col['is_match']==False]\n",
    "print(not_match_sim_all_col.sort_values('sum', ascending=True).head(1))\n",
    "print(not_match_sim_all_col.sort_values('sum', ascending=False).head(1))"
   ]
  },
  {
   "cell_type": "code",
   "execution_count": 220,
   "metadata": {},
   "outputs": [
    {
     "name": "stdout",
     "output_type": "stream",
     "text": [
      "      sum  is_match\n",
      "1180  3.9      True\n",
      "      sum  is_match\n",
      "2005  8.0      True\n"
     ]
    }
   ],
   "source": [
    "match_sim_all_col =similarity_all_col[similarity_all_col['is_match']==True]\n",
    "print(match_sim_all_col.sort_values('sum', ascending=True).head(1))\n",
    "print(match_sim_all_col.sort_values('sum', ascending=False).head(1))"
   ]
  },
  {
   "cell_type": "code",
   "execution_count": 221,
   "metadata": {},
   "outputs": [
    {
     "name": "stdout",
     "output_type": "stream",
     "text": [
      "6-7    18443\n",
      "7-8     1256\n",
      "5-6     1148\n",
      "4-5       70\n",
      "3-4       14\n",
      "Name: sum, dtype: int64\n"
     ]
    },
    {
     "data": {
      "image/png": "[encoded data removed]",
      "text/plain": [
       "<Figure size 432x288 with 1 Axes>"
      ]
     },
     "metadata": {
      "needs_background": "light"
     },
     "output_type": "display_data"
    }
   ],
   "source": [
    "bin_sim_all_col = pd.DataFrame(similarity_all_col['sum'].apply(bin_values))\n",
    "bin_sim_all_col['is_match'] = df['is_match']\n",
    "match_bin_sim_all_col = bin_sim_all_col[bin_sim_all_col['is_match']==True]\n",
    "print(match_bin_sim_all_col['sum'].value_counts())\n",
    "match_bin_sim_all_col['sum'].value_counts().plot(kind='bar')\n",
    "plt.title('Frequency of sum of agreement of similarity for matches')\n",
    "plt.xlabel('Similarity range')\n",
    "plt.ylabel('Frequency')\n",
    "plt.show()"
   ]
  },
  {
   "cell_type": "code",
   "execution_count": 222,
   "metadata": {},
   "outputs": [
    {
     "name": "stdout",
     "output_type": "stream",
     "text": [
      "3-4    2700632\n",
      "2-3    2037189\n",
      "1-2     662155\n",
      "4-5     320034\n",
      "5-6       5592\n",
      "0-1       2543\n",
      "6-7         56\n",
      "Name: sum, dtype: int64\n"
     ]
    },
    {
     "data": {
      "image/png": "[encoded data removed]",
      "text/plain": [
       "<Figure size 432x288 with 1 Axes>"
      ]
     },
     "metadata": {
      "needs_background": "light"
     },
     "output_type": "display_data"
    }
   ],
   "source": [
    "not_match_bin_sim_all_col = bin_sim_all_col[bin_sim_all_col['is_match']==False]\n",
    "print(not_match_bin_sim_all_col['sum'].value_counts())\n",
    "not_match_bin_sim_all_col['sum'].value_counts().plot(kind='bar')\n",
    "plt.title('Frequency of sum of agreement of similarity for non matches')\n",
    "plt.xlabel('Similarity range')\n",
    "plt.ylabel('Frequency')\n",
    "plt.show()"
   ]
  },
  {
   "cell_type": "code",
   "execution_count": 226,
   "metadata": {},
   "outputs": [
    {
     "name": "stdout",
     "output_type": "stream",
     "text": [
      "Column Removed: cmp_sex\n"
     ]
    },
    {
     "data": {
      "text/html": [
       "<div>\n",
       "<style scoped>\n",
       "    .dataframe tbody tr th:only-of-type {\n",
       "        vertical-align: middle;\n",
       "    }\n",
       "\n",
       "    .dataframe tbody tr th {\n",
       "        vertical-align: top;\n",
       "    }\n",
       "\n",
       "    .dataframe thead th {\n",
       "        text-align: right;\n",
       "    }\n",
       "</style>\n",
       "<table border=\"1\" class=\"dataframe\">\n",
       "  <thead>\n",
       "    <tr style=\"text-align: right;\">\n",
       "      <th></th>\n",
       "      <th>sum</th>\n",
       "      <th>is_match</th>\n",
       "    </tr>\n",
       "  </thead>\n",
       "  <tbody>\n",
       "    <tr>\n",
       "      <th>0</th>\n",
       "      <td>4.833333</td>\n",
       "      <td>True</td>\n",
       "    </tr>\n",
       "    <tr>\n",
       "      <th>1</th>\n",
       "      <td>6.000000</td>\n",
       "      <td>True</td>\n",
       "    </tr>\n",
       "    <tr>\n",
       "      <th>2</th>\n",
       "      <td>6.000000</td>\n",
       "      <td>True</td>\n",
       "    </tr>\n",
       "    <tr>\n",
       "      <th>3</th>\n",
       "      <td>6.000000</td>\n",
       "      <td>True</td>\n",
       "    </tr>\n",
       "    <tr>\n",
       "      <th>4</th>\n",
       "      <td>7.000000</td>\n",
       "      <td>True</td>\n",
       "    </tr>\n",
       "  </tbody>\n",
       "</table>\n",
       "</div>"
      ],
      "text/plain": [
       "        sum  is_match\n",
       "0  4.833333      True\n",
       "1  6.000000      True\n",
       "2  6.000000      True\n",
       "3  6.000000      True\n",
       "4  7.000000      True"
      ]
     },
     "execution_count": 226,
     "metadata": {},
     "output_type": "execute_result"
    }
   ],
   "source": [
    "print('Column Removed: '+df.columns[6])\n",
    "similarity_all_col = pd.DataFrame(df.drop(['id_2','id_1', df.columns[6], 'is_match'],axis=1).replace(np.NaN, 0).sum(axis=1), columns=['sum'])\n",
    "similarity_all_col['is_match'] = df['is_match']\n",
    "similarity_all_col.head()"
   ]
  },
  {
   "cell_type": "code",
   "execution_count": 227,
   "metadata": {},
   "outputs": [
    {
     "name": "stdout",
     "output_type": "stream",
     "text": [
      "        sum  is_match\n",
      "508200  0.0     False\n",
      "        sum  is_match\n",
      "571239  5.5     False\n"
     ]
    }
   ],
   "source": [
    "not_match_sim_all_col =similarity_all_col[similarity_all_col['is_match']==False]\n",
    "print(not_match_sim_all_col.sort_values('sum', ascending=True).head(1))\n",
    "print(not_match_sim_all_col.sort_values('sum', ascending=False).head(1))"
   ]
  },
  {
   "cell_type": "code",
   "execution_count": 228,
   "metadata": {},
   "outputs": [
    {
     "name": "stdout",
     "output_type": "stream",
     "text": [
      "      sum  is_match\n",
      "1180  2.9      True\n",
      "      sum  is_match\n",
      "1174  8.0      True\n"
     ]
    }
   ],
   "source": [
    "match_sim_all_col =similarity_all_col[similarity_all_col['is_match']==True]\n",
    "print(match_sim_all_col.sort_values('sum', ascending=True).head(1))\n",
    "print(match_sim_all_col.sort_values('sum', ascending=False).head(1))"
   ]
  },
  {
   "cell_type": "code",
   "execution_count": 229,
   "metadata": {},
   "outputs": [
    {
     "name": "stdout",
     "output_type": "stream",
     "text": [
      "5-6    18256\n",
      "6-7     1672\n",
      "4-5      942\n",
      "3-4       33\n",
      "7-8       15\n",
      "2-3       13\n",
      "Name: sum, dtype: int64\n"
     ]
    },
    {
     "data": {
      "image/png": "[encoded data removed]",
      "text/plain": [
       "<Figure size 432x288 with 1 Axes>"
      ]
     },
     "metadata": {
      "needs_background": "light"
     },
     "output_type": "display_data"
    }
   ],
   "source": [
    "bin_sim_all_col = pd.DataFrame(similarity_all_col['sum'].apply(bin_values))\n",
    "bin_sim_all_col['is_match'] = df['is_match']\n",
    "match_bin_sim_all_col = bin_sim_all_col[bin_sim_all_col['is_match']==True]\n",
    "print(match_bin_sim_all_col['sum'].value_counts())\n",
    "match_bin_sim_all_col['sum'].value_counts().plot(kind='bar')\n",
    "plt.title('Frequency of sum of agreement of similarity for matches')\n",
    "plt.xlabel('Similarity range')\n",
    "plt.ylabel('Frequency')\n",
    "plt.show()"
   ]
  },
  {
   "cell_type": "code",
   "execution_count": 230,
   "metadata": {},
   "outputs": [
    {
     "name": "stdout",
     "output_type": "stream",
     "text": [
      "2-3    2627443\n",
      "1-2    2011503\n",
      "0-1     619583\n",
      "3-4     463539\n",
      "4-5       6076\n",
      "5-6         57\n",
      "Name: sum, dtype: int64\n"
     ]
    },
    {
     "data": {
      "image/png": "[encoded data removed]",
      "text/plain": [
       "<Figure size 432x288 with 1 Axes>"
      ]
     },
     "metadata": {
      "needs_background": "light"
     },
     "output_type": "display_data"
    }
   ],
   "source": [
    "not_match_bin_sim_all_col = bin_sim_all_col[bin_sim_all_col['is_match']==False]\n",
    "print(not_match_bin_sim_all_col['sum'].value_counts())\n",
    "not_match_bin_sim_all_col['sum'].value_counts().plot(kind='bar')\n",
    "plt.title('Frequency of sum of agreement of similarity for non matches')\n",
    "plt.xlabel('Similarity range')\n",
    "plt.ylabel('Frequency')\n",
    "plt.show()"
   ]
  },
  {
   "cell_type": "code",
   "execution_count": 231,
   "metadata": {},
   "outputs": [
    {
     "name": "stdout",
     "output_type": "stream",
     "text": [
      "Column Removed: cmp_bd\n"
     ]
    },
    {
     "data": {
      "text/html": [
       "<div>\n",
       "<style scoped>\n",
       "    .dataframe tbody tr th:only-of-type {\n",
       "        vertical-align: middle;\n",
       "    }\n",
       "\n",
       "    .dataframe tbody tr th {\n",
       "        vertical-align: top;\n",
       "    }\n",
       "\n",
       "    .dataframe thead th {\n",
       "        text-align: right;\n",
       "    }\n",
       "</style>\n",
       "<table border=\"1\" class=\"dataframe\">\n",
       "  <thead>\n",
       "    <tr style=\"text-align: right;\">\n",
       "      <th></th>\n",
       "      <th>sum</th>\n",
       "      <th>is_match</th>\n",
       "    </tr>\n",
       "  </thead>\n",
       "  <tbody>\n",
       "    <tr>\n",
       "      <th>0</th>\n",
       "      <td>4.833333</td>\n",
       "      <td>True</td>\n",
       "    </tr>\n",
       "    <tr>\n",
       "      <th>1</th>\n",
       "      <td>6.000000</td>\n",
       "      <td>True</td>\n",
       "    </tr>\n",
       "    <tr>\n",
       "      <th>2</th>\n",
       "      <td>6.000000</td>\n",
       "      <td>True</td>\n",
       "    </tr>\n",
       "    <tr>\n",
       "      <th>3</th>\n",
       "      <td>6.000000</td>\n",
       "      <td>True</td>\n",
       "    </tr>\n",
       "    <tr>\n",
       "      <th>4</th>\n",
       "      <td>7.000000</td>\n",
       "      <td>True</td>\n",
       "    </tr>\n",
       "  </tbody>\n",
       "</table>\n",
       "</div>"
      ],
      "text/plain": [
       "        sum  is_match\n",
       "0  4.833333      True\n",
       "1  6.000000      True\n",
       "2  6.000000      True\n",
       "3  6.000000      True\n",
       "4  7.000000      True"
      ]
     },
     "execution_count": 231,
     "metadata": {},
     "output_type": "execute_result"
    }
   ],
   "source": [
    "print('Column Removed: '+df.columns[7])\n",
    "similarity_all_col = pd.DataFrame(df.drop(['id_2','id_1', df.columns[7], 'is_match'],axis=1).replace(np.NaN, 0).sum(axis=1), columns=['sum'])\n",
    "similarity_all_col['is_match'] = df['is_match']\n",
    "similarity_all_col.head()"
   ]
  },
  {
   "cell_type": "code",
   "execution_count": 232,
   "metadata": {},
   "outputs": [
    {
     "name": "stdout",
     "output_type": "stream",
     "text": [
      "        sum  is_match\n",
      "558232  0.0     False\n",
      "         sum  is_match\n",
      "215567  5.75     False\n"
     ]
    }
   ],
   "source": [
    "not_match_sim_all_col =similarity_all_col[similarity_all_col['is_match']==False]\n",
    "print(not_match_sim_all_col.sort_values('sum', ascending=True).head(1))\n",
    "print(not_match_sim_all_col.sort_values('sum', ascending=False).head(1))"
   ]
  },
  {
   "cell_type": "code",
   "execution_count": 233,
   "metadata": {},
   "outputs": [
    {
     "name": "stdout",
     "output_type": "stream",
     "text": [
      "     sum  is_match\n",
      "358  3.0      True\n",
      "      sum  is_match\n",
      "1546  8.0      True\n"
     ]
    }
   ],
   "source": [
    "match_sim_all_col =similarity_all_col[similarity_all_col['is_match']==True]\n",
    "print(match_sim_all_col.sort_values('sum', ascending=True).head(1))\n",
    "print(match_sim_all_col.sort_values('sum', ascending=False).head(1))"
   ]
  },
  {
   "cell_type": "code",
   "execution_count": 234,
   "metadata": {},
   "outputs": [
    {
     "name": "stdout",
     "output_type": "stream",
     "text": [
      "5-6    18075\n",
      "6-7     1670\n",
      "4-5     1104\n",
      "3-4       66\n",
      "7-8       14\n",
      "2-3        2\n",
      "Name: sum, dtype: int64\n"
     ]
    },
    {
     "data": {
      "image/png": "[encoded data removed]",
      "text/plain": [
       "<Figure size 432x288 with 1 Axes>"
      ]
     },
     "metadata": {
      "needs_background": "light"
     },
     "output_type": "display_data"
    }
   ],
   "source": [
    "bin_sim_all_col = pd.DataFrame(similarity_all_col['sum'].apply(bin_values))\n",
    "bin_sim_all_col['is_match'] = df['is_match']\n",
    "match_bin_sim_all_col = bin_sim_all_col[bin_sim_all_col['is_match']==True]\n",
    "print(match_bin_sim_all_col['sum'].value_counts())\n",
    "match_bin_sim_all_col['sum'].value_counts().plot(kind='bar')\n",
    "plt.title('Frequency of sum of agreement of similarity for matches')\n",
    "plt.xlabel('Similarity range')\n",
    "plt.ylabel('Frequency')\n",
    "plt.show()"
   ]
  },
  {
   "cell_type": "code",
   "execution_count": 235,
   "metadata": {},
   "outputs": [
    {
     "name": "stdout",
     "output_type": "stream",
     "text": [
      "2-3    2430384\n",
      "3-4    2209657\n",
      "1-2     971325\n",
      "4-5     102452\n",
      "0-1      12974\n",
      "5-6       1409\n",
      "Name: sum, dtype: int64\n"
     ]
    },
    {
     "data": {
      "image/png": "[encoded data removed]",
      "text/plain": [
       "<Figure size 432x288 with 1 Axes>"
      ]
     },
     "metadata": {
      "needs_background": "light"
     },
     "output_type": "display_data"
    }
   ],
   "source": [
    "not_match_bin_sim_all_col = bin_sim_all_col[bin_sim_all_col['is_match']==False]\n",
    "print(not_match_bin_sim_all_col['sum'].value_counts())\n",
    "not_match_bin_sim_all_col['sum'].value_counts().plot(kind='bar')\n",
    "plt.title('Frequency of sum of agreement of similarity for non matches')\n",
    "plt.xlabel('Similarity range')\n",
    "plt.ylabel('Frequency')\n",
    "plt.show()"
   ]
  },
  {
   "cell_type": "code",
   "execution_count": null,
   "metadata": {},
   "outputs": [],
   "source": []
  }
 ],
 "metadata": {
  "kernelspec": {
   "display_name": "Python 3",
   "language": "python",
   "name": "python3"
  },
  "language_info": {
   "codemirror_mode": {
    "name": "ipython",
    "version": 3
   },
   "file_extension": ".py",
   "mimetype": "text/x-python",
   "name": "python",
   "nbconvert_exporter": "python",
   "pygments_lexer": "ipython3",
   "version": "3.7.3"
  }
 },
 "nbformat": 4,
 "nbformat_minor": 2
}
