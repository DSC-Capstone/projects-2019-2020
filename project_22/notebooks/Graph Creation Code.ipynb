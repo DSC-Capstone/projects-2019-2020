{
 "cells": [
  {
   "cell_type": "code",
   "execution_count": null,
   "metadata": {},
   "outputs": [],
   "source": [
    "import pandas as pd\n",
    "import numpy as np\n",
    "import os\n",
    "from sklearn.feature_extraction.text import CountVectorizer, TfidfVectorizer\n",
    "import re"
   ]
  },
  {
   "cell_type": "code",
   "execution_count": null,
   "metadata": {},
   "outputs": [],
   "source": [
    "base_path = '/Users/udaisingh/Downloads/kdd-cup-2013-author-disambiguation/dataRev2/'"
   ]
  },
  {
   "cell_type": "code",
   "execution_count": null,
   "metadata": {},
   "outputs": [],
   "source": [
    "paths = [os.path.join(base_path, x) for x in os.listdir(base_path)]"
   ]
  },
  {
   "cell_type": "code",
   "execution_count": null,
   "metadata": {},
   "outputs": [],
   "source": [
    "data = [pd.read_csv(x, nrows = 5) for x in paths]"
   ]
  },
  {
   "cell_type": "code",
   "execution_count": null,
   "metadata": {},
   "outputs": [],
   "source": [
    "for i in paths:\n",
    "    print(i)"
   ]
  },
  {
   "cell_type": "code",
   "execution_count": null,
   "metadata": {},
   "outputs": [],
   "source": [
    "[display(x) for x in data]"
   ]
  },
  {
   "cell_type": "code",
   "execution_count": null,
   "metadata": {},
   "outputs": [],
   "source": []
  },
  {
   "cell_type": "code",
   "execution_count": null,
   "metadata": {},
   "outputs": [],
   "source": []
  },
  {
   "cell_type": "code",
   "execution_count": null,
   "metadata": {},
   "outputs": [],
   "source": [
    "class graphEmbedder:\n",
    "    \n",
    "    def __init__(self):\n",
    "        self.entityNodes = set()\n",
    "        self.Graphs = []\n",
    "    \n",
    "    def defineKeys(self,df,idCol):\n",
    "        temp = set([str(x) for x in df[idCol]])\n",
    "        self.entityNodes.update(temp)\n",
    "    \n",
    "    def embeddOrdinal(self,dfs,idCol,column,name,bins=10, equalBinSize = True):\n",
    "        df = pd.concat([df[[idCol,column]] for df in dfs])\n",
    "        if equalBinSize: temp = pd.qcut(df[column], q = bins)\n",
    "        else: temp = temp = pd.cut(df[column], bins = bins)\n",
    "        \n",
    "        tempDf = df[[idCol]].copy(deep=True)\n",
    "        tempDf['temp'] = temp\n",
    "        graph = dict(tempDf.dropna().to_numpy())\n",
    "        self.Graphs.append((name,graph))\n",
    "        return True\n",
    "    \n",
    "    def embeddText(self,dfs,idCol, column,name, min_df = 0.01, method = 'BagOfWords'):\n",
    "        df = pd.concat([df[[idCol,column]] for df in dfs])\n",
    "        temp = df[[idCol, column]]\n",
    "        temp = temp.dropna()\n",
    "        if method == 'BagOfWords': vectorizer = CountVectorizer(min_df=min_df, ngram_range = (1,1))\n",
    "        \n",
    "        output = CV.fit_transform(temp[column]).toarray()\n",
    "        tokens = CV.get_feature_names()\n",
    "        idVal = list(temp[idCol])\n",
    "        \n",
    "        graph = {}\n",
    "        for i in range(output.shape[0]):\n",
    "            words = []\n",
    "            for j in range(output.shape[1]):\n",
    "                if output[i][j] > 0:\n",
    "                    words.append(tokens[j])\n",
    "            graph[idVal[i]] = words\n",
    "        \n",
    "        self.Graphs.append((name,graph))\n",
    "        return True\n",
    "    \n",
    "    def embeddCategorical(self,dfs,idCol,column,name):\n",
    "        df = pd.concat([df[[idCol,column]] for df in dfs])\n",
    "        graph = dict(df[[idCol,column]].to_numpy())\n",
    "        self.Graphs.append((name,graph))\n",
    "        return True\n",
    "    \n",
    "    def defineTruth(self, df):\n",
    "        graph = dict(df.to_numpy())\n",
    "        self.Graphs.append(('ground_truth',graph))\n",
    "        return True\n",
    "    \n",
    "    def saveGraph(self, method = 'csv', fname = os.path.join(os.getcwd(),'heteroGraph.csv')):\n",
    "        df = pd.DataFrame(columns = ['source', 'target','type'])\n",
    "        for graph in self.Graphs:\n",
    "            name = graph[0]\n",
    "            links = graph[1]\n",
    "            data = self._graphFixer(links)\n",
    "            temp = pd.DataFrame(data = data, columns = ['source', 'target'])\n",
    "            temp['type'] = name\n",
    "            \n",
    "            df = pd.concat([df, temp])\n",
    "        temp = [str(x) for x in self.entityNodes]\n",
    "        df_temp = pd.DataFrame(columns = ['source', 'target', 'type'])\n",
    "        df_temp['source'] = temp\n",
    "        df_temp['target'] = None\n",
    "        df_temp['type'] = None\n",
    "        df = pd.concat([df, df_temp])\n",
    "        df.to_csv(os.path.join(os.getcwd(),fname), index = False)\n",
    "    \n",
    "    def _graphFixer(self, dictionary):\n",
    "        temp = []\n",
    "        for key, value in dictionary.items():\n",
    "            if type(value)==list:\n",
    "                for v in value:\n",
    "                    temp.append((key,v))\n",
    "            else:\n",
    "                temp.append((key,value))\n",
    "        return temp"
   ]
  },
  {
   "cell_type": "markdown",
   "metadata": {},
   "source": [
    "## Abt-Buy Dataset"
   ]
  },
  {
   "cell_type": "code",
   "execution_count": null,
   "metadata": {},
   "outputs": [],
   "source": [
    "def fixPrice(x):\n",
    "    if not (type(x)== float):\n",
    "        try:\n",
    "            return re.findall(\"\\d+\\.\\d+\", x)[0]\n",
    "        except:\n",
    "            return np.nan\n",
    "    else:\n",
    "        return x"
   ]
  },
  {
   "cell_type": "code",
   "execution_count": null,
   "metadata": {},
   "outputs": [],
   "source": [
    "pt1 = \"../data/Abt-Buy/Abt.csv\"\n",
    "pt2 = \"../data/Abt-Buy/Buy.csv\"\n",
    "pt3 = \"../data/Abt-Buy/abt_buy_perfectMapping.csv\"\n",
    "\n",
    "Abt = pd.read_csv(pt1, engine = 'python')\n",
    "Buy = pd.read_csv(pt2, engine = 'python')\n",
    "truth = pd.read_csv(pt3)\n",
    "\n",
    "Abt['price'] = pd.to_numeric(Abt.price.apply(fixPrice))\n",
    "Buy['price'] = pd.to_numeric(Buy.price.apply(fixPrice))"
   ]
  },
  {
   "cell_type": "code",
   "execution_count": null,
   "metadata": {},
   "outputs": [],
   "source": [
    "display(Abt.head())\n",
    "display(Buy.head())"
   ]
  },
  {
   "cell_type": "code",
   "execution_count": null,
   "metadata": {},
   "outputs": [],
   "source": [
    "gE = graphEmbedder()"
   ]
  },
  {
   "cell_type": "code",
   "execution_count": null,
   "metadata": {},
   "outputs": [],
   "source": [
    "pd.cut(Abt.price, bins = 5, labels = False)"
   ]
  },
  {
   "cell_type": "code",
   "execution_count": null,
   "metadata": {},
   "outputs": [],
   "source": [
    "gE.defineKeys(Abt, 'id')\n",
    "gE.defineKeys(Buy, 'id')"
   ]
  },
  {
   "cell_type": "code",
   "execution_count": null,
   "metadata": {},
   "outputs": [],
   "source": [
    "gE.defineTruth(truth)"
   ]
  },
  {
   "cell_type": "code",
   "execution_count": null,
   "metadata": {},
   "outputs": [],
   "source": [
    "gE.embeddText([Abt,Buy], 'id','name','name', min_df=0)"
   ]
  },
  {
   "cell_type": "code",
   "execution_count": null,
   "metadata": {},
   "outputs": [],
   "source": [
    "gE.embeddText([Abt,Buy], 'id','description','description', min_df = 0.05)"
   ]
  },
  {
   "cell_type": "code",
   "execution_count": null,
   "metadata": {},
   "outputs": [],
   "source": [
    "gE.embeddOrdinal([Abt,Buy],'id','price','price', bins = 5)"
   ]
  },
  {
   "cell_type": "code",
   "execution_count": null,
   "metadata": {},
   "outputs": [],
   "source": [
    "gE.embeddCategorical([Buy], 'id', 'manufacturer', 'manufacturer')"
   ]
  },
  {
   "cell_type": "code",
   "execution_count": null,
   "metadata": {},
   "outputs": [],
   "source": [
    "gE.saveGraph()"
   ]
  },
  {
   "cell_type": "markdown",
   "metadata": {},
   "source": [
    "## DBLP-ACM Datset"
   ]
  },
  {
   "cell_type": "code",
   "execution_count": null,
   "metadata": {},
   "outputs": [],
   "source": [
    "pt1 = \"../data/DBLP-ACM/DBLP2.csv\"\n",
    "pt2 = \"../data/DBLP-ACM/ACM.csv\"\n",
    "pt3 = \"../data/DBLP-ACM/DBLP-ACM_perfectMapping.csv\""
   ]
  },
  {
   "cell_type": "code",
   "execution_count": null,
   "metadata": {},
   "outputs": [],
   "source": [
    "dblp2 = pd.read_csv(pt1, engine = 'python')\n",
    "acm = pd.read_csv(pt2)\n",
    "matchings = pd.read_csv(pt3)"
   ]
  },
  {
   "cell_type": "code",
   "execution_count": null,
   "metadata": {},
   "outputs": [],
   "source": [
    "display(dblp2.head())\n",
    "display(acm.head())"
   ]
  },
  {
   "cell_type": "code",
   "execution_count": null,
   "metadata": {},
   "outputs": [],
   "source": [
    "gE = graphEmbedder()"
   ]
  },
  {
   "cell_type": "code",
   "execution_count": null,
   "metadata": {},
   "outputs": [],
   "source": [
    "gE.defineKeys(dblp2, 'id')\n",
    "gE.defineKeys(acm, 'id')\n",
    "gE.defineTruth(matchings)"
   ]
  },
  {
   "cell_type": "code",
   "execution_count": null,
   "metadata": {},
   "outputs": [],
   "source": [
    "gE.embeddText([dblp2,acm], 'id','title','title', min_df=0)\n",
    "gE.embeddText([dblp2,acm], 'id','authors','authors', min_df=0)"
   ]
  },
  {
   "cell_type": "code",
   "execution_count": null,
   "metadata": {},
   "outputs": [],
   "source": [
    "gE.embeddCategorical([dblp2,acm], 'id', 'venue', 'venue')\n",
    "gE.embeddCategorical([dblp2,acm], 'id', 'year', 'year')"
   ]
  },
  {
   "cell_type": "code",
   "execution_count": null,
   "metadata": {},
   "outputs": [],
   "source": [
    "gE.saveGraph()"
   ]
  },
  {
   "cell_type": "markdown",
   "metadata": {},
   "source": [
    "## DBLP-Scholar Dataset"
   ]
  },
  {
   "cell_type": "code",
   "execution_count": null,
   "metadata": {},
   "outputs": [],
   "source": [
    "pt1 = \"../data/DBLP-Scholar/DBLP1.csv\"\n",
    "pt2 = \"../data/DBLP-Scholar/Scholar.csv\"\n",
    "pt3 = \"../data/DBLP-Scholar/DBLP-Scholar_perfectMapping.csv\""
   ]
  },
  {
   "cell_type": "code",
   "execution_count": null,
   "metadata": {},
   "outputs": [],
   "source": [
    "dblp1 = pd.read_csv(pt1, engine = 'python')\n",
    "scholar = pd.read_csv(pt2)\n",
    "matchings = pd.read_csv(pt3)"
   ]
  },
  {
   "cell_type": "code",
   "execution_count": null,
   "metadata": {},
   "outputs": [],
   "source": [
    "display(dblp1.head())\n",
    "display(scholar.head())"
   ]
  },
  {
   "cell_type": "code",
   "execution_count": null,
   "metadata": {},
   "outputs": [],
   "source": [
    "gE = graphEmbedder()"
   ]
  },
  {
   "cell_type": "code",
   "execution_count": null,
   "metadata": {},
   "outputs": [],
   "source": [
    "gE.defineKeys(dblp1, 'id')\n",
    "gE.defineKeys(scholar, 'id')\n",
    "gE.defineTruth(matchings)"
   ]
  },
  {
   "cell_type": "code",
   "execution_count": null,
   "metadata": {},
   "outputs": [],
   "source": [
    "gE.embeddText([dblp1,scholar], 'id','title','title', min_df=0.01)\n",
    "gE.embeddText([dblp1,scholar], 'id','authors','authors', min_df=0.01)\n",
    "gE.embeddText([dblp1,scholar], 'id','venue','venue', min_df=0)"
   ]
  },
  {
   "cell_type": "code",
   "execution_count": null,
   "metadata": {},
   "outputs": [],
   "source": [
    "gE.embeddCategorical([dblp1,scholar], 'id', 'year', 'year')"
   ]
  },
  {
   "cell_type": "code",
   "execution_count": null,
   "metadata": {},
   "outputs": [],
   "source": [
    "gE.saveGraph()"
   ]
  },
  {
   "cell_type": "code",
   "execution_count": null,
   "metadata": {},
   "outputs": [],
   "source": []
  },
  {
   "cell_type": "markdown",
   "metadata": {},
   "source": [
    "# Amazon-Google Product Dataset"
   ]
  },
  {
   "cell_type": "code",
   "execution_count": null,
   "metadata": {},
   "outputs": [],
   "source": [
    "pt1 = \"../data/Amazon-GoogleProducts/Amazon.csv\"\n",
    "pt2 = \"../data/Amazon-GoogleProducts/GoogleProducts.csv\"\n",
    "pt3 = \"../data/Amazon-GoogleProducts/Amzon_GoogleProducts_perfectMapping.csv\""
   ]
  },
  {
   "cell_type": "code",
   "execution_count": null,
   "metadata": {},
   "outputs": [],
   "source": [
    "amazon = pd.read_csv(pt1, engine = 'python')\n",
    "google = pd.read_csv(pt2, engine = 'python')\n",
    "matchings = pd.read_csv(pt3)"
   ]
  },
  {
   "cell_type": "code",
   "execution_count": null,
   "metadata": {},
   "outputs": [],
   "source": [
    "display(amazon.head())\n",
    "display(google.head())"
   ]
  },
  {
   "cell_type": "code",
   "execution_count": null,
   "metadata": {},
   "outputs": [],
   "source": [
    "google = google.rename(columns={'name':'title'})"
   ]
  },
  {
   "cell_type": "code",
   "execution_count": null,
   "metadata": {},
   "outputs": [],
   "source": [
    "google.price = pd.to_numeric(google.price.apply(fixPrice))"
   ]
  },
  {
   "cell_type": "code",
   "execution_count": null,
   "metadata": {},
   "outputs": [],
   "source": [
    "gE = graphEmbedder()"
   ]
  },
  {
   "cell_type": "code",
   "execution_count": null,
   "metadata": {},
   "outputs": [],
   "source": [
    "gE.defineKeys(amazon, 'id')\n",
    "gE.defineKeys(google, 'id')\n",
    "gE.defineTruth(matchings)"
   ]
  },
  {
   "cell_type": "code",
   "execution_count": null,
   "metadata": {},
   "outputs": [],
   "source": [
    "gE.embeddText([amazon,google], 'id','title','title', min_df=0.01)\n",
    "gE.embeddText([amazon,google], 'id','description','description', min_df=0)"
   ]
  },
  {
   "cell_type": "code",
   "execution_count": null,
   "metadata": {},
   "outputs": [],
   "source": [
    "gE.embeddCategorical([amazon,google], 'id','manufacturer','manufacturer')"
   ]
  },
  {
   "cell_type": "code",
   "execution_count": null,
   "metadata": {},
   "outputs": [],
   "source": [
    "gE.embeddOrdinal([amazon,google], 'id','price','price')"
   ]
  },
  {
   "cell_type": "code",
   "execution_count": null,
   "metadata": {},
   "outputs": [],
   "source": [
    "gE.saveGraph()"
   ]
  },
  {
   "cell_type": "code",
   "execution_count": null,
   "metadata": {},
   "outputs": [],
   "source": []
  }
 ],
 "metadata": {
  "kernelspec": {
   "display_name": "Python 3",
   "language": "python",
   "name": "python3"
  },
  "language_info": {
   "codemirror_mode": {
    "name": "ipython",
    "version": 3
   },
   "file_extension": ".py",
   "mimetype": "text/x-python",
   "name": "python",
   "nbconvert_exporter": "python",
   "pygments_lexer": "ipython3",
   "version": "3.7.7"
  }
 },
 "nbformat": 4,
 "nbformat_minor": 2
}
