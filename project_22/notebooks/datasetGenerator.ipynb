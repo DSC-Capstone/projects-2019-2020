{
 "cells": [
  {
   "cell_type": "code",
   "execution_count": null,
   "metadata": {},
   "outputs": [],
   "source": [
    "import pandas as pd\n",
    "import os\n",
    "import numpy as np\n",
    "import math\n",
    "import json"
   ]
  },
  {
   "cell_type": "code",
   "execution_count": null,
   "metadata": {},
   "outputs": [],
   "source": [
    "config = {\n",
    "    'row_num': 10000,\n",
    "    'col_num': 10,\n",
    "    'strong_col_num': 3,\n",
    "    'randomness_param': 0,\n",
    "    'saveLoc': '.',\n",
    "    'maxCategories': 30\n",
    "}"
   ]
  },
  {
   "cell_type": "code",
   "execution_count": null,
   "metadata": {},
   "outputs": [],
   "source": [
    "class datasetGenerator:\n",
    "    \n",
    "    def __init__(self, config):\n",
    "        self.config = config\n",
    "        self.row_num = config['row_num']\n",
    "        self.col_num = config['col_num']\n",
    "        self.strong_col_num = config['strong_col_num']\n",
    "        self.randomness_param = config['randomness_param']\n",
    "        self.saveLoc = config['saveLoc']\n",
    "        self.maxCategories = config['maxCategories']\n",
    "        \n",
    "        tokenLength = math.ceil(np.log(2 * self.row_num)/np.log(10))\n",
    "        assert(tokenLength >= self.strong_col_num)\n",
    "        self.tokenLength = tokenLength\n",
    "        \n",
    "        assert (self.row_num > 0)\n",
    "        assert (self.col_num > 0)\n",
    "        assert (0 <= self.randomness_param <= 1)\n",
    "        assert (os.path.exists(self.saveLoc))\n",
    "    \n",
    "    def padValue(self, x, tokenLength):\n",
    "        temp = x + '0' * (tokenLength - len(x))\n",
    "        return temp\n",
    "        \n",
    "    def createDataset(self):\n",
    "        self.dataset1 = pd.DataFrame()\n",
    "        self.dataset2 = pd.DataFrame()\n",
    "        StrongCols = self.createStrongCol()\n",
    "        for i in range(self.strong_col_num):\n",
    "            self.dataset1[i] = StrongCols[i]\n",
    "        \n",
    "        for i in range(self.strong_col_num):\n",
    "            self.dataset2[i] = StrongCols[i + self.strong_col_num]\n",
    "        \n",
    "        weakCols = self.weakColWrapper(self.col_num - self.strong_col_num)\n",
    "        for i in range(len(weakCols)):\n",
    "            if i%2 == 0:\n",
    "                #dataset 1 case\n",
    "                try:\n",
    "                    self.dataset1[np.max(list(self.dataset1.columns)) + 1] = weakCols[i]\n",
    "                except:\n",
    "                    self.dataset1[0] = weakCols[i]\n",
    "            else:\n",
    "                #dataset 2 case\n",
    "                try:\n",
    "                    self.dataset2[np.max(list(self.dataset2.columns)) + 1] = weakCols[i]\n",
    "                except:\n",
    "                    self.dataset2[0] = weakCols[i]\n",
    "        pass\n",
    "    \n",
    "    def createStrongCol(self):\n",
    "        temp1 = [str(i) for i in np.arange(self.row_num)]\n",
    "        temp2 = [str(i) for i in np.arange(self.row_num, 2*self.row_num)]\n",
    "        \n",
    "        temp1 = [self.padValue(x,self.tokenLength) for x in temp1]\n",
    "        temp2 = [self.padValue(x,self.tokenLength) for x in temp2]\n",
    "        cols = self.splitStrongColumns(temp1, temp2)\n",
    "        return cols\n",
    "        pass\n",
    "    \n",
    "    def splitStrongColumns(self, col1, col2):\n",
    "        cols = []\n",
    "        iterLength = math.ceil(self.tokenLength/self.strong_col_num)\n",
    "        i = 0\n",
    "        while (i < self.strong_col_num):\n",
    "            colTemp = [x[i * iterLength:iterLength * (i + 1)] for x in col1]\n",
    "            i = i + 1\n",
    "            cols.append(colTemp)\n",
    "        i = 0\n",
    "        while (i < self.strong_col_num):\n",
    "            colTemp = [x[i * iterLength:iterLength * (i + 1)] for x in col2]\n",
    "            i = i + 1\n",
    "            cols.append(colTemp)\n",
    "        \n",
    "        return cols\n",
    "    \n",
    "    def createWeakCol(self, oldColumn):\n",
    "        #note: creates 2 columns: 1 for each dataset\n",
    "        \n",
    "        #creating conditionional distribution\n",
    "        numNewCat = np.random.randint(1, self.maxCategories)\n",
    "        numOldCat = np.unique(oldColumn).max() + 1\n",
    "        \n",
    "        permutation = np.random.permutation(range(numNewCat))\n",
    "        dist = {}\n",
    "        for i in range(max(numNewCat, numOldCat)):\n",
    "            if (i % numOldCat) in dist.keys():\n",
    "                dist[i % numOldCat].append(permutation[i % numNewCat])\n",
    "            else:\n",
    "                dist[i % numOldCat] = [permutation[i % numNewCat]]\n",
    "        \n",
    "        #creating columns using the distribution\n",
    "        col1 = []\n",
    "        col2 = []\n",
    "        for i in range(self.row_num):\n",
    "            if np.random.choice([0,1], p = [1 - self.randomness_param, self.randomness_param]):\n",
    "                #random case\n",
    "                #note: assigns random number to each column w/ any conditioning\n",
    "                col1.append(np.random.choice(permutation))\n",
    "                col2.append(np.random.choice(permutation))\n",
    "            else:\n",
    "                #non-random case\n",
    "                #assigns random number w/ conditioning\n",
    "                col1.append(np.random.choice(dist[oldColumn[i]]))\n",
    "                col2.append(np.random.choice(dist[oldColumn[i]]))\n",
    "                \n",
    "        return (np.array(col1), np.array(col2))\n",
    "    \n",
    "    def weakColWrapper(self, n):\n",
    "        #create 1 fully random column\n",
    "        cols = []\n",
    "        numCats = np.random.randint(1, self.maxCategories)\n",
    "        col = np.random.choice(range(numCats), size = self.row_num)\n",
    "        cols.append(col)\n",
    "        cols.append(col)\n",
    "        \n",
    "        #create n - 1 columns using a conditional distribution based on the previous column\n",
    "        for _ in range(1, n):\n",
    "            col1, col2 = self.createWeakCol(col)\n",
    "            cols.append(col1)\n",
    "            cols.append(col2)\n",
    "            col = col1\n",
    "        \n",
    "        return cols\n",
    "    \n",
    "    def saveDataset(self):\n",
    "        folders = os.listdir(self.saveLoc)\n",
    "        if (len(folders) == 0): val = \"0\"\n",
    "        else: \n",
    "            maxVal = 0\n",
    "            for ff in folders:\n",
    "                try:\n",
    "                    maxVal = max(maxVal,int(ff.strip(\"generatedDataset_\")))\n",
    "                except:\n",
    "                    pass\n",
    "            val = str(maxVal + 1)\n",
    "        \n",
    "        datasetPath = os.path.join(self.saveLoc, \"generatedDataset_\" + val)\n",
    "        os.mkdir(datasetPath)\n",
    "        \n",
    "        #save the 2 datasets\n",
    "        self.dataset1.to_csv(os.path.join(datasetPath, 'dataset1.csv'))\n",
    "        self.dataset2.to_csv(os.path.join(datasetPath, 'dataset2.csv'))\n",
    "        \n",
    "        #save the associated metadata\n",
    "        with open(os.path.join(datasetPath, 'metdata.json'), 'w') as f:\n",
    "            json.dump(self.config, f)\n",
    "    "
   ]
  },
  {
   "cell_type": "code",
   "execution_count": null,
   "metadata": {},
   "outputs": [],
   "source": [
    "dG = datasetGenerator(config)"
   ]
  },
  {
   "cell_type": "code",
   "execution_count": null,
   "metadata": {},
   "outputs": [],
   "source": [
    "t = dG.createDataset()"
   ]
  },
  {
   "cell_type": "code",
   "execution_count": null,
   "metadata": {},
   "outputs": [],
   "source": [
    "dG.saveDataset()"
   ]
  },
  {
   "cell_type": "code",
   "execution_count": null,
   "metadata": {},
   "outputs": [],
   "source": [
    "dG.strong_col_num"
   ]
  },
  {
   "cell_type": "code",
   "execution_count": null,
   "metadata": {},
   "outputs": [],
   "source": [
    "os.listdir()"
   ]
  },
  {
   "cell_type": "code",
   "execution_count": null,
   "metadata": {},
   "outputs": [],
   "source": [
    "if (1): print('dog')"
   ]
  },
  {
   "cell_type": "code",
   "execution_count": null,
   "metadata": {},
   "outputs": [],
   "source": [
    "#dG.dataset1"
   ]
  },
  {
   "cell_type": "code",
   "execution_count": null,
   "metadata": {},
   "outputs": [],
   "source": [
    "col1 = range(18)"
   ]
  },
  {
   "cell_type": "code",
   "execution_count": null,
   "metadata": {},
   "outputs": [],
   "source": [
    "col2 = range(20)"
   ]
  },
  {
   "cell_type": "code",
   "execution_count": null,
   "metadata": {},
   "outputs": [],
   "source": [
    "values = [[] for i in range(18)]"
   ]
  },
  {
   "cell_type": "code",
   "execution_count": null,
   "metadata": {},
   "outputs": [],
   "source": []
  },
  {
   "cell_type": "code",
   "execution_count": null,
   "metadata": {},
   "outputs": [],
   "source": [
    "numNewCat = 15\n",
    "numOldCat = 10\n",
    "\n",
    "permutation = np.random.permutation(range(numNewCat))\n",
    "dist = {}\n",
    "for i in range(max(numNewCat, numOldCat)):\n",
    "    if (i % numOldCat) in dist.keys():\n",
    "        dist[i % numOldCat].append(permutation[i % numNewCat])\n",
    "    else:\n",
    "        dist[i % numOldCat] = [permutation[i % numNewCat]]\n",
    "\n",
    "dist"
   ]
  },
  {
   "cell_type": "code",
   "execution_count": null,
   "metadata": {},
   "outputs": [],
   "source": []
  },
  {
   "cell_type": "code",
   "execution_count": null,
   "metadata": {},
   "outputs": [],
   "source": []
  },
  {
   "cell_type": "code",
   "execution_count": null,
   "metadata": {},
   "outputs": [],
   "source": [
    "np.random.randint(1, 40)"
   ]
  },
  {
   "cell_type": "code",
   "execution_count": null,
   "metadata": {},
   "outputs": [],
   "source": [
    "#np.random.choice(range(18), size = 1000)"
   ]
  },
  {
   "cell_type": "code",
   "execution_count": null,
   "metadata": {},
   "outputs": [],
   "source": [
    "#idea for creating new columns:\n",
    "    #create a conditioning distribution based on other column\n",
    "    #take a random value at a certain parameter chance."
   ]
  },
  {
   "cell_type": "code",
   "execution_count": null,
   "metadata": {},
   "outputs": [],
   "source": []
  },
  {
   "cell_type": "code",
   "execution_count": null,
   "metadata": {},
   "outputs": [],
   "source": []
  },
  {
   "cell_type": "code",
   "execution_count": null,
   "metadata": {},
   "outputs": [],
   "source": [
    "#I have n items that must be able to fit within the m rows.\n",
    "n = 10000\n",
    "m = 3"
   ]
  },
  {
   "cell_type": "code",
   "execution_count": null,
   "metadata": {},
   "outputs": [],
   "source": [
    "m = 3"
   ]
  },
  {
   "cell_type": "code",
   "execution_count": null,
   "metadata": {},
   "outputs": [],
   "source": [
    "dG.tokenLength"
   ]
  },
  {
   "cell_type": "code",
   "execution_count": null,
   "metadata": {},
   "outputs": [],
   "source": [
    "iterLength = math.ceil(5/3)"
   ]
  },
  {
   "cell_type": "code",
   "execution_count": null,
   "metadata": {},
   "outputs": [],
   "source": [
    "i = 0\n",
    "while (i < m):\n",
    "    colTemp = [x[i * iterLength:iterLength * (i + 1)] for x in temp1]\n",
    "    i = i + 1"
   ]
  },
  {
   "cell_type": "code",
   "execution_count": null,
   "metadata": {},
   "outputs": [],
   "source": [
    "if np.random.choice([0,1], p = [0.7, 0.3]):\n",
    "    print('dog')"
   ]
  },
  {
   "cell_type": "code",
   "execution_count": null,
   "metadata": {},
   "outputs": [],
   "source": [
    "temp1"
   ]
  },
  {
   "cell_type": "code",
   "execution_count": null,
   "metadata": {},
   "outputs": [],
   "source": [
    "dataset1 = pd.DataFrame()\n",
    "dataset2 = pd.DataFrame()"
   ]
  },
  {
   "cell_type": "code",
   "execution_count": null,
   "metadata": {},
   "outputs": [],
   "source": [
    "tokenLength = 5"
   ]
  },
  {
   "cell_type": "code",
   "execution_count": null,
   "metadata": {},
   "outputs": [],
   "source": [
    "temp1 = [str(i) for i in np.arange(n)]\n",
    "temp2 = [str(i) for i in np.arange(n, 2*n)]"
   ]
  },
  {
   "cell_type": "code",
   "execution_count": null,
   "metadata": {},
   "outputs": [],
   "source": []
  },
  {
   "cell_type": "code",
   "execution_count": null,
   "metadata": {},
   "outputs": [],
   "source": []
  },
  {
   "cell_type": "code",
   "execution_count": null,
   "metadata": {},
   "outputs": [],
   "source": [
    "def padValue(x, tokenLength):\n",
    "    temp = x + '0' * (tokenLength - len(x))\n",
    "    return temp"
   ]
  },
  {
   "cell_type": "code",
   "execution_count": null,
   "metadata": {},
   "outputs": [],
   "source": [
    "[padValue(x,tokenLength) for x in temp]"
   ]
  },
  {
   "cell_type": "code",
   "execution_count": null,
   "metadata": {},
   "outputs": [],
   "source": []
  },
  {
   "cell_type": "code",
   "execution_count": null,
   "metadata": {},
   "outputs": [],
   "source": []
  },
  {
   "cell_type": "code",
   "execution_count": null,
   "metadata": {},
   "outputs": [],
   "source": [
    "base = 10\n",
    "tokenLength = math.ceil(np.log(2 * n)/np.log(base))"
   ]
  },
  {
   "cell_type": "code",
   "execution_count": null,
   "metadata": {},
   "outputs": [],
   "source": [
    "tokenLength"
   ]
  },
  {
   "cell_type": "code",
   "execution_count": null,
   "metadata": {},
   "outputs": [],
   "source": []
  },
  {
   "cell_type": "code",
   "execution_count": null,
   "metadata": {},
   "outputs": [],
   "source": [
    "tokens = [str(i) for i in np.arange(base)]"
   ]
  },
  {
   "cell_type": "code",
   "execution_count": null,
   "metadata": {},
   "outputs": [],
   "source": [
    "def createUniqueID(value, tokenLength, tokens, base):\n",
    "    temp = \"\"\n",
    "    i = 0\n",
    "    while (i < tokenLength):\n",
    "        temp += tokens[value % base]\n",
    "        value = value//base\n",
    "        i = i + 1\n",
    "    \n",
    "    return temp"
   ]
  },
  {
   "cell_type": "code",
   "execution_count": null,
   "metadata": {},
   "outputs": [],
   "source": [
    "createUniqueID(61, 7, tokens, 5)"
   ]
  },
  {
   "cell_type": "code",
   "execution_count": null,
   "metadata": {},
   "outputs": [],
   "source": [
    "value = 5\n",
    "\"\""
   ]
  },
  {
   "cell_type": "code",
   "execution_count": null,
   "metadata": {},
   "outputs": [],
   "source": [
    "9%5"
   ]
  },
  {
   "cell_type": "code",
   "execution_count": null,
   "metadata": {},
   "outputs": [],
   "source": [
    "#create 3"
   ]
  },
  {
   "cell_type": "code",
   "execution_count": null,
   "metadata": {},
   "outputs": [],
   "source": [
    "\"\"\"\n",
    "I am going to make a binary value based on the n items, then split it between the m categories.\n",
    "Rather than using base-2, I will use base5\n",
    "\"\"\""
   ]
  },
  {
   "cell_type": "code",
   "execution_count": null,
   "metadata": {},
   "outputs": [],
   "source": []
  },
  {
   "cell_type": "code",
   "execution_count": null,
   "metadata": {},
   "outputs": [],
   "source": []
  },
  {
   "cell_type": "code",
   "execution_count": null,
   "metadata": {},
   "outputs": [],
   "source": []
  }
 ],
 "metadata": {
  "kernelspec": {
   "display_name": "Python 3",
   "language": "python",
   "name": "python3"
  },
  "language_info": {
   "codemirror_mode": {
    "name": "ipython",
    "version": 3
   },
   "file_extension": ".py",
   "mimetype": "text/x-python",
   "name": "python",
   "nbconvert_exporter": "python",
   "pygments_lexer": "ipython3",
   "version": "3.7.4"
  }
 },
 "nbformat": 4,
 "nbformat_minor": 2
}
