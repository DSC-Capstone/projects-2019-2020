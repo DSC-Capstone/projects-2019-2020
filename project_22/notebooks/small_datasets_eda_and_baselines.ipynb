{
 "cells": [
  {
   "cell_type": "markdown",
   "metadata": {},
   "source": [
    "# EDA and Baseline Models"
   ]
  },
  {
   "cell_type": "code",
   "execution_count": 2,
   "metadata": {},
   "outputs": [],
   "source": [
    "import pandas as pd\n",
    "import numpy as np\n",
    "import matplotlib.pyplot as plt\n",
    "\n",
    "import os"
   ]
  },
  {
   "cell_type": "markdown",
   "metadata": {},
   "source": [
    "Datasets are put as directories into a directory called small_data."
   ]
  },
  {
   "cell_type": "code",
   "execution_count": 70,
   "metadata": {},
   "outputs": [],
   "source": [
    "ag_path = os.path.join('small_data', 'AmazonGoogle')\n",
    "dblp1_path = os.path.join('small_data', 'DBLP-Scholar')\n",
    "dblp2_path = os.path.join('small_data', 'DBLP-ACM')"
   ]
  },
  {
   "cell_type": "markdown",
   "metadata": {},
   "source": [
    "# Amazon Google EDA"
   ]
  },
  {
   "cell_type": "raw",
   "metadata": {},
   "source": [
    "Amazon Dataframe: (1363, 5)\n",
    "    columns: title\tdescription\tmanufacturer\tprice\n",
    "    slight missingness in description: 0.08437270726338958\n",
    "    \n",
    "Google Dataframe: (3226, 5)\n",
    "    columns: id\tname\tdescription\tmanufacturer\tprice\n",
    "    slight missingness in description: 0.05920644761314321\n",
    "    large missingness in manufacturer: 0.9280843149411035 missing\n",
    "    \n",
    "Matching Dataframe: (1300, 2)\n",
    "    1113 unique Amazon IDs\n",
    "    1291 unique Google IDs "
   ]
  },
  {
   "cell_type": "code",
   "execution_count": 12,
   "metadata": {},
   "outputs": [
    {
     "data": {
      "text/plain": [
       "['Amazon.csv', 'Amzon_GoogleProducts_perfectMapping.csv', 'GoogleProducts.csv']"
      ]
     },
     "execution_count": 12,
     "metadata": {},
     "output_type": "execute_result"
    }
   ],
   "source": [
    "os.listdir(ag_path)"
   ]
  },
  {
   "cell_type": "code",
   "execution_count": 24,
   "metadata": {},
   "outputs": [],
   "source": [
    "amazon_df = pd.read_csv(os.path.join(ag_path, 'Amazon.csv'), encoding='windows-1252')\n",
    "ag_matching_df = pd.read_csv(os.path.join(ag_path, 'Amzon_GoogleProducts_perfectMapping.csv'), encoding='windows-1252')\n",
    "google_df = pd.read_csv(os.path.join(ag_path, 'GoogleProducts.csv'), encoding='windows-1252')"
   ]
  },
  {
   "cell_type": "code",
   "execution_count": 22,
   "metadata": {},
   "outputs": [
    {
     "data": {
      "text/html": [
       "<div>\n",
       "<style scoped>\n",
       "    .dataframe tbody tr th:only-of-type {\n",
       "        vertical-align: middle;\n",
       "    }\n",
       "\n",
       "    .dataframe tbody tr th {\n",
       "        vertical-align: top;\n",
       "    }\n",
       "\n",
       "    .dataframe thead th {\n",
       "        text-align: right;\n",
       "    }\n",
       "</style>\n",
       "<table border=\"1\" class=\"dataframe\">\n",
       "  <thead>\n",
       "    <tr style=\"text-align: right;\">\n",
       "      <th></th>\n",
       "      <th>id</th>\n",
       "      <th>title</th>\n",
       "      <th>description</th>\n",
       "      <th>manufacturer</th>\n",
       "      <th>price</th>\n",
       "    </tr>\n",
       "  </thead>\n",
       "  <tbody>\n",
       "    <tr>\n",
       "      <th>0</th>\n",
       "      <td>b000jz4hqo</td>\n",
       "      <td>clickart 950 000 - premier image pack (dvd-rom)</td>\n",
       "      <td>NaN</td>\n",
       "      <td>broderbund</td>\n",
       "      <td>0.00</td>\n",
       "    </tr>\n",
       "    <tr>\n",
       "      <th>1</th>\n",
       "      <td>b0006zf55o</td>\n",
       "      <td>ca international - arcserve lap/desktop oem 30pk</td>\n",
       "      <td>oem arcserve backup v11.1 win 30u for laptops ...</td>\n",
       "      <td>computer associates</td>\n",
       "      <td>0.00</td>\n",
       "    </tr>\n",
       "    <tr>\n",
       "      <th>2</th>\n",
       "      <td>b00004tkvy</td>\n",
       "      <td>noah's ark activity center (jewel case ages 3-8)</td>\n",
       "      <td>NaN</td>\n",
       "      <td>victory multimedia</td>\n",
       "      <td>0.00</td>\n",
       "    </tr>\n",
       "    <tr>\n",
       "      <th>3</th>\n",
       "      <td>b000g80lqo</td>\n",
       "      <td>peachtree by sage premium accounting for nonpr...</td>\n",
       "      <td>peachtree premium accounting for nonprofits 20...</td>\n",
       "      <td>sage software</td>\n",
       "      <td>599.99</td>\n",
       "    </tr>\n",
       "    <tr>\n",
       "      <th>4</th>\n",
       "      <td>b0006se5bq</td>\n",
       "      <td>singing coach unlimited</td>\n",
       "      <td>singing coach unlimited - electronic learning ...</td>\n",
       "      <td>carry-a-tune technologies</td>\n",
       "      <td>99.99</td>\n",
       "    </tr>\n",
       "  </tbody>\n",
       "</table>\n",
       "</div>"
      ],
      "text/plain": [
       "           id                                              title  \\\n",
       "0  b000jz4hqo    clickart 950 000 - premier image pack (dvd-rom)   \n",
       "1  b0006zf55o   ca international - arcserve lap/desktop oem 30pk   \n",
       "2  b00004tkvy   noah's ark activity center (jewel case ages 3-8)   \n",
       "3  b000g80lqo  peachtree by sage premium accounting for nonpr...   \n",
       "4  b0006se5bq                            singing coach unlimited   \n",
       "\n",
       "                                         description  \\\n",
       "0                                                NaN   \n",
       "1  oem arcserve backup v11.1 win 30u for laptops ...   \n",
       "2                                                NaN   \n",
       "3  peachtree premium accounting for nonprofits 20...   \n",
       "4  singing coach unlimited - electronic learning ...   \n",
       "\n",
       "                manufacturer   price  \n",
       "0                 broderbund    0.00  \n",
       "1        computer associates    0.00  \n",
       "2         victory multimedia    0.00  \n",
       "3              sage software  599.99  \n",
       "4  carry-a-tune technologies   99.99  "
      ]
     },
     "execution_count": 22,
     "metadata": {},
     "output_type": "execute_result"
    }
   ],
   "source": [
    "amazon_df.head()"
   ]
  },
  {
   "cell_type": "code",
   "execution_count": 27,
   "metadata": {},
   "outputs": [
    {
     "data": {
      "text/plain": [
       "(1363, 5)"
      ]
     },
     "execution_count": 27,
     "metadata": {},
     "output_type": "execute_result"
    }
   ],
   "source": [
    "amazon_df.shape"
   ]
  },
  {
   "cell_type": "code",
   "execution_count": 38,
   "metadata": {},
   "outputs": [
    {
     "name": "stdout",
     "output_type": "stream",
     "text": [
      "id 0.0\n",
      "title 0.0\n",
      "description 0.08437270726338958\n",
      "manufacturer 0.0\n",
      "price 0.0\n"
     ]
    }
   ],
   "source": [
    "# missingness\n",
    "for col in amazon_df.columns:\n",
    "    print(col, amazon_df[col].isna().sum() / amazon_df.shape[0])"
   ]
  },
  {
   "cell_type": "code",
   "execution_count": 23,
   "metadata": {},
   "outputs": [
    {
     "data": {
      "text/html": [
       "<div>\n",
       "<style scoped>\n",
       "    .dataframe tbody tr th:only-of-type {\n",
       "        vertical-align: middle;\n",
       "    }\n",
       "\n",
       "    .dataframe tbody tr th {\n",
       "        vertical-align: top;\n",
       "    }\n",
       "\n",
       "    .dataframe thead th {\n",
       "        text-align: right;\n",
       "    }\n",
       "</style>\n",
       "<table border=\"1\" class=\"dataframe\">\n",
       "  <thead>\n",
       "    <tr style=\"text-align: right;\">\n",
       "      <th></th>\n",
       "      <th>id</th>\n",
       "      <th>name</th>\n",
       "      <th>description</th>\n",
       "      <th>manufacturer</th>\n",
       "      <th>price</th>\n",
       "    </tr>\n",
       "  </thead>\n",
       "  <tbody>\n",
       "    <tr>\n",
       "      <th>0</th>\n",
       "      <td>http://www.google.com/base/feeds/snippets/1112...</td>\n",
       "      <td>learning quickbooks 2007</td>\n",
       "      <td>learning quickbooks 2007</td>\n",
       "      <td>intuit</td>\n",
       "      <td>38.99</td>\n",
       "    </tr>\n",
       "    <tr>\n",
       "      <th>1</th>\n",
       "      <td>http://www.google.com/base/feeds/snippets/1153...</td>\n",
       "      <td>superstart! fun with reading &amp; writing!</td>\n",
       "      <td>fun with reading &amp; writing! is designed to hel...</td>\n",
       "      <td>NaN</td>\n",
       "      <td>8.49</td>\n",
       "    </tr>\n",
       "    <tr>\n",
       "      <th>2</th>\n",
       "      <td>http://www.google.com/base/feeds/snippets/1134...</td>\n",
       "      <td>qb pos 6.0 basic software</td>\n",
       "      <td>qb pos 6.0 basic retail mngmt software. for re...</td>\n",
       "      <td>intuit</td>\n",
       "      <td>637.99</td>\n",
       "    </tr>\n",
       "    <tr>\n",
       "      <th>3</th>\n",
       "      <td>http://www.google.com/base/feeds/snippets/1204...</td>\n",
       "      <td>math missions: the amazing arcade adventure (g...</td>\n",
       "      <td>save spectacle city by disrupting randall unde...</td>\n",
       "      <td>NaN</td>\n",
       "      <td>12.95</td>\n",
       "    </tr>\n",
       "    <tr>\n",
       "      <th>4</th>\n",
       "      <td>http://www.google.com/base/feeds/snippets/1224...</td>\n",
       "      <td>production prem cs3 mac upgrad</td>\n",
       "      <td>adobe cs3 production premium mac upgrade from ...</td>\n",
       "      <td>adobe software</td>\n",
       "      <td>805.99</td>\n",
       "    </tr>\n",
       "  </tbody>\n",
       "</table>\n",
       "</div>"
      ],
      "text/plain": [
       "                                                  id  \\\n",
       "0  http://www.google.com/base/feeds/snippets/1112...   \n",
       "1  http://www.google.com/base/feeds/snippets/1153...   \n",
       "2  http://www.google.com/base/feeds/snippets/1134...   \n",
       "3  http://www.google.com/base/feeds/snippets/1204...   \n",
       "4  http://www.google.com/base/feeds/snippets/1224...   \n",
       "\n",
       "                                                name  \\\n",
       "0                           learning quickbooks 2007   \n",
       "1            superstart! fun with reading & writing!   \n",
       "2                          qb pos 6.0 basic software   \n",
       "3  math missions: the amazing arcade adventure (g...   \n",
       "4                     production prem cs3 mac upgrad   \n",
       "\n",
       "                                         description    manufacturer   price  \n",
       "0                           learning quickbooks 2007          intuit   38.99  \n",
       "1  fun with reading & writing! is designed to hel...             NaN    8.49  \n",
       "2  qb pos 6.0 basic retail mngmt software. for re...          intuit  637.99  \n",
       "3  save spectacle city by disrupting randall unde...             NaN   12.95  \n",
       "4  adobe cs3 production premium mac upgrade from ...  adobe software  805.99  "
      ]
     },
     "execution_count": 23,
     "metadata": {},
     "output_type": "execute_result"
    }
   ],
   "source": [
    "google_df.head()"
   ]
  },
  {
   "cell_type": "code",
   "execution_count": 30,
   "metadata": {},
   "outputs": [
    {
     "data": {
      "text/plain": [
       "(3226, 5)"
      ]
     },
     "execution_count": 30,
     "metadata": {},
     "output_type": "execute_result"
    }
   ],
   "source": [
    "google_df.shape"
   ]
  },
  {
   "cell_type": "code",
   "execution_count": 40,
   "metadata": {},
   "outputs": [
    {
     "name": "stdout",
     "output_type": "stream",
     "text": [
      "id 0.0\n",
      "name 0.0\n",
      "description 0.05920644761314321\n",
      "manufacturer 0.9280843149411035\n",
      "price 0.0\n"
     ]
    }
   ],
   "source": [
    "# missingness\n",
    "for col in google_df.columns:\n",
    "    print(col, google_df[col].isna().sum() / google_df.shape[0])"
   ]
  },
  {
   "cell_type": "code",
   "execution_count": 26,
   "metadata": {},
   "outputs": [
    {
     "data": {
      "text/html": [
       "<div>\n",
       "<style scoped>\n",
       "    .dataframe tbody tr th:only-of-type {\n",
       "        vertical-align: middle;\n",
       "    }\n",
       "\n",
       "    .dataframe tbody tr th {\n",
       "        vertical-align: top;\n",
       "    }\n",
       "\n",
       "    .dataframe thead th {\n",
       "        text-align: right;\n",
       "    }\n",
       "</style>\n",
       "<table border=\"1\" class=\"dataframe\">\n",
       "  <thead>\n",
       "    <tr style=\"text-align: right;\">\n",
       "      <th></th>\n",
       "      <th>idAmazon</th>\n",
       "      <th>idGoogleBase</th>\n",
       "    </tr>\n",
       "  </thead>\n",
       "  <tbody>\n",
       "    <tr>\n",
       "      <th>0</th>\n",
       "      <td>b000jz4hqo</td>\n",
       "      <td>http://www.google.com/base/feeds/snippets/1844...</td>\n",
       "    </tr>\n",
       "    <tr>\n",
       "      <th>1</th>\n",
       "      <td>b00004tkvy</td>\n",
       "      <td>http://www.google.com/base/feeds/snippets/1844...</td>\n",
       "    </tr>\n",
       "    <tr>\n",
       "      <th>2</th>\n",
       "      <td>b000g80lqo</td>\n",
       "      <td>http://www.google.com/base/feeds/snippets/1844...</td>\n",
       "    </tr>\n",
       "    <tr>\n",
       "      <th>3</th>\n",
       "      <td>b0006se5bq</td>\n",
       "      <td>http://www.google.com/base/feeds/snippets/1842...</td>\n",
       "    </tr>\n",
       "    <tr>\n",
       "      <th>4</th>\n",
       "      <td>b00021xhzw</td>\n",
       "      <td>http://www.google.com/base/feeds/snippets/1843...</td>\n",
       "    </tr>\n",
       "  </tbody>\n",
       "</table>\n",
       "</div>"
      ],
      "text/plain": [
       "     idAmazon                                       idGoogleBase\n",
       "0  b000jz4hqo  http://www.google.com/base/feeds/snippets/1844...\n",
       "1  b00004tkvy  http://www.google.com/base/feeds/snippets/1844...\n",
       "2  b000g80lqo  http://www.google.com/base/feeds/snippets/1844...\n",
       "3  b0006se5bq  http://www.google.com/base/feeds/snippets/1842...\n",
       "4  b00021xhzw  http://www.google.com/base/feeds/snippets/1843..."
      ]
     },
     "execution_count": 26,
     "metadata": {},
     "output_type": "execute_result"
    }
   ],
   "source": [
    "ag_matching_df.head()"
   ]
  },
  {
   "cell_type": "code",
   "execution_count": 32,
   "metadata": {},
   "outputs": [
    {
     "data": {
      "text/plain": [
       "(1300, 2)"
      ]
     },
     "execution_count": 32,
     "metadata": {},
     "output_type": "execute_result"
    }
   ],
   "source": [
    "ag_matching_df.shape"
   ]
  },
  {
   "cell_type": "code",
   "execution_count": 57,
   "metadata": {},
   "outputs": [
    {
     "name": "stdout",
     "output_type": "stream",
     "text": [
      "idAmazon 0.0\n",
      "idGoogleBase 0.0\n"
     ]
    }
   ],
   "source": [
    "# missingness\n",
    "for col in ag_matching_df.columns:\n",
    "    print(col, ag_matching_df[col].isna().sum() / ag_matching_df.shape[0])"
   ]
  },
  {
   "cell_type": "code",
   "execution_count": 56,
   "metadata": {},
   "outputs": [
    {
     "name": "stdout",
     "output_type": "stream",
     "text": [
      "1113\n",
      "1291\n"
     ]
    }
   ],
   "source": [
    "for col in ag_matching_df.columns:\n",
    "    print(ag_matching_df[col].nunique())"
   ]
  },
  {
   "cell_type": "code",
   "execution_count": 332,
   "metadata": {},
   "outputs": [],
   "source": [
    "temp_amazon_df = pd.DataFrame(columns = amazon_df.columns)\n",
    "temp_google_df = pd.DataFrame(columns = google_df.columns)\n",
    "for row in ag_matching_df.itertuples():\n",
    "    amazon_id = row[1]\n",
    "    google_id = row[2]\n",
    "    temp_amazon_df = temp_amazon_df.append(amazon_df[amazon_df.id == amazon_id])\n",
    "    temp_google_df = temp_google_df.append(google_df[google_df.id == google_id])"
   ]
  },
  {
   "cell_type": "code",
   "execution_count": 336,
   "metadata": {},
   "outputs": [],
   "source": [
    "temp_amazon_df = temp_amazon_df.reset_index(drop = True)\n",
    "new_amazon_cols = ['amazon_' + x for x in temp_amazon_df.columns]\n",
    "temp_amazon_df = temp_amazon_df.rename(columns = {temp_amazon_df.columns[i]: new_amazon_cols[i] for i in range(len(temp_amazon_df.columns))})"
   ]
  },
  {
   "cell_type": "code",
   "execution_count": 338,
   "metadata": {},
   "outputs": [],
   "source": [
    "temp_google_df = temp_google_df.reset_index(drop = True)\n",
    "new_google_cols = ['google_' + x for x in temp_google_df.columns]\n",
    "temp_google_df = temp_google_df.rename(columns = {temp_google_df.columns[i]: new_google_cols[i] for i in range(len(temp_google_df.columns))})"
   ]
  },
  {
   "cell_type": "code",
   "execution_count": 339,
   "metadata": {},
   "outputs": [],
   "source": [
    "matched_df = pd.concat([temp_amazon_df, temp_google_df], axis = 1)"
   ]
  },
  {
   "cell_type": "markdown",
   "metadata": {},
   "source": [
    "# Amazon Google Baseline"
   ]
  },
  {
   "cell_type": "raw",
   "metadata": {},
   "source": [
    "\"Match\" if the Amazon title and Google name for the product match in lowercase\n",
    "This does extremely poorly (44/1300 or 3.3% accuracy for positive examples)\n",
    "No positive examples are correct when price is factored in\n",
    "\n",
    "This baseline gets all negative examples correctly\n",
    "Final accuracy is 51%"
   ]
  },
  {
   "cell_type": "code",
   "execution_count": 349,
   "metadata": {},
   "outputs": [
    {
     "data": {
      "text/plain": [
       "(1300, 10)"
      ]
     },
     "execution_count": 349,
     "metadata": {},
     "output_type": "execute_result"
    }
   ],
   "source": [
    "matched_df.shape"
   ]
  },
  {
   "cell_type": "code",
   "execution_count": 342,
   "metadata": {},
   "outputs": [],
   "source": [
    "matched_df['amazon_title'] = matched_df['amazon_title'].str.lower()\n",
    "matched_df['google_name'] = matched_df['google_name'].str.lower()"
   ]
  },
  {
   "cell_type": "code",
   "execution_count": 343,
   "metadata": {},
   "outputs": [
    {
     "data": {
      "text/plain": [
       "0"
      ]
     },
     "execution_count": 343,
     "metadata": {},
     "output_type": "execute_result"
    }
   ],
   "source": [
    "((matched_df['amazon_title'] == matched_df['google_name']) & (matched_df['amazon_price'] == matched_df['google_price'])).sum()"
   ]
  },
  {
   "cell_type": "code",
   "execution_count": 344,
   "metadata": {},
   "outputs": [
    {
     "data": {
      "text/plain": [
       "44"
      ]
     },
     "execution_count": 344,
     "metadata": {},
     "output_type": "execute_result"
    }
   ],
   "source": [
    "(matched_df['amazon_title'] == matched_df['google_name']).sum()"
   ]
  },
  {
   "cell_type": "code",
   "execution_count": 345,
   "metadata": {},
   "outputs": [],
   "source": [
    "amazon_key_df = amazon_df.copy(deep = True)\n",
    "google_key_df = google_df.copy(deep = True)\n",
    "amazon_key_df = amazon_key_df.rename(columns = {amazon_key_df.columns[i]: new_amazon_cols[i] for i in range(len(amazon_key_df.columns))})\n",
    "google_key_df = google_key_df.rename(columns = {google_key_df.columns[i]: new_google_cols[i] for i in range(len(google_key_df.columns))})\n",
    "amazon_key_df['key'] = 0\n",
    "google_key_df['key'] = 0"
   ]
  },
  {
   "cell_type": "code",
   "execution_count": 347,
   "metadata": {},
   "outputs": [],
   "source": [
    "cross_df = amazon_key_df.merge(google_key_df, on = 'key', how = 'outer')"
   ]
  },
  {
   "cell_type": "code",
   "execution_count": 348,
   "metadata": {},
   "outputs": [],
   "source": [
    "cross_df = cross_df.drop(columns = ['key'])\n",
    "cross_df['amazon_title'] = cross_df['amazon_title'].str.lower()\n",
    "cross_df['google_name'] = cross_df['google_name'].str.lower()"
   ]
  },
  {
   "cell_type": "code",
   "execution_count": 350,
   "metadata": {},
   "outputs": [],
   "source": [
    "sampled_df = cross_df.sample(1300)"
   ]
  },
  {
   "cell_type": "code",
   "execution_count": 351,
   "metadata": {},
   "outputs": [
    {
     "data": {
      "text/html": [
       "<div>\n",
       "<style scoped>\n",
       "    .dataframe tbody tr th:only-of-type {\n",
       "        vertical-align: middle;\n",
       "    }\n",
       "\n",
       "    .dataframe tbody tr th {\n",
       "        vertical-align: top;\n",
       "    }\n",
       "\n",
       "    .dataframe thead th {\n",
       "        text-align: right;\n",
       "    }\n",
       "</style>\n",
       "<table border=\"1\" class=\"dataframe\">\n",
       "  <thead>\n",
       "    <tr style=\"text-align: right;\">\n",
       "      <th></th>\n",
       "      <th>amazon_id</th>\n",
       "      <th>amazon_title</th>\n",
       "      <th>amazon_description</th>\n",
       "      <th>amazon_manufacturer</th>\n",
       "      <th>amazon_price</th>\n",
       "      <th>google_id</th>\n",
       "      <th>google_name</th>\n",
       "      <th>google_description</th>\n",
       "      <th>google_manufacturer</th>\n",
       "      <th>google_price</th>\n",
       "    </tr>\n",
       "  </thead>\n",
       "  <tbody>\n",
       "  </tbody>\n",
       "</table>\n",
       "</div>"
      ],
      "text/plain": [
       "Empty DataFrame\n",
       "Columns: [amazon_id, amazon_title, amazon_description, amazon_manufacturer, amazon_price, google_id, google_name, google_description, google_manufacturer, google_price]\n",
       "Index: []"
      ]
     },
     "execution_count": 351,
     "metadata": {},
     "output_type": "execute_result"
    }
   ],
   "source": [
    "sampled_df.merge(matched_df, how = 'inner')"
   ]
  },
  {
   "cell_type": "code",
   "execution_count": 352,
   "metadata": {},
   "outputs": [
    {
     "data": {
      "text/plain": [
       "(0, 10)"
      ]
     },
     "execution_count": 352,
     "metadata": {},
     "output_type": "execute_result"
    }
   ],
   "source": [
    "sampled_df[((sampled_df['amazon_title'] == sampled_df['google_name']) & (sampled_df['amazon_price'] == sampled_df['google_price']))].shape"
   ]
  },
  {
   "cell_type": "code",
   "execution_count": 353,
   "metadata": {},
   "outputs": [
    {
     "data": {
      "text/plain": [
       "(0, 10)"
      ]
     },
     "execution_count": 353,
     "metadata": {},
     "output_type": "execute_result"
    }
   ],
   "source": [
    "sampled_df[sampled_df['amazon_title'] == sampled_df['google_name']].shape"
   ]
  },
  {
   "cell_type": "markdown",
   "metadata": {},
   "source": [
    "# DBLP-ACM EDA"
   ]
  },
  {
   "cell_type": "raw",
   "metadata": {},
   "source": [
    "DBLP2 Dataframe: (2616, 5)\n",
    "    columns: id\ttitle\tauthors\tvenue\tyear\n",
    "    no missingness\n",
    "\n",
    "ACM Dataframe: (2294, 5)\n",
    "    columns: id\ttitle\tauthors\tvenue\tyear\n",
    "    tiny missingness in authors: 0.006102877070619006\n",
    "\n",
    "Matching Dataframe: (2224, 2)\n",
    "    2224 unique idDBLP\t\n",
    "    2224 unique idACM"
   ]
  },
  {
   "cell_type": "code",
   "execution_count": 265,
   "metadata": {},
   "outputs": [
    {
     "data": {
      "text/plain": [
       "['ACM.csv', 'DBLP-ACM_perfectMapping.csv', 'DBLP2.csv']"
      ]
     },
     "execution_count": 265,
     "metadata": {},
     "output_type": "execute_result"
    }
   ],
   "source": [
    "os.listdir(dblp2_path)"
   ]
  },
  {
   "cell_type": "code",
   "execution_count": 266,
   "metadata": {},
   "outputs": [],
   "source": [
    "dblp2_df = pd.read_csv(os.path.join(dblp2_path, 'DBLP2.csv'), encoding='latin-1')\n",
    "dblp_matching_df = pd.read_csv(os.path.join(dblp2_path, 'DBLP-ACM_perfectMapping.csv'), encoding=\"utf8\")\n",
    "acm_df = pd.read_csv(os.path.join(dblp2_path, 'ACM.csv'),encoding=\"utf8\")"
   ]
  },
  {
   "cell_type": "code",
   "execution_count": 267,
   "metadata": {},
   "outputs": [
    {
     "data": {
      "text/html": [
       "<div>\n",
       "<style scoped>\n",
       "    .dataframe tbody tr th:only-of-type {\n",
       "        vertical-align: middle;\n",
       "    }\n",
       "\n",
       "    .dataframe tbody tr th {\n",
       "        vertical-align: top;\n",
       "    }\n",
       "\n",
       "    .dataframe thead th {\n",
       "        text-align: right;\n",
       "    }\n",
       "</style>\n",
       "<table border=\"1\" class=\"dataframe\">\n",
       "  <thead>\n",
       "    <tr style=\"text-align: right;\">\n",
       "      <th></th>\n",
       "      <th>id</th>\n",
       "      <th>title</th>\n",
       "      <th>authors</th>\n",
       "      <th>venue</th>\n",
       "      <th>year</th>\n",
       "    </tr>\n",
       "  </thead>\n",
       "  <tbody>\n",
       "    <tr>\n",
       "      <th>0</th>\n",
       "      <td>journals/sigmod/Mackay99</td>\n",
       "      <td>Semantic Integration of Environmental Models f...</td>\n",
       "      <td>D. Scott Mackay</td>\n",
       "      <td>SIGMOD Record</td>\n",
       "      <td>1999</td>\n",
       "    </tr>\n",
       "    <tr>\n",
       "      <th>1</th>\n",
       "      <td>conf/vldb/PoosalaI96</td>\n",
       "      <td>Estimation of Query-Result Distribution and it...</td>\n",
       "      <td>Viswanath Poosala, Yannis E. Ioannidis</td>\n",
       "      <td>VLDB</td>\n",
       "      <td>1996</td>\n",
       "    </tr>\n",
       "    <tr>\n",
       "      <th>2</th>\n",
       "      <td>conf/vldb/PalpanasSCP02</td>\n",
       "      <td>Incremental Maintenance for Non-Distributive A...</td>\n",
       "      <td>Themistoklis Palpanas, Richard Sidle, Hamid Pi...</td>\n",
       "      <td>VLDB</td>\n",
       "      <td>2002</td>\n",
       "    </tr>\n",
       "    <tr>\n",
       "      <th>3</th>\n",
       "      <td>conf/vldb/GardarinGT96</td>\n",
       "      <td>Cost-based Selection of Path Expression Proces...</td>\n",
       "      <td>Zhao-Hui Tang, Georges Gardarin, Jean-Robert G...</td>\n",
       "      <td>VLDB</td>\n",
       "      <td>1996</td>\n",
       "    </tr>\n",
       "    <tr>\n",
       "      <th>4</th>\n",
       "      <td>conf/vldb/HoelS95</td>\n",
       "      <td>Benchmarking Spatial Join Operations with Spat...</td>\n",
       "      <td>Erik G. Hoel, Hanan Samet</td>\n",
       "      <td>VLDB</td>\n",
       "      <td>1995</td>\n",
       "    </tr>\n",
       "  </tbody>\n",
       "</table>\n",
       "</div>"
      ],
      "text/plain": [
       "                         id  \\\n",
       "0  journals/sigmod/Mackay99   \n",
       "1      conf/vldb/PoosalaI96   \n",
       "2   conf/vldb/PalpanasSCP02   \n",
       "3    conf/vldb/GardarinGT96   \n",
       "4         conf/vldb/HoelS95   \n",
       "\n",
       "                                               title  \\\n",
       "0  Semantic Integration of Environmental Models f...   \n",
       "1  Estimation of Query-Result Distribution and it...   \n",
       "2  Incremental Maintenance for Non-Distributive A...   \n",
       "3  Cost-based Selection of Path Expression Proces...   \n",
       "4  Benchmarking Spatial Join Operations with Spat...   \n",
       "\n",
       "                                             authors          venue  year  \n",
       "0                                    D. Scott Mackay  SIGMOD Record  1999  \n",
       "1             Viswanath Poosala, Yannis E. Ioannidis           VLDB  1996  \n",
       "2  Themistoklis Palpanas, Richard Sidle, Hamid Pi...           VLDB  2002  \n",
       "3  Zhao-Hui Tang, Georges Gardarin, Jean-Robert G...           VLDB  1996  \n",
       "4                          Erik G. Hoel, Hanan Samet           VLDB  1995  "
      ]
     },
     "execution_count": 267,
     "metadata": {},
     "output_type": "execute_result"
    }
   ],
   "source": [
    "dblp2_df.head()"
   ]
  },
  {
   "cell_type": "code",
   "execution_count": 268,
   "metadata": {},
   "outputs": [
    {
     "data": {
      "text/plain": [
       "(2616, 5)"
      ]
     },
     "execution_count": 268,
     "metadata": {},
     "output_type": "execute_result"
    }
   ],
   "source": [
    "dblp2_df.shape"
   ]
  },
  {
   "cell_type": "code",
   "execution_count": 269,
   "metadata": {},
   "outputs": [
    {
     "name": "stdout",
     "output_type": "stream",
     "text": [
      "id 0.0\n",
      "title 0.0\n",
      "authors 0.0\n",
      "venue 0.0\n",
      "year 0.0\n"
     ]
    }
   ],
   "source": [
    "# missingness\n",
    "for col in dblp2_df.columns:\n",
    "    print(col, dblp2_df[col].isna().sum() / dblp2_df.shape[0])"
   ]
  },
  {
   "cell_type": "code",
   "execution_count": 270,
   "metadata": {},
   "outputs": [
    {
     "data": {
      "text/html": [
       "<div>\n",
       "<style scoped>\n",
       "    .dataframe tbody tr th:only-of-type {\n",
       "        vertical-align: middle;\n",
       "    }\n",
       "\n",
       "    .dataframe tbody tr th {\n",
       "        vertical-align: top;\n",
       "    }\n",
       "\n",
       "    .dataframe thead th {\n",
       "        text-align: right;\n",
       "    }\n",
       "</style>\n",
       "<table border=\"1\" class=\"dataframe\">\n",
       "  <thead>\n",
       "    <tr style=\"text-align: right;\">\n",
       "      <th></th>\n",
       "      <th>id</th>\n",
       "      <th>title</th>\n",
       "      <th>authors</th>\n",
       "      <th>venue</th>\n",
       "      <th>year</th>\n",
       "    </tr>\n",
       "  </thead>\n",
       "  <tbody>\n",
       "    <tr>\n",
       "      <th>0</th>\n",
       "      <td>304586</td>\n",
       "      <td>The WASA2 object-oriented workflow management ...</td>\n",
       "      <td>Gottfried Vossen, Mathias Weske</td>\n",
       "      <td>International Conference on Management of Data</td>\n",
       "      <td>1999</td>\n",
       "    </tr>\n",
       "    <tr>\n",
       "      <th>1</th>\n",
       "      <td>304587</td>\n",
       "      <td>A user-centered interface for querying distrib...</td>\n",
       "      <td>Isabel F. Cruz, Kimberly M. James</td>\n",
       "      <td>International Conference on Management of Data</td>\n",
       "      <td>1999</td>\n",
       "    </tr>\n",
       "    <tr>\n",
       "      <th>2</th>\n",
       "      <td>304589</td>\n",
       "      <td>World Wide Database-integrating the Web, CORBA...</td>\n",
       "      <td>Athman Bouguettaya, Boualem Benatallah, Lily H...</td>\n",
       "      <td>International Conference on Management of Data</td>\n",
       "      <td>1999</td>\n",
       "    </tr>\n",
       "    <tr>\n",
       "      <th>3</th>\n",
       "      <td>304590</td>\n",
       "      <td>XML-based information mediation with MIX</td>\n",
       "      <td>Chaitan Baru, Amarnath Gupta, Bertram Lud&amp;#228...</td>\n",
       "      <td>International Conference on Management of Data</td>\n",
       "      <td>1999</td>\n",
       "    </tr>\n",
       "    <tr>\n",
       "      <th>4</th>\n",
       "      <td>304582</td>\n",
       "      <td>The CCUBE constraint object-oriented database ...</td>\n",
       "      <td>Alexander Brodsky, Victor E. Segal, Jia Chen, ...</td>\n",
       "      <td>International Conference on Management of Data</td>\n",
       "      <td>1999</td>\n",
       "    </tr>\n",
       "  </tbody>\n",
       "</table>\n",
       "</div>"
      ],
      "text/plain": [
       "       id                                              title  \\\n",
       "0  304586  The WASA2 object-oriented workflow management ...   \n",
       "1  304587  A user-centered interface for querying distrib...   \n",
       "2  304589  World Wide Database-integrating the Web, CORBA...   \n",
       "3  304590           XML-based information mediation with MIX   \n",
       "4  304582  The CCUBE constraint object-oriented database ...   \n",
       "\n",
       "                                             authors  \\\n",
       "0                    Gottfried Vossen, Mathias Weske   \n",
       "1                  Isabel F. Cruz, Kimberly M. James   \n",
       "2  Athman Bouguettaya, Boualem Benatallah, Lily H...   \n",
       "3  Chaitan Baru, Amarnath Gupta, Bertram Lud&#228...   \n",
       "4  Alexander Brodsky, Victor E. Segal, Jia Chen, ...   \n",
       "\n",
       "                                            venue  year  \n",
       "0  International Conference on Management of Data  1999  \n",
       "1  International Conference on Management of Data  1999  \n",
       "2  International Conference on Management of Data  1999  \n",
       "3  International Conference on Management of Data  1999  \n",
       "4  International Conference on Management of Data  1999  "
      ]
     },
     "execution_count": 270,
     "metadata": {},
     "output_type": "execute_result"
    }
   ],
   "source": [
    "acm_df.head()"
   ]
  },
  {
   "cell_type": "code",
   "execution_count": 271,
   "metadata": {},
   "outputs": [
    {
     "data": {
      "text/plain": [
       "(2294, 5)"
      ]
     },
     "execution_count": 271,
     "metadata": {},
     "output_type": "execute_result"
    }
   ],
   "source": [
    "acm_df.shape"
   ]
  },
  {
   "cell_type": "code",
   "execution_count": 272,
   "metadata": {},
   "outputs": [
    {
     "name": "stdout",
     "output_type": "stream",
     "text": [
      "id 0.0\n",
      "title 0.0\n",
      "authors 0.006102877070619006\n",
      "venue 0.0\n",
      "year 0.0\n"
     ]
    }
   ],
   "source": [
    "# missingness\n",
    "for col in acm_df.columns:\n",
    "    print(col, acm_df[col].isna().sum() / acm_df.shape[0])"
   ]
  },
  {
   "cell_type": "code",
   "execution_count": 273,
   "metadata": {},
   "outputs": [
    {
     "data": {
      "text/html": [
       "<div>\n",
       "<style scoped>\n",
       "    .dataframe tbody tr th:only-of-type {\n",
       "        vertical-align: middle;\n",
       "    }\n",
       "\n",
       "    .dataframe tbody tr th {\n",
       "        vertical-align: top;\n",
       "    }\n",
       "\n",
       "    .dataframe thead th {\n",
       "        text-align: right;\n",
       "    }\n",
       "</style>\n",
       "<table border=\"1\" class=\"dataframe\">\n",
       "  <thead>\n",
       "    <tr style=\"text-align: right;\">\n",
       "      <th></th>\n",
       "      <th>idDBLP</th>\n",
       "      <th>idACM</th>\n",
       "    </tr>\n",
       "  </thead>\n",
       "  <tbody>\n",
       "    <tr>\n",
       "      <th>0</th>\n",
       "      <td>conf/sigmod/SlivinskasJS01</td>\n",
       "      <td>375678</td>\n",
       "    </tr>\n",
       "    <tr>\n",
       "      <th>1</th>\n",
       "      <td>conf/sigmod/ChaudhuriDN01</td>\n",
       "      <td>375694</td>\n",
       "    </tr>\n",
       "    <tr>\n",
       "      <th>2</th>\n",
       "      <td>conf/sigmod/RinfretOO01</td>\n",
       "      <td>375669</td>\n",
       "    </tr>\n",
       "    <tr>\n",
       "      <th>3</th>\n",
       "      <td>conf/sigmod/BreunigKKS01</td>\n",
       "      <td>375672</td>\n",
       "    </tr>\n",
       "    <tr>\n",
       "      <th>4</th>\n",
       "      <td>conf/sigmod/JagadishJOT01</td>\n",
       "      <td>375687</td>\n",
       "    </tr>\n",
       "  </tbody>\n",
       "</table>\n",
       "</div>"
      ],
      "text/plain": [
       "                       idDBLP   idACM\n",
       "0  conf/sigmod/SlivinskasJS01  375678\n",
       "1   conf/sigmod/ChaudhuriDN01  375694\n",
       "2     conf/sigmod/RinfretOO01  375669\n",
       "3    conf/sigmod/BreunigKKS01  375672\n",
       "4   conf/sigmod/JagadishJOT01  375687"
      ]
     },
     "execution_count": 273,
     "metadata": {},
     "output_type": "execute_result"
    }
   ],
   "source": [
    "dblp_matching_df.head()"
   ]
  },
  {
   "cell_type": "code",
   "execution_count": 274,
   "metadata": {},
   "outputs": [
    {
     "data": {
      "text/plain": [
       "(2224, 2)"
      ]
     },
     "execution_count": 274,
     "metadata": {},
     "output_type": "execute_result"
    }
   ],
   "source": [
    "dblp_matching_df.shape"
   ]
  },
  {
   "cell_type": "code",
   "execution_count": 275,
   "metadata": {},
   "outputs": [
    {
     "name": "stdout",
     "output_type": "stream",
     "text": [
      "2224\n",
      "2224\n"
     ]
    }
   ],
   "source": [
    "for col in dblp_matching_df.columns:\n",
    "    print(dblp_matching_df[col].nunique())"
   ]
  },
  {
   "cell_type": "code",
   "execution_count": 276,
   "metadata": {},
   "outputs": [],
   "source": [
    "temp_dblp_df = pd.DataFrame(columns = dblp2_df.columns)\n",
    "temp_acm_df = pd.DataFrame(columns = acm_df.columns)\n",
    "for row in dblp_matching_df.itertuples():\n",
    "    dblp_id = row[1]\n",
    "    acm_id = row[2]\n",
    "    temp_dblp_df = temp_dblp_df.append(dblp2_df[dblp2_df.id == dblp_id])\n",
    "    temp_acm_df = temp_acm_df.append(acm_df[acm_df.id == acm_id])"
   ]
  },
  {
   "cell_type": "code",
   "execution_count": 277,
   "metadata": {},
   "outputs": [],
   "source": [
    "temp_dblp_df = temp_dblp_df.reset_index(drop = True)\n",
    "new_dblp_cols = ['dblp_' + x for x in temp_dblp_df.columns]\n",
    "temp_dblp_df = temp_dblp_df.rename(columns = {temp_dblp_df.columns[i]: new_dblp_cols[i] for i in range(len(temp_dblp_df.columns))})"
   ]
  },
  {
   "cell_type": "code",
   "execution_count": 278,
   "metadata": {},
   "outputs": [],
   "source": [
    "temp_acm_df = temp_acm_df.reset_index(drop = True)\n",
    "new_acm_cols = ['acm_' + x for x in temp_acm_df.columns]\n",
    "temp_acm_df = temp_acm_df.rename(columns = {temp_acm_df.columns[i]: new_acm_cols[i] for i in range(len(temp_acm_df.columns))})"
   ]
  },
  {
   "cell_type": "code",
   "execution_count": 279,
   "metadata": {},
   "outputs": [],
   "source": [
    "matched_df = pd.concat([temp_dblp_df, temp_acm_df], axis = 1)"
   ]
  },
  {
   "cell_type": "markdown",
   "metadata": {},
   "source": [
    "# DBLP-ACM Baseline"
   ]
  },
  {
   "cell_type": "raw",
   "metadata": {},
   "source": [
    "\"Match\" if lowercase title and year match\n",
    "Randomly sample from a cross product dataframe (since it's very large)\n",
    "\n",
    "This baseline gets every match and non-match correctly."
   ]
  },
  {
   "cell_type": "code",
   "execution_count": 280,
   "metadata": {},
   "outputs": [],
   "source": [
    "matched_df['dblp_title'] = matched_df['dblp_title'].str.lower()\n",
    "matched_df['acm_title'] = matched_df['dblp_title'].str.lower()"
   ]
  },
  {
   "cell_type": "code",
   "execution_count": 281,
   "metadata": {},
   "outputs": [
    {
     "data": {
      "text/plain": [
       "2224"
      ]
     },
     "execution_count": 281,
     "metadata": {},
     "output_type": "execute_result"
    }
   ],
   "source": [
    "((matched_df['dblp_title'] == matched_df['acm_title']) & (matched_df['dblp_year'] == matched_df['acm_year'])).sum()"
   ]
  },
  {
   "cell_type": "code",
   "execution_count": 282,
   "metadata": {},
   "outputs": [],
   "source": [
    "dblp_key_df = dblp2_df.copy(deep = True)\n",
    "acm_key_df = acm_df.copy(deep = True)\n",
    "dblp_key_df = dblp_key_df.rename(columns = {dblp_key_df.columns[i]: new_dblp_cols[i] for i in range(len(dblp_key_df.columns))})\n",
    "acm_key_df = acm_key_df.rename(columns = {acm_key_df.columns[i]: new_acm_cols[i] for i in range(len(acm_key_df.columns))})\n",
    "dblp_key_df['key'] = 0\n",
    "acm_key_df['key'] = 0"
   ]
  },
  {
   "cell_type": "code",
   "execution_count": 283,
   "metadata": {},
   "outputs": [],
   "source": [
    "cross_df = dblp_key_df.merge(acm_key_df, on = 'key', how = 'outer')"
   ]
  },
  {
   "cell_type": "code",
   "execution_count": 284,
   "metadata": {},
   "outputs": [],
   "source": [
    "cross_df = cross_df.drop(columns = ['key'])\n",
    "cross_df['dblp_title'] = cross_df['dblp_title'].str.lower()\n",
    "cross_df['acm_title'] = cross_df['acm_title'].str.lower()"
   ]
  },
  {
   "cell_type": "code",
   "execution_count": 289,
   "metadata": {},
   "outputs": [],
   "source": [
    "sampled_df = cross_df.sample(2224)"
   ]
  },
  {
   "cell_type": "code",
   "execution_count": 290,
   "metadata": {},
   "outputs": [
    {
     "data": {
      "text/html": [
       "<div>\n",
       "<style scoped>\n",
       "    .dataframe tbody tr th:only-of-type {\n",
       "        vertical-align: middle;\n",
       "    }\n",
       "\n",
       "    .dataframe tbody tr th {\n",
       "        vertical-align: top;\n",
       "    }\n",
       "\n",
       "    .dataframe thead th {\n",
       "        text-align: right;\n",
       "    }\n",
       "</style>\n",
       "<table border=\"1\" class=\"dataframe\">\n",
       "  <thead>\n",
       "    <tr style=\"text-align: right;\">\n",
       "      <th></th>\n",
       "      <th>dblp_id</th>\n",
       "      <th>dblp_title</th>\n",
       "      <th>dblp_authors</th>\n",
       "      <th>dblp_venue</th>\n",
       "      <th>dblp_year</th>\n",
       "      <th>acm_id</th>\n",
       "      <th>acm_title</th>\n",
       "      <th>acm_authors</th>\n",
       "      <th>acm_venue</th>\n",
       "      <th>acm_year</th>\n",
       "    </tr>\n",
       "  </thead>\n",
       "  <tbody>\n",
       "  </tbody>\n",
       "</table>\n",
       "</div>"
      ],
      "text/plain": [
       "Empty DataFrame\n",
       "Columns: [dblp_id, dblp_title, dblp_authors, dblp_venue, dblp_year, acm_id, acm_title, acm_authors, acm_venue, acm_year]\n",
       "Index: []"
      ]
     },
     "execution_count": 290,
     "metadata": {},
     "output_type": "execute_result"
    }
   ],
   "source": [
    "sampled_df.merge(matched_df, how = 'inner')"
   ]
  },
  {
   "cell_type": "code",
   "execution_count": 291,
   "metadata": {},
   "outputs": [
    {
     "data": {
      "text/plain": [
       "(0, 10)"
      ]
     },
     "execution_count": 291,
     "metadata": {},
     "output_type": "execute_result"
    }
   ],
   "source": [
    "sampled_df[((sampled_df['dblp_title'] == sampled_df['acm_title']) & (sampled_df['dblp_year'] == sampled_df['acm_year']))].shape"
   ]
  },
  {
   "cell_type": "markdown",
   "metadata": {},
   "source": [
    "# DBLP-Scholar EDA"
   ]
  },
  {
   "cell_type": "raw",
   "metadata": {},
   "source": [
    "DBLP1 Dataframe: (2616, 5)\n",
    "    columns: id\ttitle\tauthors\tvenue\tyear\n",
    "    slight missingness in authors: 0.08333333333333333\n",
    "    slight missingness in venue: 0.08065749235474007\n",
    "\n",
    "Scholar Dataframe: (64263, 5)\n",
    "    columns: id\ttitle\tauthors\tvenue\tyear\n",
    "    tiny missingness in authors: 1.5561053794562967e-05\n",
    "    large missingness in venue: 0.23336912375706081\n",
    "    large missingness in year: 0.5413690615128457\n",
    "\n",
    "Matching Dataframe: (5347, 2)\n",
    "    2408 unique idDBLP\n",
    "    5218 unique idScholar"
   ]
  },
  {
   "cell_type": "code",
   "execution_count": 293,
   "metadata": {},
   "outputs": [
    {
     "data": {
      "text/plain": [
       "['DBLP-Scholar_perfectMapping.csv', 'DBLP1.csv', 'Scholar.csv']"
      ]
     },
     "execution_count": 293,
     "metadata": {},
     "output_type": "execute_result"
    }
   ],
   "source": [
    "os.listdir(dblp1_path)"
   ]
  },
  {
   "cell_type": "code",
   "execution_count": 294,
   "metadata": {},
   "outputs": [],
   "source": [
    "dblp1_df = pd.read_csv(os.path.join(dblp1_path, 'DBLP1.csv'), encoding='latin-1')\n",
    "dblp_matching_df = pd.read_csv(os.path.join(dblp1_path, 'DBLP-Scholar_perfectMapping.csv'), encoding=\"utf8\")\n",
    "scholar_df = pd.read_csv(os.path.join(dblp1_path, 'Scholar.csv'),encoding=\"utf8\")"
   ]
  },
  {
   "cell_type": "code",
   "execution_count": 295,
   "metadata": {},
   "outputs": [
    {
     "data": {
      "text/html": [
       "<div>\n",
       "<style scoped>\n",
       "    .dataframe tbody tr th:only-of-type {\n",
       "        vertical-align: middle;\n",
       "    }\n",
       "\n",
       "    .dataframe tbody tr th {\n",
       "        vertical-align: top;\n",
       "    }\n",
       "\n",
       "    .dataframe thead th {\n",
       "        text-align: right;\n",
       "    }\n",
       "</style>\n",
       "<table border=\"1\" class=\"dataframe\">\n",
       "  <thead>\n",
       "    <tr style=\"text-align: right;\">\n",
       "      <th></th>\n",
       "      <th>id</th>\n",
       "      <th>title</th>\n",
       "      <th>authors</th>\n",
       "      <th>venue</th>\n",
       "      <th>year</th>\n",
       "    </tr>\n",
       "  </thead>\n",
       "  <tbody>\n",
       "    <tr>\n",
       "      <th>0</th>\n",
       "      <td>conf/vldb/RusinkiewiczKTWM95</td>\n",
       "      <td>Towards a Cooperative Transaction Model - The ...</td>\n",
       "      <td>M Rusinkiewicz, W Klas, T Tesch, J Wäsch, P Muth</td>\n",
       "      <td>VLDB</td>\n",
       "      <td>1995</td>\n",
       "    </tr>\n",
       "    <tr>\n",
       "      <th>1</th>\n",
       "      <td>journals/sigmod/EisenbergM02</td>\n",
       "      <td>SQL/XML is Making Good Progress</td>\n",
       "      <td>A Eisenberg, J Melton</td>\n",
       "      <td>SIGMOD Record</td>\n",
       "      <td>2002</td>\n",
       "    </tr>\n",
       "    <tr>\n",
       "      <th>2</th>\n",
       "      <td>conf/vldb/AmmannJR95</td>\n",
       "      <td>Using Formal Methods to Reason about Semantics...</td>\n",
       "      <td>P Ammann, S Jajodia, I Ray</td>\n",
       "      <td>VLDB</td>\n",
       "      <td>1995</td>\n",
       "    </tr>\n",
       "    <tr>\n",
       "      <th>3</th>\n",
       "      <td>journals/sigmod/Liu02</td>\n",
       "      <td>Editor's Notes</td>\n",
       "      <td>L Liu</td>\n",
       "      <td>SIGMOD Record</td>\n",
       "      <td>2002</td>\n",
       "    </tr>\n",
       "    <tr>\n",
       "      <th>4</th>\n",
       "      <td>journals/sigmod/Hammer02</td>\n",
       "      <td>Report on the ACM Fourth International Worksho...</td>\n",
       "      <td>NaN</td>\n",
       "      <td>NaN</td>\n",
       "      <td>2002</td>\n",
       "    </tr>\n",
       "  </tbody>\n",
       "</table>\n",
       "</div>"
      ],
      "text/plain": [
       "                             id  \\\n",
       "0  conf/vldb/RusinkiewiczKTWM95   \n",
       "1  journals/sigmod/EisenbergM02   \n",
       "2          conf/vldb/AmmannJR95   \n",
       "3         journals/sigmod/Liu02   \n",
       "4      journals/sigmod/Hammer02   \n",
       "\n",
       "                                               title  \\\n",
       "0  Towards a Cooperative Transaction Model - The ...   \n",
       "1                    SQL/XML is Making Good Progress   \n",
       "2  Using Formal Methods to Reason about Semantics...   \n",
       "3                                     Editor's Notes   \n",
       "4  Report on the ACM Fourth International Worksho...   \n",
       "\n",
       "                                            authors          venue  year  \n",
       "0  M Rusinkiewicz, W Klas, T Tesch, J Wäsch, P Muth           VLDB  1995  \n",
       "1                             A Eisenberg, J Melton  SIGMOD Record  2002  \n",
       "2                        P Ammann, S Jajodia, I Ray           VLDB  1995  \n",
       "3                                             L Liu  SIGMOD Record  2002  \n",
       "4                                               NaN            NaN  2002  "
      ]
     },
     "execution_count": 295,
     "metadata": {},
     "output_type": "execute_result"
    }
   ],
   "source": [
    "dblp1_df.head()"
   ]
  },
  {
   "cell_type": "code",
   "execution_count": 296,
   "metadata": {},
   "outputs": [
    {
     "data": {
      "text/plain": [
       "(2616, 5)"
      ]
     },
     "execution_count": 296,
     "metadata": {},
     "output_type": "execute_result"
    }
   ],
   "source": [
    "dblp1_df.shape"
   ]
  },
  {
   "cell_type": "code",
   "execution_count": 297,
   "metadata": {},
   "outputs": [
    {
     "name": "stdout",
     "output_type": "stream",
     "text": [
      "id 0.0\n",
      "title 0.0\n",
      "authors 0.08333333333333333\n",
      "venue 0.08065749235474007\n",
      "year 0.0\n"
     ]
    }
   ],
   "source": [
    "# missingness\n",
    "for col in dblp1_df.columns:\n",
    "    print(col, dblp1_df[col].isna().sum() / dblp1_df.shape[0])"
   ]
  },
  {
   "cell_type": "code",
   "execution_count": 298,
   "metadata": {},
   "outputs": [
    {
     "data": {
      "text/html": [
       "<div>\n",
       "<style scoped>\n",
       "    .dataframe tbody tr th:only-of-type {\n",
       "        vertical-align: middle;\n",
       "    }\n",
       "\n",
       "    .dataframe tbody tr th {\n",
       "        vertical-align: top;\n",
       "    }\n",
       "\n",
       "    .dataframe thead th {\n",
       "        text-align: right;\n",
       "    }\n",
       "</style>\n",
       "<table border=\"1\" class=\"dataframe\">\n",
       "  <thead>\n",
       "    <tr style=\"text-align: right;\">\n",
       "      <th></th>\n",
       "      <th>id</th>\n",
       "      <th>title</th>\n",
       "      <th>authors</th>\n",
       "      <th>venue</th>\n",
       "      <th>year</th>\n",
       "    </tr>\n",
       "  </thead>\n",
       "  <tbody>\n",
       "    <tr>\n",
       "      <th>0</th>\n",
       "      <td>aKcZKwvwbQwJ</td>\n",
       "      <td>11578 Sorrento Valley Road</td>\n",
       "      <td>QD Inc</td>\n",
       "      <td>San Diego,</td>\n",
       "      <td>NaN</td>\n",
       "    </tr>\n",
       "    <tr>\n",
       "      <th>1</th>\n",
       "      <td>ixKfiTHoaDoJ</td>\n",
       "      <td>Initiation of crazes in polystyrene</td>\n",
       "      <td>AS Argon, JG Hannoosh</td>\n",
       "      <td>Phil. Mag,</td>\n",
       "      <td>NaN</td>\n",
       "    </tr>\n",
       "    <tr>\n",
       "      <th>2</th>\n",
       "      <td>3BxllB4wwcIJ</td>\n",
       "      <td>Immunogold labelling is a quantitative method ...</td>\n",
       "      <td>GH Hansen, LL Wetterberg, H SjÃ¶strÃ¶m, O NorÃ©n</td>\n",
       "      <td>The Histochemical Journal,</td>\n",
       "      <td>1992.0</td>\n",
       "    </tr>\n",
       "    <tr>\n",
       "      <th>3</th>\n",
       "      <td>d2WWxwKMex4J</td>\n",
       "      <td>The Burden of Infectious Disease Among Inmates...</td>\n",
       "      <td>TM Hammett, P Harmon, W Rhodes</td>\n",
       "      <td>see</td>\n",
       "      <td>NaN</td>\n",
       "    </tr>\n",
       "    <tr>\n",
       "      <th>4</th>\n",
       "      <td>cZCX-AQpjccJ</td>\n",
       "      <td>The Role of Faculty Advising in Science and En...</td>\n",
       "      <td>JR Cogdell</td>\n",
       "      <td>NEW DIRECTIONS FOR TEACHING AND LEARNING,</td>\n",
       "      <td>1995.0</td>\n",
       "    </tr>\n",
       "  </tbody>\n",
       "</table>\n",
       "</div>"
      ],
      "text/plain": [
       "             id                                              title  \\\n",
       "0  aKcZKwvwbQwJ                         11578 Sorrento Valley Road   \n",
       "1  ixKfiTHoaDoJ                Initiation of crazes in polystyrene   \n",
       "2  3BxllB4wwcIJ  Immunogold labelling is a quantitative method ...   \n",
       "3  d2WWxwKMex4J  The Burden of Infectious Disease Among Inmates...   \n",
       "4  cZCX-AQpjccJ  The Role of Faculty Advising in Science and En...   \n",
       "\n",
       "                                            authors  \\\n",
       "0                                            QD Inc   \n",
       "1                             AS Argon, JG Hannoosh   \n",
       "2  GH Hansen, LL Wetterberg, H SjÃ¶strÃ¶m, O NorÃ©n   \n",
       "3                    TM Hammett, P Harmon, W Rhodes   \n",
       "4                                        JR Cogdell   \n",
       "\n",
       "                                       venue    year  \n",
       "0                                 San Diego,     NaN  \n",
       "1                                 Phil. Mag,     NaN  \n",
       "2                 The Histochemical Journal,  1992.0  \n",
       "3                                        see     NaN  \n",
       "4  NEW DIRECTIONS FOR TEACHING AND LEARNING,  1995.0  "
      ]
     },
     "execution_count": 298,
     "metadata": {},
     "output_type": "execute_result"
    }
   ],
   "source": [
    "scholar_df.head()"
   ]
  },
  {
   "cell_type": "code",
   "execution_count": 299,
   "metadata": {},
   "outputs": [
    {
     "data": {
      "text/plain": [
       "(64263, 5)"
      ]
     },
     "execution_count": 299,
     "metadata": {},
     "output_type": "execute_result"
    }
   ],
   "source": [
    "scholar_df.shape"
   ]
  },
  {
   "cell_type": "code",
   "execution_count": 300,
   "metadata": {},
   "outputs": [
    {
     "name": "stdout",
     "output_type": "stream",
     "text": [
      "id 0.0\n",
      "title 0.0\n",
      "authors 1.5561053794562967e-05\n",
      "venue 0.23336912375706081\n",
      "year 0.5413690615128457\n"
     ]
    }
   ],
   "source": [
    "# missingness\n",
    "for col in scholar_df.columns:\n",
    "    print(col, scholar_df[col].isna().sum() / scholar_df.shape[0])"
   ]
  },
  {
   "cell_type": "code",
   "execution_count": 301,
   "metadata": {},
   "outputs": [
    {
     "data": {
      "text/html": [
       "<div>\n",
       "<style scoped>\n",
       "    .dataframe tbody tr th:only-of-type {\n",
       "        vertical-align: middle;\n",
       "    }\n",
       "\n",
       "    .dataframe tbody tr th {\n",
       "        vertical-align: top;\n",
       "    }\n",
       "\n",
       "    .dataframe thead th {\n",
       "        text-align: right;\n",
       "    }\n",
       "</style>\n",
       "<table border=\"1\" class=\"dataframe\">\n",
       "  <thead>\n",
       "    <tr style=\"text-align: right;\">\n",
       "      <th></th>\n",
       "      <th>idDBLP</th>\n",
       "      <th>idScholar</th>\n",
       "    </tr>\n",
       "  </thead>\n",
       "  <tbody>\n",
       "    <tr>\n",
       "      <th>0</th>\n",
       "      <td>conf/sigmod/AbadiC02</td>\n",
       "      <td>f2Lea-RN8dsJ</td>\n",
       "    </tr>\n",
       "    <tr>\n",
       "      <th>1</th>\n",
       "      <td>conf/sigmod/AbadiCCCCEGHMRSSTXYZ03</td>\n",
       "      <td>eBnT7lhV2LwJ</td>\n",
       "    </tr>\n",
       "    <tr>\n",
       "      <th>2</th>\n",
       "      <td>conf/sigmod/AbadiCCCCEGHMRSSTXYZ03</td>\n",
       "      <td>gBVNSFeS4P8J</td>\n",
       "    </tr>\n",
       "    <tr>\n",
       "      <th>3</th>\n",
       "      <td>conf/sigmod/AbadiCCCCEGHMRSSTXYZ03</td>\n",
       "      <td>VuY9Y49GqXgJ</td>\n",
       "    </tr>\n",
       "    <tr>\n",
       "      <th>4</th>\n",
       "      <td>conf/sigmod/AbiteboulBCMM03</td>\n",
       "      <td>AxpQwgyRyLgJ</td>\n",
       "    </tr>\n",
       "  </tbody>\n",
       "</table>\n",
       "</div>"
      ],
      "text/plain": [
       "                               idDBLP     idScholar\n",
       "0                conf/sigmod/AbadiC02  f2Lea-RN8dsJ\n",
       "1  conf/sigmod/AbadiCCCCEGHMRSSTXYZ03  eBnT7lhV2LwJ\n",
       "2  conf/sigmod/AbadiCCCCEGHMRSSTXYZ03  gBVNSFeS4P8J\n",
       "3  conf/sigmod/AbadiCCCCEGHMRSSTXYZ03  VuY9Y49GqXgJ\n",
       "4         conf/sigmod/AbiteboulBCMM03  AxpQwgyRyLgJ"
      ]
     },
     "execution_count": 301,
     "metadata": {},
     "output_type": "execute_result"
    }
   ],
   "source": [
    "dblp_matching_df.head()"
   ]
  },
  {
   "cell_type": "code",
   "execution_count": 302,
   "metadata": {},
   "outputs": [
    {
     "data": {
      "text/plain": [
       "(5347, 2)"
      ]
     },
     "execution_count": 302,
     "metadata": {},
     "output_type": "execute_result"
    }
   ],
   "source": [
    "dblp_matching_df.shape"
   ]
  },
  {
   "cell_type": "code",
   "execution_count": 303,
   "metadata": {},
   "outputs": [
    {
     "name": "stdout",
     "output_type": "stream",
     "text": [
      "2408\n",
      "5218\n"
     ]
    }
   ],
   "source": [
    "for col in dblp_matching_df.columns:\n",
    "    print(dblp_matching_df[col].nunique())"
   ]
  },
  {
   "cell_type": "code",
   "execution_count": 304,
   "metadata": {},
   "outputs": [],
   "source": [
    "temp_dblp_df = pd.DataFrame(columns = dblp1_df.columns)\n",
    "temp_scholar_df = pd.DataFrame(columns = scholar_df.columns)\n",
    "for row in dblp_matching_df.itertuples():\n",
    "    dblp_id = row[1]\n",
    "    scholar_id = row[2]\n",
    "    temp_dblp_df = temp_dblp_df.append(dblp2_df[dblp2_df.id == dblp_id])\n",
    "    temp_scholar_df = temp_scholar_df.append(scholar_df[scholar_df.id == scholar_id])"
   ]
  },
  {
   "cell_type": "code",
   "execution_count": 305,
   "metadata": {},
   "outputs": [],
   "source": [
    "temp_dblp_df = temp_dblp_df.reset_index(drop = True)\n",
    "new_dblp_cols = ['dblp_' + x for x in temp_dblp_df.columns]\n",
    "temp_dblp_df = temp_dblp_df.rename(columns = {temp_dblp_df.columns[i]: new_dblp_cols[i] for i in range(len(temp_dblp_df.columns))})"
   ]
  },
  {
   "cell_type": "code",
   "execution_count": 306,
   "metadata": {},
   "outputs": [],
   "source": [
    "temp_scholar_df = temp_scholar_df.reset_index(drop = True)\n",
    "new_scholar_cols = ['scholar_' + x for x in temp_scholar_df.columns]\n",
    "temp_scholar_df = temp_scholar_df.rename(columns = {temp_scholar_df.columns[i]: new_scholar_cols[i] for i in range(len(temp_scholar_df.columns))})"
   ]
  },
  {
   "cell_type": "code",
   "execution_count": 307,
   "metadata": {},
   "outputs": [],
   "source": [
    "matched_df = pd.concat([temp_dblp_df, temp_scholar_df], axis = 1)"
   ]
  },
  {
   "cell_type": "markdown",
   "metadata": {},
   "source": [
    "# DBLP-Scholar Baseline"
   ]
  },
  {
   "cell_type": "raw",
   "metadata": {},
   "source": [
    "\"Match\" if lowercase title match\n",
    "Using year decreases performance since there's high missingness in the year column for the scholar dataframe\n",
    "Randomly sample with replacement from both dataframes\n",
    "\n",
    "This baseline gets every negative example correctly but gets around 47% of the positive examples correctly\n",
    "Final accuracy is around 73%"
   ]
  },
  {
   "cell_type": "code",
   "execution_count": 308,
   "metadata": {},
   "outputs": [
    {
     "data": {
      "text/plain": [
       "(5347, 10)"
      ]
     },
     "execution_count": 308,
     "metadata": {},
     "output_type": "execute_result"
    }
   ],
   "source": [
    "matched_df.shape"
   ]
  },
  {
   "cell_type": "code",
   "execution_count": 309,
   "metadata": {},
   "outputs": [
    {
     "data": {
      "text/plain": [
       "0.5172994202356461"
      ]
     },
     "execution_count": 309,
     "metadata": {},
     "output_type": "execute_result"
    }
   ],
   "source": [
    "# high missingness in scholar_year column\n",
    "matched_df.scholar_year.isna().sum()/matched_df.shape[0]"
   ]
  },
  {
   "cell_type": "code",
   "execution_count": 310,
   "metadata": {},
   "outputs": [],
   "source": [
    "matched_df['dblp_title'] = matched_df['dblp_title'].str.lower()\n",
    "matched_df['scholar_title'] = matched_df['scholar_title'].str.lower()"
   ]
  },
  {
   "cell_type": "code",
   "execution_count": 311,
   "metadata": {},
   "outputs": [
    {
     "data": {
      "text/plain": [
       "1818"
      ]
     },
     "execution_count": 311,
     "metadata": {},
     "output_type": "execute_result"
    }
   ],
   "source": [
    "((matched_df['dblp_title'] == matched_df['scholar_title']) & (matched_df['dblp_year'] == matched_df['scholar_year'])).sum()"
   ]
  },
  {
   "cell_type": "code",
   "execution_count": 312,
   "metadata": {},
   "outputs": [
    {
     "data": {
      "text/plain": [
       "2552"
      ]
     },
     "execution_count": 312,
     "metadata": {},
     "output_type": "execute_result"
    }
   ],
   "source": [
    "(matched_df['dblp_title'] == matched_df['scholar_title']).sum()"
   ]
  },
  {
   "cell_type": "code",
   "execution_count": 331,
   "metadata": {},
   "outputs": [
    {
     "data": {
      "text/plain": [
       "0.47727697774452965"
      ]
     },
     "execution_count": 331,
     "metadata": {},
     "output_type": "execute_result"
    }
   ],
   "source": [
    "2552/5347"
   ]
  },
  {
   "cell_type": "code",
   "execution_count": 316,
   "metadata": {},
   "outputs": [],
   "source": [
    "dblp_key_df = dblp2_df.copy(deep = True)\n",
    "scholar_key_df = scholar_df.copy(deep = True)\n",
    "dblp_key_df = dblp_key_df.rename(columns = {dblp_key_df.columns[i]: new_dblp_cols[i] for i in range(len(dblp_key_df.columns))})\n",
    "scholar_key_df = scholar_key_df.rename(columns = {scholar_key_df.columns[i]: new_scholar_cols[i] for i in range(len(scholar_key_df.columns))})"
   ]
  },
  {
   "cell_type": "code",
   "execution_count": 317,
   "metadata": {},
   "outputs": [
    {
     "data": {
      "text/plain": [
       "(2616, 5)"
      ]
     },
     "execution_count": 317,
     "metadata": {},
     "output_type": "execute_result"
    }
   ],
   "source": [
    "dblp_key_df.shape"
   ]
  },
  {
   "cell_type": "code",
   "execution_count": 318,
   "metadata": {},
   "outputs": [
    {
     "data": {
      "text/plain": [
       "(64263, 5)"
      ]
     },
     "execution_count": 318,
     "metadata": {},
     "output_type": "execute_result"
    }
   ],
   "source": [
    "scholar_key_df.shape"
   ]
  },
  {
   "cell_type": "code",
   "execution_count": 322,
   "metadata": {},
   "outputs": [
    {
     "name": "stderr",
     "output_type": "stream",
     "text": [
      "C:\\Users\\14157\\Anaconda3\\lib\\site-packages\\ipykernel_launcher.py:2: FutureWarning: Sorting because non-concatenation axis is not aligned. A future version\n",
      "of pandas will change to not sort by default.\n",
      "\n",
      "To accept the future behavior, pass 'sort=False'.\n",
      "\n",
      "To retain the current behavior and silence the warning, pass 'sort=True'.\n",
      "\n",
      "  \n"
     ]
    }
   ],
   "source": [
    "sampled_df = pd.concat([dblp_key_df.sample(n = 5347, replace = True).reset_index(),\n",
    "                        scholar_key_df.sample(n = 5347, replace = True).reset_index()])"
   ]
  },
  {
   "cell_type": "code",
   "execution_count": 327,
   "metadata": {},
   "outputs": [],
   "source": [
    "sampled_df['dblp_title'] = sampled_df['dblp_title'].str.lower()\n",
    "sampled_df['scholar_title'] = sampled_df['scholar_title'].str.lower()"
   ]
  },
  {
   "cell_type": "code",
   "execution_count": 328,
   "metadata": {},
   "outputs": [
    {
     "data": {
      "text/html": [
       "<div>\n",
       "<style scoped>\n",
       "    .dataframe tbody tr th:only-of-type {\n",
       "        vertical-align: middle;\n",
       "    }\n",
       "\n",
       "    .dataframe tbody tr th {\n",
       "        vertical-align: top;\n",
       "    }\n",
       "\n",
       "    .dataframe thead th {\n",
       "        text-align: right;\n",
       "    }\n",
       "</style>\n",
       "<table border=\"1\" class=\"dataframe\">\n",
       "  <thead>\n",
       "    <tr style=\"text-align: right;\">\n",
       "      <th></th>\n",
       "      <th>dblp_authors</th>\n",
       "      <th>dblp_id</th>\n",
       "      <th>dblp_title</th>\n",
       "      <th>dblp_venue</th>\n",
       "      <th>dblp_year</th>\n",
       "      <th>index</th>\n",
       "      <th>scholar_authors</th>\n",
       "      <th>scholar_id</th>\n",
       "      <th>scholar_title</th>\n",
       "      <th>scholar_venue</th>\n",
       "      <th>scholar_year</th>\n",
       "    </tr>\n",
       "  </thead>\n",
       "  <tbody>\n",
       "  </tbody>\n",
       "</table>\n",
       "</div>"
      ],
      "text/plain": [
       "Empty DataFrame\n",
       "Columns: [dblp_authors, dblp_id, dblp_title, dblp_venue, dblp_year, index, scholar_authors, scholar_id, scholar_title, scholar_venue, scholar_year]\n",
       "Index: []"
      ]
     },
     "execution_count": 328,
     "metadata": {},
     "output_type": "execute_result"
    }
   ],
   "source": [
    "sampled_df.merge(matched_df, how = 'inner')"
   ]
  },
  {
   "cell_type": "code",
   "execution_count": 329,
   "metadata": {},
   "outputs": [
    {
     "data": {
      "text/plain": [
       "(0, 11)"
      ]
     },
     "execution_count": 329,
     "metadata": {},
     "output_type": "execute_result"
    }
   ],
   "source": [
    "sampled_df[((sampled_df['dblp_title'] == sampled_df['scholar_title']) & (sampled_df['dblp_year'] == sampled_df['scholar_year']))].shape"
   ]
  },
  {
   "cell_type": "code",
   "execution_count": 330,
   "metadata": {},
   "outputs": [
    {
     "data": {
      "text/plain": [
       "(0, 11)"
      ]
     },
     "execution_count": 330,
     "metadata": {},
     "output_type": "execute_result"
    }
   ],
   "source": [
    "sampled_df[sampled_df['dblp_title'] == sampled_df['scholar_title']].shape"
   ]
  }
 ],
 "metadata": {
  "kernelspec": {
   "display_name": "Python 3",
   "language": "python",
   "name": "python3"
  },
  "language_info": {
   "codemirror_mode": {
    "name": "ipython",
    "version": 3
   },
   "file_extension": ".py",
   "mimetype": "text/x-python",
   "name": "python",
   "nbconvert_exporter": "python",
   "pygments_lexer": "ipython3",
   "version": "3.6.7"
  }
 },
 "nbformat": 4,
 "nbformat_minor": 2
}
