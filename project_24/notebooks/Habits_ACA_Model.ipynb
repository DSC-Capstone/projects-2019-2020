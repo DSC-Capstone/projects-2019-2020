{
 "cells": [
  {
   "cell_type": "code",
   "execution_count": 1,
   "metadata": {},
   "outputs": [],
   "source": [
    "import src as methods\n",
    "import numpy as np\n",
    "import pandas as pd"
   ]
  },
  {
   "cell_type": "markdown",
   "metadata": {},
   "source": [
    "We intend to recommend a new restaurant for an individual to try based on a restuarant that they previously at (or similarily, a restuarant that they trust). This will be provided in the form of a link from Yelp's website that the user can provide."
   ]
  },
  {
   "cell_type": "code",
   "execution_count": 2,
   "metadata": {},
   "outputs": [],
   "source": [
    "query_restaurant = 'https://www.yelp.com/biz/buon-appetito-san-diego'"
   ]
  },
  {
   "cell_type": "code",
   "execution_count": 3,
   "metadata": {},
   "outputs": [],
   "source": [
    "fp = 'data_ingestion.csv'\n",
    "df = pd.read_csv(fp)"
   ]
  },
  {
   "cell_type": "code",
   "execution_count": 4,
   "metadata": {},
   "outputs": [
    {
     "data": {
      "text/plain": [
       "Index(['Unnamed: 0', 'Name', 'URL', 'Phone', 'Latitude', 'Longitude',\n",
       "       'Address', 'City', 'State', 'ZIP', 'Vertical', 'Rating', 'Review Count',\n",
       "       'Yelp ID', 'Review1', 'Review2', 'Review3', 'Vertical1', 'Vertical2',\n",
       "       'Vertical3', 'Reviews', 'polarity', 'subjectivity', 'Word1', 'Word2',\n",
       "       'Word3', 'Word4', 'Word5'],\n",
       "      dtype='object')"
      ]
     },
     "execution_count": 4,
     "metadata": {},
     "output_type": "execute_result"
    }
   ],
   "source": [
    "df.columns"
   ]
  },
  {
   "cell_type": "code",
   "execution_count": 5,
   "metadata": {},
   "outputs": [],
   "source": [
    "def data_to_A_1_matrix(df):\n",
    "    \n",
    "    # Helper Function \n",
    "    def idx_dictionary(iterable):\n",
    "        dictionary = {}\n",
    "        idx = 0\n",
    "        for element in set(iterable): \n",
    "            dictionary[element] = idx\n",
    "            idx += 1 \n",
    "        return dictionary\n",
    "    \n",
    "    verticals = df.Vertical\n",
    "    flattened = verticals.explode()\n",
    "    \n",
    "    # Explode all instances of the Vertical column\n",
    "    unflattened = []\n",
    "    for x in verticals:\n",
    "        split = x.split(', ')\n",
    "        unflattened.append(split)\n",
    "        \n",
    "    uniques = set(pd.Series(unflattened).explode().values)\n",
    "    vert_dict = idx_dictionary(uniques)\n",
    "    \n",
    "    #Find update_tuples\n",
    "    update_tuples = []\n",
    "    for idx, verts in enumerate(unflattened):\n",
    "        for v_instance in verts:\n",
    "            if v_instance in vert_dict:\n",
    "                update_tuples.append((idx, vert_dict[v_instance]))\n",
    "                \n",
    "    dim_i = df.shape[0]\n",
    "    dim_j = len(vert_dict)\n",
    "    y_labels = vert_dict.keys()\n",
    "    x_labels = (df[['Yelp ID']].values).tolist()\n",
    "    \n",
    "    flattened_x_lab = [y for x in x_labels for y in x]\n",
    "    \n",
    "    return update_tuples, (dim_i, dim_j), list(y_labels), flattened_x_lab"
   ]
  },
  {
   "cell_type": "code",
   "execution_count": 6,
   "metadata": {},
   "outputs": [],
   "source": [
    "A_tuples, dim, y_lab, x_lab = data_to_A_1_matrix(df)"
   ]
  },
  {
   "cell_type": "code",
   "execution_count": 7,
   "metadata": {},
   "outputs": [
    {
     "data": {
      "text/plain": [
       "['Hot Dogs',\n",
       " 'Beer Bar',\n",
       " 'Sandwiches',\n",
       " 'Vegan',\n",
       " 'Coffee Roasteries',\n",
       " 'Steakhouses',\n",
       " 'Bars',\n",
       " 'Food Trucks',\n",
       " 'Japanese',\n",
       " 'Beer']"
      ]
     },
     "execution_count": 7,
     "metadata": {},
     "output_type": "execute_result"
    }
   ],
   "source": [
    "y_lab[:10]"
   ]
  },
  {
   "cell_type": "code",
   "execution_count": 8,
   "metadata": {},
   "outputs": [
    {
     "data": {
      "text/plain": [
       "['AlO78to1upUkVhRx12XtVA',\n",
       " '7PGyWA51sSdw8M4fBXa9Gw',\n",
       " 'n3sKOKoEk_gKhBvgfIwZaA',\n",
       " '4GT1sQ_pcKk4gBMrJddexw',\n",
       " 'PzGU5brzhsVqumdU4qE5Rw',\n",
       " 'aY_z6z6at7wyoW7sFhf4bA',\n",
       " '9z2faUubEPjEEpV1zyxH6g',\n",
       " 'djfc2SAzd4xjn5HmUp8wow',\n",
       " 'W0dzJ7E6R3kyAOXIlO_tbw',\n",
       " 'Bne55NwL25KO_ntMgflb_A']"
      ]
     },
     "execution_count": 8,
     "metadata": {},
     "output_type": "execute_result"
    }
   ],
   "source": [
    "x_lab[:10]"
   ]
  },
  {
   "cell_type": "code",
   "execution_count": 9,
   "metadata": {},
   "outputs": [],
   "source": [
    "from tqdm import tqdm\n",
    "from scipy.sparse import lil_matrix"
   ]
  },
  {
   "cell_type": "code",
   "execution_count": 10,
   "metadata": {},
   "outputs": [],
   "source": [
    "# ---------------------------------------------------------------------\n",
    "# A_matrix_func (WORKING)\n",
    "# ---------------------------------------------------------------------    \n",
    "\n",
    "def A_matrix_func(df, update_tuples, dimensions):\n",
    "    \"\"\"\n",
    "    This function helps create the inital A matrix given its parameters.\n",
    "    \n",
    "    :param: \n",
    "    :param: \n",
    "    \n",
    "    :return: matrix: The calculated A matrix (Restaurants x Restaurants)\n",
    "    \"\"\"\n",
    "    matrix = lil_matrix(dimensions, dtype=np.int8)\n",
    "    print(matrix.shape)\n",
    "\n",
    "    for tup in tqdm(update_tuples):\n",
    "        matrix[tup] = 1\n",
    "    return matrix"
   ]
  },
  {
   "cell_type": "code",
   "execution_count": 11,
   "metadata": {},
   "outputs": [
    {
     "name": "stderr",
     "output_type": "stream",
     "text": [
      "100%|██████████| 454/454 [00:00<00:00, 148026.59it/s]"
     ]
    },
    {
     "name": "stdout",
     "output_type": "stream",
     "text": [
      "(199, 48)\n"
     ]
    },
    {
     "name": "stderr",
     "output_type": "stream",
     "text": [
      "\n"
     ]
    }
   ],
   "source": [
    "A_matrix = A_matrix_func(df, A_tuples, dim)"
   ]
  },
  {
   "cell_type": "code",
   "execution_count": 12,
   "metadata": {},
   "outputs": [],
   "source": [
    "import matplotlib.pylab as plt"
   ]
  },
  {
   "cell_type": "code",
   "execution_count": 13,
   "metadata": {},
   "outputs": [
    {
     "data": {
      "text/plain": [
       "<matplotlib.image.AxesImage at 0x7f77d82fceb8>"
      ]
     },
     "execution_count": 13,
     "metadata": {},
     "output_type": "execute_result"
    },
    {
     "data": {
      "image/png": "[encoded data removed]",
      "text/plain": [
       "<Figure size 432x288 with 1 Axes>"
      ]
     },
     "metadata": {
      "needs_background": "light"
     },
     "output_type": "display_data"
    }
   ],
   "source": [
    "plt.spy(A_matrix.toarray())"
   ]
  },
  {
   "cell_type": "code",
   "execution_count": 14,
   "metadata": {},
   "outputs": [
    {
     "name": "stdout",
     "output_type": "stream",
     "text": [
      "Requirement already satisfied: pysclump in /home/dthierry/.local/lib/python3.7/site-packages (0.0.4)\r\n"
     ]
    }
   ],
   "source": [
    "import sys\n",
    "!{sys.executable} -m pip install pysclump --user"
   ]
  },
  {
   "cell_type": "code",
   "execution_count": 15,
   "metadata": {},
   "outputs": [],
   "source": [
    "from pysclump import PathSim\n",
    "import numpy as np\n",
    "\n",
    "type_lists = {'A': x_lab, 'C': y_lab}\n",
    "\n",
    "incidence_matrices = {'AC': A_matrix.toarray()}"
   ]
  },
  {
   "cell_type": "code",
   "execution_count": 16,
   "metadata": {},
   "outputs": [
    {
     "data": {
      "text/plain": [
       "array([[0, 0, 0, ..., 0, 0, 0],\n",
       "       [0, 0, 0, ..., 0, 0, 0],\n",
       "       [0, 0, 0, ..., 0, 0, 0],\n",
       "       ...,\n",
       "       [0, 0, 0, ..., 0, 1, 0],\n",
       "       [0, 0, 0, ..., 0, 0, 0],\n",
       "       [0, 0, 0, ..., 0, 1, 0]], dtype=int8)"
      ]
     },
     "execution_count": 16,
     "metadata": {},
     "output_type": "execute_result"
    }
   ],
   "source": [
    "incidence_matrices['AC']"
   ]
  },
  {
   "cell_type": "code",
   "execution_count": 17,
   "metadata": {},
   "outputs": [],
   "source": [
    "# Create PathSim instance.\n",
    "ps = PathSim(type_lists, incidence_matrices)"
   ]
  },
  {
   "cell_type": "code",
   "execution_count": 18,
   "metadata": {},
   "outputs": [
    {
     "data": {
      "text/plain": [
       "0    AlO78to1upUkVhRx12XtVA\n",
       "1    7PGyWA51sSdw8M4fBXa9Gw\n",
       "2    n3sKOKoEk_gKhBvgfIwZaA\n",
       "3    4GT1sQ_pcKk4gBMrJddexw\n",
       "4    PzGU5brzhsVqumdU4qE5Rw\n",
       "Name: Yelp ID, dtype: object"
      ]
     },
     "execution_count": 18,
     "metadata": {},
     "output_type": "execute_result"
    }
   ],
   "source": [
    "df['Yelp ID'].head()"
   ]
  },
  {
   "cell_type": "code",
   "execution_count": 19,
   "metadata": {},
   "outputs": [
    {
     "data": {
      "text/plain": [
       "0.6666666666666666"
      ]
     },
     "execution_count": 19,
     "metadata": {},
     "output_type": "execute_result"
    }
   ],
   "source": [
    "# Get the similarity between two authors (indicated by type 'A').\n",
    "ps.pathsim('AlO78to1upUkVhRx12XtVA', 'n3sKOKoEk_gKhBvgfIwZaA', metapath='ACA')"
   ]
  },
  {
   "cell_type": "code",
   "execution_count": 20,
   "metadata": {},
   "outputs": [],
   "source": [
    "# Now we have to see which restaurant\n",
    "results = {}\n",
    "for restaurant in df['Yelp ID']:\n",
    "    results[restaurant] = ps.pathsim('AlO78to1upUkVhRx12XtVA', restaurant, metapath='ACA')\n",
    "sorted_results = {k: v for k, v in sorted(results.items(), key=lambda item: item[1], reverse = True)}"
   ]
  },
  {
   "cell_type": "code",
   "execution_count": 21,
   "metadata": {},
   "outputs": [],
   "source": [
    "# Here we can see the similarity search results for the given metapath 'ACA'\n",
    "# We will have better and more varying similarity results with other metapaths  "
   ]
  },
  {
   "cell_type": "code",
   "execution_count": 22,
   "metadata": {},
   "outputs": [
    {
     "data": {
      "text/plain": [
       "{'AlO78to1upUkVhRx12XtVA': 1.0,\n",
       " '7PGyWA51sSdw8M4fBXa9Gw': 1.0,\n",
       " 'W0dzJ7E6R3kyAOXIlO_tbw': 1.0,\n",
       " 'Bne55NwL25KO_ntMgflb_A': 1.0,\n",
       " '9QifYbaGw27jgDBhXjg1vQ': 1.0,\n",
       " 'tAC_kv3MRcWW0CGfbJlXzA': 1.0,\n",
       " 'UPqvlPxU_8lVrBGvqyzj9Q': 1.0,\n",
       " 'Um1q8DykJrsXpNSbVIyeaQ': 1.0,\n",
       " 'nI05KZBAKSuntpRnh0UOmA': 1.0,\n",
       " 'Aq0sFUXE_q1yPCnOMPIxNA': 1.0,\n",
       " '80ZK_Udz9ifbHoWu_qTG7w': 1.0,\n",
       " 'tptN11eE0AAjvZFN042Z0Q': 1.0,\n",
       " 'QuEfLPcIAmNT85grJn20DA': 1.0,\n",
       " 'ppjJpX3nsa1X_UKqvo109g': 1.0,\n",
       " 'mRzFxj2hFoMSj4lwOM6ZaA': 1.0,\n",
       " 'v9N_8HDGrOGoZ2_2EClqXA': 1.0,\n",
       " 'g3yU8A2F1a-u7t8LqAesdA': 1.0,\n",
       " 'C3gEbNEYvIKJfHAIUU2Fcg': 1.0,\n",
       " 'aQJwib4ut3J93ZNrz6yX3w': 1.0,\n",
       " 'K_6pzTkNzaNqSFHNKPHA4Q': 1.0,\n",
       " 'lyjZGZvc4DfYjtvcYY6tAg': 1.0,\n",
       " 'njmn7hPCbFeQEU5EOO8kGg': 1.0,\n",
       " 'tzWX3qRpa09sIlvdSRnh2Q': 1.0,\n",
       " '_ljQWL4JtbGkqIR57HSgdA': 1.0,\n",
       " '6sxAvbRBxy1hymvoDb8spQ': 1.0,\n",
       " 'L5BCo3Sy8UkodiEpva8G3Q': 1.0,\n",
       " 'i46yuYrEGtryVbi3Az2YtA': 1.0,\n",
       " 'u8cQgWxKM8xNcNxPHpjjyA': 1.0,\n",
       " '4XT5_w4iDOaU0UJHYzeJcA': 1.0,\n",
       " '_lhibkzOoJbE7_ISHZjSrg': 1.0,\n",
       " '5lZEJRCK-FDPrzkejxI4yg': 1.0,\n",
       " 'pXKqmwQ5Xi3erBWk0YIJZg': 1.0,\n",
       " '31bMQg9aSZZWWloKkgyowg': 1.0,\n",
       " '_t0BZzLMwEthoi2-kSEwqw': 1.0,\n",
       " 'n3sKOKoEk_gKhBvgfIwZaA': 0.6666666666666666,\n",
       " '4GT1sQ_pcKk4gBMrJddexw': 0.6666666666666666,\n",
       " 'f3kVEcUape9MxorodNbrkA': 0.6666666666666666,\n",
       " 'hSoOhMcv6QAlr7zGhza3iQ': 0.6666666666666666,\n",
       " '7_irk3INOSCw1JojQdCN9g': 0.6666666666666666,\n",
       " 'qmqObLeWQX5UHXneaFJJhw': 0.6666666666666666,\n",
       " 'ylabT5O896I-809dY_R0zw': 0.6666666666666666,\n",
       " 'wbX0AZfY08-HkvVnpt7ECg': 0.6666666666666666,\n",
       " 'HANAoeMvBU0shsg2YvVxpQ': 0.6666666666666666,\n",
       " 'xezBJ4uuqdw9GMtbuWa8hA': 0.6666666666666666,\n",
       " 'DHvSG_hYmByaj4VkzF2XOw': 0.6666666666666666,\n",
       " 'H33j2u_zLafpRIS0RTI26A': 0.6666666666666666,\n",
       " 'gB22SHnlLVlJP1AdKIUwBA': 0.6666666666666666,\n",
       " 'hCCTChtApLLV-wyR5w3UrQ': 0.6666666666666666,\n",
       " 'b85wcurTCRs4ew3olzUMQg': 0.6666666666666666,\n",
       " 'PyCjUBdxNfM8VgqGYJMO4g': 0.6666666666666666}"
      ]
     },
     "execution_count": 22,
     "metadata": {},
     "output_type": "execute_result"
    }
   ],
   "source": [
    "# Top N sorted_results\n",
    "N = 50\n",
    "out = dict(list(sorted_results.items())[0: N])\n",
    "out"
   ]
  },
  {
   "cell_type": "code",
   "execution_count": 23,
   "metadata": {},
   "outputs": [],
   "source": [
    "# Now display which restaurants were the most similar to the input restaurant by \n",
    "# returning a dataframe \n",
    "top_ten = list(sorted_results.keys())[:10]"
   ]
  },
  {
   "cell_type": "code",
   "execution_count": 24,
   "metadata": {},
   "outputs": [
    {
     "data": {
      "text/html": [
       "<div>\n",
       "<style scoped>\n",
       "    .dataframe tbody tr th:only-of-type {\n",
       "        vertical-align: middle;\n",
       "    }\n",
       "\n",
       "    .dataframe tbody tr th {\n",
       "        vertical-align: top;\n",
       "    }\n",
       "\n",
       "    .dataframe thead th {\n",
       "        text-align: right;\n",
       "    }\n",
       "</style>\n",
       "<table border=\"1\" class=\"dataframe\">\n",
       "  <thead>\n",
       "    <tr style=\"text-align: right;\">\n",
       "      <th></th>\n",
       "      <th>Name</th>\n",
       "      <th>URL</th>\n",
       "      <th>Rating</th>\n",
       "      <th>Review Count</th>\n",
       "    </tr>\n",
       "  </thead>\n",
       "  <tbody>\n",
       "    <tr>\n",
       "      <th>0</th>\n",
       "      <td>Cucina Basilico</td>\n",
       "      <td>https://www.yelp.com/biz/cucina-basilico-san-d...</td>\n",
       "      <td>4.5</td>\n",
       "      <td>574</td>\n",
       "    </tr>\n",
       "    <tr>\n",
       "      <th>1</th>\n",
       "      <td>Buon Appetito</td>\n",
       "      <td>https://www.yelp.com/biz/buon-appetito-san-die...</td>\n",
       "      <td>4.0</td>\n",
       "      <td>2291</td>\n",
       "    </tr>\n",
       "    <tr>\n",
       "      <th>8</th>\n",
       "      <td>Ristorante Illando</td>\n",
       "      <td>https://www.yelp.com/biz/ristorante-illando-sa...</td>\n",
       "      <td>4.5</td>\n",
       "      <td>974</td>\n",
       "    </tr>\n",
       "    <tr>\n",
       "      <th>9</th>\n",
       "      <td>Pomodoro Ristorante Italiano</td>\n",
       "      <td>https://www.yelp.com/biz/pomodoro-ristorante-i...</td>\n",
       "      <td>4.5</td>\n",
       "      <td>923</td>\n",
       "    </tr>\n",
       "    <tr>\n",
       "      <th>11</th>\n",
       "      <td>Salvatore's Cucina Italiana</td>\n",
       "      <td>https://www.yelp.com/biz/salvatores-cucina-ita...</td>\n",
       "      <td>4.5</td>\n",
       "      <td>765</td>\n",
       "    </tr>\n",
       "    <tr>\n",
       "      <th>15</th>\n",
       "      <td>Volare</td>\n",
       "      <td>https://www.yelp.com/biz/volare-san-diego?adju...</td>\n",
       "      <td>4.0</td>\n",
       "      <td>651</td>\n",
       "    </tr>\n",
       "    <tr>\n",
       "      <th>20</th>\n",
       "      <td>Arrivederci Ristorante</td>\n",
       "      <td>https://www.yelp.com/biz/arrivederci-ristorant...</td>\n",
       "      <td>4.0</td>\n",
       "      <td>1375</td>\n",
       "    </tr>\n",
       "    <tr>\n",
       "      <th>24</th>\n",
       "      <td>Piacere Mio - South Park</td>\n",
       "      <td>https://www.yelp.com/biz/piacere-mio-south-par...</td>\n",
       "      <td>4.5</td>\n",
       "      <td>1083</td>\n",
       "    </tr>\n",
       "    <tr>\n",
       "      <th>25</th>\n",
       "      <td>Devine Pastabilities</td>\n",
       "      <td>https://www.yelp.com/biz/devine-pastabilities-...</td>\n",
       "      <td>4.5</td>\n",
       "      <td>1565</td>\n",
       "    </tr>\n",
       "    <tr>\n",
       "      <th>28</th>\n",
       "      <td>Ciccia Osteria</td>\n",
       "      <td>https://www.yelp.com/biz/ciccia-osteria-san-di...</td>\n",
       "      <td>4.5</td>\n",
       "      <td>210</td>\n",
       "    </tr>\n",
       "  </tbody>\n",
       "</table>\n",
       "</div>"
      ],
      "text/plain": [
       "                            Name  \\\n",
       "0                Cucina Basilico   \n",
       "1                  Buon Appetito   \n",
       "8             Ristorante Illando   \n",
       "9   Pomodoro Ristorante Italiano   \n",
       "11   Salvatore's Cucina Italiana   \n",
       "15                        Volare   \n",
       "20        Arrivederci Ristorante   \n",
       "24      Piacere Mio - South Park   \n",
       "25          Devine Pastabilities   \n",
       "28                Ciccia Osteria   \n",
       "\n",
       "                                                  URL  Rating  Review Count  \n",
       "0   https://www.yelp.com/biz/cucina-basilico-san-d...     4.5           574  \n",
       "1   https://www.yelp.com/biz/buon-appetito-san-die...     4.0          2291  \n",
       "8   https://www.yelp.com/biz/ristorante-illando-sa...     4.5           974  \n",
       "9   https://www.yelp.com/biz/pomodoro-ristorante-i...     4.5           923  \n",
       "11  https://www.yelp.com/biz/salvatores-cucina-ita...     4.5           765  \n",
       "15  https://www.yelp.com/biz/volare-san-diego?adju...     4.0           651  \n",
       "20  https://www.yelp.com/biz/arrivederci-ristorant...     4.0          1375  \n",
       "24  https://www.yelp.com/biz/piacere-mio-south-par...     4.5          1083  \n",
       "25  https://www.yelp.com/biz/devine-pastabilities-...     4.5          1565  \n",
       "28  https://www.yelp.com/biz/ciccia-osteria-san-di...     4.5           210  "
      ]
     },
     "execution_count": 24,
     "metadata": {},
     "output_type": "execute_result"
    }
   ],
   "source": [
    "df[['Name', 'URL', 'Rating', 'Review Count']][df['Yelp ID'].isin(top_ten)]"
   ]
  },
  {
   "cell_type": "code",
   "execution_count": null,
   "metadata": {},
   "outputs": [],
   "source": []
  }
 ],
 "metadata": {
  "kernelspec": {
   "display_name": "Python 3",
   "language": "python",
   "name": "python3"
  },
  "language_info": {
   "codemirror_mode": {
    "name": "ipython",
    "version": 3
   },
   "file_extension": ".py",
   "mimetype": "text/x-python",
   "name": "python",
   "nbconvert_exporter": "python",
   "pygments_lexer": "ipython3",
   "version": "3.7.3"
  }
 },
 "nbformat": 4,
 "nbformat_minor": 2
}
