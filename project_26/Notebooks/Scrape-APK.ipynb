{
 "cells": [
  {
   "cell_type": "code",
   "execution_count": 1,
   "metadata": {},
   "outputs": [],
   "source": [
    "import requests\n",
    "import bs4\n",
    "from bs4 import BeautifulSoup\n",
    "import re\n",
    "from collections import defaultdict\n",
    "import gzip\n",
    "import os\n",
    "from random import sample \n",
    "import subprocess\n",
    "from pathlib import Path\n",
    "import io"
   ]
  },
  {
   "cell_type": "code",
   "execution_count": 2,
   "metadata": {},
   "outputs": [],
   "source": [
    "test0 = 'https://apkpure.com/root-car-insurance-good-drivers-save-money/com.joinroot.root'"
   ]
  },
  {
   "cell_type": "code",
   "execution_count": 3,
   "metadata": {},
   "outputs": [],
   "source": [
    "base_url = 'https://apkpure.com'"
   ]
  },
  {
   "cell_type": "code",
   "execution_count": 4,
   "metadata": {},
   "outputs": [],
   "source": [
    "xml_url = base_url + '/sitemap.xml'\n",
    "r = requests.get(xml_url)"
   ]
  },
  {
   "cell_type": "code",
   "execution_count": 5,
   "metadata": {},
   "outputs": [],
   "source": [
    "soup = BeautifulSoup(r.text, 'lxml')\n",
    "xml_links_tag = soup.find_all('loc')\n",
    "xml_links = []\n",
    "for xml_link in xml_links_tag:\n",
    "    xml_links.append(xml_link.text)"
   ]
  },
  {
   "cell_type": "code",
   "execution_count": 6,
   "metadata": {},
   "outputs": [
    {
     "data": {
      "text/plain": [
       "['https://apkpure.com/sitemaps/education-520.xml.gz',\n",
       " 'https://apkpure.com/sitemaps/art_and_design-98.xml.gz',\n",
       " 'https://apkpure.com/sitemaps/shopping-131.xml.gz',\n",
       " 'https://apkpure.com/sitemaps/education-555.xml.gz',\n",
       " 'https://apkpure.com/sitemaps/house_and_home-18.xml.gz']"
      ]
     },
     "execution_count": 6,
     "metadata": {},
     "output_type": "execute_result"
    }
   ],
   "source": [
    "sampled_xml = sample(xml_links,5)\n",
    "sampled_xml"
   ]
  },
  {
   "cell_type": "code",
   "execution_count": 7,
   "metadata": {},
   "outputs": [],
   "source": [
    "xml_file_paths = defaultdict(list)\n",
    "for sample_xml in sampled_xml:\n",
    "    #unzipping xml files \n",
    "    r = requests.get(sample_xml)\n",
    "    compressed_gz = io.BytesIO(r.content)\n",
    "    decompressed_gz = gzip.GzipFile(fileobj=compressed_gz)\n",
    "    #getting file name \n",
    "    xml_name = sample_xml.split('/')[-1].replace('.gz', '')\n",
    "    #getting category of app\n",
    "    category = xml_name.split('-')[0]\n",
    "    #create xml files folder if it does not exist\n",
    "    if not os.path.exists('./xml_files'):\n",
    "        os.mkdir('./xml_files')\n",
    "    #create category folders if they dont exist\n",
    "    if not os.path.exists('./xml_files/' + category):\n",
    "        os.mkdir('./xml_files/' + category)\n",
    "    #saving content of unzipped xml files \n",
    "    xml_out_path = './xml_files/' + category + '/' + xml_name\n",
    "    xml_file_paths[category].append(xml_out_path)\n",
    "    with open(xml_out_path, 'wb') as outfile:\n",
    "        outfile.write(decompressed_gz.read())"
   ]
  },
  {
   "cell_type": "code",
   "execution_count": 8,
   "metadata": {},
   "outputs": [],
   "source": [
    "app_links = defaultdict(list)\n",
    "for category, xml_paths in xml_file_paths.items():\n",
    "    for xml_path in xml_paths:\n",
    "        with open(xml_path, \"r\") as f:\n",
    "            contents = f.read()\n",
    "            soup = BeautifulSoup(contents, 'lxml')\n",
    "            app_link_loctag = soup.find_all('loc')\n",
    "            for app_link_lt in app_link_loctag:\n",
    "                app_links[category].append(app_link_lt.text)"
   ]
  },
  {
   "cell_type": "code",
   "execution_count": 9,
   "metadata": {},
   "outputs": [],
   "source": [
    "sampled_apps = defaultdict(list)\n",
    "for k,v in app_links.items():\n",
    "    for l in (sample(v,5)):\n",
    "        sampled_apps[k].append(l)"
   ]
  },
  {
   "cell_type": "code",
   "execution_count": 13,
   "metadata": {},
   "outputs": [
    {
     "data": {
      "text/plain": [
       "['https://apkpure.com/apprendre-l-allemand-facilement-et-rapidement/com.apgems.apprendreallemandrap',\n",
       " 'https://apkpure.com/confucio-frases-inspiradoras/com.tonsu.confuciofrasesinspiradoras',\n",
       " 'https://apkpure.com/ipseoa-federico-di-svevia/appinventor.ai_fabio_cianfagna.IPSEOA_ver2',\n",
       " 'https://apkpure.com/%EC%8B%A4%EB%B2%84%EB%A7%8C%EC%84%B8/com.silvermanse.silvermanse',\n",
       " 'https://apkpure.com/%D8%B3%D9%84%D8%B3%D9%84%D8%A9-%D8%A3%D8%AD%D9%83%D8%A7%D9%85-%D8%A7%D9%84%D8%AA%D8%AC%D9%88%D9%8A%D8%AF-%D8%A7%D9%84%D8%B4%D9%8A%D8%AE-%D8%A3%D8%AD%D9%85%D8%AF-%D8%B9%D8%A7%D9%85%D8%B1-mp3/com.voonoon.tajweed_ahmed_amer']"
      ]
     },
     "execution_count": 13,
     "metadata": {},
     "output_type": "execute_result"
    }
   ],
   "source": [
    "sampled_app_links"
   ]
  },
  {
   "cell_type": "code",
   "execution_count": 11,
   "metadata": {},
   "outputs": [],
   "source": [
    "sampled_app_links = [test0]"
   ]
  },
  {
   "cell_type": "code",
   "execution_count": 12,
   "metadata": {},
   "outputs": [
    {
     "ename": "FileNotFoundError",
     "evalue": "[Errno 2] No such file or directory: './APK/education'",
     "output_type": "error",
     "traceback": [
      "\u001b[0;31m---------------------------------------------------------------------------\u001b[0m",
      "\u001b[0;31mFileNotFoundError\u001b[0m                         Traceback (most recent call last)",
      "\u001b[0;32m<ipython-input-12-5433be2eba8c>\u001b[0m in \u001b[0;36m<module>\u001b[0;34m\u001b[0m\n\u001b[1;32m      3\u001b[0m     \u001b[0;31m#create category folders if they dont exist\u001b[0m\u001b[0;34m\u001b[0m\u001b[0;34m\u001b[0m\u001b[0;34m\u001b[0m\u001b[0m\n\u001b[1;32m      4\u001b[0m     \u001b[0;32mif\u001b[0m \u001b[0;32mnot\u001b[0m \u001b[0mos\u001b[0m\u001b[0;34m.\u001b[0m\u001b[0mpath\u001b[0m\u001b[0;34m.\u001b[0m\u001b[0mexists\u001b[0m\u001b[0;34m(\u001b[0m\u001b[0;34m'./APK/'\u001b[0m \u001b[0;34m+\u001b[0m \u001b[0mcategory\u001b[0m\u001b[0;34m)\u001b[0m\u001b[0;34m:\u001b[0m\u001b[0;34m\u001b[0m\u001b[0;34m\u001b[0m\u001b[0m\n\u001b[0;32m----> 5\u001b[0;31m         \u001b[0mos\u001b[0m\u001b[0;34m.\u001b[0m\u001b[0mmkdir\u001b[0m\u001b[0;34m(\u001b[0m\u001b[0;34m'./APK/'\u001b[0m \u001b[0;34m+\u001b[0m \u001b[0mcategory\u001b[0m\u001b[0;34m)\u001b[0m\u001b[0;34m\u001b[0m\u001b[0;34m\u001b[0m\u001b[0m\n\u001b[0m\u001b[1;32m      6\u001b[0m     \u001b[0;32mfor\u001b[0m \u001b[0msampled_app_link\u001b[0m \u001b[0;32min\u001b[0m \u001b[0msampled_app_links\u001b[0m\u001b[0;34m:\u001b[0m\u001b[0;34m\u001b[0m\u001b[0;34m\u001b[0m\u001b[0m\n\u001b[1;32m      7\u001b[0m \u001b[0;34m\u001b[0m\u001b[0m\n",
      "\u001b[0;31mFileNotFoundError\u001b[0m: [Errno 2] No such file or directory: './APK/education'"
     ]
    }
   ],
   "source": [
    "for category, sampled_app_links in sampled_apps.items():\n",
    "\n",
    "    #create category folders if they dont exist\n",
    "    if not os.path.exists('./APK/' + category):\n",
    "        os.mkdir('./APK/' + category)\n",
    "    for sampled_app_link in sampled_app_links:\n",
    "\n",
    "        url_split = sampled_app_link.split('/')\n",
    "        if 'group' == url_split[3]:\n",
    "            app_name = url_split[4]\n",
    "        else:\n",
    "            app_name = url_split[3]\n",
    "        from urllib.request import Request, urlopen\n",
    "        r = requests.get(sampled_app_link)\n",
    "        soup = BeautifulSoup(r.text, 'html.parser')\n",
    "        download_link = soup.find('div', class_ = 'ny-down')\n",
    "        if download_link != None:\n",
    "            download_url = base_url + (download_link.find('a', class_ = 'da')['href'])\n",
    "        else:\n",
    "            download_url = base_url + (soup.find('div', class_ = 'down').find('a')['href'])\n",
    "        \n",
    "        try:\n",
    "\n",
    "            r = requests.get(download_url)\n",
    "            soup = BeautifulSoup(r.text, 'html.parser')\n",
    "\n",
    "            download_file = soup.find_all('a', class_ = \"ga\")[0]['href']\n",
    "            r = requests.get(download_file, stream = True)\n",
    "            data = r.content\n",
    "            with open('./APK/' + category + '/' + app_name +'.apk', 'wb') as fh:\n",
    "                fh.write(data)\n",
    "\n",
    "        except:\n",
    "            print(download_url)\n",
    "            print('fail')\n"
   ]
  },
  {
   "cell_type": "code",
   "execution_count": 74,
   "metadata": {},
   "outputs": [],
   "source": [
    "pathlist = Path('./APK').glob('**/*.apk')\n",
    "for i,path in enumerate(pathlist):\n",
    "    path_in_str = str(path)\n",
    "    app_name = path_in_str.split('/')[2]\n",
    "    directory = '/'.join(path_in_str.split('/')[:2])\n",
    "    os.chdir(directory)\n",
    "    test = subprocess.Popen([\"/usr/local/bin/apktool\",\"d\", app_name ], stdout=subprocess.PIPE)\n",
    "    output = test.communicate()[0]\n",
    "    os.chdir('./../../')"
   ]
  },
  {
   "cell_type": "code",
   "execution_count": 79,
   "metadata": {},
   "outputs": [],
   "source": [
    "# app_links = {}\n",
    "# for cat_url in category_links:\n",
    "#     cat = cat_url.split('/')[-1]\n",
    "#     cat_url += '?sort=download'\n",
    "#     app_links[cat] = []\n",
    "#     r = requests.get(cat_url)\n",
    "#     soup = BeautifulSoup(r.text, 'html.parser')\n",
    "#     for app_link in (soup.find_all('div', class_ = 'category-template-img')):\n",
    "#         app_links[cat].append(base_url + app_link.find('a', href = True)['href'] + '/download?from=details')\n"
   ]
  },
  {
   "cell_type": "code",
   "execution_count": null,
   "metadata": {},
   "outputs": [],
   "source": []
  },
  {
   "cell_type": "code",
   "execution_count": null,
   "metadata": {},
   "outputs": [],
   "source": []
  },
  {
   "cell_type": "code",
   "execution_count": 22,
   "metadata": {},
   "outputs": [],
   "source": [
    "import sys\n",
    "sys.path.append('../')\n",
    "import src.scrape_apk as s\n",
    "\n",
    "import os\n",
    "\n",
    "os.chdir('../')"
   ]
  },
  {
   "cell_type": "code",
   "execution_count": 23,
   "metadata": {},
   "outputs": [
    {
     "name": "stdout",
     "output_type": "stream",
     "text": [
      "beauty\n"
     ]
    },
    {
     "ename": "FileNotFoundError",
     "evalue": "[Errno 2] No such file or directory: './data/xml_files'",
     "output_type": "error",
     "traceback": [
      "\u001b[0;31m---------------------------------------------------------------------------\u001b[0m",
      "\u001b[0;31mFileNotFoundError\u001b[0m                         Traceback (most recent call last)",
      "\u001b[0;32m<ipython-input-23-14dc5d09e959>\u001b[0m in \u001b[0;36m<module>\u001b[0;34m\u001b[0m\n\u001b[0;32m----> 1\u001b[0;31m \u001b[0ms\u001b[0m\u001b[0;34m.\u001b[0m\u001b[0mrun_scraper\u001b[0m\u001b[0;34m(\u001b[0m\u001b[0;34m[\u001b[0m\u001b[0;34m'beauty'\u001b[0m\u001b[0;34m]\u001b[0m\u001b[0;34m,\u001b[0m \u001b[0;36m50\u001b[0m\u001b[0;34m,\u001b[0m\u001b[0;34m'./data'\u001b[0m\u001b[0;34m)\u001b[0m\u001b[0;34m\u001b[0m\u001b[0;34m\u001b[0m\u001b[0m\n\u001b[0m",
      "\u001b[0;32m~/Malware-detection/src/scrape_apk.py\u001b[0m in \u001b[0;36mrun_scraper\u001b[0;34m(categories, num_apps, outpath)\u001b[0m\n",
      "\u001b[0;32m~/Malware-detection/src/scrape_apk.py\u001b[0m in \u001b[0;36munzip_xml\u001b[0;34m(sampled_xml, outpath)\u001b[0m\n\u001b[1;32m     62\u001b[0m     \u001b[0;31m#create xml files folder if it does not exist\u001b[0m\u001b[0;34m\u001b[0m\u001b[0;34m\u001b[0m\u001b[0;34m\u001b[0m\u001b[0m\n\u001b[1;32m     63\u001b[0m     \u001b[0;32mif\u001b[0m \u001b[0;32mnot\u001b[0m \u001b[0mos\u001b[0m\u001b[0;34m.\u001b[0m\u001b[0mpath\u001b[0m\u001b[0;34m.\u001b[0m\u001b[0mexists\u001b[0m\u001b[0;34m(\u001b[0m\u001b[0moutpath\u001b[0m \u001b[0;34m+\u001b[0m \u001b[0;34m'/xml_files'\u001b[0m\u001b[0;34m)\u001b[0m\u001b[0;34m:\u001b[0m\u001b[0;34m\u001b[0m\u001b[0;34m\u001b[0m\u001b[0m\n\u001b[0;32m---> 64\u001b[0;31m         \u001b[0mos\u001b[0m\u001b[0;34m.\u001b[0m\u001b[0mmkdir\u001b[0m\u001b[0;34m(\u001b[0m\u001b[0moutpath\u001b[0m \u001b[0;34m+\u001b[0m \u001b[0;34m'/xml_files'\u001b[0m\u001b[0;34m)\u001b[0m\u001b[0;34m\u001b[0m\u001b[0;34m\u001b[0m\u001b[0m\n\u001b[0m\u001b[1;32m     65\u001b[0m \u001b[0;34m\u001b[0m\u001b[0m\n\u001b[1;32m     66\u001b[0m     \u001b[0;32mif\u001b[0m \u001b[0mlen\u001b[0m\u001b[0;34m(\u001b[0m\u001b[0msampled_xml\u001b[0m\u001b[0;34m)\u001b[0m \u001b[0;34m<\u001b[0m \u001b[0;36m1\u001b[0m\u001b[0;34m:\u001b[0m\u001b[0;34m\u001b[0m\u001b[0;34m\u001b[0m\u001b[0m\n",
      "\u001b[0;31mFileNotFoundError\u001b[0m: [Errno 2] No such file or directory: './data/xml_files'"
     ]
    }
   ],
   "source": [
    "s.run_scraper(['beauty'], 50,'./data')"
   ]
  },
  {
   "cell_type": "code",
   "execution_count": 18,
   "metadata": {},
   "outputs": [],
   "source": [
    "import requests\n",
    "from bs4 import BeautifulSoup"
   ]
  },
  {
   "cell_type": "code",
   "execution_count": 19,
   "metadata": {},
   "outputs": [],
   "source": [
    "url = 'https://apkpure.com/moving-gifs-for-whatsapp-%F0%9F%8E%AC/com.GifsForWhatssap.GifMaker/download/2-APK?from=versions%2Fversion'"
   ]
  },
  {
   "cell_type": "code",
   "execution_count": 20,
   "metadata": {},
   "outputs": [],
   "source": [
    "r = requests.get(url)\n",
    "soup = BeautifulSoup(r.text, 'html.parser')"
   ]
  },
  {
   "cell_type": "code",
   "execution_count": 21,
   "metadata": {},
   "outputs": [
    {
     "data": {
      "text/plain": [
       "200"
      ]
     },
     "execution_count": 21,
     "metadata": {},
     "output_type": "execute_result"
    }
   ],
   "source": [
    "r.status_code"
   ]
  },
  {
   "cell_type": "code",
   "execution_count": null,
   "metadata": {},
   "outputs": [],
   "source": []
  }
 ],
 "metadata": {
  "kernelspec": {
   "display_name": "Python 3",
   "language": "python",
   "name": "python3"
  },
  "language_info": {
   "codemirror_mode": {
    "name": "ipython",
    "version": 3
   },
   "file_extension": ".py",
   "mimetype": "text/x-python",
   "name": "python",
   "nbconvert_exporter": "python",
   "pygments_lexer": "ipython3",
   "version": "3.7.3"
  }
 },
 "nbformat": 4,
 "nbformat_minor": 2
}
