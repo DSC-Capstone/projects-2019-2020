{
 "cells": [
  {
   "cell_type": "code",
   "execution_count": 1,
   "metadata": {},
   "outputs": [],
   "source": [
    "import numpy as np\n",
    "import pandas as pd\n",
    "import requests\n",
    "# from bs4 import BeautifulSoup\n",
    "import re\n",
    "import gzip\n",
    "import xml.etree.ElementTree as ET\n",
    "from random import sample \n",
    "import math\n",
    "import subprocess\n",
    "import random\n",
    "from collections import defaultdict\n",
    "import glob, os, sys\n",
    "import networkx as nx\n",
    "from sklearn import svm\n",
    "from sklearn.model_selection import train_test_split\n",
    "import scipy\n",
    "import json\n",
    "from sklearn.metrics import confusion_matrix\n",
    "from sklearn.metrics import fbeta_score\n",
    "from sklearn.manifold import TSNE\n",
    "import seaborn as sns\n",
    "import matplotlib.pyplot as plt"
   ]
  },
  {
   "cell_type": "code",
   "execution_count": null,
   "metadata": {},
   "outputs": [],
   "source": []
  },
  {
   "cell_type": "code",
   "execution_count": 2,
   "metadata": {},
   "outputs": [],
   "source": [
    "np.random.seed(1)\n",
    "malware_positions = glob.glob('/datasets/dsc180a-wi20-public/Malware/amd_data_smali/*/*/*')\n",
    "benign_positions = glob.glob('../DSC180A/APKs/decompiled/*')[:200]\n",
    "malware_positions = list(np.random.choice(malware_positions, 200, replace = False))\n",
    "np.random.seed(1)"
   ]
  },
  {
   "cell_type": "code",
   "execution_count": 5,
   "metadata": {},
   "outputs": [],
   "source": [
    "def get_class(file):\n",
    "    \"\"\"\n",
    "    Return 1 if it is malware, 0 if benign\n",
    "    \"\"\"\n",
    "    return int('dsc180a-wi20-public' in file)\n",
    "\n",
    "def get_name(file):\n",
    "    \"\"\"\n",
    "    Return name of the APP\n",
    "    \"\"\"\n",
    "    return '-'.join(file.split('/')[-3:])"
   ]
  },
  {
   "cell_type": "code",
   "execution_count": 9,
   "metadata": {},
   "outputs": [
    {
     "name": "stdout",
     "output_type": "stream",
     "text": [
      "1    160\n",
      "0    160\n",
      "dtype: int64\n",
      "1    40\n",
      "0    40\n",
      "dtype: int64\n"
     ]
    }
   ],
   "source": [
    "np.random.seed(0)\n",
    "decompiled_apks = benign_positions + malware_positions\n",
    "\n",
    "indices = np.random.choice(len(decompiled_apks), int(len(decompiled_apks)*0.8), replace = False)\n",
    "train = [decompiled_apks[i] for i in indices]\n",
    "# train = np.random.choice(decompiled_apks, int(len(decompiled_apks)*0.8), replace = False)\n",
    "test = [apk for apk in decompiled_apks if apk not in train]\n",
    "\n",
    "apk_names_train = [get_name(file) for file in train]\n",
    "apk_classes_train = [get_class(file) for file in train]\n",
    "\n",
    "apk_names_test = [get_name(file) for file in test]\n",
    "apk_classes_test = [get_class(file) for file in test]\n",
    "\n",
    "print(pd.Series(apk_classes_train).value_counts())\n",
    "print(pd.Series(apk_classes_test).value_counts())\n",
    "\n",
    "apk2idx_train = dict(zip(apk_names_train, range(len(apk_names_train))))\n",
    "apk2idx_test = dict(zip(apk_names_test, range(len(apk_names_test))))"
   ]
  },
  {
   "cell_type": "code",
   "execution_count": 10,
   "metadata": {},
   "outputs": [
    {
     "data": {
      "text/plain": [
       "'APKs-decompiled-medical-NMH_Guides'"
      ]
     },
     "execution_count": 10,
     "metadata": {},
     "output_type": "execute_result"
    }
   ],
   "source": [
    "apk2node_train = dict(zip(apk_names_train, range(-len(apk_names_train), 0)))\n",
    "node2apk_train = dict(zip(range(-len(apk_names_train), 0), apk_names_train))"
   ]
  },
  {
   "cell_type": "code",
   "execution_count": 1,
   "metadata": {},
   "outputs": [],
   "source": [
    "with open('../DSC180A/APIs_400_apps.txt', 'r') as f:\n",
    "    APIs = [a.strip() for a in f.readlines()]"
   ]
  },
  {
   "cell_type": "code",
   "execution_count": null,
   "metadata": {},
   "outputs": [],
   "source": [
    "API2idx = dict(zip(APIs, range(len(APIs))))\n",
    "idx2API = dict(zip(range(len(APIs)), APIs))"
   ]
  },
  {
   "cell_type": "code",
   "execution_count": 14,
   "metadata": {},
   "outputs": [],
   "source": [
    "matrix_A_train = scipy.sparse.load_npz('../DSC180A/matrix_A_train_400_app.npz')\n",
    "matrix_B_train = scipy.sparse.load_npz('../DSC180A/matrix_B_train_400_app.npz')\n",
    "matrix_P_train = scipy.sparse.load_npz('../DSC180A/matrix_P_train_400_app.npz')"
   ]
  },
  {
   "cell_type": "code",
   "execution_count": 13,
   "metadata": {},
   "outputs": [],
   "source": [
    "idx2apk_train = dict(zip(apk2idx_train.values(), apk2idx_train.keys()))"
   ]
  },
  {
   "cell_type": "code",
   "execution_count": 16,
   "metadata": {},
   "outputs": [],
   "source": [
    "def APP_to_API_ABA(API, APP, apk2idx, node2apk, A, B, p, q):\n",
    "    APP_idx = apk2idx[node2apk[APP]]\n",
    "    ser = pd.Series(A[APP_idx].toarray()[0])\n",
    "    A_neibors = ser[ser == 1].index\n",
    "    if len(A_neibors) == 0:\n",
    "        return None\n",
    "    probs = [1 if B[n, API] else 1/q for n in A_neibors]\n",
    "    probs[list(A_neibors).index(API)] = 1/p\n",
    "    p_sum = sum(probs)\n",
    "    probs = [p/p_sum for p in probs]\n",
    "    API = np.random.choice(A_neibors, 1, p = probs).item()\n",
    "    return API\n",
    "\n",
    "def API_to_API_ABA(APP, API, apk2idx, node2apk, A, B, p, q):\n",
    "    APP_idx = apk2idx[node2apk[APP]]\n",
    "    ser = pd.Series(B[APP_idx].toarray()[0])\n",
    "    B_neibors = ser[ser == 1].index\n",
    "    if len(B_neibors) == 0:\n",
    "        return None\n",
    "    probs = [1 if A.T[n, APP_idx] else 1/q for n in B_neibors]\n",
    "    p_sum = sum(probs)\n",
    "    probs = [p/p_sum for p in probs]\n",
    "    return np.random.choice(B_neibors, 1, p = probs).item()\n",
    "\n",
    "def API_to_APP_ABA(API_pre, API, idx2apk, apk2node, A, p, q):\n",
    "    ser = pd.Series(A.T[API].toarray()[0])\n",
    "    A_neibors = ser[ser == 1].index\n",
    "    if len(A_neibors) == 0:\n",
    "        return None\n",
    "    probs = [1 if A[n, API_pre] else 1/q for n in A_neibors]\n",
    "    p_sum = sum(probs)\n",
    "    probs = [p/p_sum for p in probs]\n",
    "    APP_idx = np.random.choice(A_neibors, 1, p = probs).item()\n",
    "    return apk2node[idx2apk[APP_idx]]\n",
    "\n",
    "# APP1 ---> API1 ---> API2 ---> APP2\n",
    "def generate_ABA_random_walks(APP_start, apk2idx, idx2apk, apk2node, node2apk, A, B, p, q, length):\n",
    "    APP1 = apk2node[APP_start]\n",
    "    APP_idx = apk2idx[APP_start]\n",
    "    ser = pd.Series(A[APP_idx].toarray()[0])\n",
    "    API1 = np.random.choice(ser[ser == 1].index, 1, replace = True).item()\n",
    "    walk = [APP1, API1]\n",
    "    while len(walk) < length:\n",
    "        API2 = API_to_API_ABA(APP1, API1, apk2idx, node2apk, A, B, p, q)\n",
    "        if not API2:\n",
    "            return walk\n",
    "        walk.append(API2)\n",
    "        APP2 = API_to_APP_ABA(API1, API2, idx2apk, apk2node, A, p, q)\n",
    "        if not APP2:\n",
    "            return walk\n",
    "        walk.append(APP2)\n",
    "        API1 = APP_to_API_ABA(API2, APP2, apk2idx, node2apk, A, B, p, q)\n",
    "        if not API1:\n",
    "            return walk\n",
    "        walk.append(API1)\n",
    "        APP1 = APP2\n",
    "    return walk"
   ]
  },
  {
   "cell_type": "code",
   "execution_count": 17,
   "metadata": {},
   "outputs": [],
   "source": [
    "# APP1 ---> API1 ---> APP2\n",
    "def APP_to_API_AA(API, APP, apk2idx, node2apk, A, p, q):\n",
    "    APP_idx = apk2idx[node2apk[APP]]\n",
    "    ser = pd.Series(A[APP_idx].toarray()[0])\n",
    "    A_neibors = ser[ser == 1].index\n",
    "    if len(A_neibors) == 0:\n",
    "        return None\n",
    "    probs = [1/p if n == API else 1 for n in A_neibors]\n",
    "    p_sum = sum(probs)\n",
    "    probs = [p/p_sum for p in probs]\n",
    "    API = np.random.choice(A_neibors, 1, p = probs).item()\n",
    "    return API\n",
    "\n",
    "def API_to_APP_AA(APP, API, apk2idx, idx2apk, node2apk, apk2node, A, p, q):\n",
    "    APP_idx = apk2idx[node2apk[APP]]\n",
    "    ser = pd.Series(A.T[API].toarray()[0])\n",
    "    A_neibors = ser[ser == 1].index\n",
    "    if len(A_neibors) == 0:\n",
    "        return None\n",
    "    probs = [1/p if n == APP_idx else 1 for n in A_neibors]\n",
    "    p_sum = sum(probs)\n",
    "    probs = [p/p_sum for p in probs]\n",
    "    APP_idx = np.random.choice(A_neibors, 1, p = probs).item()\n",
    "    return apk2node[idx2apk[APP_idx]]\n",
    "\n",
    "def generate_AA_random_walks(APP_start, apk2idx, idx2apk, apk2node, node2apk, A, p, q, length):\n",
    "    APP1 = apk2node[APP_start]\n",
    "    APP_idx = apk2idx[APP_start]\n",
    "    ser = pd.Series(A[APP_idx].toarray()[0])\n",
    "    API1 = np.random.choice(ser[ser == 1].index, 1, replace = True).item()\n",
    "    walk = [APP1, API1]\n",
    "    while len(walk) < length:\n",
    "        APP2 = API_to_APP_AA(APP1, API1, apk2idx, idx2apk, node2apk, apk2node, A, p, q)\n",
    "        if not APP2:\n",
    "            return walk\n",
    "        walk.append(APP2)\n",
    "        API1 = APP_to_API_AA(API1, APP2, apk2idx, node2apk, A, p, q)\n",
    "        if not API1:\n",
    "            return walk\n",
    "        walk.append(API1)\n",
    "        APP1 = APP2\n",
    "    return walk\n"
   ]
  },
  {
   "cell_type": "code",
   "execution_count": 14,
   "metadata": {},
   "outputs": [],
   "source": [
    "from gensim.models import Word2Vec, KeyedVectors"
   ]
  },
  {
   "cell_type": "code",
   "execution_count": 13,
   "metadata": {},
   "outputs": [],
   "source": [
    "walks = [list(map(str, walk)) for walk in walks]\n",
    "model = Word2Vec(walks, size=128, window=10, min_count=0, sg=1, workers=8, iter=5)\n",
    "model.wv.save_word2vec_format('AA_len500_k10_w2v.model')"
   ]
  },
  {
   "cell_type": "code",
   "execution_count": 10,
   "metadata": {},
   "outputs": [],
   "source": [
    "# model = KeyedVectors.load_word2vec_format('AA_len500_k10_w2v.model')"
   ]
  },
  {
   "cell_type": "code",
   "execution_count": 98,
   "metadata": {},
   "outputs": [],
   "source": [
    "model = KeyedVectors.load_word2vec_format('ABA_len100_k10_w2v.model')"
   ]
  },
  {
   "cell_type": "code",
   "execution_count": 99,
   "metadata": {},
   "outputs": [],
   "source": [
    "apk2class_train = dict(zip(apk_names_train, apk_classes_train))"
   ]
  },
  {
   "cell_type": "code",
   "execution_count": 100,
   "metadata": {},
   "outputs": [],
   "source": [
    "from sklearn import svm\n",
    "from sklearn.ensemble import RandomForestClassifier, GradientBoostingClassifier\n",
    "from sklearn.model_selection import train_test_split"
   ]
  },
  {
   "cell_type": "code",
   "execution_count": null,
   "metadata": {},
   "outputs": [],
   "source": []
  },
  {
   "cell_type": "code",
   "execution_count": 101,
   "metadata": {},
   "outputs": [
    {
     "name": "stderr",
     "output_type": "stream",
     "text": [
      "/opt/conda/lib/python3.6/site-packages/ipykernel_launcher.py:1: DeprecationWarning: Call to deprecated `wv` (Attribute will be removed in 4.0.0, use self instead).\n",
      "  \"\"\"Entry point for launching an IPython kernel.\n",
      "/opt/conda/lib/python3.6/site-packages/ipykernel_launcher.py:2: DeprecationWarning: Call to deprecated `wv` (Attribute will be removed in 4.0.0, use self instead).\n",
      "  \n"
     ]
    }
   ],
   "source": [
    "X = [model[str(apk2node_train[apk])] for apk in apk2idx_train if str(apk2node_train[apk]) in model.wv]\n",
    "Y = [apk2class_train[apk] for apk in apk2idx_train if str(apk2node_train[apk]) in model.wv]"
   ]
  },
  {
   "cell_type": "code",
   "execution_count": 103,
   "metadata": {},
   "outputs": [],
   "source": [
    "X_train, X_test, y_train, y_test = train_test_split(X, Y, test_size=0.2, random_state=42)"
   ]
  },
  {
   "cell_type": "markdown",
   "metadata": {},
   "source": [
    "### AA_len500_k10"
   ]
  },
  {
   "cell_type": "code",
   "execution_count": null,
   "metadata": {},
   "outputs": [],
   "source": []
  },
  {
   "cell_type": "code",
   "execution_count": 30,
   "metadata": {},
   "outputs": [
    {
     "name": "stdout",
     "output_type": "stream",
     "text": [
      "0.95703125\n",
      "0.875\n"
     ]
    }
   ],
   "source": [
    "clf = svm.SVC()\n",
    "clf.fit(X_train, y_train)\n",
    "print(clf.score(X_train, y_train))\n",
    "print(clf.score(X_test, y_test))"
   ]
  },
  {
   "cell_type": "code",
   "execution_count": 31,
   "metadata": {},
   "outputs": [
    {
     "name": "stdout",
     "output_type": "stream",
     "text": [
      "0.99609375\n",
      "0.90625\n"
     ]
    }
   ],
   "source": [
    "clf = RandomForestClassifier()\n",
    "clf.fit(X_train, y_train)\n",
    "print(clf.score(X_train, y_train))\n",
    "print(clf.score(X_test, y_test))"
   ]
  },
  {
   "cell_type": "code",
   "execution_count": 32,
   "metadata": {},
   "outputs": [
    {
     "name": "stdout",
     "output_type": "stream",
     "text": [
      "1.0\n",
      "0.90625\n"
     ]
    }
   ],
   "source": [
    "clf = GradientBoostingClassifier()\n",
    "clf.fit(X_train, y_train)\n",
    "print(clf.score(X_train, y_train))\n",
    "print(clf.score(X_test, y_test))"
   ]
  },
  {
   "cell_type": "code",
   "execution_count": 70,
   "metadata": {},
   "outputs": [
    {
     "name": "stdout",
     "output_type": "stream",
     "text": [
      "[t-SNE] Computing 121 nearest neighbors...\n",
      "[t-SNE] Indexed 320 samples in 0.002s...\n",
      "[t-SNE] Computed neighbors for 320 samples in 0.050s...\n",
      "[t-SNE] Computed conditional probabilities for sample 320 / 320\n",
      "[t-SNE] Mean sigma: 1.622571\n",
      "[t-SNE] KL divergence after 250 iterations with early exaggeration: 68.836487\n",
      "[t-SNE] Error after 300 iterations: 0.965198\n"
     ]
    },
    {
     "data": {
      "text/plain": [
       "Text(0,0.5,'tsne-2d-two')"
      ]
     },
     "execution_count": 70,
     "metadata": {},
     "output_type": "execute_result"
    },
    {
     "data": {
      "image/png": "[encoded data removed]",
      "text/plain": [
       "<Figure size 432x288 with 1 Axes>"
      ]
     },
     "metadata": {},
     "output_type": "display_data"
    }
   ],
   "source": [
    "tsne = TSNE(n_components=2, verbose=1, perplexity=40, n_iter=300)\n",
    "tsne_results = tsne.fit_transform(X)\n",
    "indices_neg1 = (np.array(Y) == 0).nonzero()[0]\n",
    "indices_pos1 = (np.array(Y) == 1).nonzero()[0]\n",
    "plt.scatter(tsne_results[:,0][indices_neg1], tsne_results[:,1][indices_neg1], s = 5, c='blue', label='class 0')\n",
    "plt.scatter(tsne_results[:,0][indices_pos1], tsne_results[:,1][indices_pos1], s = 5, c='red', label='class 1')\n",
    "plt.legend()\n",
    "plt.xlabel(\"tsne-2d-one\")\n",
    "plt.ylabel(\"tsne-2d-two\")"
   ]
  },
  {
   "cell_type": "markdown",
   "metadata": {},
   "source": [
    "### AA_len100_k10"
   ]
  },
  {
   "cell_type": "code",
   "execution_count": 30,
   "metadata": {},
   "outputs": [
    {
     "name": "stdout",
     "output_type": "stream",
     "text": [
      "0.875\n",
      "0.828125\n"
     ]
    }
   ],
   "source": [
    "clf = svm.SVC()\n",
    "clf.fit(X_train, y_train)\n",
    "print(clf.score(X_train, y_train))\n",
    "print(clf.score(X_test, y_test))"
   ]
  },
  {
   "cell_type": "code",
   "execution_count": 31,
   "metadata": {},
   "outputs": [
    {
     "name": "stdout",
     "output_type": "stream",
     "text": [
      "1.0\n",
      "0.859375\n"
     ]
    }
   ],
   "source": [
    "clf = RandomForestClassifier()\n",
    "clf.fit(X_train, y_train)\n",
    "print(clf.score(X_train, y_train))\n",
    "print(clf.score(X_test, y_test))"
   ]
  },
  {
   "cell_type": "code",
   "execution_count": 32,
   "metadata": {},
   "outputs": [
    {
     "name": "stdout",
     "output_type": "stream",
     "text": [
      "1.0\n",
      "0.953125\n"
     ]
    }
   ],
   "source": [
    "clf = GradientBoostingClassifier()\n",
    "clf.fit(X_train, y_train)\n",
    "print(clf.score(X_train, y_train))\n",
    "print(clf.score(X_test, y_test))"
   ]
  },
  {
   "cell_type": "code",
   "execution_count": 79,
   "metadata": {},
   "outputs": [
    {
     "name": "stdout",
     "output_type": "stream",
     "text": [
      "[t-SNE] Computing 121 nearest neighbors...\n",
      "[t-SNE] Indexed 320 samples in 0.002s...\n",
      "[t-SNE] Computed neighbors for 320 samples in 0.047s...\n",
      "[t-SNE] Computed conditional probabilities for sample 320 / 320\n",
      "[t-SNE] Mean sigma: 0.910057\n",
      "[t-SNE] KL divergence after 250 iterations with early exaggeration: 64.607536\n",
      "[t-SNE] Error after 300 iterations: 0.671652\n"
     ]
    },
    {
     "data": {
      "text/plain": [
       "Text(0.5,1,'Metapath AA, k = 10, n = 100')"
      ]
     },
     "execution_count": 79,
     "metadata": {},
     "output_type": "execute_result"
    },
    {
     "data": {
      "image/png": "[encoded data removed]",
      "text/plain": [
       "<Figure size 432x288 with 1 Axes>"
      ]
     },
     "metadata": {},
     "output_type": "display_data"
    }
   ],
   "source": [
    "tsne = TSNE(n_components=2, verbose=1, perplexity=40, n_iter=300)\n",
    "tsne_results = tsne.fit_transform(X)\n",
    "indices_neg1 = (np.array(Y) == 0).nonzero()[0]\n",
    "indices_pos1 = (np.array(Y) == 1).nonzero()[0]\n",
    "plt.scatter(tsne_results[:,0][indices_neg1], tsne_results[:,1][indices_neg1], s = 5, c='blue', label='class 0')\n",
    "plt.scatter(tsne_results[:,0][indices_pos1], tsne_results[:,1][indices_pos1], s = 5, c='red', label='class 1')\n",
    "plt.legend()\n",
    "plt.xlabel(\"tsne-2d-one\")\n",
    "plt.ylabel(\"tsne-2d-two\")\n",
    "plt.title('Metapath AA, k = 10, n = 100')"
   ]
  },
  {
   "cell_type": "markdown",
   "metadata": {},
   "source": [
    "### AA_len20_k10"
   ]
  },
  {
   "cell_type": "code",
   "execution_count": 19,
   "metadata": {},
   "outputs": [
    {
     "name": "stdout",
     "output_type": "stream",
     "text": [
      "0.8203125\n",
      "0.75\n"
     ]
    }
   ],
   "source": [
    "clf = svm.SVC()\n",
    "clf.fit(X_train, y_train)\n",
    "print(clf.score(X_train, y_train))\n",
    "print(clf.score(X_test, y_test))"
   ]
  },
  {
   "cell_type": "code",
   "execution_count": 20,
   "metadata": {},
   "outputs": [
    {
     "name": "stdout",
     "output_type": "stream",
     "text": [
      "1.0\n",
      "0.8125\n"
     ]
    }
   ],
   "source": [
    "clf = RandomForestClassifier()\n",
    "clf.fit(X_train, y_train)\n",
    "print(clf.score(X_train, y_train))\n",
    "print(clf.score(X_test, y_test))"
   ]
  },
  {
   "cell_type": "code",
   "execution_count": 21,
   "metadata": {},
   "outputs": [
    {
     "name": "stdout",
     "output_type": "stream",
     "text": [
      "1.0\n",
      "0.84375\n"
     ]
    }
   ],
   "source": [
    "clf = GradientBoostingClassifier()\n",
    "clf.fit(X_train, y_train)\n",
    "print(clf.score(X_train, y_train))\n",
    "print(clf.score(X_test, y_test))"
   ]
  },
  {
   "cell_type": "code",
   "execution_count": 88,
   "metadata": {},
   "outputs": [
    {
     "name": "stdout",
     "output_type": "stream",
     "text": [
      "[t-SNE] Computing 121 nearest neighbors...\n",
      "[t-SNE] Indexed 320 samples in 0.002s...\n",
      "[t-SNE] Computed neighbors for 320 samples in 0.049s...\n",
      "[t-SNE] Computed conditional probabilities for sample 320 / 320\n",
      "[t-SNE] Mean sigma: 0.298944\n",
      "[t-SNE] KL divergence after 250 iterations with early exaggeration: 57.612518\n",
      "[t-SNE] Error after 300 iterations: 0.383816\n"
     ]
    },
    {
     "data": {
      "text/plain": [
       "Text(0.5,1,'Metapath AA, k = 10, n = 20')"
      ]
     },
     "execution_count": 88,
     "metadata": {},
     "output_type": "execute_result"
    },
    {
     "data": {
      "image/png": "[encoded data removed]",
      "text/plain": [
       "<Figure size 432x288 with 1 Axes>"
      ]
     },
     "metadata": {},
     "output_type": "display_data"
    }
   ],
   "source": [
    "tsne = TSNE(n_components=2, verbose=1, perplexity=40, n_iter=300)\n",
    "tsne_results = tsne.fit_transform(X)\n",
    "indices_neg1 = (np.array(Y) == 0).nonzero()[0]\n",
    "indices_pos1 = (np.array(Y) == 1).nonzero()[0]\n",
    "plt.scatter(tsne_results[:,0][indices_neg1], tsne_results[:,1][indices_neg1], s = 5, c='blue', label='class 0')\n",
    "plt.scatter(tsne_results[:,0][indices_pos1], tsne_results[:,1][indices_pos1], s = 5, c='red', label='class 1')\n",
    "plt.legend()\n",
    "plt.xlabel(\"tsne-2d-one\")\n",
    "plt.ylabel(\"tsne-2d-two\")\n",
    "plt.title('Metapath AA, k = 10, n = 20')"
   ]
  },
  {
   "cell_type": "markdown",
   "metadata": {},
   "source": [
    "### ABA_len100_k10"
   ]
  },
  {
   "cell_type": "code",
   "execution_count": 23,
   "metadata": {},
   "outputs": [
    {
     "name": "stdout",
     "output_type": "stream",
     "text": [
      "0.61328125\n",
      "0.640625\n"
     ]
    }
   ],
   "source": [
    "clf = svm.SVC()\n",
    "clf.fit(X_train, y_train)\n",
    "print(clf.score(X_train, y_train))\n",
    "print(clf.score(X_test, y_test))"
   ]
  },
  {
   "cell_type": "code",
   "execution_count": 24,
   "metadata": {},
   "outputs": [
    {
     "name": "stdout",
     "output_type": "stream",
     "text": [
      "0.98828125\n",
      "0.796875\n"
     ]
    }
   ],
   "source": [
    "clf = RandomForestClassifier()\n",
    "clf.fit(X_train, y_train)\n",
    "print(clf.score(X_train, y_train))\n",
    "print(clf.score(X_test, y_test))"
   ]
  },
  {
   "cell_type": "code",
   "execution_count": 25,
   "metadata": {},
   "outputs": [
    {
     "name": "stdout",
     "output_type": "stream",
     "text": [
      "1.0\n",
      "0.75\n"
     ]
    }
   ],
   "source": [
    "clf = GradientBoostingClassifier()\n",
    "clf.fit(X_train, y_train)\n",
    "print(clf.score(X_train, y_train))\n",
    "print(clf.score(X_test, y_test))"
   ]
  },
  {
   "cell_type": "code",
   "execution_count": 105,
   "metadata": {},
   "outputs": [
    {
     "name": "stdout",
     "output_type": "stream",
     "text": [
      "[t-SNE] Computing 121 nearest neighbors...\n",
      "[t-SNE] Indexed 320 samples in 0.002s...\n",
      "[t-SNE] Computed neighbors for 320 samples in 0.047s...\n",
      "[t-SNE] Computed conditional probabilities for sample 320 / 320\n",
      "[t-SNE] Mean sigma: 0.142211\n",
      "[t-SNE] KL divergence after 250 iterations with early exaggeration: 58.387245\n",
      "[t-SNE] Error after 300 iterations: 0.471529\n"
     ]
    },
    {
     "data": {
      "text/plain": [
       "Text(0.5,1,'Metapath ABA, k = 10, n = 100')"
      ]
     },
     "execution_count": 105,
     "metadata": {},
     "output_type": "execute_result"
    },
    {
     "data": {
      "image/png": "[encoded data removed]",
      "text/plain": [
       "<Figure size 432x288 with 1 Axes>"
      ]
     },
     "metadata": {},
     "output_type": "display_data"
    }
   ],
   "source": [
    "tsne = TSNE(n_components=2, verbose=1, perplexity=40, n_iter=300)\n",
    "tsne_results = tsne.fit_transform(X)\n",
    "indices_neg1 = (np.array(Y) == 0).nonzero()[0]\n",
    "indices_pos1 = (np.array(Y) == 1).nonzero()[0]\n",
    "plt.scatter(tsne_results[:,0][indices_neg1], tsne_results[:,1][indices_neg1], s = 5, c='blue', label='class 0')\n",
    "plt.scatter(tsne_results[:,0][indices_pos1], tsne_results[:,1][indices_pos1], s = 5, c='red', label='class 1')\n",
    "plt.legend()\n",
    "plt.xlabel(\"tsne-2d-one\")\n",
    "plt.ylabel(\"tsne-2d-two\")\n",
    "plt.title('Metapath ABA, k = 10, n = 100')"
   ]
  },
  {
   "cell_type": "code",
   "execution_count": 44,
   "metadata": {},
   "outputs": [
    {
     "data": {
      "text/plain": [
       "49000.784375"
      ]
     },
     "execution_count": 44,
     "metadata": {},
     "output_type": "execute_result"
    }
   ],
   "source": [
    "(matrix_A_train.sum() + matrix_B_train.sum() / 2 ) / 320"
   ]
  },
  {
   "cell_type": "markdown",
   "metadata": {},
   "source": [
    " ### ABA_len20_k10"
   ]
  },
  {
   "cell_type": "code",
   "execution_count": 40,
   "metadata": {},
   "outputs": [
    {
     "name": "stdout",
     "output_type": "stream",
     "text": [
      "0.50390625\n",
      "0.484375\n"
     ]
    }
   ],
   "source": [
    "clf = svm.SVC()\n",
    "clf.fit(X_train, y_train)\n",
    "print(clf.score(X_train, y_train))\n",
    "print(clf.score(X_test, y_test))"
   ]
  },
  {
   "cell_type": "code",
   "execution_count": 41,
   "metadata": {},
   "outputs": [
    {
     "name": "stdout",
     "output_type": "stream",
     "text": [
      "0.9921875\n",
      "0.734375\n"
     ]
    }
   ],
   "source": [
    "clf = RandomForestClassifier()\n",
    "clf.fit(X_train, y_train)\n",
    "print(clf.score(X_train, y_train))\n",
    "print(clf.score(X_test, y_test))"
   ]
  },
  {
   "cell_type": "code",
   "execution_count": 42,
   "metadata": {},
   "outputs": [
    {
     "name": "stdout",
     "output_type": "stream",
     "text": [
      "1.0\n",
      "0.671875\n"
     ]
    }
   ],
   "source": [
    "clf = GradientBoostingClassifier()\n",
    "clf.fit(X_train, y_train)\n",
    "print(clf.score(X_train, y_train))\n",
    "print(clf.score(X_test, y_test))"
   ]
  },
  {
   "cell_type": "code",
   "execution_count": 97,
   "metadata": {},
   "outputs": [
    {
     "name": "stdout",
     "output_type": "stream",
     "text": [
      "[t-SNE] Computing 121 nearest neighbors...\n",
      "[t-SNE] Indexed 320 samples in 0.002s...\n",
      "[t-SNE] Computed neighbors for 320 samples in 0.039s...\n",
      "[t-SNE] Computed conditional probabilities for sample 320 / 320\n",
      "[t-SNE] Mean sigma: 0.107571\n",
      "[t-SNE] KL divergence after 250 iterations with early exaggeration: 52.820599\n",
      "[t-SNE] Error after 300 iterations: 0.227197\n"
     ]
    },
    {
     "data": {
      "text/plain": [
       "Text(0.5,1,'Metapath ABA, k = 10, n = 20')"
      ]
     },
     "execution_count": 97,
     "metadata": {},
     "output_type": "execute_result"
    },
    {
     "data": {
      "image/png": "[encoded data removed]",
      "text/plain": [
       "<Figure size 432x288 with 1 Axes>"
      ]
     },
     "metadata": {},
     "output_type": "display_data"
    }
   ],
   "source": [
    "tsne = TSNE(n_components=2, verbose=1, perplexity=40, n_iter=300)\n",
    "tsne_results = tsne.fit_transform(X)\n",
    "indices_neg1 = (np.array(Y) == 0).nonzero()[0]\n",
    "indices_pos1 = (np.array(Y) == 1).nonzero()[0]\n",
    "plt.scatter(tsne_results[:,0][indices_neg1], tsne_results[:,1][indices_neg1], s = 5, c='blue', label='class 0')\n",
    "plt.scatter(tsne_results[:,0][indices_pos1], tsne_results[:,1][indices_pos1], s = 5, c='red', label='class 1')\n",
    "plt.legend()\n",
    "plt.xlabel(\"tsne-2d-one\")\n",
    "plt.ylabel(\"tsne-2d-two\")\n",
    "plt.title('Metapath ABA, k = 10, n = 20')"
   ]
  }
 ],
 "metadata": {
  "kernelspec": {
   "display_name": "Python 3",
   "language": "python",
   "name": "python3"
  },
  "language_info": {
   "codemirror_mode": {
    "name": "ipython",
    "version": 3
   },
   "file_extension": ".py",
   "mimetype": "text/x-python",
   "name": "python",
   "nbconvert_exporter": "python",
   "pygments_lexer": "ipython3",
   "version": "3.7.3"
  }
 },
 "nbformat": 4,
 "nbformat_minor": 2
}
